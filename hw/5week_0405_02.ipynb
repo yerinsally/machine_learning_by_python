{
  "cells": [
    {
      "cell_type": "markdown",
      "source": [
        "### 언더샘플링 / 오버샘플링\n",
        "레이블이 불균형한 분포를 가진 데이터 세트를 학습시킬 때 예측 성능의 문제가 발생, 이상 레이블이 가지는 데이터 건수가 정상 레이블을 가진 데이터 건수에 비해 너무 적기 때문에 발생(제대로 다양한 유형을 학습하지 못해 일방적으로 정상 레이블로 치우친 학습을 수행해 이상 데이터 검출이 어려워짐)\n",
        "\n",
        "→ 지도학습에서 극도로 불균형한 레이블 값 분포로 인한 문제점을 해결하기 위해 오버, 언더 샘플링이 있음\n",
        "- 언더 샘플링 : 많은 데이터 세트를 적은 데이터 세트 수준으로 감소시키는 방식\n",
        "- 오버 샘플링 : 이상 데이터와 같이 적은 데이터 세트를 증식하여 학습을 위한 충분한 데이터 확보하는 방법, 대표적으로 SMOTE  방법\n",
        "- SMOTE : 적은 데이터 세트에 있는 개별 데이터들의 KNN을 찾아 이 데이터와 k개 이웃들의 차이를 일정 값을 만들어 기존 데이터와 약간 차이가 나는 새로운 데이터 생성하는 방식"
      ],
      "metadata": {
        "id": "gurHdVywqKKk"
      }
    },
    {
      "cell_type": "markdown",
      "metadata": {
        "id": "iaLeoJ1e96Rr"
      },
      "source": [
        "### 데이터 일차 가공 및 모델 학습/예측/평가"
      ]
    },
    {
      "cell_type": "markdown",
      "metadata": {
        "id": "gDQSz4sf96Rt"
      },
      "source": [
        "#### 데이터 로드"
      ]
    },
    {
      "cell_type": "code",
      "source": [
        "from google.colab import drive\n",
        "drive.mount('/content/drive')"
      ],
      "metadata": {
        "colab": {
          "base_uri": "https://localhost:8080/"
        },
        "id": "-wzPFgPbAjoM",
        "outputId": "abe224e5-5114-43b0-c8f9-5595438b3cc4"
      },
      "execution_count": null,
      "outputs": [
        {
          "output_type": "stream",
          "name": "stdout",
          "text": [
            "Mounted at /content/drive\n"
          ]
        }
      ]
    },
    {
      "cell_type": "code",
      "execution_count": null,
      "metadata": {
        "scrolled": true,
        "colab": {
          "base_uri": "https://localhost:8080/",
          "height": 237
        },
        "id": "6jBAzzsN96Ru",
        "outputId": "bdb76f13-133d-453b-a84e-531d0f380ef3"
      },
      "outputs": [
        {
          "output_type": "execute_result",
          "data": {
            "text/plain": [
              "   Time        V1        V2        V3        V4        V5        V6        V7  \\\n",
              "0   0.0 -1.359807 -0.072781  2.536347  1.378155 -0.338321  0.462388  0.239599   \n",
              "1   0.0  1.191857  0.266151  0.166480  0.448154  0.060018 -0.082361 -0.078803   \n",
              "2   1.0 -1.358354 -1.340163  1.773209  0.379780 -0.503198  1.800499  0.791461   \n",
              "\n",
              "         V8        V9  ...       V21       V22       V23       V24       V25  \\\n",
              "0  0.098698  0.363787  ... -0.018307  0.277838 -0.110474  0.066928  0.128539   \n",
              "1  0.085102 -0.255425  ... -0.225775 -0.638672  0.101288 -0.339846  0.167170   \n",
              "2  0.247676 -1.514654  ...  0.247998  0.771679  0.909412 -0.689281 -0.327642   \n",
              "\n",
              "        V26       V27       V28  Amount  Class  \n",
              "0 -0.189115  0.133558 -0.021053  149.62      0  \n",
              "1  0.125895 -0.008983  0.014724    2.69      0  \n",
              "2 -0.139097 -0.055353 -0.059752  378.66      0  \n",
              "\n",
              "[3 rows x 31 columns]"
            ],
            "text/html": [
              "\n",
              "  <div id=\"df-0273ea67-0090-4478-a9ec-77e6d9b81d6d\">\n",
              "    <div class=\"colab-df-container\">\n",
              "      <div>\n",
              "<style scoped>\n",
              "    .dataframe tbody tr th:only-of-type {\n",
              "        vertical-align: middle;\n",
              "    }\n",
              "\n",
              "    .dataframe tbody tr th {\n",
              "        vertical-align: top;\n",
              "    }\n",
              "\n",
              "    .dataframe thead th {\n",
              "        text-align: right;\n",
              "    }\n",
              "</style>\n",
              "<table border=\"1\" class=\"dataframe\">\n",
              "  <thead>\n",
              "    <tr style=\"text-align: right;\">\n",
              "      <th></th>\n",
              "      <th>Time</th>\n",
              "      <th>V1</th>\n",
              "      <th>V2</th>\n",
              "      <th>V3</th>\n",
              "      <th>V4</th>\n",
              "      <th>V5</th>\n",
              "      <th>V6</th>\n",
              "      <th>V7</th>\n",
              "      <th>V8</th>\n",
              "      <th>V9</th>\n",
              "      <th>...</th>\n",
              "      <th>V21</th>\n",
              "      <th>V22</th>\n",
              "      <th>V23</th>\n",
              "      <th>V24</th>\n",
              "      <th>V25</th>\n",
              "      <th>V26</th>\n",
              "      <th>V27</th>\n",
              "      <th>V28</th>\n",
              "      <th>Amount</th>\n",
              "      <th>Class</th>\n",
              "    </tr>\n",
              "  </thead>\n",
              "  <tbody>\n",
              "    <tr>\n",
              "      <th>0</th>\n",
              "      <td>0.0</td>\n",
              "      <td>-1.359807</td>\n",
              "      <td>-0.072781</td>\n",
              "      <td>2.536347</td>\n",
              "      <td>1.378155</td>\n",
              "      <td>-0.338321</td>\n",
              "      <td>0.462388</td>\n",
              "      <td>0.239599</td>\n",
              "      <td>0.098698</td>\n",
              "      <td>0.363787</td>\n",
              "      <td>...</td>\n",
              "      <td>-0.018307</td>\n",
              "      <td>0.277838</td>\n",
              "      <td>-0.110474</td>\n",
              "      <td>0.066928</td>\n",
              "      <td>0.128539</td>\n",
              "      <td>-0.189115</td>\n",
              "      <td>0.133558</td>\n",
              "      <td>-0.021053</td>\n",
              "      <td>149.62</td>\n",
              "      <td>0</td>\n",
              "    </tr>\n",
              "    <tr>\n",
              "      <th>1</th>\n",
              "      <td>0.0</td>\n",
              "      <td>1.191857</td>\n",
              "      <td>0.266151</td>\n",
              "      <td>0.166480</td>\n",
              "      <td>0.448154</td>\n",
              "      <td>0.060018</td>\n",
              "      <td>-0.082361</td>\n",
              "      <td>-0.078803</td>\n",
              "      <td>0.085102</td>\n",
              "      <td>-0.255425</td>\n",
              "      <td>...</td>\n",
              "      <td>-0.225775</td>\n",
              "      <td>-0.638672</td>\n",
              "      <td>0.101288</td>\n",
              "      <td>-0.339846</td>\n",
              "      <td>0.167170</td>\n",
              "      <td>0.125895</td>\n",
              "      <td>-0.008983</td>\n",
              "      <td>0.014724</td>\n",
              "      <td>2.69</td>\n",
              "      <td>0</td>\n",
              "    </tr>\n",
              "    <tr>\n",
              "      <th>2</th>\n",
              "      <td>1.0</td>\n",
              "      <td>-1.358354</td>\n",
              "      <td>-1.340163</td>\n",
              "      <td>1.773209</td>\n",
              "      <td>0.379780</td>\n",
              "      <td>-0.503198</td>\n",
              "      <td>1.800499</td>\n",
              "      <td>0.791461</td>\n",
              "      <td>0.247676</td>\n",
              "      <td>-1.514654</td>\n",
              "      <td>...</td>\n",
              "      <td>0.247998</td>\n",
              "      <td>0.771679</td>\n",
              "      <td>0.909412</td>\n",
              "      <td>-0.689281</td>\n",
              "      <td>-0.327642</td>\n",
              "      <td>-0.139097</td>\n",
              "      <td>-0.055353</td>\n",
              "      <td>-0.059752</td>\n",
              "      <td>378.66</td>\n",
              "      <td>0</td>\n",
              "    </tr>\n",
              "  </tbody>\n",
              "</table>\n",
              "<p>3 rows × 31 columns</p>\n",
              "</div>\n",
              "      <button class=\"colab-df-convert\" onclick=\"convertToInteractive('df-0273ea67-0090-4478-a9ec-77e6d9b81d6d')\"\n",
              "              title=\"Convert this dataframe to an interactive table.\"\n",
              "              style=\"display:none;\">\n",
              "        \n",
              "  <svg xmlns=\"http://www.w3.org/2000/svg\" height=\"24px\"viewBox=\"0 0 24 24\"\n",
              "       width=\"24px\">\n",
              "    <path d=\"M0 0h24v24H0V0z\" fill=\"none\"/>\n",
              "    <path d=\"M18.56 5.44l.94 2.06.94-2.06 2.06-.94-2.06-.94-.94-2.06-.94 2.06-2.06.94zm-11 1L8.5 8.5l.94-2.06 2.06-.94-2.06-.94L8.5 2.5l-.94 2.06-2.06.94zm10 10l.94 2.06.94-2.06 2.06-.94-2.06-.94-.94-2.06-.94 2.06-2.06.94z\"/><path d=\"M17.41 7.96l-1.37-1.37c-.4-.4-.92-.59-1.43-.59-.52 0-1.04.2-1.43.59L10.3 9.45l-7.72 7.72c-.78.78-.78 2.05 0 2.83L4 21.41c.39.39.9.59 1.41.59.51 0 1.02-.2 1.41-.59l7.78-7.78 2.81-2.81c.8-.78.8-2.07 0-2.86zM5.41 20L4 18.59l7.72-7.72 1.47 1.35L5.41 20z\"/>\n",
              "  </svg>\n",
              "      </button>\n",
              "      \n",
              "  <style>\n",
              "    .colab-df-container {\n",
              "      display:flex;\n",
              "      flex-wrap:wrap;\n",
              "      gap: 12px;\n",
              "    }\n",
              "\n",
              "    .colab-df-convert {\n",
              "      background-color: #E8F0FE;\n",
              "      border: none;\n",
              "      border-radius: 50%;\n",
              "      cursor: pointer;\n",
              "      display: none;\n",
              "      fill: #1967D2;\n",
              "      height: 32px;\n",
              "      padding: 0 0 0 0;\n",
              "      width: 32px;\n",
              "    }\n",
              "\n",
              "    .colab-df-convert:hover {\n",
              "      background-color: #E2EBFA;\n",
              "      box-shadow: 0px 1px 2px rgba(60, 64, 67, 0.3), 0px 1px 3px 1px rgba(60, 64, 67, 0.15);\n",
              "      fill: #174EA6;\n",
              "    }\n",
              "\n",
              "    [theme=dark] .colab-df-convert {\n",
              "      background-color: #3B4455;\n",
              "      fill: #D2E3FC;\n",
              "    }\n",
              "\n",
              "    [theme=dark] .colab-df-convert:hover {\n",
              "      background-color: #434B5C;\n",
              "      box-shadow: 0px 1px 3px 1px rgba(0, 0, 0, 0.15);\n",
              "      filter: drop-shadow(0px 1px 2px rgba(0, 0, 0, 0.3));\n",
              "      fill: #FFFFFF;\n",
              "    }\n",
              "  </style>\n",
              "\n",
              "      <script>\n",
              "        const buttonEl =\n",
              "          document.querySelector('#df-0273ea67-0090-4478-a9ec-77e6d9b81d6d button.colab-df-convert');\n",
              "        buttonEl.style.display =\n",
              "          google.colab.kernel.accessAllowed ? 'block' : 'none';\n",
              "\n",
              "        async function convertToInteractive(key) {\n",
              "          const element = document.querySelector('#df-0273ea67-0090-4478-a9ec-77e6d9b81d6d');\n",
              "          const dataTable =\n",
              "            await google.colab.kernel.invokeFunction('convertToInteractive',\n",
              "                                                     [key], {});\n",
              "          if (!dataTable) return;\n",
              "\n",
              "          const docLinkHtml = 'Like what you see? Visit the ' +\n",
              "            '<a target=\"_blank\" href=https://colab.research.google.com/notebooks/data_table.ipynb>data table notebook</a>'\n",
              "            + ' to learn more about interactive tables.';\n",
              "          element.innerHTML = '';\n",
              "          dataTable['output_type'] = 'display_data';\n",
              "          await google.colab.output.renderOutput(dataTable, element);\n",
              "          const docLink = document.createElement('div');\n",
              "          docLink.innerHTML = docLinkHtml;\n",
              "          element.appendChild(docLink);\n",
              "        }\n",
              "      </script>\n",
              "    </div>\n",
              "  </div>\n",
              "  "
            ]
          },
          "metadata": {},
          "execution_count": 2
        }
      ],
      "source": [
        "import pandas as pd\n",
        "import numpy as np \n",
        "import matplotlib.pyplot as plt\n",
        "import warnings\n",
        "warnings.filterwarnings(\"ignore\")\n",
        "%matplotlib inline\n",
        "\n",
        "card_df = pd.read_csv('/content/drive/MyDrive/Colab Notebooks/BALL/inflearn/PerfectGuide-master/4장/creditcard.csv')\n",
        "card_df.head(3)"
      ]
    },
    {
      "cell_type": "code",
      "execution_count": null,
      "metadata": {
        "colab": {
          "base_uri": "https://localhost:8080/"
        },
        "id": "H6s1Z5CG96Rv",
        "outputId": "1626093d-9f0b-4063-b013-235aa66c69d5"
      },
      "outputs": [
        {
          "output_type": "execute_result",
          "data": {
            "text/plain": [
              "(284807, 31)"
            ]
          },
          "metadata": {},
          "execution_count": 3
        }
      ],
      "source": [
        "card_df.shape"
      ]
    },
    {
      "cell_type": "markdown",
      "metadata": {
        "id": "rIhi04NS96Rw"
      },
      "source": [
        "**원본 DataFrame은 유지하고 데이터 가공을 위한 DataFrame을 복사하여 반환**"
      ]
    },
    {
      "cell_type": "code",
      "execution_count": null,
      "metadata": {
        "id": "GVLIrESF96Rw"
      },
      "outputs": [],
      "source": [
        "from sklearn.model_selection import train_test_split\n",
        "\n",
        "# 인자로 입력받은 DataFrame을 복사 한 뒤 Time 컬럼만 삭제하고 복사된 DataFrame 반환\n",
        "def get_preprocessed_df(df=None):\n",
        "    df_copy = df.copy()\n",
        "    df_copy.drop('Time', axis=1, inplace=True)\n",
        "    return df_copy"
      ]
    },
    {
      "cell_type": "markdown",
      "metadata": {
        "id": "pRxo7G7s96Rw"
      },
      "source": [
        "**학습과 테스트 데이터 세트를 반환하는 함수 생성. 사전 데이터 처리가 끝난 뒤 해당 함수 호출**"
      ]
    },
    {
      "cell_type": "code",
      "execution_count": null,
      "metadata": {
        "id": "kk3ckPZW96Rw"
      },
      "outputs": [],
      "source": [
        "# 사전 데이터 가공 후 학습과 테스트 데이터 세트를 반환하는 함수.\n",
        "def get_train_test_dataset(df=None):\n",
        "    # 인자로 입력된 DataFrame의 사전 데이터 가공이 완료된 복사 DataFrame 반환\n",
        "    df_copy = get_preprocessed_df(df)\n",
        "    # DataFrame의 맨 마지막 컬럼이 레이블, 나머지는 피처들\n",
        "    X_features = df_copy.iloc[:, :-1]\n",
        "    y_target = df_copy.iloc[:, -1]    \n",
        "    # train_test_split( )으로 학습과 테스트 데이터 분할. stratify=y_target으로 Stratified 기반 분할\n",
        "    X_train, X_test, y_train, y_test = \\\n",
        "    train_test_split(X_features, y_target, test_size=0.3, random_state=0, stratify=y_target)   \n",
        "    # 학습과 테스트 데이터 세트 반환\n",
        "    return X_train, X_test, y_train, y_test\n",
        "\n",
        "X_train, X_test, y_train, y_test = get_train_test_dataset(card_df)"
      ]
    },
    {
      "cell_type": "code",
      "execution_count": null,
      "metadata": {
        "colab": {
          "base_uri": "https://localhost:8080/"
        },
        "id": "OM7vJiSu96Rx",
        "outputId": "18949014-ead8-4a01-b7f6-0a12a564522f"
      },
      "outputs": [
        {
          "output_type": "execute_result",
          "data": {
            "text/plain": [
              "0    99.827451\n",
              "1     0.172549\n",
              "Name: Class, dtype: float64"
            ]
          },
          "metadata": {},
          "execution_count": 6
        }
      ],
      "source": [
        "y_train.value_counts()/y_train.shape[0]*100"
      ]
    },
    {
      "cell_type": "code",
      "execution_count": null,
      "metadata": {
        "colab": {
          "base_uri": "https://localhost:8080/"
        },
        "id": "T_J1NweV96Rx",
        "outputId": "4d4578cf-9b2e-42cc-f580-44f0854c0167"
      },
      "outputs": [
        {
          "output_type": "stream",
          "name": "stdout",
          "text": [
            "학습 데이터 레이블 값 비율\n",
            "0    99.827451\n",
            "1     0.172549\n",
            "Name: Class, dtype: float64\n",
            "테스트 데이터 레이블 값 비율\n",
            "0    99.826785\n",
            "1     0.173215\n",
            "Name: Class, dtype: float64\n"
          ]
        }
      ],
      "source": [
        "print('학습 데이터 레이블 값 비율')\n",
        "print(y_train.value_counts()/y_train.shape[0] * 100)\n",
        "print('테스트 데이터 레이블 값 비율')\n",
        "print(y_test.value_counts()/y_test.shape[0] * 100)"
      ]
    },
    {
      "cell_type": "code",
      "execution_count": null,
      "metadata": {
        "id": "w4cPNU5W96Ry"
      },
      "outputs": [],
      "source": [
        "from sklearn.metrics import confusion_matrix, accuracy_score, precision_score, recall_score, f1_score\n",
        "from sklearn.metrics import roc_auc_score\n",
        "\n",
        "def get_clf_eval(y_test, pred=None, pred_proba=None):\n",
        "    confusion = confusion_matrix( y_test, pred)\n",
        "    accuracy = accuracy_score(y_test , pred)\n",
        "    precision = precision_score(y_test , pred)\n",
        "    recall = recall_score(y_test , pred)\n",
        "    f1 = f1_score(y_test,pred)\n",
        "    roc_auc = roc_auc_score(y_test, pred_proba)\n",
        "    print('오차 행렬')\n",
        "    print(confusion)\n",
        "    print('정확도: {0:.4f}, 정밀도: {1:.4f}, 재현율: {2:.4f},\\\n",
        "    F1: {3:.4f}, AUC:{4:.4f}'.format(accuracy, precision, recall, f1, roc_auc))"
      ]
    },
    {
      "cell_type": "code",
      "execution_count": null,
      "metadata": {
        "colab": {
          "base_uri": "https://localhost:8080/"
        },
        "id": "Q-OAyxjX96Ry",
        "outputId": "89ca0a4a-9df4-4148-b45d-c2d284bb8055"
      },
      "outputs": [
        {
          "output_type": "stream",
          "name": "stdout",
          "text": [
            "오차 행렬\n",
            "[[85281    14]\n",
            " [   57    91]]\n",
            "정확도: 0.9992, 정밀도: 0.8667, 재현율: 0.6149,    F1: 0.7194, AUC:0.9704\n"
          ]
        }
      ],
      "source": [
        "from sklearn.linear_model import LogisticRegression\n",
        "\n",
        "lr_clf = LogisticRegression(max_iter=1000)\n",
        "lr_clf.fit(X_train, y_train)\n",
        "lr_pred = lr_clf.predict(X_test)\n",
        "lr_pred_proba = lr_clf.predict_proba(X_test)[:, 1]\n",
        "\n",
        "get_clf_eval(y_test, lr_pred, lr_pred_proba)"
      ]
    },
    {
      "cell_type": "markdown",
      "metadata": {
        "id": "UzZL9J_096Rz"
      },
      "source": [
        "**앞으로 피처 엔지니어링을 수행할 때마다 모델을 학습/예측/평가하므로 이를 위한 함수 생성**"
      ]
    },
    {
      "cell_type": "code",
      "execution_count": null,
      "metadata": {
        "id": "xIbnF_PC96Rz"
      },
      "outputs": [],
      "source": [
        "# 인자로 사이킷런의 Estimator객체와, 학습/테스트 데이터 세트를 입력 받아서 학습/예측/평가 수행.\n",
        "def get_model_train_eval(model, ftr_train=None, ftr_test=None, tgt_train=None, tgt_test=None):\n",
        "    model.fit(ftr_train, tgt_train)\n",
        "    pred = model.predict(ftr_test)\n",
        "    pred_proba = model.predict_proba(ftr_test)[:, 1]\n",
        "    get_clf_eval(tgt_test, pred, pred_proba)"
      ]
    },
    {
      "cell_type": "markdown",
      "metadata": {
        "id": "rccbJFbU96Rz"
      },
      "source": [
        "**LightGBM 학습/예측/평가**\n",
        "\n",
        "LightGBM 2.1.0 이상 버전에서 boost_from_average가 True가 Default가 됨. boost_from_average가 True일 경우 레이블 값이 극도로 불균형 분포를 이루는 경우 재현률 및 ROC-AUC 성능이 매우 저하됨. 레이블 값이 극도로 불균형할 경우 boost_from_average를 False로 설정하는 것이 유리"
      ]
    },
    {
      "cell_type": "code",
      "execution_count": null,
      "metadata": {
        "colab": {
          "base_uri": "https://localhost:8080/"
        },
        "id": "FOOQPdBN96R0",
        "outputId": "1edb14e7-e7e0-4458-d976-24086d585a35"
      },
      "outputs": [
        {
          "output_type": "stream",
          "name": "stdout",
          "text": [
            "오차 행렬\n",
            "[[85290     5]\n",
            " [   36   112]]\n",
            "정확도: 0.9995, 정밀도: 0.9573, 재현율: 0.7568,    F1: 0.8453, AUC:0.9790\n"
          ]
        }
      ],
      "source": [
        "from lightgbm import LGBMClassifier\n",
        "lgbm_clf = LGBMClassifier(n_estimators=1000, num_leaves=64, n_jobs=-1, boost_from_average=False)\n",
        "get_model_train_eval(lgbm_clf, ftr_train=X_train, ftr_test=X_test, tgt_train=y_train, tgt_test=y_test)"
      ]
    },
    {
      "cell_type": "markdown",
      "metadata": {
        "id": "l2wFsdmy96R0"
      },
      "source": [
        "### 데이터 분포도 변환 후 모델 학습/예측/평가\n"
      ]
    },
    {
      "cell_type": "markdown",
      "metadata": {
        "id": "4G-VEQqt96R0"
      },
      "source": [
        "**중요 feature의 분포도 확인**"
      ]
    },
    {
      "cell_type": "code",
      "execution_count": null,
      "metadata": {
        "colab": {
          "base_uri": "https://localhost:8080/",
          "height": 419
        },
        "id": "DucS1Oz496R0",
        "outputId": "641e2a7b-84f0-41a0-ed24-c66ac40e616a"
      },
      "outputs": [
        {
          "output_type": "display_data",
          "data": {
            "text/plain": [
              "<Figure size 800x400 with 1 Axes>"
            ],
            "image/png": "[encoded data removed]"
          },
          "metadata": {}
        }
      ],
      "source": [
        "import seaborn as sns\n",
        "\n",
        "plt.figure(figsize=(8, 4))\n",
        "plt.xticks(range(0, 30000, 1000), rotation=60)\n",
        "sns.histplot(card_df['Amount'], bins=100, kde=True)\n",
        "plt.show()"
      ]
    },
    {
      "cell_type": "markdown",
      "metadata": {
        "id": "lDrgI2FJ96R0"
      },
      "source": [
        "**데이터 사전 가공을 위한 별도의 함수에 StandardScaler를 이용하여 Amount 피처 변환**"
      ]
    },
    {
      "cell_type": "code",
      "execution_count": null,
      "metadata": {
        "id": "wvJgD3An96R1"
      },
      "outputs": [],
      "source": [
        "from sklearn.preprocessing import StandardScaler\n",
        "# 사이킷런의 StandardScaler를 이용하여 정규분포 형태로 Amount 피처값 변환하는 로직으로 수정. \n",
        "def get_preprocessed_df(df=None):\n",
        "    df_copy = df.copy()\n",
        "    scaler = StandardScaler()\n",
        "    amount_n = scaler.fit_transform(df_copy['Amount'].values.reshape(-1, 1))\n",
        "    # 변환된 Amount를 Amount_Scaled로 피처명 변경후 DataFrame맨 앞 컬럼으로 입력\n",
        "    df_copy.insert(0, 'Amount_Scaled', amount_n)\n",
        "    # 기존 Time, Amount 피처 삭제\n",
        "    df_copy.drop(['Time','Amount'], axis=1, inplace=True)\n",
        "    return df_copy"
      ]
    },
    {
      "cell_type": "markdown",
      "metadata": {
        "id": "04JSjBsk96R1"
      },
      "source": [
        "**StandardScaler 변환 후 로지스틱 회귀 및 LightGBM 학습/예측/평가**"
      ]
    },
    {
      "cell_type": "code",
      "execution_count": null,
      "metadata": {
        "colab": {
          "base_uri": "https://localhost:8080/"
        },
        "id": "_KcvdGpB96R1",
        "outputId": "764c62a0-7641-4ef7-e4a2-06968ae9de5f"
      },
      "outputs": [
        {
          "output_type": "stream",
          "name": "stdout",
          "text": [
            "### 로지스틱 회귀 예측 성능 ###\n",
            "오차 행렬\n",
            "[[85281    14]\n",
            " [   58    90]]\n",
            "정확도: 0.9992, 정밀도: 0.8654, 재현율: 0.6081,    F1: 0.7143, AUC:0.9702\n",
            "### LightGBM 예측 성능 ###\n",
            "오차 행렬\n",
            "[[85290     5]\n",
            " [   37   111]]\n",
            "정확도: 0.9995, 정밀도: 0.9569, 재현율: 0.7500,    F1: 0.8409, AUC:0.9779\n"
          ]
        }
      ],
      "source": [
        "# Amount를 정규분포 형태로 변환 후 로지스틱 회귀 및 LightGBM 수행. \n",
        "X_train, X_test, y_train, y_test = get_train_test_dataset(card_df)\n",
        "\n",
        "print('### 로지스틱 회귀 예측 성능 ###')\n",
        "lr_clf = LogisticRegression(max_iter=1000)\n",
        "get_model_train_eval(lr_clf, ftr_train=X_train, ftr_test=X_test, tgt_train=y_train, tgt_test=y_test)\n",
        "\n",
        "print('### LightGBM 예측 성능 ###')\n",
        "lgbm_clf = LGBMClassifier(n_estimators=1000, num_leaves=64, n_jobs=-1, boost_from_average=False)\n",
        "get_model_train_eval(lgbm_clf, ftr_train=X_train, ftr_test=X_test, tgt_train=y_train, tgt_test=y_test)"
      ]
    },
    {
      "cell_type": "markdown",
      "metadata": {
        "id": "28FWzsv796R1"
      },
      "source": [
        "**Amount를 로그 변환**"
      ]
    },
    {
      "cell_type": "code",
      "execution_count": null,
      "metadata": {
        "id": "C9gJV6y396R1"
      },
      "outputs": [],
      "source": [
        "def get_preprocessed_df(df=None):\n",
        "    df_copy = df.copy()\n",
        "    # 넘파이의 log1p( )를 이용하여 Amount를 로그 변환 \n",
        "    amount_n = np.log1p(df_copy['Amount'])\n",
        "    df_copy.insert(0, 'Amount_Scaled', amount_n)\n",
        "    df_copy.drop(['Time','Amount'], axis=1, inplace=True)\n",
        "    return df_copy"
      ]
    },
    {
      "cell_type": "code",
      "execution_count": null,
      "metadata": {
        "colab": {
          "base_uri": "https://localhost:8080/"
        },
        "id": "G9FTQ5-b96R2",
        "outputId": "bcc79dac-6b44-4a17-917d-00087b46dc6d"
      },
      "outputs": [
        {
          "output_type": "stream",
          "name": "stdout",
          "text": [
            "### 로지스틱 회귀 예측 성능 ###\n",
            "오차 행렬\n",
            "[[85283    12]\n",
            " [   59    89]]\n",
            "정확도: 0.9992, 정밀도: 0.8812, 재현율: 0.6014,    F1: 0.7149, AUC:0.9727\n",
            "### LightGBM 예측 성능 ###\n",
            "오차 행렬\n",
            "[[85290     5]\n",
            " [   35   113]]\n",
            "정확도: 0.9995, 정밀도: 0.9576, 재현율: 0.7635,    F1: 0.8496, AUC:0.9796\n"
          ]
        }
      ],
      "source": [
        "X_train, X_test, y_train, y_test = get_train_test_dataset(card_df)\n",
        "\n",
        "print('### 로지스틱 회귀 예측 성능 ###')\n",
        "get_model_train_eval(lr_clf, ftr_train=X_train, ftr_test=X_test, tgt_train=y_train, tgt_test=y_test)\n",
        "\n",
        "print('### LightGBM 예측 성능 ###')\n",
        "get_model_train_eval(lgbm_clf, ftr_train=X_train, ftr_test=X_test, tgt_train=y_train, tgt_test=y_test)"
      ]
    },
    {
      "cell_type": "code",
      "execution_count": null,
      "metadata": {
        "colab": {
          "base_uri": "https://localhost:8080/",
          "height": 388
        },
        "id": "bBiI5mSU96R2",
        "outputId": "55254b03-bf2a-4605-b439-a9adf6263efb"
      },
      "outputs": [
        {
          "output_type": "display_data",
          "data": {
            "text/plain": [
              "<Figure size 800x400 with 1 Axes>"
            ],
            "image/png": "[encoded data removed]"
          },
          "metadata": {}
        }
      ],
      "source": [
        "import seaborn as sns\n",
        "\n",
        "plt.figure(figsize=(8, 4))\n",
        "sns.histplot(X_train['Amount_Scaled'], bins=50, kde=True)\n",
        "plt.show()"
      ]
    },
    {
      "cell_type": "markdown",
      "metadata": {
        "id": "_lpxKChw96R3"
      },
      "source": [
        "### 이상치 데이터 제거 후 모델 학습/예측/평가"
      ]
    },
    {
      "cell_type": "markdown",
      "metadata": {
        "id": "A0dCqOnS96R3"
      },
      "source": [
        "**각 피처들의 상관 관계를 시각화. 결정 레이블인 class 값과 가장 상관도가 높은 피처 추출**"
      ]
    },
    {
      "cell_type": "code",
      "execution_count": null,
      "metadata": {
        "colab": {
          "base_uri": "https://localhost:8080/",
          "height": 1000
        },
        "id": "Xkp4O4UP96R3",
        "outputId": "0240abda-8990-43fb-8ec6-876ec9f11ab0"
      },
      "outputs": [
        {
          "output_type": "execute_result",
          "data": {
            "text/plain": [
              "            Time            V1            V2            V3            V4  \\\n",
              "Time    1.000000  1.173963e-01 -1.059333e-02 -4.196182e-01 -1.052602e-01   \n",
              "V1      0.117396  1.000000e+00  4.135835e-16 -1.227819e-15 -9.215150e-16   \n",
              "V2     -0.010593  4.135835e-16  1.000000e+00  3.243764e-16 -1.121065e-15   \n",
              "V3     -0.419618 -1.227819e-15  3.243764e-16  1.000000e+00  4.711293e-16   \n",
              "V4     -0.105260 -9.215150e-16 -1.121065e-15  4.711293e-16  1.000000e+00   \n",
              "V5      0.173072  1.812612e-17  5.157519e-16 -6.539009e-17 -1.719944e-15   \n",
              "V6     -0.063016 -6.506567e-16  2.787346e-16  1.627627e-15 -7.491959e-16   \n",
              "V7      0.084714 -1.005191e-15  2.055934e-16  4.895305e-16 -4.104503e-16   \n",
              "V8     -0.036949 -2.433822e-16 -5.377041e-17 -1.268779e-15  5.697192e-16   \n",
              "V9     -0.008660 -1.513678e-16  1.978488e-17  5.568367e-16  6.923247e-16   \n",
              "V10     0.030617  7.388135e-17 -3.991394e-16  1.156587e-15  2.232685e-16   \n",
              "V11    -0.247689  2.125498e-16  1.975426e-16  1.576830e-15  3.459380e-16   \n",
              "V12     0.124348  2.053457e-16 -9.568710e-17  6.310231e-16 -5.625518e-16   \n",
              "V13    -0.065902 -2.425603e-17  6.295388e-16  2.807652e-16  1.303306e-16   \n",
              "V14    -0.098757 -5.020280e-16 -1.730566e-16  4.739859e-16  2.282280e-16   \n",
              "V15    -0.183453  3.547782e-16 -4.995814e-17  9.068793e-16  1.377649e-16   \n",
              "V16     0.011903  7.212815e-17  1.177316e-17  8.299445e-16 -9.614528e-16   \n",
              "V17    -0.073297 -3.879840e-16 -2.685296e-16  7.614712e-16 -2.699612e-16   \n",
              "V18     0.090438  3.230206e-17  3.284605e-16  1.509897e-16 -5.103644e-16   \n",
              "V19     0.028975  1.502024e-16 -7.118719e-18  3.463522e-16 -3.980557e-16   \n",
              "V20    -0.050866  4.654551e-16  2.506675e-16 -9.316409e-16 -1.857247e-16   \n",
              "V21     0.044736 -2.457409e-16 -8.480447e-17  5.706192e-17 -1.949553e-16   \n",
              "V22     0.144059 -4.290944e-16  1.526333e-16 -1.133902e-15 -6.276051e-17   \n",
              "V23     0.051142  6.168652e-16  1.634231e-16 -4.983035e-16  9.164206e-17   \n",
              "V24    -0.016182 -4.425156e-17  1.247925e-17  2.686834e-19  1.584638e-16   \n",
              "V25    -0.233083 -9.605737e-16 -4.478846e-16 -1.104734e-15  6.070716e-16   \n",
              "V26    -0.041407 -1.581290e-17  2.057310e-16 -1.238062e-16 -4.247268e-16   \n",
              "V27    -0.005135  1.198124e-16 -4.966953e-16  1.045747e-15  3.977061e-17   \n",
              "V28    -0.009413  2.083082e-15 -5.093836e-16  9.775546e-16 -2.761403e-18   \n",
              "Amount -0.010596 -2.277087e-01 -5.314089e-01 -2.108805e-01  9.873167e-02   \n",
              "Class  -0.012323 -1.013473e-01  9.128865e-02 -1.929608e-01  1.334475e-01   \n",
              "\n",
              "                  V5            V6            V7            V8            V9  \\\n",
              "Time    1.730721e-01 -6.301647e-02  8.471437e-02 -3.694943e-02 -8.660434e-03   \n",
              "V1      1.812612e-17 -6.506567e-16 -1.005191e-15 -2.433822e-16 -1.513678e-16   \n",
              "V2      5.157519e-16  2.787346e-16  2.055934e-16 -5.377041e-17  1.978488e-17   \n",
              "V3     -6.539009e-17  1.627627e-15  4.895305e-16 -1.268779e-15  5.568367e-16   \n",
              "V4     -1.719944e-15 -7.491959e-16 -4.104503e-16  5.697192e-16  6.923247e-16   \n",
              "V5      1.000000e+00  2.408382e-16  2.715541e-16  7.437229e-16  7.391702e-16   \n",
              "V6      2.408382e-16  1.000000e+00  1.191668e-16 -1.104219e-16  4.131207e-16   \n",
              "V7      2.715541e-16  1.191668e-16  1.000000e+00  3.344412e-16  1.122501e-15   \n",
              "V8      7.437229e-16 -1.104219e-16  3.344412e-16  1.000000e+00  4.356078e-16   \n",
              "V9      7.391702e-16  4.131207e-16  1.122501e-15  4.356078e-16  1.000000e+00   \n",
              "V10    -5.202306e-16  5.932243e-17 -7.492834e-17 -2.801370e-16 -4.642274e-16   \n",
              "V11     7.203963e-16  1.980503e-15  1.425248e-16  2.487043e-16  1.354680e-16   \n",
              "V12     7.412552e-16  2.375468e-16 -3.536655e-18  1.839891e-16 -1.079314e-15   \n",
              "V13     5.886991e-16 -1.211182e-16  1.266462e-17 -2.921856e-16  2.251072e-15   \n",
              "V14     6.565143e-16  2.621312e-16  2.607772e-16 -8.599156e-16  3.784757e-15   \n",
              "V15    -8.720275e-16 -1.531188e-15 -1.690540e-16  4.127777e-16 -1.051167e-15   \n",
              "V16     2.246261e-15  2.623672e-18  5.869302e-17 -5.254741e-16 -1.214086e-15   \n",
              "V17     1.281914e-16  2.015618e-16  2.177192e-16 -2.269549e-16  1.113695e-15   \n",
              "V18     5.308590e-16  1.223814e-16  7.604126e-17 -3.667974e-16  4.993240e-16   \n",
              "V19    -1.450421e-16 -1.865597e-16 -1.881008e-16 -3.875186e-16 -1.376135e-16   \n",
              "V20    -3.554057e-16 -1.858755e-16  9.379684e-16  2.033737e-16 -2.343720e-16   \n",
              "V21    -3.920976e-16  5.833316e-17 -2.027779e-16  3.892798e-16  1.936953e-16   \n",
              "V22     1.253751e-16 -4.705235e-19 -8.898922e-16  2.026927e-16 -7.071869e-16   \n",
              "V23    -8.428683e-18  1.046712e-16 -4.387401e-16  6.377260e-17 -5.214137e-16   \n",
              "V24    -1.149255e-15 -1.071589e-15  7.434913e-18 -1.047097e-16 -1.430343e-16   \n",
              "V25     4.808532e-16  4.562861e-16 -3.094082e-16 -4.653279e-16  6.757763e-16   \n",
              "V26     4.319541e-16 -1.357067e-16 -9.657637e-16 -1.727276e-16 -7.888853e-16   \n",
              "V27     6.590482e-16 -4.452461e-16 -1.782106e-15  1.299943e-16 -6.709655e-17   \n",
              "V28    -5.613951e-18  2.594754e-16 -2.776530e-16 -6.200930e-16  1.110541e-15   \n",
              "Amount -3.863563e-01  2.159812e-01  3.973113e-01 -1.030791e-01 -4.424560e-02   \n",
              "Class  -9.497430e-02 -4.364316e-02 -1.872566e-01  1.987512e-02 -9.773269e-02   \n",
              "\n",
              "        ...           V21           V22           V23           V24  \\\n",
              "Time    ...  4.473573e-02  1.440591e-01  5.114236e-02 -1.618187e-02   \n",
              "V1      ... -2.457409e-16 -4.290944e-16  6.168652e-16 -4.425156e-17   \n",
              "V2      ... -8.480447e-17  1.526333e-16  1.634231e-16  1.247925e-17   \n",
              "V3      ...  5.706192e-17 -1.133902e-15 -4.983035e-16  2.686834e-19   \n",
              "V4      ... -1.949553e-16 -6.276051e-17  9.164206e-17  1.584638e-16   \n",
              "V5      ... -3.920976e-16  1.253751e-16 -8.428683e-18 -1.149255e-15   \n",
              "V6      ...  5.833316e-17 -4.705235e-19  1.046712e-16 -1.071589e-15   \n",
              "V7      ... -2.027779e-16 -8.898922e-16 -4.387401e-16  7.434913e-18   \n",
              "V8      ...  3.892798e-16  2.026927e-16  6.377260e-17 -1.047097e-16   \n",
              "V9      ...  1.936953e-16 -7.071869e-16 -5.214137e-16 -1.430343e-16   \n",
              "V10     ...  1.177547e-15 -6.418202e-16  3.214491e-16 -1.355885e-16   \n",
              "V11     ... -5.658364e-16  7.772895e-16 -4.505332e-16  1.933267e-15   \n",
              "V12     ...  7.300527e-16  1.644699e-16  1.800885e-16  4.436512e-16   \n",
              "V13     ...  1.008461e-16  6.747721e-17 -7.132064e-16 -1.397470e-16   \n",
              "V14     ... -3.356561e-16  3.740383e-16  3.883204e-16  2.003482e-16   \n",
              "V15     ...  6.605263e-17 -4.208921e-16 -3.912243e-16 -4.478263e-16   \n",
              "V16     ... -4.715090e-16 -7.923387e-17  5.020770e-16 -3.005985e-16   \n",
              "V17     ... -8.230527e-16 -8.743398e-16  3.706214e-16 -2.403828e-16   \n",
              "V18     ... -9.408680e-16 -4.819365e-16 -1.912006e-16 -8.986916e-17   \n",
              "V19     ...  5.115885e-16 -1.163768e-15  7.032035e-16  2.587708e-17   \n",
              "V20     ... -7.614597e-16  1.009285e-15  2.712885e-16  1.277215e-16   \n",
              "V21     ...  1.000000e+00  3.649908e-15  8.119580e-16  1.761054e-16   \n",
              "V22     ...  3.649908e-15  1.000000e+00 -7.303916e-17  9.970809e-17   \n",
              "V23     ...  8.119580e-16 -7.303916e-17  1.000000e+00  2.130519e-17   \n",
              "V24     ...  1.761054e-16  9.970809e-17  2.130519e-17  1.000000e+00   \n",
              "V25     ... -1.686082e-16 -5.018575e-16 -8.232727e-17  1.015391e-15   \n",
              "V26     ... -5.557329e-16 -2.503187e-17  1.114524e-15  1.343722e-16   \n",
              "V27     ... -1.211281e-15  8.461337e-17  2.839721e-16 -2.274142e-16   \n",
              "V28     ...  5.278775e-16 -6.627203e-16  1.481903e-15 -2.819805e-16   \n",
              "Amount  ...  1.059989e-01 -6.480065e-02 -1.126326e-01  5.146217e-03   \n",
              "Class   ...  4.041338e-02  8.053175e-04 -2.685156e-03 -7.220907e-03   \n",
              "\n",
              "                 V25           V26           V27           V28    Amount  \\\n",
              "Time   -2.330828e-01 -4.140710e-02 -5.134591e-03 -9.412688e-03 -0.010596   \n",
              "V1     -9.605737e-16 -1.581290e-17  1.198124e-16  2.083082e-15 -0.227709   \n",
              "V2     -4.478846e-16  2.057310e-16 -4.966953e-16 -5.093836e-16 -0.531409   \n",
              "V3     -1.104734e-15 -1.238062e-16  1.045747e-15  9.775546e-16 -0.210880   \n",
              "V4      6.070716e-16 -4.247268e-16  3.977061e-17 -2.761403e-18  0.098732   \n",
              "V5      4.808532e-16  4.319541e-16  6.590482e-16 -5.613951e-18 -0.386356   \n",
              "V6      4.562861e-16 -1.357067e-16 -4.452461e-16  2.594754e-16  0.215981   \n",
              "V7     -3.094082e-16 -9.657637e-16 -1.782106e-15 -2.776530e-16  0.397311   \n",
              "V8     -4.653279e-16 -1.727276e-16  1.299943e-16 -6.200930e-16 -0.103079   \n",
              "V9      6.757763e-16 -7.888853e-16 -6.709655e-17  1.110541e-15 -0.044246   \n",
              "V10    -2.846052e-16 -3.028119e-16 -2.197977e-16  4.864782e-17 -0.101502   \n",
              "V11    -5.600475e-16 -1.003221e-16 -2.640281e-16 -3.792314e-16  0.000104   \n",
              "V12    -5.712973e-16 -2.359969e-16 -4.672391e-16  6.415167e-16 -0.009542   \n",
              "V13    -5.497612e-16 -1.769255e-16 -4.720898e-16  1.144372e-15  0.005293   \n",
              "V14    -8.547932e-16 -1.660327e-16  1.044274e-16  2.289427e-15  0.033751   \n",
              "V15     3.206423e-16  2.817791e-16 -1.143519e-15 -1.194130e-15 -0.002986   \n",
              "V16    -1.345418e-15 -7.290010e-16  6.789513e-16  7.588849e-16 -0.003910   \n",
              "V17     2.666806e-16  6.932833e-16  6.148525e-16 -5.534540e-17  0.007309   \n",
              "V18    -6.629212e-17  2.990167e-16  2.242791e-16  7.976796e-16  0.035650   \n",
              "V19     9.577163e-16  5.898033e-16 -2.959370e-16 -1.405379e-15 -0.056151   \n",
              "V20     1.410054e-16 -2.803504e-16 -1.138829e-15 -2.436795e-16  0.339403   \n",
              "V21    -1.686082e-16 -5.557329e-16 -1.211281e-15  5.278775e-16  0.105999   \n",
              "V22    -5.018575e-16 -2.503187e-17  8.461337e-17 -6.627203e-16 -0.064801   \n",
              "V23    -8.232727e-17  1.114524e-15  2.839721e-16  1.481903e-15 -0.112633   \n",
              "V24     1.015391e-15  1.343722e-16 -2.274142e-16 -2.819805e-16  0.005146   \n",
              "V25     1.000000e+00  2.646517e-15 -6.406679e-16 -7.008939e-16 -0.047837   \n",
              "V26     2.646517e-15  1.000000e+00 -3.667715e-16 -2.782204e-16 -0.003208   \n",
              "V27    -6.406679e-16 -3.667715e-16  1.000000e+00 -3.061287e-16  0.028825   \n",
              "V28    -7.008939e-16 -2.782204e-16 -3.061287e-16  1.000000e+00  0.010258   \n",
              "Amount -4.783686e-02 -3.208037e-03  2.882546e-02  1.025822e-02  1.000000   \n",
              "Class   3.307706e-03  4.455398e-03  1.757973e-02  9.536041e-03  0.005632   \n",
              "\n",
              "           Class  \n",
              "Time   -0.012323  \n",
              "V1     -0.101347  \n",
              "V2      0.091289  \n",
              "V3     -0.192961  \n",
              "V4      0.133447  \n",
              "V5     -0.094974  \n",
              "V6     -0.043643  \n",
              "V7     -0.187257  \n",
              "V8      0.019875  \n",
              "V9     -0.097733  \n",
              "V10    -0.216883  \n",
              "V11     0.154876  \n",
              "V12    -0.260593  \n",
              "V13    -0.004570  \n",
              "V14    -0.302544  \n",
              "V15    -0.004223  \n",
              "V16    -0.196539  \n",
              "V17    -0.326481  \n",
              "V18    -0.111485  \n",
              "V19     0.034783  \n",
              "V20     0.020090  \n",
              "V21     0.040413  \n",
              "V22     0.000805  \n",
              "V23    -0.002685  \n",
              "V24    -0.007221  \n",
              "V25     0.003308  \n",
              "V26     0.004455  \n",
              "V27     0.017580  \n",
              "V28     0.009536  \n",
              "Amount  0.005632  \n",
              "Class   1.000000  \n",
              "\n",
              "[31 rows x 31 columns]"
            ],
            "text/html": [
              "\n",
              "  <div id=\"df-f4c20de9-18a6-47f7-8180-8562a3474fa4\">\n",
              "    <div class=\"colab-df-container\">\n",
              "      <div>\n",
              "<style scoped>\n",
              "    .dataframe tbody tr th:only-of-type {\n",
              "        vertical-align: middle;\n",
              "    }\n",
              "\n",
              "    .dataframe tbody tr th {\n",
              "        vertical-align: top;\n",
              "    }\n",
              "\n",
              "    .dataframe thead th {\n",
              "        text-align: right;\n",
              "    }\n",
              "</style>\n",
              "<table border=\"1\" class=\"dataframe\">\n",
              "  <thead>\n",
              "    <tr style=\"text-align: right;\">\n",
              "      <th></th>\n",
              "      <th>Time</th>\n",
              "      <th>V1</th>\n",
              "      <th>V2</th>\n",
              "      <th>V3</th>\n",
              "      <th>V4</th>\n",
              "      <th>V5</th>\n",
              "      <th>V6</th>\n",
              "      <th>V7</th>\n",
              "      <th>V8</th>\n",
              "      <th>V9</th>\n",
              "      <th>...</th>\n",
              "      <th>V21</th>\n",
              "      <th>V22</th>\n",
              "      <th>V23</th>\n",
              "      <th>V24</th>\n",
              "      <th>V25</th>\n",
              "      <th>V26</th>\n",
              "      <th>V27</th>\n",
              "      <th>V28</th>\n",
              "      <th>Amount</th>\n",
              "      <th>Class</th>\n",
              "    </tr>\n",
              "  </thead>\n",
              "  <tbody>\n",
              "    <tr>\n",
              "      <th>Time</th>\n",
              "      <td>1.000000</td>\n",
              "      <td>1.173963e-01</td>\n",
              "      <td>-1.059333e-02</td>\n",
              "      <td>-4.196182e-01</td>\n",
              "      <td>-1.052602e-01</td>\n",
              "      <td>1.730721e-01</td>\n",
              "      <td>-6.301647e-02</td>\n",
              "      <td>8.471437e-02</td>\n",
              "      <td>-3.694943e-02</td>\n",
              "      <td>-8.660434e-03</td>\n",
              "      <td>...</td>\n",
              "      <td>4.473573e-02</td>\n",
              "      <td>1.440591e-01</td>\n",
              "      <td>5.114236e-02</td>\n",
              "      <td>-1.618187e-02</td>\n",
              "      <td>-2.330828e-01</td>\n",
              "      <td>-4.140710e-02</td>\n",
              "      <td>-5.134591e-03</td>\n",
              "      <td>-9.412688e-03</td>\n",
              "      <td>-0.010596</td>\n",
              "      <td>-0.012323</td>\n",
              "    </tr>\n",
              "    <tr>\n",
              "      <th>V1</th>\n",
              "      <td>0.117396</td>\n",
              "      <td>1.000000e+00</td>\n",
              "      <td>4.135835e-16</td>\n",
              "      <td>-1.227819e-15</td>\n",
              "      <td>-9.215150e-16</td>\n",
              "      <td>1.812612e-17</td>\n",
              "      <td>-6.506567e-16</td>\n",
              "      <td>-1.005191e-15</td>\n",
              "      <td>-2.433822e-16</td>\n",
              "      <td>-1.513678e-16</td>\n",
              "      <td>...</td>\n",
              "      <td>-2.457409e-16</td>\n",
              "      <td>-4.290944e-16</td>\n",
              "      <td>6.168652e-16</td>\n",
              "      <td>-4.425156e-17</td>\n",
              "      <td>-9.605737e-16</td>\n",
              "      <td>-1.581290e-17</td>\n",
              "      <td>1.198124e-16</td>\n",
              "      <td>2.083082e-15</td>\n",
              "      <td>-0.227709</td>\n",
              "      <td>-0.101347</td>\n",
              "    </tr>\n",
              "    <tr>\n",
              "      <th>V2</th>\n",
              "      <td>-0.010593</td>\n",
              "      <td>4.135835e-16</td>\n",
              "      <td>1.000000e+00</td>\n",
              "      <td>3.243764e-16</td>\n",
              "      <td>-1.121065e-15</td>\n",
              "      <td>5.157519e-16</td>\n",
              "      <td>2.787346e-16</td>\n",
              "      <td>2.055934e-16</td>\n",
              "      <td>-5.377041e-17</td>\n",
              "      <td>1.978488e-17</td>\n",
              "      <td>...</td>\n",
              "      <td>-8.480447e-17</td>\n",
              "      <td>1.526333e-16</td>\n",
              "      <td>1.634231e-16</td>\n",
              "      <td>1.247925e-17</td>\n",
              "      <td>-4.478846e-16</td>\n",
              "      <td>2.057310e-16</td>\n",
              "      <td>-4.966953e-16</td>\n",
              "      <td>-5.093836e-16</td>\n",
              "      <td>-0.531409</td>\n",
              "      <td>0.091289</td>\n",
              "    </tr>\n",
              "    <tr>\n",
              "      <th>V3</th>\n",
              "      <td>-0.419618</td>\n",
              "      <td>-1.227819e-15</td>\n",
              "      <td>3.243764e-16</td>\n",
              "      <td>1.000000e+00</td>\n",
              "      <td>4.711293e-16</td>\n",
              "      <td>-6.539009e-17</td>\n",
              "      <td>1.627627e-15</td>\n",
              "      <td>4.895305e-16</td>\n",
              "      <td>-1.268779e-15</td>\n",
              "      <td>5.568367e-16</td>\n",
              "      <td>...</td>\n",
              "      <td>5.706192e-17</td>\n",
              "      <td>-1.133902e-15</td>\n",
              "      <td>-4.983035e-16</td>\n",
              "      <td>2.686834e-19</td>\n",
              "      <td>-1.104734e-15</td>\n",
              "      <td>-1.238062e-16</td>\n",
              "      <td>1.045747e-15</td>\n",
              "      <td>9.775546e-16</td>\n",
              "      <td>-0.210880</td>\n",
              "      <td>-0.192961</td>\n",
              "    </tr>\n",
              "    <tr>\n",
              "      <th>V4</th>\n",
              "      <td>-0.105260</td>\n",
              "      <td>-9.215150e-16</td>\n",
              "      <td>-1.121065e-15</td>\n",
              "      <td>4.711293e-16</td>\n",
              "      <td>1.000000e+00</td>\n",
              "      <td>-1.719944e-15</td>\n",
              "      <td>-7.491959e-16</td>\n",
              "      <td>-4.104503e-16</td>\n",
              "      <td>5.697192e-16</td>\n",
              "      <td>6.923247e-16</td>\n",
              "      <td>...</td>\n",
              "      <td>-1.949553e-16</td>\n",
              "      <td>-6.276051e-17</td>\n",
              "      <td>9.164206e-17</td>\n",
              "      <td>1.584638e-16</td>\n",
              "      <td>6.070716e-16</td>\n",
              "      <td>-4.247268e-16</td>\n",
              "      <td>3.977061e-17</td>\n",
              "      <td>-2.761403e-18</td>\n",
              "      <td>0.098732</td>\n",
              "      <td>0.133447</td>\n",
              "    </tr>\n",
              "    <tr>\n",
              "      <th>V5</th>\n",
              "      <td>0.173072</td>\n",
              "      <td>1.812612e-17</td>\n",
              "      <td>5.157519e-16</td>\n",
              "      <td>-6.539009e-17</td>\n",
              "      <td>-1.719944e-15</td>\n",
              "      <td>1.000000e+00</td>\n",
              "      <td>2.408382e-16</td>\n",
              "      <td>2.715541e-16</td>\n",
              "      <td>7.437229e-16</td>\n",
              "      <td>7.391702e-16</td>\n",
              "      <td>...</td>\n",
              "      <td>-3.920976e-16</td>\n",
              "      <td>1.253751e-16</td>\n",
              "      <td>-8.428683e-18</td>\n",
              "      <td>-1.149255e-15</td>\n",
              "      <td>4.808532e-16</td>\n",
              "      <td>4.319541e-16</td>\n",
              "      <td>6.590482e-16</td>\n",
              "      <td>-5.613951e-18</td>\n",
              "      <td>-0.386356</td>\n",
              "      <td>-0.094974</td>\n",
              "    </tr>\n",
              "    <tr>\n",
              "      <th>V6</th>\n",
              "      <td>-0.063016</td>\n",
              "      <td>-6.506567e-16</td>\n",
              "      <td>2.787346e-16</td>\n",
              "      <td>1.627627e-15</td>\n",
              "      <td>-7.491959e-16</td>\n",
              "      <td>2.408382e-16</td>\n",
              "      <td>1.000000e+00</td>\n",
              "      <td>1.191668e-16</td>\n",
              "      <td>-1.104219e-16</td>\n",
              "      <td>4.131207e-16</td>\n",
              "      <td>...</td>\n",
              "      <td>5.833316e-17</td>\n",
              "      <td>-4.705235e-19</td>\n",
              "      <td>1.046712e-16</td>\n",
              "      <td>-1.071589e-15</td>\n",
              "      <td>4.562861e-16</td>\n",
              "      <td>-1.357067e-16</td>\n",
              "      <td>-4.452461e-16</td>\n",
              "      <td>2.594754e-16</td>\n",
              "      <td>0.215981</td>\n",
              "      <td>-0.043643</td>\n",
              "    </tr>\n",
              "    <tr>\n",
              "      <th>V7</th>\n",
              "      <td>0.084714</td>\n",
              "      <td>-1.005191e-15</td>\n",
              "      <td>2.055934e-16</td>\n",
              "      <td>4.895305e-16</td>\n",
              "      <td>-4.104503e-16</td>\n",
              "      <td>2.715541e-16</td>\n",
              "      <td>1.191668e-16</td>\n",
              "      <td>1.000000e+00</td>\n",
              "      <td>3.344412e-16</td>\n",
              "      <td>1.122501e-15</td>\n",
              "      <td>...</td>\n",
              "      <td>-2.027779e-16</td>\n",
              "      <td>-8.898922e-16</td>\n",
              "      <td>-4.387401e-16</td>\n",
              "      <td>7.434913e-18</td>\n",
              "      <td>-3.094082e-16</td>\n",
              "      <td>-9.657637e-16</td>\n",
              "      <td>-1.782106e-15</td>\n",
              "      <td>-2.776530e-16</td>\n",
              "      <td>0.397311</td>\n",
              "      <td>-0.187257</td>\n",
              "    </tr>\n",
              "    <tr>\n",
              "      <th>V8</th>\n",
              "      <td>-0.036949</td>\n",
              "      <td>-2.433822e-16</td>\n",
              "      <td>-5.377041e-17</td>\n",
              "      <td>-1.268779e-15</td>\n",
              "      <td>5.697192e-16</td>\n",
              "      <td>7.437229e-16</td>\n",
              "      <td>-1.104219e-16</td>\n",
              "      <td>3.344412e-16</td>\n",
              "      <td>1.000000e+00</td>\n",
              "      <td>4.356078e-16</td>\n",
              "      <td>...</td>\n",
              "      <td>3.892798e-16</td>\n",
              "      <td>2.026927e-16</td>\n",
              "      <td>6.377260e-17</td>\n",
              "      <td>-1.047097e-16</td>\n",
              "      <td>-4.653279e-16</td>\n",
              "      <td>-1.727276e-16</td>\n",
              "      <td>1.299943e-16</td>\n",
              "      <td>-6.200930e-16</td>\n",
              "      <td>-0.103079</td>\n",
              "      <td>0.019875</td>\n",
              "    </tr>\n",
              "    <tr>\n",
              "      <th>V9</th>\n",
              "      <td>-0.008660</td>\n",
              "      <td>-1.513678e-16</td>\n",
              "      <td>1.978488e-17</td>\n",
              "      <td>5.568367e-16</td>\n",
              "      <td>6.923247e-16</td>\n",
              "      <td>7.391702e-16</td>\n",
              "      <td>4.131207e-16</td>\n",
              "      <td>1.122501e-15</td>\n",
              "      <td>4.356078e-16</td>\n",
              "      <td>1.000000e+00</td>\n",
              "      <td>...</td>\n",
              "      <td>1.936953e-16</td>\n",
              "      <td>-7.071869e-16</td>\n",
              "      <td>-5.214137e-16</td>\n",
              "      <td>-1.430343e-16</td>\n",
              "      <td>6.757763e-16</td>\n",
              "      <td>-7.888853e-16</td>\n",
              "      <td>-6.709655e-17</td>\n",
              "      <td>1.110541e-15</td>\n",
              "      <td>-0.044246</td>\n",
              "      <td>-0.097733</td>\n",
              "    </tr>\n",
              "    <tr>\n",
              "      <th>V10</th>\n",
              "      <td>0.030617</td>\n",
              "      <td>7.388135e-17</td>\n",
              "      <td>-3.991394e-16</td>\n",
              "      <td>1.156587e-15</td>\n",
              "      <td>2.232685e-16</td>\n",
              "      <td>-5.202306e-16</td>\n",
              "      <td>5.932243e-17</td>\n",
              "      <td>-7.492834e-17</td>\n",
              "      <td>-2.801370e-16</td>\n",
              "      <td>-4.642274e-16</td>\n",
              "      <td>...</td>\n",
              "      <td>1.177547e-15</td>\n",
              "      <td>-6.418202e-16</td>\n",
              "      <td>3.214491e-16</td>\n",
              "      <td>-1.355885e-16</td>\n",
              "      <td>-2.846052e-16</td>\n",
              "      <td>-3.028119e-16</td>\n",
              "      <td>-2.197977e-16</td>\n",
              "      <td>4.864782e-17</td>\n",
              "      <td>-0.101502</td>\n",
              "      <td>-0.216883</td>\n",
              "    </tr>\n",
              "    <tr>\n",
              "      <th>V11</th>\n",
              "      <td>-0.247689</td>\n",
              "      <td>2.125498e-16</td>\n",
              "      <td>1.975426e-16</td>\n",
              "      <td>1.576830e-15</td>\n",
              "      <td>3.459380e-16</td>\n",
              "      <td>7.203963e-16</td>\n",
              "      <td>1.980503e-15</td>\n",
              "      <td>1.425248e-16</td>\n",
              "      <td>2.487043e-16</td>\n",
              "      <td>1.354680e-16</td>\n",
              "      <td>...</td>\n",
              "      <td>-5.658364e-16</td>\n",
              "      <td>7.772895e-16</td>\n",
              "      <td>-4.505332e-16</td>\n",
              "      <td>1.933267e-15</td>\n",
              "      <td>-5.600475e-16</td>\n",
              "      <td>-1.003221e-16</td>\n",
              "      <td>-2.640281e-16</td>\n",
              "      <td>-3.792314e-16</td>\n",
              "      <td>0.000104</td>\n",
              "      <td>0.154876</td>\n",
              "    </tr>\n",
              "    <tr>\n",
              "      <th>V12</th>\n",
              "      <td>0.124348</td>\n",
              "      <td>2.053457e-16</td>\n",
              "      <td>-9.568710e-17</td>\n",
              "      <td>6.310231e-16</td>\n",
              "      <td>-5.625518e-16</td>\n",
              "      <td>7.412552e-16</td>\n",
              "      <td>2.375468e-16</td>\n",
              "      <td>-3.536655e-18</td>\n",
              "      <td>1.839891e-16</td>\n",
              "      <td>-1.079314e-15</td>\n",
              "      <td>...</td>\n",
              "      <td>7.300527e-16</td>\n",
              "      <td>1.644699e-16</td>\n",
              "      <td>1.800885e-16</td>\n",
              "      <td>4.436512e-16</td>\n",
              "      <td>-5.712973e-16</td>\n",
              "      <td>-2.359969e-16</td>\n",
              "      <td>-4.672391e-16</td>\n",
              "      <td>6.415167e-16</td>\n",
              "      <td>-0.009542</td>\n",
              "      <td>-0.260593</td>\n",
              "    </tr>\n",
              "    <tr>\n",
              "      <th>V13</th>\n",
              "      <td>-0.065902</td>\n",
              "      <td>-2.425603e-17</td>\n",
              "      <td>6.295388e-16</td>\n",
              "      <td>2.807652e-16</td>\n",
              "      <td>1.303306e-16</td>\n",
              "      <td>5.886991e-16</td>\n",
              "      <td>-1.211182e-16</td>\n",
              "      <td>1.266462e-17</td>\n",
              "      <td>-2.921856e-16</td>\n",
              "      <td>2.251072e-15</td>\n",
              "      <td>...</td>\n",
              "      <td>1.008461e-16</td>\n",
              "      <td>6.747721e-17</td>\n",
              "      <td>-7.132064e-16</td>\n",
              "      <td>-1.397470e-16</td>\n",
              "      <td>-5.497612e-16</td>\n",
              "      <td>-1.769255e-16</td>\n",
              "      <td>-4.720898e-16</td>\n",
              "      <td>1.144372e-15</td>\n",
              "      <td>0.005293</td>\n",
              "      <td>-0.004570</td>\n",
              "    </tr>\n",
              "    <tr>\n",
              "      <th>V14</th>\n",
              "      <td>-0.098757</td>\n",
              "      <td>-5.020280e-16</td>\n",
              "      <td>-1.730566e-16</td>\n",
              "      <td>4.739859e-16</td>\n",
              "      <td>2.282280e-16</td>\n",
              "      <td>6.565143e-16</td>\n",
              "      <td>2.621312e-16</td>\n",
              "      <td>2.607772e-16</td>\n",
              "      <td>-8.599156e-16</td>\n",
              "      <td>3.784757e-15</td>\n",
              "      <td>...</td>\n",
              "      <td>-3.356561e-16</td>\n",
              "      <td>3.740383e-16</td>\n",
              "      <td>3.883204e-16</td>\n",
              "      <td>2.003482e-16</td>\n",
              "      <td>-8.547932e-16</td>\n",
              "      <td>-1.660327e-16</td>\n",
              "      <td>1.044274e-16</td>\n",
              "      <td>2.289427e-15</td>\n",
              "      <td>0.033751</td>\n",
              "      <td>-0.302544</td>\n",
              "    </tr>\n",
              "    <tr>\n",
              "      <th>V15</th>\n",
              "      <td>-0.183453</td>\n",
              "      <td>3.547782e-16</td>\n",
              "      <td>-4.995814e-17</td>\n",
              "      <td>9.068793e-16</td>\n",
              "      <td>1.377649e-16</td>\n",
              "      <td>-8.720275e-16</td>\n",
              "      <td>-1.531188e-15</td>\n",
              "      <td>-1.690540e-16</td>\n",
              "      <td>4.127777e-16</td>\n",
              "      <td>-1.051167e-15</td>\n",
              "      <td>...</td>\n",
              "      <td>6.605263e-17</td>\n",
              "      <td>-4.208921e-16</td>\n",
              "      <td>-3.912243e-16</td>\n",
              "      <td>-4.478263e-16</td>\n",
              "      <td>3.206423e-16</td>\n",
              "      <td>2.817791e-16</td>\n",
              "      <td>-1.143519e-15</td>\n",
              "      <td>-1.194130e-15</td>\n",
              "      <td>-0.002986</td>\n",
              "      <td>-0.004223</td>\n",
              "    </tr>\n",
              "    <tr>\n",
              "      <th>V16</th>\n",
              "      <td>0.011903</td>\n",
              "      <td>7.212815e-17</td>\n",
              "      <td>1.177316e-17</td>\n",
              "      <td>8.299445e-16</td>\n",
              "      <td>-9.614528e-16</td>\n",
              "      <td>2.246261e-15</td>\n",
              "      <td>2.623672e-18</td>\n",
              "      <td>5.869302e-17</td>\n",
              "      <td>-5.254741e-16</td>\n",
              "      <td>-1.214086e-15</td>\n",
              "      <td>...</td>\n",
              "      <td>-4.715090e-16</td>\n",
              "      <td>-7.923387e-17</td>\n",
              "      <td>5.020770e-16</td>\n",
              "      <td>-3.005985e-16</td>\n",
              "      <td>-1.345418e-15</td>\n",
              "      <td>-7.290010e-16</td>\n",
              "      <td>6.789513e-16</td>\n",
              "      <td>7.588849e-16</td>\n",
              "      <td>-0.003910</td>\n",
              "      <td>-0.196539</td>\n",
              "    </tr>\n",
              "    <tr>\n",
              "      <th>V17</th>\n",
              "      <td>-0.073297</td>\n",
              "      <td>-3.879840e-16</td>\n",
              "      <td>-2.685296e-16</td>\n",
              "      <td>7.614712e-16</td>\n",
              "      <td>-2.699612e-16</td>\n",
              "      <td>1.281914e-16</td>\n",
              "      <td>2.015618e-16</td>\n",
              "      <td>2.177192e-16</td>\n",
              "      <td>-2.269549e-16</td>\n",
              "      <td>1.113695e-15</td>\n",
              "      <td>...</td>\n",
              "      <td>-8.230527e-16</td>\n",
              "      <td>-8.743398e-16</td>\n",
              "      <td>3.706214e-16</td>\n",
              "      <td>-2.403828e-16</td>\n",
              "      <td>2.666806e-16</td>\n",
              "      <td>6.932833e-16</td>\n",
              "      <td>6.148525e-16</td>\n",
              "      <td>-5.534540e-17</td>\n",
              "      <td>0.007309</td>\n",
              "      <td>-0.326481</td>\n",
              "    </tr>\n",
              "    <tr>\n",
              "      <th>V18</th>\n",
              "      <td>0.090438</td>\n",
              "      <td>3.230206e-17</td>\n",
              "      <td>3.284605e-16</td>\n",
              "      <td>1.509897e-16</td>\n",
              "      <td>-5.103644e-16</td>\n",
              "      <td>5.308590e-16</td>\n",
              "      <td>1.223814e-16</td>\n",
              "      <td>7.604126e-17</td>\n",
              "      <td>-3.667974e-16</td>\n",
              "      <td>4.993240e-16</td>\n",
              "      <td>...</td>\n",
              "      <td>-9.408680e-16</td>\n",
              "      <td>-4.819365e-16</td>\n",
              "      <td>-1.912006e-16</td>\n",
              "      <td>-8.986916e-17</td>\n",
              "      <td>-6.629212e-17</td>\n",
              "      <td>2.990167e-16</td>\n",
              "      <td>2.242791e-16</td>\n",
              "      <td>7.976796e-16</td>\n",
              "      <td>0.035650</td>\n",
              "      <td>-0.111485</td>\n",
              "    </tr>\n",
              "    <tr>\n",
              "      <th>V19</th>\n",
              "      <td>0.028975</td>\n",
              "      <td>1.502024e-16</td>\n",
              "      <td>-7.118719e-18</td>\n",
              "      <td>3.463522e-16</td>\n",
              "      <td>-3.980557e-16</td>\n",
              "      <td>-1.450421e-16</td>\n",
              "      <td>-1.865597e-16</td>\n",
              "      <td>-1.881008e-16</td>\n",
              "      <td>-3.875186e-16</td>\n",
              "      <td>-1.376135e-16</td>\n",
              "      <td>...</td>\n",
              "      <td>5.115885e-16</td>\n",
              "      <td>-1.163768e-15</td>\n",
              "      <td>7.032035e-16</td>\n",
              "      <td>2.587708e-17</td>\n",
              "      <td>9.577163e-16</td>\n",
              "      <td>5.898033e-16</td>\n",
              "      <td>-2.959370e-16</td>\n",
              "      <td>-1.405379e-15</td>\n",
              "      <td>-0.056151</td>\n",
              "      <td>0.034783</td>\n",
              "    </tr>\n",
              "    <tr>\n",
              "      <th>V20</th>\n",
              "      <td>-0.050866</td>\n",
              "      <td>4.654551e-16</td>\n",
              "      <td>2.506675e-16</td>\n",
              "      <td>-9.316409e-16</td>\n",
              "      <td>-1.857247e-16</td>\n",
              "      <td>-3.554057e-16</td>\n",
              "      <td>-1.858755e-16</td>\n",
              "      <td>9.379684e-16</td>\n",
              "      <td>2.033737e-16</td>\n",
              "      <td>-2.343720e-16</td>\n",
              "      <td>...</td>\n",
              "      <td>-7.614597e-16</td>\n",
              "      <td>1.009285e-15</td>\n",
              "      <td>2.712885e-16</td>\n",
              "      <td>1.277215e-16</td>\n",
              "      <td>1.410054e-16</td>\n",
              "      <td>-2.803504e-16</td>\n",
              "      <td>-1.138829e-15</td>\n",
              "      <td>-2.436795e-16</td>\n",
              "      <td>0.339403</td>\n",
              "      <td>0.020090</td>\n",
              "    </tr>\n",
              "    <tr>\n",
              "      <th>V21</th>\n",
              "      <td>0.044736</td>\n",
              "      <td>-2.457409e-16</td>\n",
              "      <td>-8.480447e-17</td>\n",
              "      <td>5.706192e-17</td>\n",
              "      <td>-1.949553e-16</td>\n",
              "      <td>-3.920976e-16</td>\n",
              "      <td>5.833316e-17</td>\n",
              "      <td>-2.027779e-16</td>\n",
              "      <td>3.892798e-16</td>\n",
              "      <td>1.936953e-16</td>\n",
              "      <td>...</td>\n",
              "      <td>1.000000e+00</td>\n",
              "      <td>3.649908e-15</td>\n",
              "      <td>8.119580e-16</td>\n",
              "      <td>1.761054e-16</td>\n",
              "      <td>-1.686082e-16</td>\n",
              "      <td>-5.557329e-16</td>\n",
              "      <td>-1.211281e-15</td>\n",
              "      <td>5.278775e-16</td>\n",
              "      <td>0.105999</td>\n",
              "      <td>0.040413</td>\n",
              "    </tr>\n",
              "    <tr>\n",
              "      <th>V22</th>\n",
              "      <td>0.144059</td>\n",
              "      <td>-4.290944e-16</td>\n",
              "      <td>1.526333e-16</td>\n",
              "      <td>-1.133902e-15</td>\n",
              "      <td>-6.276051e-17</td>\n",
              "      <td>1.253751e-16</td>\n",
              "      <td>-4.705235e-19</td>\n",
              "      <td>-8.898922e-16</td>\n",
              "      <td>2.026927e-16</td>\n",
              "      <td>-7.071869e-16</td>\n",
              "      <td>...</td>\n",
              "      <td>3.649908e-15</td>\n",
              "      <td>1.000000e+00</td>\n",
              "      <td>-7.303916e-17</td>\n",
              "      <td>9.970809e-17</td>\n",
              "      <td>-5.018575e-16</td>\n",
              "      <td>-2.503187e-17</td>\n",
              "      <td>8.461337e-17</td>\n",
              "      <td>-6.627203e-16</td>\n",
              "      <td>-0.064801</td>\n",
              "      <td>0.000805</td>\n",
              "    </tr>\n",
              "    <tr>\n",
              "      <th>V23</th>\n",
              "      <td>0.051142</td>\n",
              "      <td>6.168652e-16</td>\n",
              "      <td>1.634231e-16</td>\n",
              "      <td>-4.983035e-16</td>\n",
              "      <td>9.164206e-17</td>\n",
              "      <td>-8.428683e-18</td>\n",
              "      <td>1.046712e-16</td>\n",
              "      <td>-4.387401e-16</td>\n",
              "      <td>6.377260e-17</td>\n",
              "      <td>-5.214137e-16</td>\n",
              "      <td>...</td>\n",
              "      <td>8.119580e-16</td>\n",
              "      <td>-7.303916e-17</td>\n",
              "      <td>1.000000e+00</td>\n",
              "      <td>2.130519e-17</td>\n",
              "      <td>-8.232727e-17</td>\n",
              "      <td>1.114524e-15</td>\n",
              "      <td>2.839721e-16</td>\n",
              "      <td>1.481903e-15</td>\n",
              "      <td>-0.112633</td>\n",
              "      <td>-0.002685</td>\n",
              "    </tr>\n",
              "    <tr>\n",
              "      <th>V24</th>\n",
              "      <td>-0.016182</td>\n",
              "      <td>-4.425156e-17</td>\n",
              "      <td>1.247925e-17</td>\n",
              "      <td>2.686834e-19</td>\n",
              "      <td>1.584638e-16</td>\n",
              "      <td>-1.149255e-15</td>\n",
              "      <td>-1.071589e-15</td>\n",
              "      <td>7.434913e-18</td>\n",
              "      <td>-1.047097e-16</td>\n",
              "      <td>-1.430343e-16</td>\n",
              "      <td>...</td>\n",
              "      <td>1.761054e-16</td>\n",
              "      <td>9.970809e-17</td>\n",
              "      <td>2.130519e-17</td>\n",
              "      <td>1.000000e+00</td>\n",
              "      <td>1.015391e-15</td>\n",
              "      <td>1.343722e-16</td>\n",
              "      <td>-2.274142e-16</td>\n",
              "      <td>-2.819805e-16</td>\n",
              "      <td>0.005146</td>\n",
              "      <td>-0.007221</td>\n",
              "    </tr>\n",
              "    <tr>\n",
              "      <th>V25</th>\n",
              "      <td>-0.233083</td>\n",
              "      <td>-9.605737e-16</td>\n",
              "      <td>-4.478846e-16</td>\n",
              "      <td>-1.104734e-15</td>\n",
              "      <td>6.070716e-16</td>\n",
              "      <td>4.808532e-16</td>\n",
              "      <td>4.562861e-16</td>\n",
              "      <td>-3.094082e-16</td>\n",
              "      <td>-4.653279e-16</td>\n",
              "      <td>6.757763e-16</td>\n",
              "      <td>...</td>\n",
              "      <td>-1.686082e-16</td>\n",
              "      <td>-5.018575e-16</td>\n",
              "      <td>-8.232727e-17</td>\n",
              "      <td>1.015391e-15</td>\n",
              "      <td>1.000000e+00</td>\n",
              "      <td>2.646517e-15</td>\n",
              "      <td>-6.406679e-16</td>\n",
              "      <td>-7.008939e-16</td>\n",
              "      <td>-0.047837</td>\n",
              "      <td>0.003308</td>\n",
              "    </tr>\n",
              "    <tr>\n",
              "      <th>V26</th>\n",
              "      <td>-0.041407</td>\n",
              "      <td>-1.581290e-17</td>\n",
              "      <td>2.057310e-16</td>\n",
              "      <td>-1.238062e-16</td>\n",
              "      <td>-4.247268e-16</td>\n",
              "      <td>4.319541e-16</td>\n",
              "      <td>-1.357067e-16</td>\n",
              "      <td>-9.657637e-16</td>\n",
              "      <td>-1.727276e-16</td>\n",
              "      <td>-7.888853e-16</td>\n",
              "      <td>...</td>\n",
              "      <td>-5.557329e-16</td>\n",
              "      <td>-2.503187e-17</td>\n",
              "      <td>1.114524e-15</td>\n",
              "      <td>1.343722e-16</td>\n",
              "      <td>2.646517e-15</td>\n",
              "      <td>1.000000e+00</td>\n",
              "      <td>-3.667715e-16</td>\n",
              "      <td>-2.782204e-16</td>\n",
              "      <td>-0.003208</td>\n",
              "      <td>0.004455</td>\n",
              "    </tr>\n",
              "    <tr>\n",
              "      <th>V27</th>\n",
              "      <td>-0.005135</td>\n",
              "      <td>1.198124e-16</td>\n",
              "      <td>-4.966953e-16</td>\n",
              "      <td>1.045747e-15</td>\n",
              "      <td>3.977061e-17</td>\n",
              "      <td>6.590482e-16</td>\n",
              "      <td>-4.452461e-16</td>\n",
              "      <td>-1.782106e-15</td>\n",
              "      <td>1.299943e-16</td>\n",
              "      <td>-6.709655e-17</td>\n",
              "      <td>...</td>\n",
              "      <td>-1.211281e-15</td>\n",
              "      <td>8.461337e-17</td>\n",
              "      <td>2.839721e-16</td>\n",
              "      <td>-2.274142e-16</td>\n",
              "      <td>-6.406679e-16</td>\n",
              "      <td>-3.667715e-16</td>\n",
              "      <td>1.000000e+00</td>\n",
              "      <td>-3.061287e-16</td>\n",
              "      <td>0.028825</td>\n",
              "      <td>0.017580</td>\n",
              "    </tr>\n",
              "    <tr>\n",
              "      <th>V28</th>\n",
              "      <td>-0.009413</td>\n",
              "      <td>2.083082e-15</td>\n",
              "      <td>-5.093836e-16</td>\n",
              "      <td>9.775546e-16</td>\n",
              "      <td>-2.761403e-18</td>\n",
              "      <td>-5.613951e-18</td>\n",
              "      <td>2.594754e-16</td>\n",
              "      <td>-2.776530e-16</td>\n",
              "      <td>-6.200930e-16</td>\n",
              "      <td>1.110541e-15</td>\n",
              "      <td>...</td>\n",
              "      <td>5.278775e-16</td>\n",
              "      <td>-6.627203e-16</td>\n",
              "      <td>1.481903e-15</td>\n",
              "      <td>-2.819805e-16</td>\n",
              "      <td>-7.008939e-16</td>\n",
              "      <td>-2.782204e-16</td>\n",
              "      <td>-3.061287e-16</td>\n",
              "      <td>1.000000e+00</td>\n",
              "      <td>0.010258</td>\n",
              "      <td>0.009536</td>\n",
              "    </tr>\n",
              "    <tr>\n",
              "      <th>Amount</th>\n",
              "      <td>-0.010596</td>\n",
              "      <td>-2.277087e-01</td>\n",
              "      <td>-5.314089e-01</td>\n",
              "      <td>-2.108805e-01</td>\n",
              "      <td>9.873167e-02</td>\n",
              "      <td>-3.863563e-01</td>\n",
              "      <td>2.159812e-01</td>\n",
              "      <td>3.973113e-01</td>\n",
              "      <td>-1.030791e-01</td>\n",
              "      <td>-4.424560e-02</td>\n",
              "      <td>...</td>\n",
              "      <td>1.059989e-01</td>\n",
              "      <td>-6.480065e-02</td>\n",
              "      <td>-1.126326e-01</td>\n",
              "      <td>5.146217e-03</td>\n",
              "      <td>-4.783686e-02</td>\n",
              "      <td>-3.208037e-03</td>\n",
              "      <td>2.882546e-02</td>\n",
              "      <td>1.025822e-02</td>\n",
              "      <td>1.000000</td>\n",
              "      <td>0.005632</td>\n",
              "    </tr>\n",
              "    <tr>\n",
              "      <th>Class</th>\n",
              "      <td>-0.012323</td>\n",
              "      <td>-1.013473e-01</td>\n",
              "      <td>9.128865e-02</td>\n",
              "      <td>-1.929608e-01</td>\n",
              "      <td>1.334475e-01</td>\n",
              "      <td>-9.497430e-02</td>\n",
              "      <td>-4.364316e-02</td>\n",
              "      <td>-1.872566e-01</td>\n",
              "      <td>1.987512e-02</td>\n",
              "      <td>-9.773269e-02</td>\n",
              "      <td>...</td>\n",
              "      <td>4.041338e-02</td>\n",
              "      <td>8.053175e-04</td>\n",
              "      <td>-2.685156e-03</td>\n",
              "      <td>-7.220907e-03</td>\n",
              "      <td>3.307706e-03</td>\n",
              "      <td>4.455398e-03</td>\n",
              "      <td>1.757973e-02</td>\n",
              "      <td>9.536041e-03</td>\n",
              "      <td>0.005632</td>\n",
              "      <td>1.000000</td>\n",
              "    </tr>\n",
              "  </tbody>\n",
              "</table>\n",
              "<p>31 rows × 31 columns</p>\n",
              "</div>\n",
              "      <button class=\"colab-df-convert\" onclick=\"convertToInteractive('df-f4c20de9-18a6-47f7-8180-8562a3474fa4')\"\n",
              "              title=\"Convert this dataframe to an interactive table.\"\n",
              "              style=\"display:none;\">\n",
              "        \n",
              "  <svg xmlns=\"http://www.w3.org/2000/svg\" height=\"24px\"viewBox=\"0 0 24 24\"\n",
              "       width=\"24px\">\n",
              "    <path d=\"M0 0h24v24H0V0z\" fill=\"none\"/>\n",
              "    <path d=\"M18.56 5.44l.94 2.06.94-2.06 2.06-.94-2.06-.94-.94-2.06-.94 2.06-2.06.94zm-11 1L8.5 8.5l.94-2.06 2.06-.94-2.06-.94L8.5 2.5l-.94 2.06-2.06.94zm10 10l.94 2.06.94-2.06 2.06-.94-2.06-.94-.94-2.06-.94 2.06-2.06.94z\"/><path d=\"M17.41 7.96l-1.37-1.37c-.4-.4-.92-.59-1.43-.59-.52 0-1.04.2-1.43.59L10.3 9.45l-7.72 7.72c-.78.78-.78 2.05 0 2.83L4 21.41c.39.39.9.59 1.41.59.51 0 1.02-.2 1.41-.59l7.78-7.78 2.81-2.81c.8-.78.8-2.07 0-2.86zM5.41 20L4 18.59l7.72-7.72 1.47 1.35L5.41 20z\"/>\n",
              "  </svg>\n",
              "      </button>\n",
              "      \n",
              "  <style>\n",
              "    .colab-df-container {\n",
              "      display:flex;\n",
              "      flex-wrap:wrap;\n",
              "      gap: 12px;\n",
              "    }\n",
              "\n",
              "    .colab-df-convert {\n",
              "      background-color: #E8F0FE;\n",
              "      border: none;\n",
              "      border-radius: 50%;\n",
              "      cursor: pointer;\n",
              "      display: none;\n",
              "      fill: #1967D2;\n",
              "      height: 32px;\n",
              "      padding: 0 0 0 0;\n",
              "      width: 32px;\n",
              "    }\n",
              "\n",
              "    .colab-df-convert:hover {\n",
              "      background-color: #E2EBFA;\n",
              "      box-shadow: 0px 1px 2px rgba(60, 64, 67, 0.3), 0px 1px 3px 1px rgba(60, 64, 67, 0.15);\n",
              "      fill: #174EA6;\n",
              "    }\n",
              "\n",
              "    [theme=dark] .colab-df-convert {\n",
              "      background-color: #3B4455;\n",
              "      fill: #D2E3FC;\n",
              "    }\n",
              "\n",
              "    [theme=dark] .colab-df-convert:hover {\n",
              "      background-color: #434B5C;\n",
              "      box-shadow: 0px 1px 3px 1px rgba(0, 0, 0, 0.15);\n",
              "      filter: drop-shadow(0px 1px 2px rgba(0, 0, 0, 0.3));\n",
              "      fill: #FFFFFF;\n",
              "    }\n",
              "  </style>\n",
              "\n",
              "      <script>\n",
              "        const buttonEl =\n",
              "          document.querySelector('#df-f4c20de9-18a6-47f7-8180-8562a3474fa4 button.colab-df-convert');\n",
              "        buttonEl.style.display =\n",
              "          google.colab.kernel.accessAllowed ? 'block' : 'none';\n",
              "\n",
              "        async function convertToInteractive(key) {\n",
              "          const element = document.querySelector('#df-f4c20de9-18a6-47f7-8180-8562a3474fa4');\n",
              "          const dataTable =\n",
              "            await google.colab.kernel.invokeFunction('convertToInteractive',\n",
              "                                                     [key], {});\n",
              "          if (!dataTable) return;\n",
              "\n",
              "          const docLinkHtml = 'Like what you see? Visit the ' +\n",
              "            '<a target=\"_blank\" href=https://colab.research.google.com/notebooks/data_table.ipynb>data table notebook</a>'\n",
              "            + ' to learn more about interactive tables.';\n",
              "          element.innerHTML = '';\n",
              "          dataTable['output_type'] = 'display_data';\n",
              "          await google.colab.output.renderOutput(dataTable, element);\n",
              "          const docLink = document.createElement('div');\n",
              "          docLink.innerHTML = docLinkHtml;\n",
              "          element.appendChild(docLink);\n",
              "        }\n",
              "      </script>\n",
              "    </div>\n",
              "  </div>\n",
              "  "
            ]
          },
          "metadata": {},
          "execution_count": 18
        }
      ],
      "source": [
        "card_df.corr()"
      ]
    },
    {
      "cell_type": "code",
      "execution_count": null,
      "metadata": {
        "colab": {
          "base_uri": "https://localhost:8080/",
          "height": 1000
        },
        "id": "1nhA9D2d96R3",
        "outputId": "06ec88a1-cf28-44cc-f39d-b49fdc018072"
      },
      "outputs": [
        {
          "output_type": "execute_result",
          "data": {
            "text/plain": [
              "<Axes: >"
            ]
          },
          "metadata": {},
          "execution_count": 19
        },
        {
          "output_type": "display_data",
          "data": {
            "text/plain": [
              "<Figure size 1200x1200 with 2 Axes>"
            ],
            "image/png": "[encoded data removed]"
          },
          "metadata": {}
        }
      ],
      "source": [
        "import seaborn as sns\n",
        "\n",
        "plt.figure(figsize=(12, 12))\n",
        "corr = card_df.corr()\n",
        "sns.heatmap(corr, annot=True, fmt='.1f',  cmap='RdBu')"
      ]
    },
    {
      "cell_type": "markdown",
      "metadata": {
        "id": "m0p1x47D96R3"
      },
      "source": [
        "**Dataframe에서 outlier에 해당하는 데이터를 필터링하기 위한 함수 생성. outlier 레코드의 index를 반환함**"
      ]
    },
    {
      "cell_type": "code",
      "execution_count": null,
      "metadata": {
        "id": "Muw6i2Kf96R3"
      },
      "outputs": [],
      "source": [
        "import numpy as np\n",
        "\n",
        "def get_outlier(df=None, column=None, weight=1.5):\n",
        "    # fraud에 해당하는 column 데이터만 추출, 1/4 분위와 3/4 분위 지점을 np.percentile로 구함. \n",
        "    fraud = df[df['Class']==1][column]\n",
        "    quantile_25 = np.percentile(fraud.values, 25)\n",
        "    quantile_75 = np.percentile(fraud.values, 75)\n",
        "    # IQR을 구하고, IQR에 1.5를 곱하여 최대값과 최소값 지점 구함. \n",
        "    iqr = quantile_75 - quantile_25\n",
        "    iqr_weight = iqr * weight\n",
        "    lowest_val = quantile_25 - iqr_weight\n",
        "    highest_val = quantile_75 + iqr_weight\n",
        "    # 최대값 보다 크거나, 최소값 보다 작은 값을 아웃라이어로 설정하고 DataFrame index 반환. \n",
        "    outlier_index = fraud[(fraud < lowest_val) | (fraud > highest_val)].index\n",
        "    return outlier_index"
      ]
    },
    {
      "cell_type": "code",
      "execution_count": null,
      "metadata": {
        "colab": {
          "base_uri": "https://localhost:8080/"
        },
        "id": "46r_kggR96R4",
        "outputId": "4a2d3b9e-d10c-4c8b-ff65-dadd6b250e57"
      },
      "outputs": [
        {
          "output_type": "execute_result",
          "data": {
            "text/plain": [
              "0.493149849218149"
            ]
          },
          "metadata": {},
          "execution_count": 21
        }
      ],
      "source": [
        "np.percentile(card_df['V14'].values, 75)"
      ]
    },
    {
      "cell_type": "code",
      "execution_count": null,
      "metadata": {
        "colab": {
          "base_uri": "https://localhost:8080/"
        },
        "id": "XTtRMYTZ96R4",
        "outputId": "69af425d-b8d3-4a6f-a4b0-af2190db6987"
      },
      "outputs": [
        {
          "output_type": "stream",
          "name": "stdout",
          "text": [
            "-0.4255740124549935 0.493149849218149\n"
          ]
        }
      ],
      "source": [
        "np.percentile(card_df['V14'].values, 100)\n",
        "np.max(card_df['V14'].values)\n",
        "quantile_25 = np.percentile(card_df['V14'].values, 25)\n",
        "quantile_75 = np.percentile(card_df['V14'].values, 75)\n",
        "print(quantile_25, quantile_75)"
      ]
    },
    {
      "cell_type": "code",
      "execution_count": null,
      "metadata": {
        "colab": {
          "base_uri": "https://localhost:8080/"
        },
        "id": "DW5F6hT696R4",
        "outputId": "d32b70a7-deb8-4210-d9b8-71fe5c3f3dc1"
      },
      "outputs": [
        {
          "output_type": "stream",
          "name": "stdout",
          "text": [
            "이상치 데이터 인덱스: Int64Index([8296, 8615, 9035, 9252], dtype='int64')\n"
          ]
        }
      ],
      "source": [
        "outlier_index = get_outlier(df=card_df, column='V14', weight=1.5)\n",
        "print('이상치 데이터 인덱스:', outlier_index)"
      ]
    },
    {
      "cell_type": "markdown",
      "metadata": {
        "id": "kQbHH4fR96R4"
      },
      "source": [
        "**로그 변환 후 V14 피처의 이상치 데이터를 삭제한 뒤 모델들을 재 학습/예측/평가**"
      ]
    },
    {
      "cell_type": "code",
      "execution_count": null,
      "metadata": {
        "colab": {
          "base_uri": "https://localhost:8080/"
        },
        "id": "k5B_yp9Y96R4",
        "outputId": "629fbaf3-57c5-4dd5-aeab-b7f6f8adf9ef"
      },
      "outputs": [
        {
          "output_type": "stream",
          "name": "stdout",
          "text": [
            "### 로지스틱 회귀 예측 성능 ###\n",
            "오차 행렬\n",
            "[[85281    14]\n",
            " [   48    98]]\n",
            "정확도: 0.9993, 정밀도: 0.8750, 재현율: 0.6712,    F1: 0.7597, AUC:0.9743\n",
            "### LightGBM 예측 성능 ###\n",
            "오차 행렬\n",
            "[[85290     5]\n",
            " [   25   121]]\n",
            "정확도: 0.9996, 정밀도: 0.9603, 재현율: 0.8288,    F1: 0.8897, AUC:0.9780\n"
          ]
        }
      ],
      "source": [
        "# get_processed_df( )를 로그 변환 후 V14 피처의 이상치 데이터를 삭제하는 로직으로 변경. \n",
        "def get_preprocessed_df(df=None):\n",
        "    df_copy = df.copy()\n",
        "    amount_n = np.log1p(df_copy['Amount'])\n",
        "    df_copy.insert(0, 'Amount_Scaled', amount_n)\n",
        "    df_copy.drop(['Time','Amount'], axis=1, inplace=True)\n",
        "    # 이상치 데이터 삭제하는 로직 추가\n",
        "    outlier_index = get_outlier(df=df_copy, column='V14', weight=1.5)\n",
        "    df_copy.drop(outlier_index, axis=0, inplace=True)\n",
        "    return df_copy\n",
        "\n",
        "X_train, X_test, y_train, y_test = get_train_test_dataset(card_df)\n",
        "print('### 로지스틱 회귀 예측 성능 ###')\n",
        "get_model_train_eval(lr_clf, ftr_train=X_train, ftr_test=X_test, tgt_train=y_train, tgt_test=y_test)\n",
        "print('### LightGBM 예측 성능 ###')\n",
        "get_model_train_eval(lgbm_clf, ftr_train=X_train, ftr_test=X_test, tgt_train=y_train, tgt_test=y_test)"
      ]
    },
    {
      "cell_type": "markdown",
      "metadata": {
        "id": "1enb34jC96R5"
      },
      "source": [
        "### SMOTE 오버 샘플링 적용 후 모델 학습/예측/평가"
      ]
    },
    {
      "cell_type": "code",
      "execution_count": null,
      "metadata": {
        "colab": {
          "base_uri": "https://localhost:8080/"
        },
        "id": "FyuOEgt-96R5",
        "outputId": "d3531a85-9f5a-4e8b-e664-03c3d6498c4e"
      },
      "outputs": [
        {
          "output_type": "stream",
          "name": "stdout",
          "text": [
            "SMOTE 적용 전 학습용 피처/레이블 데이터 세트:  (199362, 29) (199362,)\n",
            "SMOTE 적용 후 학습용 피처/레이블 데이터 세트:  (398040, 29) (398040,)\n",
            "SMOTE 적용 후 레이블 값 분포: \n",
            " 0    199020\n",
            "1    199020\n",
            "Name: Class, dtype: int64\n"
          ]
        }
      ],
      "source": [
        "from imblearn.over_sampling import SMOTE\n",
        "\n",
        "smote = SMOTE(random_state=0)\n",
        "X_train_over, y_train_over = smote.fit_resample(X_train, y_train)\n",
        "print('SMOTE 적용 전 학습용 피처/레이블 데이터 세트: ', X_train.shape, y_train.shape)\n",
        "print('SMOTE 적용 후 학습용 피처/레이블 데이터 세트: ', X_train_over.shape, y_train_over.shape)\n",
        "print('SMOTE 적용 후 레이블 값 분포: \\n', pd.Series(y_train_over).value_counts())"
      ]
    },
    {
      "cell_type": "code",
      "execution_count": null,
      "metadata": {
        "colab": {
          "base_uri": "https://localhost:8080/"
        },
        "id": "47w-2V4596R5",
        "outputId": "25b0d631-c9bf-459f-f859-8fb6a33c77f3"
      },
      "outputs": [
        {
          "output_type": "stream",
          "name": "stdout",
          "text": [
            "오차 행렬\n",
            "[[82937  2358]\n",
            " [   11   135]]\n",
            "정확도: 0.9723, 정밀도: 0.0542, 재현율: 0.9247,    F1: 0.1023, AUC:0.9737\n"
          ]
        }
      ],
      "source": [
        "lr_clf = LogisticRegression(max_iter=1000)\n",
        "# ftr_train과 tgt_train 인자값이 SMOTE 증식된 X_train_over와 y_train_over로 변경됨에 유의\n",
        "get_model_train_eval(lr_clf, ftr_train=X_train_over, ftr_test=X_test, tgt_train=y_train_over, tgt_test=y_test)"
      ]
    },
    {
      "cell_type": "code",
      "execution_count": null,
      "metadata": {
        "id": "AIb6wBSf96R5"
      },
      "outputs": [],
      "source": [
        "import matplotlib.pyplot as plt\n",
        "import matplotlib.ticker as ticker\n",
        "from sklearn.metrics import precision_recall_curve\n",
        "%matplotlib inline\n",
        "\n",
        "def precision_recall_curve_plot(y_test , pred_proba_c1):\n",
        "    # threshold ndarray와 이 threshold에 따른 정밀도, 재현율 ndarray 추출. \n",
        "    precisions, recalls, thresholds = precision_recall_curve( y_test, pred_proba_c1) \n",
        "    # X축을 threshold값으로, Y축은 정밀도, 재현율 값으로 각각 Plot 수행. 정밀도는 점선으로 표시\n",
        "    plt.figure(figsize=(8,6))\n",
        "    threshold_boundary = thresholds.shape[0]\n",
        "    plt.plot(thresholds, precisions[0:threshold_boundary], linestyle='--', label='precision')\n",
        "    plt.plot(thresholds, recalls[0:threshold_boundary],label='recall')\n",
        "    # threshold 값 X 축의 Scale을 0.1 단위로 변경\n",
        "    start, end = plt.xlim()\n",
        "    plt.xticks(np.round(np.arange(start, end, 0.1),2))\n",
        "    # x축, y축 label과 legend, 그리고 grid 설정\n",
        "    plt.xlabel('Threshold value'); plt.ylabel('Precision and Recall value')\n",
        "    plt.legend(); plt.grid()\n",
        "    plt.show()"
      ]
    },
    {
      "cell_type": "code",
      "execution_count": null,
      "metadata": {
        "colab": {
          "base_uri": "https://localhost:8080/",
          "height": 542
        },
        "id": "awZ2qcWm96R6",
        "outputId": "3391492f-0385-4f90-d3e8-49a225d0796d"
      },
      "outputs": [
        {
          "output_type": "display_data",
          "data": {
            "text/plain": [
              "<Figure size 800x600 with 1 Axes>"
            ],
            "image/png": "[encoded data removed]"
          },
          "metadata": {}
        }
      ],
      "source": [
        "precision_recall_curve_plot( y_test, lr_clf.predict_proba(X_test)[:, 1] )"
      ]
    },
    {
      "cell_type": "code",
      "execution_count": null,
      "metadata": {
        "colab": {
          "base_uri": "https://localhost:8080/"
        },
        "id": "q-m_7oKt96R6",
        "outputId": "b63cc824-ac87-41c0-f8df-104018b08cf8"
      },
      "outputs": [
        {
          "output_type": "stream",
          "name": "stdout",
          "text": [
            "오차 행렬\n",
            "[[85283    12]\n",
            " [   22   124]]\n",
            "정확도: 0.9996, 정밀도: 0.9118, 재현율: 0.8493,    F1: 0.8794, AUC:0.9814\n"
          ]
        }
      ],
      "source": [
        "lgbm_clf = LGBMClassifier(n_estimators=1000, num_leaves=64, n_jobs=-1, boost_from_average=False)\n",
        "get_model_train_eval(lgbm_clf, ftr_train=X_train_over, ftr_test=X_test,\n",
        "                  tgt_train=y_train_over, tgt_test=y_test)"
      ]
    }
  ],
  "metadata": {
    "kernelspec": {
      "display_name": "Python 3 (ipykernel)",
      "language": "python",
      "name": "python3"
    },
    "language_info": {
      "codemirror_mode": {
        "name": "ipython",
        "version": 3
      },
      "file_extension": ".py",
      "mimetype": "text/x-python",
      "name": "python",
      "nbconvert_exporter": "python",
      "pygments_lexer": "ipython3",
      "version": "3.9.7"
    },
    "colab": {
      "provenance": []
    }
  },
  "nbformat": 4,
  "nbformat_minor": 0
}