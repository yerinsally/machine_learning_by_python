{
  "cells": [
    {
      "cell_type": "markdown",
      "metadata": {
        "id": "view-in-github",
        "colab_type": "text"
      },
      "source": [
        "<a href=\"https://colab.research.google.com/github/yerinsally/machine_learning_perfect_guide/blob/main/4week_0329.ipynb\" target=\"_parent\"><img src=\"https://colab.research.google.com/assets/colab-badge.svg\" alt=\"Open In Colab\"/></a>"
      ]
    },
    {
      "cell_type": "markdown",
      "source": [
        "## 1번"
      ],
      "metadata": {
        "id": "B4pJ9ETtmO8B"
      }
    },
    {
      "cell_type": "code",
      "source": [
        "from google.colab import drive\n",
        "drive.mount('/content/drive')"
      ],
      "metadata": {
        "colab": {
          "base_uri": "https://localhost:8080/"
        },
        "id": "w310JBS_gNrO",
        "outputId": "8d007064-43ba-46f3-e4c2-cd0e330179c6"
      },
      "execution_count": 1,
      "outputs": [
        {
          "output_type": "stream",
          "name": "stdout",
          "text": [
            "Mounted at /content/drive\n"
          ]
        }
      ]
    },
    {
      "cell_type": "code",
      "execution_count": 2,
      "metadata": {
        "colab": {
          "base_uri": "https://localhost:8080/",
          "height": 198
        },
        "id": "y8mLQirSeSS7",
        "outputId": "359607a1-33de-4fd7-9223-8b69e844aedf"
      },
      "outputs": [
        {
          "output_type": "stream",
          "name": "stdout",
          "text": [
            "0    500\n",
            "1    268\n",
            "Name: Outcome, dtype: int64\n"
          ]
        },
        {
          "output_type": "execute_result",
          "data": {
            "text/plain": [
              "   Pregnancies  Glucose  BloodPressure  SkinThickness  Insulin   BMI  \\\n",
              "0            6      148             72             35        0  33.6   \n",
              "1            1       85             66             29        0  26.6   \n",
              "2            8      183             64              0        0  23.3   \n",
              "\n",
              "   DiabetesPedigreeFunction  Age  Outcome  \n",
              "0                     0.627   50        1  \n",
              "1                     0.351   31        0  \n",
              "2                     0.672   32        1  "
            ],
            "text/html": [
              "\n",
              "  <div id=\"df-b0c08004-4814-4f18-94c8-eeb43796be3e\">\n",
              "    <div class=\"colab-df-container\">\n",
              "      <div>\n",
              "<style scoped>\n",
              "    .dataframe tbody tr th:only-of-type {\n",
              "        vertical-align: middle;\n",
              "    }\n",
              "\n",
              "    .dataframe tbody tr th {\n",
              "        vertical-align: top;\n",
              "    }\n",
              "\n",
              "    .dataframe thead th {\n",
              "        text-align: right;\n",
              "    }\n",
              "</style>\n",
              "<table border=\"1\" class=\"dataframe\">\n",
              "  <thead>\n",
              "    <tr style=\"text-align: right;\">\n",
              "      <th></th>\n",
              "      <th>Pregnancies</th>\n",
              "      <th>Glucose</th>\n",
              "      <th>BloodPressure</th>\n",
              "      <th>SkinThickness</th>\n",
              "      <th>Insulin</th>\n",
              "      <th>BMI</th>\n",
              "      <th>DiabetesPedigreeFunction</th>\n",
              "      <th>Age</th>\n",
              "      <th>Outcome</th>\n",
              "    </tr>\n",
              "  </thead>\n",
              "  <tbody>\n",
              "    <tr>\n",
              "      <th>0</th>\n",
              "      <td>6</td>\n",
              "      <td>148</td>\n",
              "      <td>72</td>\n",
              "      <td>35</td>\n",
              "      <td>0</td>\n",
              "      <td>33.6</td>\n",
              "      <td>0.627</td>\n",
              "      <td>50</td>\n",
              "      <td>1</td>\n",
              "    </tr>\n",
              "    <tr>\n",
              "      <th>1</th>\n",
              "      <td>1</td>\n",
              "      <td>85</td>\n",
              "      <td>66</td>\n",
              "      <td>29</td>\n",
              "      <td>0</td>\n",
              "      <td>26.6</td>\n",
              "      <td>0.351</td>\n",
              "      <td>31</td>\n",
              "      <td>0</td>\n",
              "    </tr>\n",
              "    <tr>\n",
              "      <th>2</th>\n",
              "      <td>8</td>\n",
              "      <td>183</td>\n",
              "      <td>64</td>\n",
              "      <td>0</td>\n",
              "      <td>0</td>\n",
              "      <td>23.3</td>\n",
              "      <td>0.672</td>\n",
              "      <td>32</td>\n",
              "      <td>1</td>\n",
              "    </tr>\n",
              "  </tbody>\n",
              "</table>\n",
              "</div>\n",
              "      <button class=\"colab-df-convert\" onclick=\"convertToInteractive('df-b0c08004-4814-4f18-94c8-eeb43796be3e')\"\n",
              "              title=\"Convert this dataframe to an interactive table.\"\n",
              "              style=\"display:none;\">\n",
              "        \n",
              "  <svg xmlns=\"http://www.w3.org/2000/svg\" height=\"24px\"viewBox=\"0 0 24 24\"\n",
              "       width=\"24px\">\n",
              "    <path d=\"M0 0h24v24H0V0z\" fill=\"none\"/>\n",
              "    <path d=\"M18.56 5.44l.94 2.06.94-2.06 2.06-.94-2.06-.94-.94-2.06-.94 2.06-2.06.94zm-11 1L8.5 8.5l.94-2.06 2.06-.94-2.06-.94L8.5 2.5l-.94 2.06-2.06.94zm10 10l.94 2.06.94-2.06 2.06-.94-2.06-.94-.94-2.06-.94 2.06-2.06.94z\"/><path d=\"M17.41 7.96l-1.37-1.37c-.4-.4-.92-.59-1.43-.59-.52 0-1.04.2-1.43.59L10.3 9.45l-7.72 7.72c-.78.78-.78 2.05 0 2.83L4 21.41c.39.39.9.59 1.41.59.51 0 1.02-.2 1.41-.59l7.78-7.78 2.81-2.81c.8-.78.8-2.07 0-2.86zM5.41 20L4 18.59l7.72-7.72 1.47 1.35L5.41 20z\"/>\n",
              "  </svg>\n",
              "      </button>\n",
              "      \n",
              "  <style>\n",
              "    .colab-df-container {\n",
              "      display:flex;\n",
              "      flex-wrap:wrap;\n",
              "      gap: 12px;\n",
              "    }\n",
              "\n",
              "    .colab-df-convert {\n",
              "      background-color: #E8F0FE;\n",
              "      border: none;\n",
              "      border-radius: 50%;\n",
              "      cursor: pointer;\n",
              "      display: none;\n",
              "      fill: #1967D2;\n",
              "      height: 32px;\n",
              "      padding: 0 0 0 0;\n",
              "      width: 32px;\n",
              "    }\n",
              "\n",
              "    .colab-df-convert:hover {\n",
              "      background-color: #E2EBFA;\n",
              "      box-shadow: 0px 1px 2px rgba(60, 64, 67, 0.3), 0px 1px 3px 1px rgba(60, 64, 67, 0.15);\n",
              "      fill: #174EA6;\n",
              "    }\n",
              "\n",
              "    [theme=dark] .colab-df-convert {\n",
              "      background-color: #3B4455;\n",
              "      fill: #D2E3FC;\n",
              "    }\n",
              "\n",
              "    [theme=dark] .colab-df-convert:hover {\n",
              "      background-color: #434B5C;\n",
              "      box-shadow: 0px 1px 3px 1px rgba(0, 0, 0, 0.15);\n",
              "      filter: drop-shadow(0px 1px 2px rgba(0, 0, 0, 0.3));\n",
              "      fill: #FFFFFF;\n",
              "    }\n",
              "  </style>\n",
              "\n",
              "      <script>\n",
              "        const buttonEl =\n",
              "          document.querySelector('#df-b0c08004-4814-4f18-94c8-eeb43796be3e button.colab-df-convert');\n",
              "        buttonEl.style.display =\n",
              "          google.colab.kernel.accessAllowed ? 'block' : 'none';\n",
              "\n",
              "        async function convertToInteractive(key) {\n",
              "          const element = document.querySelector('#df-b0c08004-4814-4f18-94c8-eeb43796be3e');\n",
              "          const dataTable =\n",
              "            await google.colab.kernel.invokeFunction('convertToInteractive',\n",
              "                                                     [key], {});\n",
              "          if (!dataTable) return;\n",
              "\n",
              "          const docLinkHtml = 'Like what you see? Visit the ' +\n",
              "            '<a target=\"_blank\" href=https://colab.research.google.com/notebooks/data_table.ipynb>data table notebook</a>'\n",
              "            + ' to learn more about interactive tables.';\n",
              "          element.innerHTML = '';\n",
              "          dataTable['output_type'] = 'display_data';\n",
              "          await google.colab.output.renderOutput(dataTable, element);\n",
              "          const docLink = document.createElement('div');\n",
              "          docLink.innerHTML = docLinkHtml;\n",
              "          element.appendChild(docLink);\n",
              "        }\n",
              "      </script>\n",
              "    </div>\n",
              "  </div>\n",
              "  "
            ]
          },
          "metadata": {},
          "execution_count": 2
        }
      ],
      "source": [
        "import numpy as np\n",
        "import pandas as pd\n",
        "import matplotlib.pyplot as plt\n",
        "%matplotlib inline\n",
        "\n",
        "from sklearn.model_selection import train_test_split\n",
        "from sklearn.metrics import accuracy_score, precision_score, recall_score, roc_auc_score\n",
        "from sklearn.metrics import f1_score, confusion_matrix, precision_recall_curve, roc_curve\n",
        "from sklearn.preprocessing import StandardScaler\n",
        "from sklearn.linear_model import LogisticRegression\n",
        "\n",
        "diabetes_data = pd.read_csv('/content/drive/MyDrive/Colab Notebooks/BALL/inflearn/PerfectGuide-master/3장/diabetes.csv')\n",
        "print(diabetes_data['Outcome'].value_counts())\n",
        "diabetes_data.head(3)"
      ]
    },
    {
      "cell_type": "markdown",
      "metadata": {
        "id": "DbgKLKo4eSS9"
      },
      "source": [
        "* Pregnancies: 임신 횟수\n",
        "* Glucose: 포도당 부하 검사 수치\n",
        "* BloodPressure: 혈압(mm Hg)\n",
        "* SkinThickness: 팔 삼두근 뒤쪽의 피하지방 측정값(mm)\n",
        "* Insulin: 혈청 인슐린(mu U/ml)\n",
        "* BMI: 체질량지수(체중(kg)/(키(m))^2)\n",
        "* DiabetesPedigreeFunction: 당뇨 내력 가중치 값\n",
        "* Age: 나이\n",
        "* Outcome: 클래스 결정 값(0또는 1)"
      ]
    },
    {
      "cell_type": "code",
      "execution_count": 3,
      "metadata": {
        "colab": {
          "base_uri": "https://localhost:8080/"
        },
        "id": "LIWm5XI8eSS_",
        "outputId": "ff956001-57a4-4a89-fec7-ce6c2bba146d"
      },
      "outputs": [
        {
          "output_type": "stream",
          "name": "stdout",
          "text": [
            "<class 'pandas.core.frame.DataFrame'>\n",
            "RangeIndex: 768 entries, 0 to 767\n",
            "Data columns (total 9 columns):\n",
            " #   Column                    Non-Null Count  Dtype  \n",
            "---  ------                    --------------  -----  \n",
            " 0   Pregnancies               768 non-null    int64  \n",
            " 1   Glucose                   768 non-null    int64  \n",
            " 2   BloodPressure             768 non-null    int64  \n",
            " 3   SkinThickness             768 non-null    int64  \n",
            " 4   Insulin                   768 non-null    int64  \n",
            " 5   BMI                       768 non-null    float64\n",
            " 6   DiabetesPedigreeFunction  768 non-null    float64\n",
            " 7   Age                       768 non-null    int64  \n",
            " 8   Outcome                   768 non-null    int64  \n",
            "dtypes: float64(2), int64(7)\n",
            "memory usage: 54.1 KB\n"
          ]
        }
      ],
      "source": [
        "diabetes_data.info( )"
      ]
    },
    {
      "cell_type": "markdown",
      "metadata": {
        "id": "gHfcHyx4eSS_"
      },
      "source": [
        "**앞 예제에서 사용된 get_clf_eval()과 precision_recall_curve_plot() 재 로딩**"
      ]
    },
    {
      "cell_type": "code",
      "execution_count": 7,
      "metadata": {
        "id": "USRBo_0deSS_"
      },
      "outputs": [],
      "source": [
        "# 수정된 get_clf_eval() 함수 \n",
        "def get_clf_eval(y_test, pred=None, pred_proba=None):\n",
        "    confusion = confusion_matrix(y_test, pred)\n",
        "    accuracy = accuracy_score(y_test, pred)\n",
        "    precision = precision_score(y_test, pred)\n",
        "    recall = recall_score(y_test, pred)\n",
        "    f1 = f1_score(y_test,pred)\n",
        "\n",
        "    # ROC-AUC 추가 \n",
        "    roc_auc = roc_auc_score(y_test, pred_proba)\n",
        "    print('오차 행렬')\n",
        "    print(confusion)\n",
        "\n",
        "    # ROC-AUC print 추가\n",
        "    print('정확도: {0:.4f}, 정밀도: {1:.4f}, 재현율: {2:.4f}, F1: {3:.4f}, AUC:{4:.4f}'.format(accuracy, precision, recall, f1, roc_auc))"
      ]
    },
    {
      "cell_type": "code",
      "execution_count": 6,
      "metadata": {
        "id": "0vXfOQ-LeSTA"
      },
      "outputs": [],
      "source": [
        "def precision_recall_curve_plot(y_test=None, pred_proba_c1=None):\n",
        "    # threshold ndarray와 이 threshold에 따른 정밀도, 재현율 ndarray 추출. \n",
        "    precisions, recalls, thresholds = precision_recall_curve( y_test, pred_proba_c1)\n",
        "    \n",
        "    # X축을 threshold값으로, Y축은 정밀도, 재현율 값으로 각각 Plot 수행. 정밀도는 점선으로 표시\n",
        "    plt.figure(figsize=(8,6))\n",
        "    threshold_boundary = thresholds.shape[0]\n",
        "    plt.plot(thresholds, precisions[0:threshold_boundary], linestyle='--', label='precision')\n",
        "    plt.plot(thresholds, recalls[0:threshold_boundary],label='recall')\n",
        "    \n",
        "    # threshold 값 X 축의 Scale을 0.1 단위로 변경\n",
        "    start, end = plt.xlim()\n",
        "    plt.xticks(np.round(np.arange(start, end, 0.1),2))\n",
        "    \n",
        "    # x축, y축 label과 legend, 그리고 grid 설정\n",
        "    plt.xlabel('Threshold value'); plt.ylabel('Precision and Recall value')\n",
        "    plt.legend(); plt.grid()\n",
        "    plt.show()"
      ]
    },
    {
      "cell_type": "markdown",
      "metadata": {
        "id": "DtdxWx2KeSTA"
      },
      "source": [
        "**Logistic Regression으로 학습 및 예측 수행**"
      ]
    },
    {
      "cell_type": "code",
      "execution_count": 8,
      "metadata": {
        "colab": {
          "base_uri": "https://localhost:8080/"
        },
        "id": "rc1yUwbkeSTB",
        "outputId": "ed4a6955-d24c-4cd6-c476-030418b70e5e"
      },
      "outputs": [
        {
          "output_type": "stream",
          "name": "stdout",
          "text": [
            "오차 행렬\n",
            "[[87 13]\n",
            " [22 32]]\n",
            "정확도: 0.7727, 정밀도: 0.7111, 재현율: 0.5926, F1: 0.6465, AUC:0.8083\n"
          ]
        }
      ],
      "source": [
        "# 피처 데이터 세트 X, 레이블 데이터 세트 y를 추출. \n",
        "# 맨 끝이 Outcome 컬럼으로 레이블 값임. 컬럼 위치 -1을 이용해 추출 \n",
        "X = diabetes_data.iloc[:, :-1]\n",
        "y = diabetes_data.iloc[:, -1]\n",
        "\n",
        "X_train, X_test, y_train, y_test = train_test_split(X, y, test_size=0.2, random_state=156, stratify=y)\n",
        "\n",
        "# 로지스틱 회귀로 학습,예측 및 평가 수행. \n",
        "lr_clf = LogisticRegression(solver='liblinear')\n",
        "lr_clf.fit(X_train, y_train)\n",
        "pred = lr_clf.predict(X_test)\n",
        "pred_proba = lr_clf.predict_proba(X_test)[:, 1]\n",
        "\n",
        "get_clf_eval(y_test ,pred, pred_proba)"
      ]
    },
    {
      "cell_type": "markdown",
      "metadata": {
        "id": "wkZ5WVnheSTB"
      },
      "source": [
        "**precision recall 곡선 그림**"
      ]
    },
    {
      "cell_type": "code",
      "execution_count": 9,
      "metadata": {
        "colab": {
          "base_uri": "https://localhost:8080/",
          "height": 542
        },
        "id": "Tg81_oFDeSTB",
        "outputId": "e9671cac-170e-4dc0-cb2e-a8fca8fd0f75"
      },
      "outputs": [
        {
          "output_type": "display_data",
          "data": {
            "text/plain": [
              "<Figure size 800x600 with 1 Axes>"
            ],
            "image/png": "[encoded data removed]"
          },
          "metadata": {}
        }
      ],
      "source": [
        "pred_proba_c1 = lr_clf.predict_proba(X_test)[:, 1]\n",
        "precision_recall_curve_plot(y_test, pred_proba_c1)"
      ]
    },
    {
      "cell_type": "markdown",
      "source": [
        "### 전처리 후 모델 학습"
      ],
      "metadata": {
        "id": "GBcJOVbthG1Y"
      }
    },
    {
      "cell_type": "markdown",
      "metadata": {
        "id": "SFbKx44FeSTB"
      },
      "source": [
        "**각 피처들의 값 4분위 분포 확인**"
      ]
    },
    {
      "cell_type": "code",
      "execution_count": 10,
      "metadata": {
        "colab": {
          "base_uri": "https://localhost:8080/",
          "height": 300
        },
        "id": "I58FV_IueSTC",
        "outputId": "2ca0904a-57ef-4c16-a757-92cc65da93d4"
      },
      "outputs": [
        {
          "output_type": "execute_result",
          "data": {
            "text/plain": [
              "       Pregnancies     Glucose  BloodPressure  SkinThickness     Insulin  \\\n",
              "count   768.000000  768.000000     768.000000     768.000000  768.000000   \n",
              "mean      3.845052  120.894531      69.105469      20.536458   79.799479   \n",
              "std       3.369578   31.972618      19.355807      15.952218  115.244002   \n",
              "min       0.000000    0.000000       0.000000       0.000000    0.000000   \n",
              "25%       1.000000   99.000000      62.000000       0.000000    0.000000   \n",
              "50%       3.000000  117.000000      72.000000      23.000000   30.500000   \n",
              "75%       6.000000  140.250000      80.000000      32.000000  127.250000   \n",
              "max      17.000000  199.000000     122.000000      99.000000  846.000000   \n",
              "\n",
              "              BMI  DiabetesPedigreeFunction         Age     Outcome  \n",
              "count  768.000000                768.000000  768.000000  768.000000  \n",
              "mean    31.992578                  0.471876   33.240885    0.348958  \n",
              "std      7.884160                  0.331329   11.760232    0.476951  \n",
              "min      0.000000                  0.078000   21.000000    0.000000  \n",
              "25%     27.300000                  0.243750   24.000000    0.000000  \n",
              "50%     32.000000                  0.372500   29.000000    0.000000  \n",
              "75%     36.600000                  0.626250   41.000000    1.000000  \n",
              "max     67.100000                  2.420000   81.000000    1.000000  "
            ],
            "text/html": [
              "\n",
              "  <div id=\"df-114df160-733a-460d-a73b-32eb1e736b52\">\n",
              "    <div class=\"colab-df-container\">\n",
              "      <div>\n",
              "<style scoped>\n",
              "    .dataframe tbody tr th:only-of-type {\n",
              "        vertical-align: middle;\n",
              "    }\n",
              "\n",
              "    .dataframe tbody tr th {\n",
              "        vertical-align: top;\n",
              "    }\n",
              "\n",
              "    .dataframe thead th {\n",
              "        text-align: right;\n",
              "    }\n",
              "</style>\n",
              "<table border=\"1\" class=\"dataframe\">\n",
              "  <thead>\n",
              "    <tr style=\"text-align: right;\">\n",
              "      <th></th>\n",
              "      <th>Pregnancies</th>\n",
              "      <th>Glucose</th>\n",
              "      <th>BloodPressure</th>\n",
              "      <th>SkinThickness</th>\n",
              "      <th>Insulin</th>\n",
              "      <th>BMI</th>\n",
              "      <th>DiabetesPedigreeFunction</th>\n",
              "      <th>Age</th>\n",
              "      <th>Outcome</th>\n",
              "    </tr>\n",
              "  </thead>\n",
              "  <tbody>\n",
              "    <tr>\n",
              "      <th>count</th>\n",
              "      <td>768.000000</td>\n",
              "      <td>768.000000</td>\n",
              "      <td>768.000000</td>\n",
              "      <td>768.000000</td>\n",
              "      <td>768.000000</td>\n",
              "      <td>768.000000</td>\n",
              "      <td>768.000000</td>\n",
              "      <td>768.000000</td>\n",
              "      <td>768.000000</td>\n",
              "    </tr>\n",
              "    <tr>\n",
              "      <th>mean</th>\n",
              "      <td>3.845052</td>\n",
              "      <td>120.894531</td>\n",
              "      <td>69.105469</td>\n",
              "      <td>20.536458</td>\n",
              "      <td>79.799479</td>\n",
              "      <td>31.992578</td>\n",
              "      <td>0.471876</td>\n",
              "      <td>33.240885</td>\n",
              "      <td>0.348958</td>\n",
              "    </tr>\n",
              "    <tr>\n",
              "      <th>std</th>\n",
              "      <td>3.369578</td>\n",
              "      <td>31.972618</td>\n",
              "      <td>19.355807</td>\n",
              "      <td>15.952218</td>\n",
              "      <td>115.244002</td>\n",
              "      <td>7.884160</td>\n",
              "      <td>0.331329</td>\n",
              "      <td>11.760232</td>\n",
              "      <td>0.476951</td>\n",
              "    </tr>\n",
              "    <tr>\n",
              "      <th>min</th>\n",
              "      <td>0.000000</td>\n",
              "      <td>0.000000</td>\n",
              "      <td>0.000000</td>\n",
              "      <td>0.000000</td>\n",
              "      <td>0.000000</td>\n",
              "      <td>0.000000</td>\n",
              "      <td>0.078000</td>\n",
              "      <td>21.000000</td>\n",
              "      <td>0.000000</td>\n",
              "    </tr>\n",
              "    <tr>\n",
              "      <th>25%</th>\n",
              "      <td>1.000000</td>\n",
              "      <td>99.000000</td>\n",
              "      <td>62.000000</td>\n",
              "      <td>0.000000</td>\n",
              "      <td>0.000000</td>\n",
              "      <td>27.300000</td>\n",
              "      <td>0.243750</td>\n",
              "      <td>24.000000</td>\n",
              "      <td>0.000000</td>\n",
              "    </tr>\n",
              "    <tr>\n",
              "      <th>50%</th>\n",
              "      <td>3.000000</td>\n",
              "      <td>117.000000</td>\n",
              "      <td>72.000000</td>\n",
              "      <td>23.000000</td>\n",
              "      <td>30.500000</td>\n",
              "      <td>32.000000</td>\n",
              "      <td>0.372500</td>\n",
              "      <td>29.000000</td>\n",
              "      <td>0.000000</td>\n",
              "    </tr>\n",
              "    <tr>\n",
              "      <th>75%</th>\n",
              "      <td>6.000000</td>\n",
              "      <td>140.250000</td>\n",
              "      <td>80.000000</td>\n",
              "      <td>32.000000</td>\n",
              "      <td>127.250000</td>\n",
              "      <td>36.600000</td>\n",
              "      <td>0.626250</td>\n",
              "      <td>41.000000</td>\n",
              "      <td>1.000000</td>\n",
              "    </tr>\n",
              "    <tr>\n",
              "      <th>max</th>\n",
              "      <td>17.000000</td>\n",
              "      <td>199.000000</td>\n",
              "      <td>122.000000</td>\n",
              "      <td>99.000000</td>\n",
              "      <td>846.000000</td>\n",
              "      <td>67.100000</td>\n",
              "      <td>2.420000</td>\n",
              "      <td>81.000000</td>\n",
              "      <td>1.000000</td>\n",
              "    </tr>\n",
              "  </tbody>\n",
              "</table>\n",
              "</div>\n",
              "      <button class=\"colab-df-convert\" onclick=\"convertToInteractive('df-114df160-733a-460d-a73b-32eb1e736b52')\"\n",
              "              title=\"Convert this dataframe to an interactive table.\"\n",
              "              style=\"display:none;\">\n",
              "        \n",
              "  <svg xmlns=\"http://www.w3.org/2000/svg\" height=\"24px\"viewBox=\"0 0 24 24\"\n",
              "       width=\"24px\">\n",
              "    <path d=\"M0 0h24v24H0V0z\" fill=\"none\"/>\n",
              "    <path d=\"M18.56 5.44l.94 2.06.94-2.06 2.06-.94-2.06-.94-.94-2.06-.94 2.06-2.06.94zm-11 1L8.5 8.5l.94-2.06 2.06-.94-2.06-.94L8.5 2.5l-.94 2.06-2.06.94zm10 10l.94 2.06.94-2.06 2.06-.94-2.06-.94-.94-2.06-.94 2.06-2.06.94z\"/><path d=\"M17.41 7.96l-1.37-1.37c-.4-.4-.92-.59-1.43-.59-.52 0-1.04.2-1.43.59L10.3 9.45l-7.72 7.72c-.78.78-.78 2.05 0 2.83L4 21.41c.39.39.9.59 1.41.59.51 0 1.02-.2 1.41-.59l7.78-7.78 2.81-2.81c.8-.78.8-2.07 0-2.86zM5.41 20L4 18.59l7.72-7.72 1.47 1.35L5.41 20z\"/>\n",
              "  </svg>\n",
              "      </button>\n",
              "      \n",
              "  <style>\n",
              "    .colab-df-container {\n",
              "      display:flex;\n",
              "      flex-wrap:wrap;\n",
              "      gap: 12px;\n",
              "    }\n",
              "\n",
              "    .colab-df-convert {\n",
              "      background-color: #E8F0FE;\n",
              "      border: none;\n",
              "      border-radius: 50%;\n",
              "      cursor: pointer;\n",
              "      display: none;\n",
              "      fill: #1967D2;\n",
              "      height: 32px;\n",
              "      padding: 0 0 0 0;\n",
              "      width: 32px;\n",
              "    }\n",
              "\n",
              "    .colab-df-convert:hover {\n",
              "      background-color: #E2EBFA;\n",
              "      box-shadow: 0px 1px 2px rgba(60, 64, 67, 0.3), 0px 1px 3px 1px rgba(60, 64, 67, 0.15);\n",
              "      fill: #174EA6;\n",
              "    }\n",
              "\n",
              "    [theme=dark] .colab-df-convert {\n",
              "      background-color: #3B4455;\n",
              "      fill: #D2E3FC;\n",
              "    }\n",
              "\n",
              "    [theme=dark] .colab-df-convert:hover {\n",
              "      background-color: #434B5C;\n",
              "      box-shadow: 0px 1px 3px 1px rgba(0, 0, 0, 0.15);\n",
              "      filter: drop-shadow(0px 1px 2px rgba(0, 0, 0, 0.3));\n",
              "      fill: #FFFFFF;\n",
              "    }\n",
              "  </style>\n",
              "\n",
              "      <script>\n",
              "        const buttonEl =\n",
              "          document.querySelector('#df-114df160-733a-460d-a73b-32eb1e736b52 button.colab-df-convert');\n",
              "        buttonEl.style.display =\n",
              "          google.colab.kernel.accessAllowed ? 'block' : 'none';\n",
              "\n",
              "        async function convertToInteractive(key) {\n",
              "          const element = document.querySelector('#df-114df160-733a-460d-a73b-32eb1e736b52');\n",
              "          const dataTable =\n",
              "            await google.colab.kernel.invokeFunction('convertToInteractive',\n",
              "                                                     [key], {});\n",
              "          if (!dataTable) return;\n",
              "\n",
              "          const docLinkHtml = 'Like what you see? Visit the ' +\n",
              "            '<a target=\"_blank\" href=https://colab.research.google.com/notebooks/data_table.ipynb>data table notebook</a>'\n",
              "            + ' to learn more about interactive tables.';\n",
              "          element.innerHTML = '';\n",
              "          dataTable['output_type'] = 'display_data';\n",
              "          await google.colab.output.renderOutput(dataTable, element);\n",
              "          const docLink = document.createElement('div');\n",
              "          docLink.innerHTML = docLinkHtml;\n",
              "          element.appendChild(docLink);\n",
              "        }\n",
              "      </script>\n",
              "    </div>\n",
              "  </div>\n",
              "  "
            ]
          },
          "metadata": {},
          "execution_count": 10
        }
      ],
      "source": [
        "diabetes_data.describe()"
      ]
    },
    {
      "cell_type": "markdown",
      "metadata": {
        "id": "9e51h2FOeSTC"
      },
      "source": [
        "**Glucose 피처의 분포도**"
      ]
    },
    {
      "cell_type": "code",
      "execution_count": 11,
      "metadata": {
        "colab": {
          "base_uri": "https://localhost:8080/",
          "height": 430
        },
        "id": "9HGQYSRFeSTC",
        "outputId": "40084e48-b723-485f-87cb-3938d657fd9e"
      },
      "outputs": [
        {
          "output_type": "display_data",
          "data": {
            "text/plain": [
              "<Figure size 640x480 with 1 Axes>"
            ],
            "image/png": "[encoded data removed]"
          },
          "metadata": {}
        }
      ],
      "source": [
        "plt.hist(diabetes_data['Glucose'], bins=100)\n",
        "plt.show()"
      ]
    },
    {
      "cell_type": "markdown",
      "metadata": {
        "id": "n7HNoBJneSTC"
      },
      "source": [
        "**0값이 있는 피처들에서 0값의 데이터 건수와 퍼센트 계산**"
      ]
    },
    {
      "cell_type": "code",
      "execution_count": 12,
      "metadata": {
        "colab": {
          "base_uri": "https://localhost:8080/"
        },
        "id": "BagAL2yCeSTC",
        "outputId": "2e7d38b3-db68-4215-cfdb-9066a2799a9c"
      },
      "outputs": [
        {
          "output_type": "stream",
          "name": "stdout",
          "text": [
            "Glucose 0 건수는 5, 퍼센트는 0.65 %\n",
            "BloodPressure 0 건수는 35, 퍼센트는 4.56 %\n",
            "SkinThickness 0 건수는 227, 퍼센트는 29.56 %\n",
            "Insulin 0 건수는 374, 퍼센트는 48.70 %\n",
            "BMI 0 건수는 11, 퍼센트는 1.43 %\n"
          ]
        }
      ],
      "source": [
        "# 0값을 검사할 피처명 리스트 객체 설정\n",
        "zero_features = ['Glucose', 'BloodPressure','SkinThickness','Insulin','BMI']\n",
        "\n",
        "# 전체 데이터 건수\n",
        "total_count = diabetes_data['Glucose'].count()\n",
        "\n",
        "# 피처별로 반복 하면서 데이터 값이 0 인 데이터 건수 추출하고, 퍼센트 계산\n",
        "for feature in zero_features:\n",
        "    zero_count = diabetes_data[diabetes_data[feature] == 0][feature].count()\n",
        "    print('{0} 0 건수는 {1}, 퍼센트는 {2:.2f} %'.format(feature, zero_count, 100*zero_count/total_count))"
      ]
    },
    {
      "cell_type": "markdown",
      "metadata": {
        "id": "bOTSJ-EceSTC"
      },
      "source": [
        "**0값을 평균값으로 대체**"
      ]
    },
    {
      "cell_type": "code",
      "execution_count": 13,
      "metadata": {
        "id": "TkINBvDoeSTD"
      },
      "outputs": [],
      "source": [
        "# zero_features 리스트 내부에 저장된 개별 피처들에 대해서 0값을 평균 값으로 대체\n",
        "diabetes_data[zero_features] = diabetes_data[zero_features].replace(0, diabetes_data[zero_features].mean())"
      ]
    },
    {
      "cell_type": "markdown",
      "metadata": {
        "id": "iCQUScgHeSTD"
      },
      "source": [
        "**StandardScaler 클래스를 이용해 피처 데이터 세트에 일괄적으로 스케일링 적용하고 0값을 평균값으로 대체한 데이터 세트로 학습/예측**"
      ]
    },
    {
      "cell_type": "code",
      "execution_count": 14,
      "metadata": {
        "scrolled": true,
        "colab": {
          "base_uri": "https://localhost:8080/"
        },
        "id": "T20M1KPFeSTD",
        "outputId": "16b2197c-0ac5-43b7-a148-fdadd3b875ca"
      },
      "outputs": [
        {
          "output_type": "stream",
          "name": "stdout",
          "text": [
            "오차 행렬\n",
            "[[90 10]\n",
            " [21 33]]\n",
            "정확도: 0.7987, 정밀도: 0.7674, 재현율: 0.6111, F1: 0.6804, AUC:0.8433\n"
          ]
        }
      ],
      "source": [
        "X = diabetes_data.iloc[:, :-1]\n",
        "y = diabetes_data.iloc[:, -1]\n",
        "\n",
        "# StandardScaler 클래스를 이용해 피처 데이터 세트에 일괄적으로 스케일링 적용\n",
        "scaler = StandardScaler( )\n",
        "X_scaled = scaler.fit_transform(X)\n",
        "\n",
        "X_train, X_test, y_train, y_test = train_test_split(X_scaled, y, test_size = 0.2, random_state = 156, stratify=y)\n",
        "\n",
        "# 로지스틱 회귀로 학습, 예측 및 평가 수행. \n",
        "lr_clf = LogisticRegression(solver='liblinear')\n",
        "lr_clf.fit(X_train , y_train)\n",
        "pred = lr_clf.predict(X_test)\n",
        "pred_proba = lr_clf.predict_proba(X_test)[:, 1]\n",
        "\n",
        "get_clf_eval(y_test , pred, pred_proba)"
      ]
    },
    {
      "cell_type": "markdown",
      "metadata": {
        "id": "rx073YdpeSTD"
      },
      "source": [
        "**분류결정 임곗값을 변경하면서 성능 측정**"
      ]
    },
    {
      "cell_type": "code",
      "execution_count": 15,
      "metadata": {
        "id": "poqPwdLEeSTD"
      },
      "outputs": [],
      "source": [
        "from sklearn.preprocessing import Binarizer\n",
        "\n",
        "def get_eval_by_threshold(y_test , pred_proba_c1, thresholds):\n",
        "    # thresholds 리스트 객체내의 값을 차례로 iteration하면서 Evaluation 수행.\n",
        "    for custom_threshold in thresholds:\n",
        "        binarizer = Binarizer(threshold=custom_threshold).fit(pred_proba_c1) \n",
        "        custom_predict = binarizer.transform(pred_proba_c1)\n",
        "        print('임곗값:',custom_threshold)\n",
        "        get_clf_eval(y_test , custom_predict, pred_proba_c1)"
      ]
    },
    {
      "cell_type": "code",
      "execution_count": 16,
      "metadata": {
        "colab": {
          "base_uri": "https://localhost:8080/"
        },
        "id": "hrnPFnz2eSTD",
        "outputId": "27833cb8-abe5-4a9f-a0bf-f2b496ba6dc1"
      },
      "outputs": [
        {
          "output_type": "stream",
          "name": "stdout",
          "text": [
            "임곗값: 0.3\n",
            "오차 행렬\n",
            "[[65 35]\n",
            " [11 43]]\n",
            "정확도: 0.7013, 정밀도: 0.5513, 재현율: 0.7963, F1: 0.6515, AUC:0.8433\n",
            "임곗값: 0.33\n",
            "오차 행렬\n",
            "[[71 29]\n",
            " [11 43]]\n",
            "정확도: 0.7403, 정밀도: 0.5972, 재현율: 0.7963, F1: 0.6825, AUC:0.8433\n",
            "임곗값: 0.36\n",
            "오차 행렬\n",
            "[[76 24]\n",
            " [15 39]]\n",
            "정확도: 0.7468, 정밀도: 0.6190, 재현율: 0.7222, F1: 0.6667, AUC:0.8433\n",
            "임곗값: 0.39\n",
            "오차 행렬\n",
            "[[78 22]\n",
            " [16 38]]\n",
            "정확도: 0.7532, 정밀도: 0.6333, 재현율: 0.7037, F1: 0.6667, AUC:0.8433\n",
            "임곗값: 0.42\n",
            "오차 행렬\n",
            "[[84 16]\n",
            " [18 36]]\n",
            "정확도: 0.7792, 정밀도: 0.6923, 재현율: 0.6667, F1: 0.6792, AUC:0.8433\n",
            "임곗값: 0.45\n",
            "오차 행렬\n",
            "[[85 15]\n",
            " [18 36]]\n",
            "정확도: 0.7857, 정밀도: 0.7059, 재현율: 0.6667, F1: 0.6857, AUC:0.8433\n",
            "임곗값: 0.48\n",
            "오차 행렬\n",
            "[[88 12]\n",
            " [19 35]]\n",
            "정확도: 0.7987, 정밀도: 0.7447, 재현율: 0.6481, F1: 0.6931, AUC:0.8433\n",
            "임곗값: 0.5\n",
            "오차 행렬\n",
            "[[90 10]\n",
            " [21 33]]\n",
            "정확도: 0.7987, 정밀도: 0.7674, 재현율: 0.6111, F1: 0.6804, AUC:0.8433\n"
          ]
        }
      ],
      "source": [
        "thresholds = [0.3 , 0.33 ,0.36,0.39, 0.42 , 0.45 ,0.48, 0.50]\n",
        "pred_proba = lr_clf.predict_proba(X_test)\n",
        "get_eval_by_threshold(y_test, pred_proba[:,1].reshape(-1,1), thresholds )"
      ]
    },
    {
      "cell_type": "markdown",
      "source": [
        "임곗값 0.48일때 성능이 가장 좋음"
      ],
      "metadata": {
        "id": "K8YwcqiShhaO"
      }
    },
    {
      "cell_type": "code",
      "execution_count": 17,
      "metadata": {
        "colab": {
          "base_uri": "https://localhost:8080/"
        },
        "id": "0tMn1OUPeSTE",
        "outputId": "eb4e4edf-9114-49ad-8610-ec27db6413fa"
      },
      "outputs": [
        {
          "output_type": "stream",
          "name": "stdout",
          "text": [
            "오차 행렬\n",
            "[[88 12]\n",
            " [19 35]]\n",
            "정확도: 0.7987, 정밀도: 0.7447, 재현율: 0.6481, F1: 0.6931, AUC:0.8433\n"
          ]
        }
      ],
      "source": [
        "# 임곗값를 0.48로 설정한 Binarizer 생성\n",
        "binarizer = Binarizer(threshold=0.48)\n",
        "\n",
        "# 위에서 구한 lr_clf의 predict_proba() 예측 확률 array에서 1에 해당하는 컬럼값을 Binarizer변환. \n",
        "pred_th_048 = binarizer.fit_transform(pred_proba[:, 1].reshape(-1,1)) \n",
        "\n",
        "get_clf_eval(y_test , pred_th_048, pred_proba[:, 1])"
      ]
    },
    {
      "cell_type": "markdown",
      "source": [
        "## 2번"
      ],
      "metadata": {
        "id": "atHKLIy0mRhy"
      }
    },
    {
      "cell_type": "markdown",
      "source": [
        "**레드, 화이트 와인 데이터셋으로 분류 실습**"
      ],
      "metadata": {
        "id": "wLaqNnJlmUAg"
      }
    },
    {
      "cell_type": "code",
      "source": [
        "red = pd.read_csv('/content/drive/MyDrive/Colab Notebooks/BALL/data/winequality-red.csv', sep = \";\")\n",
        "white = pd.read_csv('/content/drive/MyDrive/Colab Notebooks/BALL/data/winequality-white.csv', sep = \";\")\n",
        "print(red.shape)\n",
        "print(white.shape)"
      ],
      "metadata": {
        "colab": {
          "base_uri": "https://localhost:8080/"
        },
        "id": "juF3-Dg5mSqZ",
        "outputId": "27b1639a-a2dd-440e-f689-0b40259d2421"
      },
      "execution_count": 18,
      "outputs": [
        {
          "output_type": "stream",
          "name": "stdout",
          "text": [
            "(1599, 12)\n",
            "(4898, 12)\n"
          ]
        }
      ]
    },
    {
      "cell_type": "code",
      "source": [
        "white.head()"
      ],
      "metadata": {
        "colab": {
          "base_uri": "https://localhost:8080/",
          "height": 206
        },
        "id": "rbcdGHTgmzw9",
        "outputId": "a9c7a5fd-3fb1-4fa7-ab0d-9226c2205d56"
      },
      "execution_count": 21,
      "outputs": [
        {
          "output_type": "execute_result",
          "data": {
            "text/plain": [
              "   fixed acidity  volatile acidity  citric acid  residual sugar  chlorides  \\\n",
              "0            7.0              0.27         0.36            20.7      0.045   \n",
              "1            6.3              0.30         0.34             1.6      0.049   \n",
              "2            8.1              0.28         0.40             6.9      0.050   \n",
              "3            7.2              0.23         0.32             8.5      0.058   \n",
              "4            7.2              0.23         0.32             8.5      0.058   \n",
              "\n",
              "   free sulfur dioxide  total sulfur dioxide  density    pH  sulphates  \\\n",
              "0                 45.0                 170.0   1.0010  3.00       0.45   \n",
              "1                 14.0                 132.0   0.9940  3.30       0.49   \n",
              "2                 30.0                  97.0   0.9951  3.26       0.44   \n",
              "3                 47.0                 186.0   0.9956  3.19       0.40   \n",
              "4                 47.0                 186.0   0.9956  3.19       0.40   \n",
              "\n",
              "   alcohol  quality  \n",
              "0      8.8        6  \n",
              "1      9.5        6  \n",
              "2     10.1        6  \n",
              "3      9.9        6  \n",
              "4      9.9        6  "
            ],
            "text/html": [
              "\n",
              "  <div id=\"df-cec931b0-58e3-4a5a-a590-9ad3359d4ab3\">\n",
              "    <div class=\"colab-df-container\">\n",
              "      <div>\n",
              "<style scoped>\n",
              "    .dataframe tbody tr th:only-of-type {\n",
              "        vertical-align: middle;\n",
              "    }\n",
              "\n",
              "    .dataframe tbody tr th {\n",
              "        vertical-align: top;\n",
              "    }\n",
              "\n",
              "    .dataframe thead th {\n",
              "        text-align: right;\n",
              "    }\n",
              "</style>\n",
              "<table border=\"1\" class=\"dataframe\">\n",
              "  <thead>\n",
              "    <tr style=\"text-align: right;\">\n",
              "      <th></th>\n",
              "      <th>fixed acidity</th>\n",
              "      <th>volatile acidity</th>\n",
              "      <th>citric acid</th>\n",
              "      <th>residual sugar</th>\n",
              "      <th>chlorides</th>\n",
              "      <th>free sulfur dioxide</th>\n",
              "      <th>total sulfur dioxide</th>\n",
              "      <th>density</th>\n",
              "      <th>pH</th>\n",
              "      <th>sulphates</th>\n",
              "      <th>alcohol</th>\n",
              "      <th>quality</th>\n",
              "    </tr>\n",
              "  </thead>\n",
              "  <tbody>\n",
              "    <tr>\n",
              "      <th>0</th>\n",
              "      <td>7.0</td>\n",
              "      <td>0.27</td>\n",
              "      <td>0.36</td>\n",
              "      <td>20.7</td>\n",
              "      <td>0.045</td>\n",
              "      <td>45.0</td>\n",
              "      <td>170.0</td>\n",
              "      <td>1.0010</td>\n",
              "      <td>3.00</td>\n",
              "      <td>0.45</td>\n",
              "      <td>8.8</td>\n",
              "      <td>6</td>\n",
              "    </tr>\n",
              "    <tr>\n",
              "      <th>1</th>\n",
              "      <td>6.3</td>\n",
              "      <td>0.30</td>\n",
              "      <td>0.34</td>\n",
              "      <td>1.6</td>\n",
              "      <td>0.049</td>\n",
              "      <td>14.0</td>\n",
              "      <td>132.0</td>\n",
              "      <td>0.9940</td>\n",
              "      <td>3.30</td>\n",
              "      <td>0.49</td>\n",
              "      <td>9.5</td>\n",
              "      <td>6</td>\n",
              "    </tr>\n",
              "    <tr>\n",
              "      <th>2</th>\n",
              "      <td>8.1</td>\n",
              "      <td>0.28</td>\n",
              "      <td>0.40</td>\n",
              "      <td>6.9</td>\n",
              "      <td>0.050</td>\n",
              "      <td>30.0</td>\n",
              "      <td>97.0</td>\n",
              "      <td>0.9951</td>\n",
              "      <td>3.26</td>\n",
              "      <td>0.44</td>\n",
              "      <td>10.1</td>\n",
              "      <td>6</td>\n",
              "    </tr>\n",
              "    <tr>\n",
              "      <th>3</th>\n",
              "      <td>7.2</td>\n",
              "      <td>0.23</td>\n",
              "      <td>0.32</td>\n",
              "      <td>8.5</td>\n",
              "      <td>0.058</td>\n",
              "      <td>47.0</td>\n",
              "      <td>186.0</td>\n",
              "      <td>0.9956</td>\n",
              "      <td>3.19</td>\n",
              "      <td>0.40</td>\n",
              "      <td>9.9</td>\n",
              "      <td>6</td>\n",
              "    </tr>\n",
              "    <tr>\n",
              "      <th>4</th>\n",
              "      <td>7.2</td>\n",
              "      <td>0.23</td>\n",
              "      <td>0.32</td>\n",
              "      <td>8.5</td>\n",
              "      <td>0.058</td>\n",
              "      <td>47.0</td>\n",
              "      <td>186.0</td>\n",
              "      <td>0.9956</td>\n",
              "      <td>3.19</td>\n",
              "      <td>0.40</td>\n",
              "      <td>9.9</td>\n",
              "      <td>6</td>\n",
              "    </tr>\n",
              "  </tbody>\n",
              "</table>\n",
              "</div>\n",
              "      <button class=\"colab-df-convert\" onclick=\"convertToInteractive('df-cec931b0-58e3-4a5a-a590-9ad3359d4ab3')\"\n",
              "              title=\"Convert this dataframe to an interactive table.\"\n",
              "              style=\"display:none;\">\n",
              "        \n",
              "  <svg xmlns=\"http://www.w3.org/2000/svg\" height=\"24px\"viewBox=\"0 0 24 24\"\n",
              "       width=\"24px\">\n",
              "    <path d=\"M0 0h24v24H0V0z\" fill=\"none\"/>\n",
              "    <path d=\"M18.56 5.44l.94 2.06.94-2.06 2.06-.94-2.06-.94-.94-2.06-.94 2.06-2.06.94zm-11 1L8.5 8.5l.94-2.06 2.06-.94-2.06-.94L8.5 2.5l-.94 2.06-2.06.94zm10 10l.94 2.06.94-2.06 2.06-.94-2.06-.94-.94-2.06-.94 2.06-2.06.94z\"/><path d=\"M17.41 7.96l-1.37-1.37c-.4-.4-.92-.59-1.43-.59-.52 0-1.04.2-1.43.59L10.3 9.45l-7.72 7.72c-.78.78-.78 2.05 0 2.83L4 21.41c.39.39.9.59 1.41.59.51 0 1.02-.2 1.41-.59l7.78-7.78 2.81-2.81c.8-.78.8-2.07 0-2.86zM5.41 20L4 18.59l7.72-7.72 1.47 1.35L5.41 20z\"/>\n",
              "  </svg>\n",
              "      </button>\n",
              "      \n",
              "  <style>\n",
              "    .colab-df-container {\n",
              "      display:flex;\n",
              "      flex-wrap:wrap;\n",
              "      gap: 12px;\n",
              "    }\n",
              "\n",
              "    .colab-df-convert {\n",
              "      background-color: #E8F0FE;\n",
              "      border: none;\n",
              "      border-radius: 50%;\n",
              "      cursor: pointer;\n",
              "      display: none;\n",
              "      fill: #1967D2;\n",
              "      height: 32px;\n",
              "      padding: 0 0 0 0;\n",
              "      width: 32px;\n",
              "    }\n",
              "\n",
              "    .colab-df-convert:hover {\n",
              "      background-color: #E2EBFA;\n",
              "      box-shadow: 0px 1px 2px rgba(60, 64, 67, 0.3), 0px 1px 3px 1px rgba(60, 64, 67, 0.15);\n",
              "      fill: #174EA6;\n",
              "    }\n",
              "\n",
              "    [theme=dark] .colab-df-convert {\n",
              "      background-color: #3B4455;\n",
              "      fill: #D2E3FC;\n",
              "    }\n",
              "\n",
              "    [theme=dark] .colab-df-convert:hover {\n",
              "      background-color: #434B5C;\n",
              "      box-shadow: 0px 1px 3px 1px rgba(0, 0, 0, 0.15);\n",
              "      filter: drop-shadow(0px 1px 2px rgba(0, 0, 0, 0.3));\n",
              "      fill: #FFFFFF;\n",
              "    }\n",
              "  </style>\n",
              "\n",
              "      <script>\n",
              "        const buttonEl =\n",
              "          document.querySelector('#df-cec931b0-58e3-4a5a-a590-9ad3359d4ab3 button.colab-df-convert');\n",
              "        buttonEl.style.display =\n",
              "          google.colab.kernel.accessAllowed ? 'block' : 'none';\n",
              "\n",
              "        async function convertToInteractive(key) {\n",
              "          const element = document.querySelector('#df-cec931b0-58e3-4a5a-a590-9ad3359d4ab3');\n",
              "          const dataTable =\n",
              "            await google.colab.kernel.invokeFunction('convertToInteractive',\n",
              "                                                     [key], {});\n",
              "          if (!dataTable) return;\n",
              "\n",
              "          const docLinkHtml = 'Like what you see? Visit the ' +\n",
              "            '<a target=\"_blank\" href=https://colab.research.google.com/notebooks/data_table.ipynb>data table notebook</a>'\n",
              "            + ' to learn more about interactive tables.';\n",
              "          element.innerHTML = '';\n",
              "          dataTable['output_type'] = 'display_data';\n",
              "          await google.colab.output.renderOutput(dataTable, element);\n",
              "          const docLink = document.createElement('div');\n",
              "          docLink.innerHTML = docLinkHtml;\n",
              "          element.appendChild(docLink);\n",
              "        }\n",
              "      </script>\n",
              "    </div>\n",
              "  </div>\n",
              "  "
            ]
          },
          "metadata": {},
          "execution_count": 21
        }
      ]
    },
    {
      "cell_type": "code",
      "source": [
        "print(red.info())\n",
        "print(white.info())"
      ],
      "metadata": {
        "colab": {
          "base_uri": "https://localhost:8080/"
        },
        "id": "dbAw4ggBm6Db",
        "outputId": "f187f587-2133-4f6b-d6c0-2496aeb0c1b5"
      },
      "execution_count": 23,
      "outputs": [
        {
          "output_type": "stream",
          "name": "stdout",
          "text": [
            "<class 'pandas.core.frame.DataFrame'>\n",
            "RangeIndex: 1599 entries, 0 to 1598\n",
            "Data columns (total 12 columns):\n",
            " #   Column                Non-Null Count  Dtype  \n",
            "---  ------                --------------  -----  \n",
            " 0   fixed acidity         1599 non-null   float64\n",
            " 1   volatile acidity      1599 non-null   float64\n",
            " 2   citric acid           1599 non-null   float64\n",
            " 3   residual sugar        1599 non-null   float64\n",
            " 4   chlorides             1599 non-null   float64\n",
            " 5   free sulfur dioxide   1599 non-null   float64\n",
            " 6   total sulfur dioxide  1599 non-null   float64\n",
            " 7   density               1599 non-null   float64\n",
            " 8   pH                    1599 non-null   float64\n",
            " 9   sulphates             1599 non-null   float64\n",
            " 10  alcohol               1599 non-null   float64\n",
            " 11  quality               1599 non-null   int64  \n",
            "dtypes: float64(11), int64(1)\n",
            "memory usage: 150.0 KB\n",
            "None\n",
            "<class 'pandas.core.frame.DataFrame'>\n",
            "RangeIndex: 4898 entries, 0 to 4897\n",
            "Data columns (total 12 columns):\n",
            " #   Column                Non-Null Count  Dtype  \n",
            "---  ------                --------------  -----  \n",
            " 0   fixed acidity         4898 non-null   float64\n",
            " 1   volatile acidity      4898 non-null   float64\n",
            " 2   citric acid           4898 non-null   float64\n",
            " 3   residual sugar        4898 non-null   float64\n",
            " 4   chlorides             4898 non-null   float64\n",
            " 5   free sulfur dioxide   4898 non-null   float64\n",
            " 6   total sulfur dioxide  4898 non-null   float64\n",
            " 7   density               4898 non-null   float64\n",
            " 8   pH                    4898 non-null   float64\n",
            " 9   sulphates             4898 non-null   float64\n",
            " 10  alcohol               4898 non-null   float64\n",
            " 11  quality               4898 non-null   int64  \n",
            "dtypes: float64(11), int64(1)\n",
            "memory usage: 459.3 KB\n",
            "None\n"
          ]
        }
      ]
    },
    {
      "cell_type": "code",
      "source": [
        "# 결측치 확인\n",
        "red.isnull().sum()\n",
        "white.isnull().sum()"
      ],
      "metadata": {
        "colab": {
          "base_uri": "https://localhost:8080/"
        },
        "id": "cmae4P-jnJ2K",
        "outputId": "9adb3173-cd7f-4c6b-95d4-05dac0fd0149"
      },
      "execution_count": 24,
      "outputs": [
        {
          "output_type": "execute_result",
          "data": {
            "text/plain": [
              "fixed acidity           0\n",
              "volatile acidity        0\n",
              "citric acid             0\n",
              "residual sugar          0\n",
              "chlorides               0\n",
              "free sulfur dioxide     0\n",
              "total sulfur dioxide    0\n",
              "density                 0\n",
              "pH                      0\n",
              "sulphates               0\n",
              "alcohol                 0\n",
              "quality                 0\n",
              "dtype: int64"
            ]
          },
          "metadata": {},
          "execution_count": 24
        }
      ]
    },
    {
      "cell_type": "code",
      "source": [
        "# red, white 구분 컬럼 생성 후 데이터 합치기\n",
        "red['tag'] = 0\n",
        "white['tag'] = 1\n",
        "wine = pd.concat([red, white])\n",
        "wine"
      ],
      "metadata": {
        "colab": {
          "base_uri": "https://localhost:8080/",
          "height": 423
        },
        "id": "DSWhkTiXnR32",
        "outputId": "171df0bc-f947-4f3a-f99f-e7c1f6d14a3e"
      },
      "execution_count": 25,
      "outputs": [
        {
          "output_type": "execute_result",
          "data": {
            "text/plain": [
              "      fixed acidity  volatile acidity  citric acid  residual sugar  chlorides  \\\n",
              "0               7.4              0.70         0.00             1.9      0.076   \n",
              "1               7.8              0.88         0.00             2.6      0.098   \n",
              "2               7.8              0.76         0.04             2.3      0.092   \n",
              "3              11.2              0.28         0.56             1.9      0.075   \n",
              "4               7.4              0.70         0.00             1.9      0.076   \n",
              "...             ...               ...          ...             ...        ...   \n",
              "4893            6.2              0.21         0.29             1.6      0.039   \n",
              "4894            6.6              0.32         0.36             8.0      0.047   \n",
              "4895            6.5              0.24         0.19             1.2      0.041   \n",
              "4896            5.5              0.29         0.30             1.1      0.022   \n",
              "4897            6.0              0.21         0.38             0.8      0.020   \n",
              "\n",
              "      free sulfur dioxide  total sulfur dioxide  density    pH  sulphates  \\\n",
              "0                    11.0                  34.0  0.99780  3.51       0.56   \n",
              "1                    25.0                  67.0  0.99680  3.20       0.68   \n",
              "2                    15.0                  54.0  0.99700  3.26       0.65   \n",
              "3                    17.0                  60.0  0.99800  3.16       0.58   \n",
              "4                    11.0                  34.0  0.99780  3.51       0.56   \n",
              "...                   ...                   ...      ...   ...        ...   \n",
              "4893                 24.0                  92.0  0.99114  3.27       0.50   \n",
              "4894                 57.0                 168.0  0.99490  3.15       0.46   \n",
              "4895                 30.0                 111.0  0.99254  2.99       0.46   \n",
              "4896                 20.0                 110.0  0.98869  3.34       0.38   \n",
              "4897                 22.0                  98.0  0.98941  3.26       0.32   \n",
              "\n",
              "      alcohol  quality  tag  \n",
              "0         9.4        5    0  \n",
              "1         9.8        5    0  \n",
              "2         9.8        5    0  \n",
              "3         9.8        6    0  \n",
              "4         9.4        5    0  \n",
              "...       ...      ...  ...  \n",
              "4893     11.2        6    1  \n",
              "4894      9.6        5    1  \n",
              "4895      9.4        6    1  \n",
              "4896     12.8        7    1  \n",
              "4897     11.8        6    1  \n",
              "\n",
              "[6497 rows x 13 columns]"
            ],
            "text/html": [
              "\n",
              "  <div id=\"df-d519b248-fdd5-4b18-ac8f-07a176f96b1c\">\n",
              "    <div class=\"colab-df-container\">\n",
              "      <div>\n",
              "<style scoped>\n",
              "    .dataframe tbody tr th:only-of-type {\n",
              "        vertical-align: middle;\n",
              "    }\n",
              "\n",
              "    .dataframe tbody tr th {\n",
              "        vertical-align: top;\n",
              "    }\n",
              "\n",
              "    .dataframe thead th {\n",
              "        text-align: right;\n",
              "    }\n",
              "</style>\n",
              "<table border=\"1\" class=\"dataframe\">\n",
              "  <thead>\n",
              "    <tr style=\"text-align: right;\">\n",
              "      <th></th>\n",
              "      <th>fixed acidity</th>\n",
              "      <th>volatile acidity</th>\n",
              "      <th>citric acid</th>\n",
              "      <th>residual sugar</th>\n",
              "      <th>chlorides</th>\n",
              "      <th>free sulfur dioxide</th>\n",
              "      <th>total sulfur dioxide</th>\n",
              "      <th>density</th>\n",
              "      <th>pH</th>\n",
              "      <th>sulphates</th>\n",
              "      <th>alcohol</th>\n",
              "      <th>quality</th>\n",
              "      <th>tag</th>\n",
              "    </tr>\n",
              "  </thead>\n",
              "  <tbody>\n",
              "    <tr>\n",
              "      <th>0</th>\n",
              "      <td>7.4</td>\n",
              "      <td>0.70</td>\n",
              "      <td>0.00</td>\n",
              "      <td>1.9</td>\n",
              "      <td>0.076</td>\n",
              "      <td>11.0</td>\n",
              "      <td>34.0</td>\n",
              "      <td>0.99780</td>\n",
              "      <td>3.51</td>\n",
              "      <td>0.56</td>\n",
              "      <td>9.4</td>\n",
              "      <td>5</td>\n",
              "      <td>0</td>\n",
              "    </tr>\n",
              "    <tr>\n",
              "      <th>1</th>\n",
              "      <td>7.8</td>\n",
              "      <td>0.88</td>\n",
              "      <td>0.00</td>\n",
              "      <td>2.6</td>\n",
              "      <td>0.098</td>\n",
              "      <td>25.0</td>\n",
              "      <td>67.0</td>\n",
              "      <td>0.99680</td>\n",
              "      <td>3.20</td>\n",
              "      <td>0.68</td>\n",
              "      <td>9.8</td>\n",
              "      <td>5</td>\n",
              "      <td>0</td>\n",
              "    </tr>\n",
              "    <tr>\n",
              "      <th>2</th>\n",
              "      <td>7.8</td>\n",
              "      <td>0.76</td>\n",
              "      <td>0.04</td>\n",
              "      <td>2.3</td>\n",
              "      <td>0.092</td>\n",
              "      <td>15.0</td>\n",
              "      <td>54.0</td>\n",
              "      <td>0.99700</td>\n",
              "      <td>3.26</td>\n",
              "      <td>0.65</td>\n",
              "      <td>9.8</td>\n",
              "      <td>5</td>\n",
              "      <td>0</td>\n",
              "    </tr>\n",
              "    <tr>\n",
              "      <th>3</th>\n",
              "      <td>11.2</td>\n",
              "      <td>0.28</td>\n",
              "      <td>0.56</td>\n",
              "      <td>1.9</td>\n",
              "      <td>0.075</td>\n",
              "      <td>17.0</td>\n",
              "      <td>60.0</td>\n",
              "      <td>0.99800</td>\n",
              "      <td>3.16</td>\n",
              "      <td>0.58</td>\n",
              "      <td>9.8</td>\n",
              "      <td>6</td>\n",
              "      <td>0</td>\n",
              "    </tr>\n",
              "    <tr>\n",
              "      <th>4</th>\n",
              "      <td>7.4</td>\n",
              "      <td>0.70</td>\n",
              "      <td>0.00</td>\n",
              "      <td>1.9</td>\n",
              "      <td>0.076</td>\n",
              "      <td>11.0</td>\n",
              "      <td>34.0</td>\n",
              "      <td>0.99780</td>\n",
              "      <td>3.51</td>\n",
              "      <td>0.56</td>\n",
              "      <td>9.4</td>\n",
              "      <td>5</td>\n",
              "      <td>0</td>\n",
              "    </tr>\n",
              "    <tr>\n",
              "      <th>...</th>\n",
              "      <td>...</td>\n",
              "      <td>...</td>\n",
              "      <td>...</td>\n",
              "      <td>...</td>\n",
              "      <td>...</td>\n",
              "      <td>...</td>\n",
              "      <td>...</td>\n",
              "      <td>...</td>\n",
              "      <td>...</td>\n",
              "      <td>...</td>\n",
              "      <td>...</td>\n",
              "      <td>...</td>\n",
              "      <td>...</td>\n",
              "    </tr>\n",
              "    <tr>\n",
              "      <th>4893</th>\n",
              "      <td>6.2</td>\n",
              "      <td>0.21</td>\n",
              "      <td>0.29</td>\n",
              "      <td>1.6</td>\n",
              "      <td>0.039</td>\n",
              "      <td>24.0</td>\n",
              "      <td>92.0</td>\n",
              "      <td>0.99114</td>\n",
              "      <td>3.27</td>\n",
              "      <td>0.50</td>\n",
              "      <td>11.2</td>\n",
              "      <td>6</td>\n",
              "      <td>1</td>\n",
              "    </tr>\n",
              "    <tr>\n",
              "      <th>4894</th>\n",
              "      <td>6.6</td>\n",
              "      <td>0.32</td>\n",
              "      <td>0.36</td>\n",
              "      <td>8.0</td>\n",
              "      <td>0.047</td>\n",
              "      <td>57.0</td>\n",
              "      <td>168.0</td>\n",
              "      <td>0.99490</td>\n",
              "      <td>3.15</td>\n",
              "      <td>0.46</td>\n",
              "      <td>9.6</td>\n",
              "      <td>5</td>\n",
              "      <td>1</td>\n",
              "    </tr>\n",
              "    <tr>\n",
              "      <th>4895</th>\n",
              "      <td>6.5</td>\n",
              "      <td>0.24</td>\n",
              "      <td>0.19</td>\n",
              "      <td>1.2</td>\n",
              "      <td>0.041</td>\n",
              "      <td>30.0</td>\n",
              "      <td>111.0</td>\n",
              "      <td>0.99254</td>\n",
              "      <td>2.99</td>\n",
              "      <td>0.46</td>\n",
              "      <td>9.4</td>\n",
              "      <td>6</td>\n",
              "      <td>1</td>\n",
              "    </tr>\n",
              "    <tr>\n",
              "      <th>4896</th>\n",
              "      <td>5.5</td>\n",
              "      <td>0.29</td>\n",
              "      <td>0.30</td>\n",
              "      <td>1.1</td>\n",
              "      <td>0.022</td>\n",
              "      <td>20.0</td>\n",
              "      <td>110.0</td>\n",
              "      <td>0.98869</td>\n",
              "      <td>3.34</td>\n",
              "      <td>0.38</td>\n",
              "      <td>12.8</td>\n",
              "      <td>7</td>\n",
              "      <td>1</td>\n",
              "    </tr>\n",
              "    <tr>\n",
              "      <th>4897</th>\n",
              "      <td>6.0</td>\n",
              "      <td>0.21</td>\n",
              "      <td>0.38</td>\n",
              "      <td>0.8</td>\n",
              "      <td>0.020</td>\n",
              "      <td>22.0</td>\n",
              "      <td>98.0</td>\n",
              "      <td>0.98941</td>\n",
              "      <td>3.26</td>\n",
              "      <td>0.32</td>\n",
              "      <td>11.8</td>\n",
              "      <td>6</td>\n",
              "      <td>1</td>\n",
              "    </tr>\n",
              "  </tbody>\n",
              "</table>\n",
              "<p>6497 rows × 13 columns</p>\n",
              "</div>\n",
              "      <button class=\"colab-df-convert\" onclick=\"convertToInteractive('df-d519b248-fdd5-4b18-ac8f-07a176f96b1c')\"\n",
              "              title=\"Convert this dataframe to an interactive table.\"\n",
              "              style=\"display:none;\">\n",
              "        \n",
              "  <svg xmlns=\"http://www.w3.org/2000/svg\" height=\"24px\"viewBox=\"0 0 24 24\"\n",
              "       width=\"24px\">\n",
              "    <path d=\"M0 0h24v24H0V0z\" fill=\"none\"/>\n",
              "    <path d=\"M18.56 5.44l.94 2.06.94-2.06 2.06-.94-2.06-.94-.94-2.06-.94 2.06-2.06.94zm-11 1L8.5 8.5l.94-2.06 2.06-.94-2.06-.94L8.5 2.5l-.94 2.06-2.06.94zm10 10l.94 2.06.94-2.06 2.06-.94-2.06-.94-.94-2.06-.94 2.06-2.06.94z\"/><path d=\"M17.41 7.96l-1.37-1.37c-.4-.4-.92-.59-1.43-.59-.52 0-1.04.2-1.43.59L10.3 9.45l-7.72 7.72c-.78.78-.78 2.05 0 2.83L4 21.41c.39.39.9.59 1.41.59.51 0 1.02-.2 1.41-.59l7.78-7.78 2.81-2.81c.8-.78.8-2.07 0-2.86zM5.41 20L4 18.59l7.72-7.72 1.47 1.35L5.41 20z\"/>\n",
              "  </svg>\n",
              "      </button>\n",
              "      \n",
              "  <style>\n",
              "    .colab-df-container {\n",
              "      display:flex;\n",
              "      flex-wrap:wrap;\n",
              "      gap: 12px;\n",
              "    }\n",
              "\n",
              "    .colab-df-convert {\n",
              "      background-color: #E8F0FE;\n",
              "      border: none;\n",
              "      border-radius: 50%;\n",
              "      cursor: pointer;\n",
              "      display: none;\n",
              "      fill: #1967D2;\n",
              "      height: 32px;\n",
              "      padding: 0 0 0 0;\n",
              "      width: 32px;\n",
              "    }\n",
              "\n",
              "    .colab-df-convert:hover {\n",
              "      background-color: #E2EBFA;\n",
              "      box-shadow: 0px 1px 2px rgba(60, 64, 67, 0.3), 0px 1px 3px 1px rgba(60, 64, 67, 0.15);\n",
              "      fill: #174EA6;\n",
              "    }\n",
              "\n",
              "    [theme=dark] .colab-df-convert {\n",
              "      background-color: #3B4455;\n",
              "      fill: #D2E3FC;\n",
              "    }\n",
              "\n",
              "    [theme=dark] .colab-df-convert:hover {\n",
              "      background-color: #434B5C;\n",
              "      box-shadow: 0px 1px 3px 1px rgba(0, 0, 0, 0.15);\n",
              "      filter: drop-shadow(0px 1px 2px rgba(0, 0, 0, 0.3));\n",
              "      fill: #FFFFFF;\n",
              "    }\n",
              "  </style>\n",
              "\n",
              "      <script>\n",
              "        const buttonEl =\n",
              "          document.querySelector('#df-d519b248-fdd5-4b18-ac8f-07a176f96b1c button.colab-df-convert');\n",
              "        buttonEl.style.display =\n",
              "          google.colab.kernel.accessAllowed ? 'block' : 'none';\n",
              "\n",
              "        async function convertToInteractive(key) {\n",
              "          const element = document.querySelector('#df-d519b248-fdd5-4b18-ac8f-07a176f96b1c');\n",
              "          const dataTable =\n",
              "            await google.colab.kernel.invokeFunction('convertToInteractive',\n",
              "                                                     [key], {});\n",
              "          if (!dataTable) return;\n",
              "\n",
              "          const docLinkHtml = 'Like what you see? Visit the ' +\n",
              "            '<a target=\"_blank\" href=https://colab.research.google.com/notebooks/data_table.ipynb>data table notebook</a>'\n",
              "            + ' to learn more about interactive tables.';\n",
              "          element.innerHTML = '';\n",
              "          dataTable['output_type'] = 'display_data';\n",
              "          await google.colab.output.renderOutput(dataTable, element);\n",
              "          const docLink = document.createElement('div');\n",
              "          docLink.innerHTML = docLinkHtml;\n",
              "          element.appendChild(docLink);\n",
              "        }\n",
              "      </script>\n",
              "    </div>\n",
              "  </div>\n",
              "  "
            ]
          },
          "metadata": {},
          "execution_count": 25
        }
      ]
    },
    {
      "cell_type": "code",
      "source": [
        "# X, y 나누기\n",
        "X = wine.drop(['tag'], axis=1)\n",
        "y = wine['tag']"
      ],
      "metadata": {
        "id": "dGZ_4A7loA7t"
      },
      "execution_count": 29,
      "outputs": []
    },
    {
      "cell_type": "code",
      "source": [
        "X"
      ],
      "metadata": {
        "colab": {
          "base_uri": "https://localhost:8080/",
          "height": 423
        },
        "id": "oqD-6F5joWcO",
        "outputId": "6edde256-0afd-498a-c651-d999bf9a4be7"
      },
      "execution_count": 30,
      "outputs": [
        {
          "output_type": "execute_result",
          "data": {
            "text/plain": [
              "      fixed acidity  volatile acidity  citric acid  residual sugar  chlorides  \\\n",
              "0               7.4              0.70         0.00             1.9      0.076   \n",
              "1               7.8              0.88         0.00             2.6      0.098   \n",
              "2               7.8              0.76         0.04             2.3      0.092   \n",
              "3              11.2              0.28         0.56             1.9      0.075   \n",
              "4               7.4              0.70         0.00             1.9      0.076   \n",
              "...             ...               ...          ...             ...        ...   \n",
              "4893            6.2              0.21         0.29             1.6      0.039   \n",
              "4894            6.6              0.32         0.36             8.0      0.047   \n",
              "4895            6.5              0.24         0.19             1.2      0.041   \n",
              "4896            5.5              0.29         0.30             1.1      0.022   \n",
              "4897            6.0              0.21         0.38             0.8      0.020   \n",
              "\n",
              "      free sulfur dioxide  total sulfur dioxide  density    pH  sulphates  \\\n",
              "0                    11.0                  34.0  0.99780  3.51       0.56   \n",
              "1                    25.0                  67.0  0.99680  3.20       0.68   \n",
              "2                    15.0                  54.0  0.99700  3.26       0.65   \n",
              "3                    17.0                  60.0  0.99800  3.16       0.58   \n",
              "4                    11.0                  34.0  0.99780  3.51       0.56   \n",
              "...                   ...                   ...      ...   ...        ...   \n",
              "4893                 24.0                  92.0  0.99114  3.27       0.50   \n",
              "4894                 57.0                 168.0  0.99490  3.15       0.46   \n",
              "4895                 30.0                 111.0  0.99254  2.99       0.46   \n",
              "4896                 20.0                 110.0  0.98869  3.34       0.38   \n",
              "4897                 22.0                  98.0  0.98941  3.26       0.32   \n",
              "\n",
              "      alcohol  quality  \n",
              "0         9.4        5  \n",
              "1         9.8        5  \n",
              "2         9.8        5  \n",
              "3         9.8        6  \n",
              "4         9.4        5  \n",
              "...       ...      ...  \n",
              "4893     11.2        6  \n",
              "4894      9.6        5  \n",
              "4895      9.4        6  \n",
              "4896     12.8        7  \n",
              "4897     11.8        6  \n",
              "\n",
              "[6497 rows x 12 columns]"
            ],
            "text/html": [
              "\n",
              "  <div id=\"df-3bc79fb9-4f56-4110-a969-7fa382e2ff39\">\n",
              "    <div class=\"colab-df-container\">\n",
              "      <div>\n",
              "<style scoped>\n",
              "    .dataframe tbody tr th:only-of-type {\n",
              "        vertical-align: middle;\n",
              "    }\n",
              "\n",
              "    .dataframe tbody tr th {\n",
              "        vertical-align: top;\n",
              "    }\n",
              "\n",
              "    .dataframe thead th {\n",
              "        text-align: right;\n",
              "    }\n",
              "</style>\n",
              "<table border=\"1\" class=\"dataframe\">\n",
              "  <thead>\n",
              "    <tr style=\"text-align: right;\">\n",
              "      <th></th>\n",
              "      <th>fixed acidity</th>\n",
              "      <th>volatile acidity</th>\n",
              "      <th>citric acid</th>\n",
              "      <th>residual sugar</th>\n",
              "      <th>chlorides</th>\n",
              "      <th>free sulfur dioxide</th>\n",
              "      <th>total sulfur dioxide</th>\n",
              "      <th>density</th>\n",
              "      <th>pH</th>\n",
              "      <th>sulphates</th>\n",
              "      <th>alcohol</th>\n",
              "      <th>quality</th>\n",
              "    </tr>\n",
              "  </thead>\n",
              "  <tbody>\n",
              "    <tr>\n",
              "      <th>0</th>\n",
              "      <td>7.4</td>\n",
              "      <td>0.70</td>\n",
              "      <td>0.00</td>\n",
              "      <td>1.9</td>\n",
              "      <td>0.076</td>\n",
              "      <td>11.0</td>\n",
              "      <td>34.0</td>\n",
              "      <td>0.99780</td>\n",
              "      <td>3.51</td>\n",
              "      <td>0.56</td>\n",
              "      <td>9.4</td>\n",
              "      <td>5</td>\n",
              "    </tr>\n",
              "    <tr>\n",
              "      <th>1</th>\n",
              "      <td>7.8</td>\n",
              "      <td>0.88</td>\n",
              "      <td>0.00</td>\n",
              "      <td>2.6</td>\n",
              "      <td>0.098</td>\n",
              "      <td>25.0</td>\n",
              "      <td>67.0</td>\n",
              "      <td>0.99680</td>\n",
              "      <td>3.20</td>\n",
              "      <td>0.68</td>\n",
              "      <td>9.8</td>\n",
              "      <td>5</td>\n",
              "    </tr>\n",
              "    <tr>\n",
              "      <th>2</th>\n",
              "      <td>7.8</td>\n",
              "      <td>0.76</td>\n",
              "      <td>0.04</td>\n",
              "      <td>2.3</td>\n",
              "      <td>0.092</td>\n",
              "      <td>15.0</td>\n",
              "      <td>54.0</td>\n",
              "      <td>0.99700</td>\n",
              "      <td>3.26</td>\n",
              "      <td>0.65</td>\n",
              "      <td>9.8</td>\n",
              "      <td>5</td>\n",
              "    </tr>\n",
              "    <tr>\n",
              "      <th>3</th>\n",
              "      <td>11.2</td>\n",
              "      <td>0.28</td>\n",
              "      <td>0.56</td>\n",
              "      <td>1.9</td>\n",
              "      <td>0.075</td>\n",
              "      <td>17.0</td>\n",
              "      <td>60.0</td>\n",
              "      <td>0.99800</td>\n",
              "      <td>3.16</td>\n",
              "      <td>0.58</td>\n",
              "      <td>9.8</td>\n",
              "      <td>6</td>\n",
              "    </tr>\n",
              "    <tr>\n",
              "      <th>4</th>\n",
              "      <td>7.4</td>\n",
              "      <td>0.70</td>\n",
              "      <td>0.00</td>\n",
              "      <td>1.9</td>\n",
              "      <td>0.076</td>\n",
              "      <td>11.0</td>\n",
              "      <td>34.0</td>\n",
              "      <td>0.99780</td>\n",
              "      <td>3.51</td>\n",
              "      <td>0.56</td>\n",
              "      <td>9.4</td>\n",
              "      <td>5</td>\n",
              "    </tr>\n",
              "    <tr>\n",
              "      <th>...</th>\n",
              "      <td>...</td>\n",
              "      <td>...</td>\n",
              "      <td>...</td>\n",
              "      <td>...</td>\n",
              "      <td>...</td>\n",
              "      <td>...</td>\n",
              "      <td>...</td>\n",
              "      <td>...</td>\n",
              "      <td>...</td>\n",
              "      <td>...</td>\n",
              "      <td>...</td>\n",
              "      <td>...</td>\n",
              "    </tr>\n",
              "    <tr>\n",
              "      <th>4893</th>\n",
              "      <td>6.2</td>\n",
              "      <td>0.21</td>\n",
              "      <td>0.29</td>\n",
              "      <td>1.6</td>\n",
              "      <td>0.039</td>\n",
              "      <td>24.0</td>\n",
              "      <td>92.0</td>\n",
              "      <td>0.99114</td>\n",
              "      <td>3.27</td>\n",
              "      <td>0.50</td>\n",
              "      <td>11.2</td>\n",
              "      <td>6</td>\n",
              "    </tr>\n",
              "    <tr>\n",
              "      <th>4894</th>\n",
              "      <td>6.6</td>\n",
              "      <td>0.32</td>\n",
              "      <td>0.36</td>\n",
              "      <td>8.0</td>\n",
              "      <td>0.047</td>\n",
              "      <td>57.0</td>\n",
              "      <td>168.0</td>\n",
              "      <td>0.99490</td>\n",
              "      <td>3.15</td>\n",
              "      <td>0.46</td>\n",
              "      <td>9.6</td>\n",
              "      <td>5</td>\n",
              "    </tr>\n",
              "    <tr>\n",
              "      <th>4895</th>\n",
              "      <td>6.5</td>\n",
              "      <td>0.24</td>\n",
              "      <td>0.19</td>\n",
              "      <td>1.2</td>\n",
              "      <td>0.041</td>\n",
              "      <td>30.0</td>\n",
              "      <td>111.0</td>\n",
              "      <td>0.99254</td>\n",
              "      <td>2.99</td>\n",
              "      <td>0.46</td>\n",
              "      <td>9.4</td>\n",
              "      <td>6</td>\n",
              "    </tr>\n",
              "    <tr>\n",
              "      <th>4896</th>\n",
              "      <td>5.5</td>\n",
              "      <td>0.29</td>\n",
              "      <td>0.30</td>\n",
              "      <td>1.1</td>\n",
              "      <td>0.022</td>\n",
              "      <td>20.0</td>\n",
              "      <td>110.0</td>\n",
              "      <td>0.98869</td>\n",
              "      <td>3.34</td>\n",
              "      <td>0.38</td>\n",
              "      <td>12.8</td>\n",
              "      <td>7</td>\n",
              "    </tr>\n",
              "    <tr>\n",
              "      <th>4897</th>\n",
              "      <td>6.0</td>\n",
              "      <td>0.21</td>\n",
              "      <td>0.38</td>\n",
              "      <td>0.8</td>\n",
              "      <td>0.020</td>\n",
              "      <td>22.0</td>\n",
              "      <td>98.0</td>\n",
              "      <td>0.98941</td>\n",
              "      <td>3.26</td>\n",
              "      <td>0.32</td>\n",
              "      <td>11.8</td>\n",
              "      <td>6</td>\n",
              "    </tr>\n",
              "  </tbody>\n",
              "</table>\n",
              "<p>6497 rows × 12 columns</p>\n",
              "</div>\n",
              "      <button class=\"colab-df-convert\" onclick=\"convertToInteractive('df-3bc79fb9-4f56-4110-a969-7fa382e2ff39')\"\n",
              "              title=\"Convert this dataframe to an interactive table.\"\n",
              "              style=\"display:none;\">\n",
              "        \n",
              "  <svg xmlns=\"http://www.w3.org/2000/svg\" height=\"24px\"viewBox=\"0 0 24 24\"\n",
              "       width=\"24px\">\n",
              "    <path d=\"M0 0h24v24H0V0z\" fill=\"none\"/>\n",
              "    <path d=\"M18.56 5.44l.94 2.06.94-2.06 2.06-.94-2.06-.94-.94-2.06-.94 2.06-2.06.94zm-11 1L8.5 8.5l.94-2.06 2.06-.94-2.06-.94L8.5 2.5l-.94 2.06-2.06.94zm10 10l.94 2.06.94-2.06 2.06-.94-2.06-.94-.94-2.06-.94 2.06-2.06.94z\"/><path d=\"M17.41 7.96l-1.37-1.37c-.4-.4-.92-.59-1.43-.59-.52 0-1.04.2-1.43.59L10.3 9.45l-7.72 7.72c-.78.78-.78 2.05 0 2.83L4 21.41c.39.39.9.59 1.41.59.51 0 1.02-.2 1.41-.59l7.78-7.78 2.81-2.81c.8-.78.8-2.07 0-2.86zM5.41 20L4 18.59l7.72-7.72 1.47 1.35L5.41 20z\"/>\n",
              "  </svg>\n",
              "      </button>\n",
              "      \n",
              "  <style>\n",
              "    .colab-df-container {\n",
              "      display:flex;\n",
              "      flex-wrap:wrap;\n",
              "      gap: 12px;\n",
              "    }\n",
              "\n",
              "    .colab-df-convert {\n",
              "      background-color: #E8F0FE;\n",
              "      border: none;\n",
              "      border-radius: 50%;\n",
              "      cursor: pointer;\n",
              "      display: none;\n",
              "      fill: #1967D2;\n",
              "      height: 32px;\n",
              "      padding: 0 0 0 0;\n",
              "      width: 32px;\n",
              "    }\n",
              "\n",
              "    .colab-df-convert:hover {\n",
              "      background-color: #E2EBFA;\n",
              "      box-shadow: 0px 1px 2px rgba(60, 64, 67, 0.3), 0px 1px 3px 1px rgba(60, 64, 67, 0.15);\n",
              "      fill: #174EA6;\n",
              "    }\n",
              "\n",
              "    [theme=dark] .colab-df-convert {\n",
              "      background-color: #3B4455;\n",
              "      fill: #D2E3FC;\n",
              "    }\n",
              "\n",
              "    [theme=dark] .colab-df-convert:hover {\n",
              "      background-color: #434B5C;\n",
              "      box-shadow: 0px 1px 3px 1px rgba(0, 0, 0, 0.15);\n",
              "      filter: drop-shadow(0px 1px 2px rgba(0, 0, 0, 0.3));\n",
              "      fill: #FFFFFF;\n",
              "    }\n",
              "  </style>\n",
              "\n",
              "      <script>\n",
              "        const buttonEl =\n",
              "          document.querySelector('#df-3bc79fb9-4f56-4110-a969-7fa382e2ff39 button.colab-df-convert');\n",
              "        buttonEl.style.display =\n",
              "          google.colab.kernel.accessAllowed ? 'block' : 'none';\n",
              "\n",
              "        async function convertToInteractive(key) {\n",
              "          const element = document.querySelector('#df-3bc79fb9-4f56-4110-a969-7fa382e2ff39');\n",
              "          const dataTable =\n",
              "            await google.colab.kernel.invokeFunction('convertToInteractive',\n",
              "                                                     [key], {});\n",
              "          if (!dataTable) return;\n",
              "\n",
              "          const docLinkHtml = 'Like what you see? Visit the ' +\n",
              "            '<a target=\"_blank\" href=https://colab.research.google.com/notebooks/data_table.ipynb>data table notebook</a>'\n",
              "            + ' to learn more about interactive tables.';\n",
              "          element.innerHTML = '';\n",
              "          dataTable['output_type'] = 'display_data';\n",
              "          await google.colab.output.renderOutput(dataTable, element);\n",
              "          const docLink = document.createElement('div');\n",
              "          docLink.innerHTML = docLinkHtml;\n",
              "          element.appendChild(docLink);\n",
              "        }\n",
              "      </script>\n",
              "    </div>\n",
              "  </div>\n",
              "  "
            ]
          },
          "metadata": {},
          "execution_count": 30
        }
      ]
    },
    {
      "cell_type": "code",
      "source": [
        "y"
      ],
      "metadata": {
        "colab": {
          "base_uri": "https://localhost:8080/"
        },
        "id": "EA6eFPUIoZnv",
        "outputId": "49c1fa7b-8751-4dcf-c59e-7e3f23f48d22"
      },
      "execution_count": 31,
      "outputs": [
        {
          "output_type": "execute_result",
          "data": {
            "text/plain": [
              "0       0\n",
              "1       0\n",
              "2       0\n",
              "3       0\n",
              "4       0\n",
              "       ..\n",
              "4893    1\n",
              "4894    1\n",
              "4895    1\n",
              "4896    1\n",
              "4897    1\n",
              "Name: tag, Length: 6497, dtype: int64"
            ]
          },
          "metadata": {},
          "execution_count": 31
        }
      ]
    },
    {
      "cell_type": "code",
      "source": [
        "# 분류\n",
        "from sklearn.tree import DecisionTreeClassifier\n",
        "from sklearn.model_selection import train_test_split\n",
        "import warnings\n",
        "warnings.filterwarnings('ignore')\n",
        "dt_clf = DecisionTreeClassifier(random_state=156)\n",
        "\n",
        "X_train , X_test , y_train , y_test = train_test_split(X, y, test_size=0.2,  random_state=11)\n",
        "\n",
        "# DecisionTreeClassifer 학습\n",
        "dt_clf.fit(X_train , y_train)"
      ],
      "metadata": {
        "colab": {
          "base_uri": "https://localhost:8080/",
          "height": 74
        },
        "id": "9dDtWEuZnhaA",
        "outputId": "e52fdbdd-3334-4961-8d9d-fafca6a8fc56"
      },
      "execution_count": 32,
      "outputs": [
        {
          "output_type": "execute_result",
          "data": {
            "text/plain": [
              "DecisionTreeClassifier(random_state=156)"
            ],
            "text/html": [
              "<style>#sk-container-id-1 {color: black;background-color: white;}#sk-container-id-1 pre{padding: 0;}#sk-container-id-1 div.sk-toggleable {background-color: white;}#sk-container-id-1 label.sk-toggleable__label {cursor: pointer;display: block;width: 100%;margin-bottom: 0;padding: 0.3em;box-sizing: border-box;text-align: center;}#sk-container-id-1 label.sk-toggleable__label-arrow:before {content: \"▸\";float: left;margin-right: 0.25em;color: #696969;}#sk-container-id-1 label.sk-toggleable__label-arrow:hover:before {color: black;}#sk-container-id-1 div.sk-estimator:hover label.sk-toggleable__label-arrow:before {color: black;}#sk-container-id-1 div.sk-toggleable__content {max-height: 0;max-width: 0;overflow: hidden;text-align: left;background-color: #f0f8ff;}#sk-container-id-1 div.sk-toggleable__content pre {margin: 0.2em;color: black;border-radius: 0.25em;background-color: #f0f8ff;}#sk-container-id-1 input.sk-toggleable__control:checked~div.sk-toggleable__content {max-height: 200px;max-width: 100%;overflow: auto;}#sk-container-id-1 input.sk-toggleable__control:checked~label.sk-toggleable__label-arrow:before {content: \"▾\";}#sk-container-id-1 div.sk-estimator input.sk-toggleable__control:checked~label.sk-toggleable__label {background-color: #d4ebff;}#sk-container-id-1 div.sk-label input.sk-toggleable__control:checked~label.sk-toggleable__label {background-color: #d4ebff;}#sk-container-id-1 input.sk-hidden--visually {border: 0;clip: rect(1px 1px 1px 1px);clip: rect(1px, 1px, 1px, 1px);height: 1px;margin: -1px;overflow: hidden;padding: 0;position: absolute;width: 1px;}#sk-container-id-1 div.sk-estimator {font-family: monospace;background-color: #f0f8ff;border: 1px dotted black;border-radius: 0.25em;box-sizing: border-box;margin-bottom: 0.5em;}#sk-container-id-1 div.sk-estimator:hover {background-color: #d4ebff;}#sk-container-id-1 div.sk-parallel-item::after {content: \"\";width: 100%;border-bottom: 1px solid gray;flex-grow: 1;}#sk-container-id-1 div.sk-label:hover label.sk-toggleable__label {background-color: #d4ebff;}#sk-container-id-1 div.sk-serial::before {content: \"\";position: absolute;border-left: 1px solid gray;box-sizing: border-box;top: 0;bottom: 0;left: 50%;z-index: 0;}#sk-container-id-1 div.sk-serial {display: flex;flex-direction: column;align-items: center;background-color: white;padding-right: 0.2em;padding-left: 0.2em;position: relative;}#sk-container-id-1 div.sk-item {position: relative;z-index: 1;}#sk-container-id-1 div.sk-parallel {display: flex;align-items: stretch;justify-content: center;background-color: white;position: relative;}#sk-container-id-1 div.sk-item::before, #sk-container-id-1 div.sk-parallel-item::before {content: \"\";position: absolute;border-left: 1px solid gray;box-sizing: border-box;top: 0;bottom: 0;left: 50%;z-index: -1;}#sk-container-id-1 div.sk-parallel-item {display: flex;flex-direction: column;z-index: 1;position: relative;background-color: white;}#sk-container-id-1 div.sk-parallel-item:first-child::after {align-self: flex-end;width: 50%;}#sk-container-id-1 div.sk-parallel-item:last-child::after {align-self: flex-start;width: 50%;}#sk-container-id-1 div.sk-parallel-item:only-child::after {width: 0;}#sk-container-id-1 div.sk-dashed-wrapped {border: 1px dashed gray;margin: 0 0.4em 0.5em 0.4em;box-sizing: border-box;padding-bottom: 0.4em;background-color: white;}#sk-container-id-1 div.sk-label label {font-family: monospace;font-weight: bold;display: inline-block;line-height: 1.2em;}#sk-container-id-1 div.sk-label-container {text-align: center;}#sk-container-id-1 div.sk-container {/* jupyter's `normalize.less` sets `[hidden] { display: none; }` but bootstrap.min.css set `[hidden] { display: none !important; }` so we also need the `!important` here to be able to override the default hidden behavior on the sphinx rendered scikit-learn.org. See: https://github.com/scikit-learn/scikit-learn/issues/21755 */display: inline-block !important;position: relative;}#sk-container-id-1 div.sk-text-repr-fallback {display: none;}</style><div id=\"sk-container-id-1\" class=\"sk-top-container\"><div class=\"sk-text-repr-fallback\"><pre>DecisionTreeClassifier(random_state=156)</pre><b>In a Jupyter environment, please rerun this cell to show the HTML representation or trust the notebook. <br />On GitHub, the HTML representation is unable to render, please try loading this page with nbviewer.org.</b></div><div class=\"sk-container\" hidden><div class=\"sk-item\"><div class=\"sk-estimator sk-toggleable\"><input class=\"sk-toggleable__control sk-hidden--visually\" id=\"sk-estimator-id-1\" type=\"checkbox\" checked><label for=\"sk-estimator-id-1\" class=\"sk-toggleable__label sk-toggleable__label-arrow\">DecisionTreeClassifier</label><div class=\"sk-toggleable__content\"><pre>DecisionTreeClassifier(random_state=156)</pre></div></div></div></div></div>"
            ]
          },
          "metadata": {},
          "execution_count": 32
        }
      ]
    },
    {
      "cell_type": "code",
      "source": [
        "from sklearn.tree import export_graphviz\n",
        "\n",
        "# export_graphviz()의 호출 결과로 out_file로 지정된 tree.dot 파일을 생성함. \n",
        "export_graphviz(dt_clf, out_file=\"tree.dot\", class_names='tag', \\\n",
        "feature_names = ['fixed acidity',\t'volatile acidity',\t'citric acid',\n",
        "                 'residual sugar',\t'chlorides',\t'free sulfur dioxide',\n",
        "                 'total sulfur dioxide',\t'density',\t'pH',\n",
        "                 'sulphates',\t'alcohol',\t'quality'], impurity=True, filled=True)\n",
        "\n",
        "import graphviz\n",
        "\n",
        "# 위에서 생성된 tree.dot 파일을 Graphviz 읽어서 Jupyter Notebook상에서 시각화 \n",
        "with open(\"tree.dot\") as f:\n",
        "    dot_graph = f.read()\n",
        "graphviz.Source(dot_graph)"
      ],
      "metadata": {
        "colab": {
          "base_uri": "https://localhost:8080/",
          "height": 1000
        },
        "id": "K2nzJAshov4X",
        "outputId": "870ff535-1443-4a7e-e425-7ea0559a46ff"
      },
      "execution_count": 36,
      "outputs": [
        {
          "output_type": "execute_result",
          "data": {
            "image/svg+xml": "<?xml version=\"1.0\" encoding=\"UTF-8\" standalone=\"no\"?>\n<!DOCTYPE svg PUBLIC \"-//W3C//DTD SVG 1.1//EN\"\n \"http://www.w3.org/Graphics/SVG/1.1/DTD/svg11.dtd\">\n<!-- Generated by graphviz version 2.43.0 (0)\n -->\n<!-- Title: Tree Pages: 1 -->\n<svg width=\"3155pt\" height=\"2099pt\"\n viewBox=\"0.00 0.00 3155.00 2099.00\" xmlns=\"http://www.w3.org/2000/svg\" xmlns:xlink=\"http://www.w3.org/1999/xlink\">\n<g id=\"graph0\" class=\"graph\" transform=\"scale(1 1) rotate(0) translate(4 2095)\">\n<title>Tree</title>\n<polygon fill=\"white\" stroke=\"transparent\" points=\"-4,4 -4,-2095 3151,-2095 3151,4 -4,4\"/>\n<!-- 0 -->\n<g id=\"node1\" class=\"node\">\n<title>0</title>\n<polygon fill=\"#78bced\" stroke=\"black\" points=\"1252,-2091 1076,-2091 1076,-2008 1252,-2008 1252,-2091\"/>\n<text text-anchor=\"middle\" x=\"1164\" y=\"-2075.8\" font-family=\"Helvetica,sans-Serif\" font-size=\"14.00\">total sulfur dioxide &lt;= 66.5</text>\n<text text-anchor=\"middle\" x=\"1164\" y=\"-2060.8\" font-family=\"Helvetica,sans-Serif\" font-size=\"14.00\">gini = 0.365</text>\n<text text-anchor=\"middle\" x=\"1164\" y=\"-2045.8\" font-family=\"Helvetica,sans-Serif\" font-size=\"14.00\">samples = 5197</text>\n<text text-anchor=\"middle\" x=\"1164\" y=\"-2030.8\" font-family=\"Helvetica,sans-Serif\" font-size=\"14.00\">value = [1247, 3950]</text>\n<text text-anchor=\"middle\" x=\"1164\" y=\"-2015.8\" font-family=\"Helvetica,sans-Serif\" font-size=\"14.00\">class = a</text>\n</g>\n<!-- 1 -->\n<g id=\"node2\" class=\"node\">\n<title>1</title>\n<polygon fill=\"#e88d4c\" stroke=\"black\" points=\"784,-1972 656,-1972 656,-1889 784,-1889 784,-1972\"/>\n<text text-anchor=\"middle\" x=\"720\" y=\"-1956.8\" font-family=\"Helvetica,sans-Serif\" font-size=\"14.00\">chlorides &lt;= 0.046</text>\n<text text-anchor=\"middle\" x=\"720\" y=\"-1941.8\" font-family=\"Helvetica,sans-Serif\" font-size=\"14.00\">gini = 0.163</text>\n<text text-anchor=\"middle\" x=\"720\" y=\"-1926.8\" font-family=\"Helvetica,sans-Serif\" font-size=\"14.00\">samples = 1074</text>\n<text text-anchor=\"middle\" x=\"720\" y=\"-1911.8\" font-family=\"Helvetica,sans-Serif\" font-size=\"14.00\">value = [978, 96]</text>\n<text text-anchor=\"middle\" x=\"720\" y=\"-1896.8\" font-family=\"Helvetica,sans-Serif\" font-size=\"14.00\">class = t</text>\n</g>\n<!-- 0&#45;&gt;1 -->\n<g id=\"edge1\" class=\"edge\">\n<title>0&#45;&gt;1</title>\n<path fill=\"none\" stroke=\"black\" d=\"M1075.75,-2025.24C993.17,-2003.48 871.22,-1971.35 793.71,-1950.92\"/>\n<polygon fill=\"black\" stroke=\"black\" points=\"794.58,-1947.53 784.02,-1948.37 792.8,-1954.3 794.58,-1947.53\"/>\n<text text-anchor=\"middle\" x=\"796.61\" y=\"-1966.27\" font-family=\"Helvetica,sans-Serif\" font-size=\"14.00\">True</text>\n</g>\n<!-- 34 -->\n<g id=\"node35\" class=\"node\">\n<title>34</title>\n<polygon fill=\"#47a4e7\" stroke=\"black\" points=\"1773,-1972 1641,-1972 1641,-1889 1773,-1889 1773,-1972\"/>\n<text text-anchor=\"middle\" x=\"1707\" y=\"-1956.8\" font-family=\"Helvetica,sans-Serif\" font-size=\"14.00\">chlorides &lt;= 0.068</text>\n<text text-anchor=\"middle\" x=\"1707\" y=\"-1941.8\" font-family=\"Helvetica,sans-Serif\" font-size=\"14.00\">gini = 0.122</text>\n<text text-anchor=\"middle\" x=\"1707\" y=\"-1926.8\" font-family=\"Helvetica,sans-Serif\" font-size=\"14.00\">samples = 4123</text>\n<text text-anchor=\"middle\" x=\"1707\" y=\"-1911.8\" font-family=\"Helvetica,sans-Serif\" font-size=\"14.00\">value = [269, 3854]</text>\n<text text-anchor=\"middle\" x=\"1707\" y=\"-1896.8\" font-family=\"Helvetica,sans-Serif\" font-size=\"14.00\">class = a</text>\n</g>\n<!-- 0&#45;&gt;34 -->\n<g id=\"edge34\" class=\"edge\">\n<title>0&#45;&gt;34</title>\n<path fill=\"none\" stroke=\"black\" d=\"M1252.15,-2029.51C1357.26,-2006.86 1531.2,-1969.38 1630.76,-1947.93\"/>\n<polygon fill=\"black\" stroke=\"black\" points=\"1631.71,-1951.3 1640.75,-1945.77 1630.24,-1944.46 1631.71,-1951.3\"/>\n<text text-anchor=\"middle\" x=\"1627.19\" y=\"-1963.08\" font-family=\"Helvetica,sans-Serif\" font-size=\"14.00\">False</text>\n</g>\n<!-- 2 -->\n<g id=\"node3\" class=\"node\">\n<title>2</title>\n<polygon fill=\"#55abe9\" stroke=\"black\" points=\"464,-1853 332,-1853 332,-1770 464,-1770 464,-1853\"/>\n<text text-anchor=\"middle\" x=\"398\" y=\"-1837.8\" font-family=\"Helvetica,sans-Serif\" font-size=\"14.00\">sulphates &lt;= 0.575</text>\n<text text-anchor=\"middle\" x=\"398\" y=\"-1822.8\" font-family=\"Helvetica,sans-Serif\" font-size=\"14.00\">gini = 0.219</text>\n<text text-anchor=\"middle\" x=\"398\" y=\"-1807.8\" font-family=\"Helvetica,sans-Serif\" font-size=\"14.00\">samples = 96</text>\n<text text-anchor=\"middle\" x=\"398\" y=\"-1792.8\" font-family=\"Helvetica,sans-Serif\" font-size=\"14.00\">value = [12, 84]</text>\n<text text-anchor=\"middle\" x=\"398\" y=\"-1777.8\" font-family=\"Helvetica,sans-Serif\" font-size=\"14.00\">class = a</text>\n</g>\n<!-- 1&#45;&gt;2 -->\n<g id=\"edge2\" class=\"edge\">\n<title>1&#45;&gt;2</title>\n<path fill=\"none\" stroke=\"black\" d=\"M656,-1906.24C603.46,-1887.16 528.96,-1860.09 473.52,-1839.94\"/>\n<polygon fill=\"black\" stroke=\"black\" points=\"474.69,-1836.64 464.09,-1836.52 472.3,-1843.22 474.69,-1836.64\"/>\n</g>\n<!-- 11 -->\n<g id=\"node12\" class=\"node\">\n<title>11</title>\n<polygon fill=\"#e5833b\" stroke=\"black\" points=\"786,-1853 654,-1853 654,-1770 786,-1770 786,-1853\"/>\n<text text-anchor=\"middle\" x=\"720\" y=\"-1837.8\" font-family=\"Helvetica,sans-Serif\" font-size=\"14.00\">sulphates &lt;= 0.365</text>\n<text text-anchor=\"middle\" x=\"720\" y=\"-1822.8\" font-family=\"Helvetica,sans-Serif\" font-size=\"14.00\">gini = 0.024</text>\n<text text-anchor=\"middle\" x=\"720\" y=\"-1807.8\" font-family=\"Helvetica,sans-Serif\" font-size=\"14.00\">samples = 978</text>\n<text text-anchor=\"middle\" x=\"720\" y=\"-1792.8\" font-family=\"Helvetica,sans-Serif\" font-size=\"14.00\">value = [966, 12]</text>\n<text text-anchor=\"middle\" x=\"720\" y=\"-1777.8\" font-family=\"Helvetica,sans-Serif\" font-size=\"14.00\">class = t</text>\n</g>\n<!-- 1&#45;&gt;11 -->\n<g id=\"edge11\" class=\"edge\">\n<title>1&#45;&gt;11</title>\n<path fill=\"none\" stroke=\"black\" d=\"M720,-1888.91C720,-1880.65 720,-1871.86 720,-1863.3\"/>\n<polygon fill=\"black\" stroke=\"black\" points=\"723.5,-1863.02 720,-1853.02 716.5,-1863.02 723.5,-1863.02\"/>\n</g>\n<!-- 3 -->\n<g id=\"node4\" class=\"node\">\n<title>3</title>\n<polygon fill=\"#3ea0e6\" stroke=\"black\" points=\"265,-1734 107,-1734 107,-1651 265,-1651 265,-1734\"/>\n<text text-anchor=\"middle\" x=\"186\" y=\"-1718.8\" font-family=\"Helvetica,sans-Serif\" font-size=\"14.00\">volatile acidity &lt;= 0.655</text>\n<text text-anchor=\"middle\" x=\"186\" y=\"-1703.8\" font-family=\"Helvetica,sans-Serif\" font-size=\"14.00\">gini = 0.051</text>\n<text text-anchor=\"middle\" x=\"186\" y=\"-1688.8\" font-family=\"Helvetica,sans-Serif\" font-size=\"14.00\">samples = 77</text>\n<text text-anchor=\"middle\" x=\"186\" y=\"-1673.8\" font-family=\"Helvetica,sans-Serif\" font-size=\"14.00\">value = [2, 75]</text>\n<text text-anchor=\"middle\" x=\"186\" y=\"-1658.8\" font-family=\"Helvetica,sans-Serif\" font-size=\"14.00\">class = a</text>\n</g>\n<!-- 2&#45;&gt;3 -->\n<g id=\"edge3\" class=\"edge\">\n<title>2&#45;&gt;3</title>\n<path fill=\"none\" stroke=\"black\" d=\"M331.79,-1773.96C311.7,-1762.87 289.38,-1750.55 268.36,-1738.96\"/>\n<polygon fill=\"black\" stroke=\"black\" points=\"269.89,-1735.8 259.45,-1734.03 266.51,-1741.93 269.89,-1735.8\"/>\n</g>\n<!-- 8 -->\n<g id=\"node9\" class=\"node\">\n<title>8</title>\n<polygon fill=\"#fcf2eb\" stroke=\"black\" points=\"477,-1734 319,-1734 319,-1651 477,-1651 477,-1734\"/>\n<text text-anchor=\"middle\" x=\"398\" y=\"-1718.8\" font-family=\"Helvetica,sans-Serif\" font-size=\"14.00\">volatile acidity &lt;= 0.295</text>\n<text text-anchor=\"middle\" x=\"398\" y=\"-1703.8\" font-family=\"Helvetica,sans-Serif\" font-size=\"14.00\">gini = 0.499</text>\n<text text-anchor=\"middle\" x=\"398\" y=\"-1688.8\" font-family=\"Helvetica,sans-Serif\" font-size=\"14.00\">samples = 19</text>\n<text text-anchor=\"middle\" x=\"398\" y=\"-1673.8\" font-family=\"Helvetica,sans-Serif\" font-size=\"14.00\">value = [10, 9]</text>\n<text text-anchor=\"middle\" x=\"398\" y=\"-1658.8\" font-family=\"Helvetica,sans-Serif\" font-size=\"14.00\">class = t</text>\n</g>\n<!-- 2&#45;&gt;8 -->\n<g id=\"edge8\" class=\"edge\">\n<title>2&#45;&gt;8</title>\n<path fill=\"none\" stroke=\"black\" d=\"M398,-1769.91C398,-1761.65 398,-1752.86 398,-1744.3\"/>\n<polygon fill=\"black\" stroke=\"black\" points=\"401.5,-1744.02 398,-1734.02 394.5,-1744.02 401.5,-1744.02\"/>\n</g>\n<!-- 4 -->\n<g id=\"node5\" class=\"node\">\n<title>4</title>\n<polygon fill=\"#399de5\" stroke=\"black\" points=\"102,-1607.5 0,-1607.5 0,-1539.5 102,-1539.5 102,-1607.5\"/>\n<text text-anchor=\"middle\" x=\"51\" y=\"-1592.3\" font-family=\"Helvetica,sans-Serif\" font-size=\"14.00\">gini = 0.0</text>\n<text text-anchor=\"middle\" x=\"51\" y=\"-1577.3\" font-family=\"Helvetica,sans-Serif\" font-size=\"14.00\">samples = 73</text>\n<text text-anchor=\"middle\" x=\"51\" y=\"-1562.3\" font-family=\"Helvetica,sans-Serif\" font-size=\"14.00\">value = [0, 73]</text>\n<text text-anchor=\"middle\" x=\"51\" y=\"-1547.3\" font-family=\"Helvetica,sans-Serif\" font-size=\"14.00\">class = a</text>\n</g>\n<!-- 3&#45;&gt;4 -->\n<g id=\"edge4\" class=\"edge\">\n<title>3&#45;&gt;4</title>\n<path fill=\"none\" stroke=\"black\" d=\"M139.16,-1650.91C125.54,-1639.1 110.67,-1626.22 97.1,-1614.45\"/>\n<polygon fill=\"black\" stroke=\"black\" points=\"99.12,-1611.57 89.27,-1607.67 94.53,-1616.86 99.12,-1611.57\"/>\n</g>\n<!-- 5 -->\n<g id=\"node6\" class=\"node\">\n<title>5</title>\n<polygon fill=\"#ffffff\" stroke=\"black\" points=\"251.5,-1615 120.5,-1615 120.5,-1532 251.5,-1532 251.5,-1615\"/>\n<text text-anchor=\"middle\" x=\"186\" y=\"-1599.8\" font-family=\"Helvetica,sans-Serif\" font-size=\"14.00\">citric acid &lt;= 0.085</text>\n<text text-anchor=\"middle\" x=\"186\" y=\"-1584.8\" font-family=\"Helvetica,sans-Serif\" font-size=\"14.00\">gini = 0.5</text>\n<text text-anchor=\"middle\" x=\"186\" y=\"-1569.8\" font-family=\"Helvetica,sans-Serif\" font-size=\"14.00\">samples = 4</text>\n<text text-anchor=\"middle\" x=\"186\" y=\"-1554.8\" font-family=\"Helvetica,sans-Serif\" font-size=\"14.00\">value = [2, 2]</text>\n<text text-anchor=\"middle\" x=\"186\" y=\"-1539.8\" font-family=\"Helvetica,sans-Serif\" font-size=\"14.00\">class = t</text>\n</g>\n<!-- 3&#45;&gt;5 -->\n<g id=\"edge5\" class=\"edge\">\n<title>3&#45;&gt;5</title>\n<path fill=\"none\" stroke=\"black\" d=\"M186,-1650.91C186,-1642.65 186,-1633.86 186,-1625.3\"/>\n<polygon fill=\"black\" stroke=\"black\" points=\"189.5,-1625.02 186,-1615.02 182.5,-1625.02 189.5,-1625.02\"/>\n</g>\n<!-- 6 -->\n<g id=\"node7\" class=\"node\">\n<title>6</title>\n<polygon fill=\"#e58139\" stroke=\"black\" points=\"177.5,-1488.5 82.5,-1488.5 82.5,-1420.5 177.5,-1420.5 177.5,-1488.5\"/>\n<text text-anchor=\"middle\" x=\"130\" y=\"-1473.3\" font-family=\"Helvetica,sans-Serif\" font-size=\"14.00\">gini = 0.0</text>\n<text text-anchor=\"middle\" x=\"130\" y=\"-1458.3\" font-family=\"Helvetica,sans-Serif\" font-size=\"14.00\">samples = 2</text>\n<text text-anchor=\"middle\" x=\"130\" y=\"-1443.3\" font-family=\"Helvetica,sans-Serif\" font-size=\"14.00\">value = [2, 0]</text>\n<text text-anchor=\"middle\" x=\"130\" y=\"-1428.3\" font-family=\"Helvetica,sans-Serif\" font-size=\"14.00\">class = t</text>\n</g>\n<!-- 5&#45;&gt;6 -->\n<g id=\"edge6\" class=\"edge\">\n<title>5&#45;&gt;6</title>\n<path fill=\"none\" stroke=\"black\" d=\"M166.57,-1531.91C161.29,-1520.87 155.56,-1508.9 150.23,-1497.77\"/>\n<polygon fill=\"black\" stroke=\"black\" points=\"153.35,-1496.18 145.87,-1488.67 147.04,-1499.2 153.35,-1496.18\"/>\n</g>\n<!-- 7 -->\n<g id=\"node8\" class=\"node\">\n<title>7</title>\n<polygon fill=\"#399de5\" stroke=\"black\" points=\"290.5,-1488.5 195.5,-1488.5 195.5,-1420.5 290.5,-1420.5 290.5,-1488.5\"/>\n<text text-anchor=\"middle\" x=\"243\" y=\"-1473.3\" font-family=\"Helvetica,sans-Serif\" font-size=\"14.00\">gini = 0.0</text>\n<text text-anchor=\"middle\" x=\"243\" y=\"-1458.3\" font-family=\"Helvetica,sans-Serif\" font-size=\"14.00\">samples = 2</text>\n<text text-anchor=\"middle\" x=\"243\" y=\"-1443.3\" font-family=\"Helvetica,sans-Serif\" font-size=\"14.00\">value = [0, 2]</text>\n<text text-anchor=\"middle\" x=\"243\" y=\"-1428.3\" font-family=\"Helvetica,sans-Serif\" font-size=\"14.00\">class = a</text>\n</g>\n<!-- 5&#45;&gt;7 -->\n<g id=\"edge7\" class=\"edge\">\n<title>5&#45;&gt;7</title>\n<path fill=\"none\" stroke=\"black\" d=\"M205.78,-1531.91C211.15,-1520.87 216.99,-1508.9 222.41,-1497.77\"/>\n<polygon fill=\"black\" stroke=\"black\" points=\"225.61,-1499.19 226.84,-1488.67 219.32,-1496.12 225.61,-1499.19\"/>\n</g>\n<!-- 9 -->\n<g id=\"node10\" class=\"node\">\n<title>9</title>\n<polygon fill=\"#399de5\" stroke=\"black\" points=\"364.5,-1607.5 269.5,-1607.5 269.5,-1539.5 364.5,-1539.5 364.5,-1607.5\"/>\n<text text-anchor=\"middle\" x=\"317\" y=\"-1592.3\" font-family=\"Helvetica,sans-Serif\" font-size=\"14.00\">gini = 0.0</text>\n<text text-anchor=\"middle\" x=\"317\" y=\"-1577.3\" font-family=\"Helvetica,sans-Serif\" font-size=\"14.00\">samples = 9</text>\n<text text-anchor=\"middle\" x=\"317\" y=\"-1562.3\" font-family=\"Helvetica,sans-Serif\" font-size=\"14.00\">value = [0, 9]</text>\n<text text-anchor=\"middle\" x=\"317\" y=\"-1547.3\" font-family=\"Helvetica,sans-Serif\" font-size=\"14.00\">class = a</text>\n</g>\n<!-- 8&#45;&gt;9 -->\n<g id=\"edge9\" class=\"edge\">\n<title>8&#45;&gt;9</title>\n<path fill=\"none\" stroke=\"black\" d=\"M369.9,-1650.91C362.11,-1639.65 353.64,-1627.42 345.8,-1616.11\"/>\n<polygon fill=\"black\" stroke=\"black\" points=\"348.53,-1613.9 339.96,-1607.67 342.78,-1617.88 348.53,-1613.9\"/>\n</g>\n<!-- 10 -->\n<g id=\"node11\" class=\"node\">\n<title>10</title>\n<polygon fill=\"#e58139\" stroke=\"black\" points=\"485,-1607.5 383,-1607.5 383,-1539.5 485,-1539.5 485,-1607.5\"/>\n<text text-anchor=\"middle\" x=\"434\" y=\"-1592.3\" font-family=\"Helvetica,sans-Serif\" font-size=\"14.00\">gini = 0.0</text>\n<text text-anchor=\"middle\" x=\"434\" y=\"-1577.3\" font-family=\"Helvetica,sans-Serif\" font-size=\"14.00\">samples = 10</text>\n<text text-anchor=\"middle\" x=\"434\" y=\"-1562.3\" font-family=\"Helvetica,sans-Serif\" font-size=\"14.00\">value = [10, 0]</text>\n<text text-anchor=\"middle\" x=\"434\" y=\"-1547.3\" font-family=\"Helvetica,sans-Serif\" font-size=\"14.00\">class = t</text>\n</g>\n<!-- 8&#45;&gt;10 -->\n<g id=\"edge10\" class=\"edge\">\n<title>8&#45;&gt;10</title>\n<path fill=\"none\" stroke=\"black\" d=\"M410.49,-1650.91C413.82,-1640.09 417.42,-1628.38 420.79,-1617.44\"/>\n<polygon fill=\"black\" stroke=\"black\" points=\"424.2,-1618.25 423.79,-1607.67 417.51,-1616.2 424.2,-1618.25\"/>\n</g>\n<!-- 12 -->\n<g id=\"node13\" class=\"node\">\n<title>12</title>\n<polygon fill=\"#6ab6ec\" stroke=\"black\" points=\"709,-1734 599,-1734 599,-1651 709,-1651 709,-1734\"/>\n<text text-anchor=\"middle\" x=\"654\" y=\"-1718.8\" font-family=\"Helvetica,sans-Serif\" font-size=\"14.00\">alcohol &lt;= 9.45</text>\n<text text-anchor=\"middle\" x=\"654\" y=\"-1703.8\" font-family=\"Helvetica,sans-Serif\" font-size=\"14.00\">gini = 0.32</text>\n<text text-anchor=\"middle\" x=\"654\" y=\"-1688.8\" font-family=\"Helvetica,sans-Serif\" font-size=\"14.00\">samples = 5</text>\n<text text-anchor=\"middle\" x=\"654\" y=\"-1673.8\" font-family=\"Helvetica,sans-Serif\" font-size=\"14.00\">value = [1, 4]</text>\n<text text-anchor=\"middle\" x=\"654\" y=\"-1658.8\" font-family=\"Helvetica,sans-Serif\" font-size=\"14.00\">class = a</text>\n</g>\n<!-- 11&#45;&gt;12 -->\n<g id=\"edge12\" class=\"edge\">\n<title>11&#45;&gt;12</title>\n<path fill=\"none\" stroke=\"black\" d=\"M697.1,-1769.91C692.19,-1761.2 686.94,-1751.9 681.86,-1742.89\"/>\n<polygon fill=\"black\" stroke=\"black\" points=\"684.82,-1741.01 676.86,-1734.02 678.72,-1744.45 684.82,-1741.01\"/>\n</g>\n<!-- 15 -->\n<g id=\"node16\" class=\"node\">\n<title>15</title>\n<polygon fill=\"#e5823b\" stroke=\"black\" points=\"844.5,-1734 727.5,-1734 727.5,-1651 844.5,-1651 844.5,-1734\"/>\n<text text-anchor=\"middle\" x=\"786\" y=\"-1718.8\" font-family=\"Helvetica,sans-Serif\" font-size=\"14.00\">density &lt;= 0.991</text>\n<text text-anchor=\"middle\" x=\"786\" y=\"-1703.8\" font-family=\"Helvetica,sans-Serif\" font-size=\"14.00\">gini = 0.016</text>\n<text text-anchor=\"middle\" x=\"786\" y=\"-1688.8\" font-family=\"Helvetica,sans-Serif\" font-size=\"14.00\">samples = 973</text>\n<text text-anchor=\"middle\" x=\"786\" y=\"-1673.8\" font-family=\"Helvetica,sans-Serif\" font-size=\"14.00\">value = [965, 8]</text>\n<text text-anchor=\"middle\" x=\"786\" y=\"-1658.8\" font-family=\"Helvetica,sans-Serif\" font-size=\"14.00\">class = t</text>\n</g>\n<!-- 11&#45;&gt;15 -->\n<g id=\"edge15\" class=\"edge\">\n<title>11&#45;&gt;15</title>\n<path fill=\"none\" stroke=\"black\" d=\"M742.9,-1769.91C747.81,-1761.2 753.06,-1751.9 758.14,-1742.89\"/>\n<polygon fill=\"black\" stroke=\"black\" points=\"761.28,-1744.45 763.14,-1734.02 755.18,-1741.01 761.28,-1744.45\"/>\n</g>\n<!-- 13 -->\n<g id=\"node14\" class=\"node\">\n<title>13</title>\n<polygon fill=\"#e58139\" stroke=\"black\" points=\"598.5,-1607.5 503.5,-1607.5 503.5,-1539.5 598.5,-1539.5 598.5,-1607.5\"/>\n<text text-anchor=\"middle\" x=\"551\" y=\"-1592.3\" font-family=\"Helvetica,sans-Serif\" font-size=\"14.00\">gini = 0.0</text>\n<text text-anchor=\"middle\" x=\"551\" y=\"-1577.3\" font-family=\"Helvetica,sans-Serif\" font-size=\"14.00\">samples = 1</text>\n<text text-anchor=\"middle\" x=\"551\" y=\"-1562.3\" font-family=\"Helvetica,sans-Serif\" font-size=\"14.00\">value = [1, 0]</text>\n<text text-anchor=\"middle\" x=\"551\" y=\"-1547.3\" font-family=\"Helvetica,sans-Serif\" font-size=\"14.00\">class = t</text>\n</g>\n<!-- 12&#45;&gt;13 -->\n<g id=\"edge13\" class=\"edge\">\n<title>12&#45;&gt;13</title>\n<path fill=\"none\" stroke=\"black\" d=\"M618.26,-1650.91C608.16,-1639.43 597.16,-1626.94 587.04,-1615.44\"/>\n<polygon fill=\"black\" stroke=\"black\" points=\"589.43,-1612.86 580.2,-1607.67 584.18,-1617.49 589.43,-1612.86\"/>\n</g>\n<!-- 14 -->\n<g id=\"node15\" class=\"node\">\n<title>14</title>\n<polygon fill=\"#399de5\" stroke=\"black\" points=\"711.5,-1607.5 616.5,-1607.5 616.5,-1539.5 711.5,-1539.5 711.5,-1607.5\"/>\n<text text-anchor=\"middle\" x=\"664\" y=\"-1592.3\" font-family=\"Helvetica,sans-Serif\" font-size=\"14.00\">gini = 0.0</text>\n<text text-anchor=\"middle\" x=\"664\" y=\"-1577.3\" font-family=\"Helvetica,sans-Serif\" font-size=\"14.00\">samples = 4</text>\n<text text-anchor=\"middle\" x=\"664\" y=\"-1562.3\" font-family=\"Helvetica,sans-Serif\" font-size=\"14.00\">value = [0, 4]</text>\n<text text-anchor=\"middle\" x=\"664\" y=\"-1547.3\" font-family=\"Helvetica,sans-Serif\" font-size=\"14.00\">class = a</text>\n</g>\n<!-- 12&#45;&gt;14 -->\n<g id=\"edge14\" class=\"edge\">\n<title>12&#45;&gt;14</title>\n<path fill=\"none\" stroke=\"black\" d=\"M657.47,-1650.91C658.38,-1640.2 659.37,-1628.62 660.3,-1617.78\"/>\n<polygon fill=\"black\" stroke=\"black\" points=\"663.8,-1617.93 661.17,-1607.67 656.83,-1617.33 663.8,-1617.93\"/>\n</g>\n<!-- 16 -->\n<g id=\"node17\" class=\"node\">\n<title>16</title>\n<polygon fill=\"#399de5\" stroke=\"black\" points=\"824.5,-1607.5 729.5,-1607.5 729.5,-1539.5 824.5,-1539.5 824.5,-1607.5\"/>\n<text text-anchor=\"middle\" x=\"777\" y=\"-1592.3\" font-family=\"Helvetica,sans-Serif\" font-size=\"14.00\">gini = 0.0</text>\n<text text-anchor=\"middle\" x=\"777\" y=\"-1577.3\" font-family=\"Helvetica,sans-Serif\" font-size=\"14.00\">samples = 2</text>\n<text text-anchor=\"middle\" x=\"777\" y=\"-1562.3\" font-family=\"Helvetica,sans-Serif\" font-size=\"14.00\">value = [0, 2]</text>\n<text text-anchor=\"middle\" x=\"777\" y=\"-1547.3\" font-family=\"Helvetica,sans-Serif\" font-size=\"14.00\">class = a</text>\n</g>\n<!-- 15&#45;&gt;16 -->\n<g id=\"edge16\" class=\"edge\">\n<title>15&#45;&gt;16</title>\n<path fill=\"none\" stroke=\"black\" d=\"M782.88,-1650.91C782.05,-1640.2 781.16,-1628.62 780.33,-1617.78\"/>\n<polygon fill=\"black\" stroke=\"black\" points=\"783.81,-1617.37 779.55,-1607.67 776.83,-1617.91 783.81,-1617.37\"/>\n</g>\n<!-- 17 -->\n<g id=\"node18\" class=\"node\">\n<title>17</title>\n<polygon fill=\"#e5823a\" stroke=\"black\" points=\"959.5,-1615 842.5,-1615 842.5,-1532 959.5,-1532 959.5,-1615\"/>\n<text text-anchor=\"middle\" x=\"901\" y=\"-1599.8\" font-family=\"Helvetica,sans-Serif\" font-size=\"14.00\">density &lt;= 0.993</text>\n<text text-anchor=\"middle\" x=\"901\" y=\"-1584.8\" font-family=\"Helvetica,sans-Serif\" font-size=\"14.00\">gini = 0.012</text>\n<text text-anchor=\"middle\" x=\"901\" y=\"-1569.8\" font-family=\"Helvetica,sans-Serif\" font-size=\"14.00\">samples = 971</text>\n<text text-anchor=\"middle\" x=\"901\" y=\"-1554.8\" font-family=\"Helvetica,sans-Serif\" font-size=\"14.00\">value = [965, 6]</text>\n<text text-anchor=\"middle\" x=\"901\" y=\"-1539.8\" font-family=\"Helvetica,sans-Serif\" font-size=\"14.00\">class = t</text>\n</g>\n<!-- 15&#45;&gt;17 -->\n<g id=\"edge17\" class=\"edge\">\n<title>15&#45;&gt;17</title>\n<path fill=\"none\" stroke=\"black\" d=\"M825.9,-1650.91C835,-1641.65 844.75,-1631.73 854.11,-1622.21\"/>\n<polygon fill=\"black\" stroke=\"black\" points=\"856.66,-1624.61 861.17,-1615.02 851.67,-1619.7 856.66,-1624.61\"/>\n</g>\n<!-- 18 -->\n<g id=\"node19\" class=\"node\">\n<title>18</title>\n<polygon fill=\"#eca36f\" stroke=\"black\" points=\"735,-1496 577,-1496 577,-1413 735,-1413 735,-1496\"/>\n<text text-anchor=\"middle\" x=\"656\" y=\"-1480.8\" font-family=\"Helvetica,sans-Serif\" font-size=\"14.00\">volatile acidity &lt;= 0.275</text>\n<text text-anchor=\"middle\" x=\"656\" y=\"-1465.8\" font-family=\"Helvetica,sans-Serif\" font-size=\"14.00\">gini = 0.337</text>\n<text text-anchor=\"middle\" x=\"656\" y=\"-1450.8\" font-family=\"Helvetica,sans-Serif\" font-size=\"14.00\">samples = 14</text>\n<text text-anchor=\"middle\" x=\"656\" y=\"-1435.8\" font-family=\"Helvetica,sans-Serif\" font-size=\"14.00\">value = [11, 3]</text>\n<text text-anchor=\"middle\" x=\"656\" y=\"-1420.8\" font-family=\"Helvetica,sans-Serif\" font-size=\"14.00\">class = t</text>\n</g>\n<!-- 17&#45;&gt;18 -->\n<g id=\"edge18\" class=\"edge\">\n<title>17&#45;&gt;18</title>\n<path fill=\"none\" stroke=\"black\" d=\"M842.29,-1536.9C839.17,-1535.21 836.06,-1533.56 833,-1532 804.88,-1517.63 773.45,-1503.46 744.97,-1491.29\"/>\n<polygon fill=\"black\" stroke=\"black\" points=\"746,-1487.93 735.43,-1487.25 743.27,-1494.38 746,-1487.93\"/>\n</g>\n<!-- 21 -->\n<g id=\"node22\" class=\"node\">\n<title>21</title>\n<polygon fill=\"#e5813a\" stroke=\"black\" points=\"965,-1496 837,-1496 837,-1413 965,-1413 965,-1496\"/>\n<text text-anchor=\"middle\" x=\"901\" y=\"-1480.8\" font-family=\"Helvetica,sans-Serif\" font-size=\"14.00\">chlorides &lt;= 0.051</text>\n<text text-anchor=\"middle\" x=\"901\" y=\"-1465.8\" font-family=\"Helvetica,sans-Serif\" font-size=\"14.00\">gini = 0.006</text>\n<text text-anchor=\"middle\" x=\"901\" y=\"-1450.8\" font-family=\"Helvetica,sans-Serif\" font-size=\"14.00\">samples = 957</text>\n<text text-anchor=\"middle\" x=\"901\" y=\"-1435.8\" font-family=\"Helvetica,sans-Serif\" font-size=\"14.00\">value = [954, 3]</text>\n<text text-anchor=\"middle\" x=\"901\" y=\"-1420.8\" font-family=\"Helvetica,sans-Serif\" font-size=\"14.00\">class = t</text>\n</g>\n<!-- 17&#45;&gt;21 -->\n<g id=\"edge21\" class=\"edge\">\n<title>17&#45;&gt;21</title>\n<path fill=\"none\" stroke=\"black\" d=\"M901,-1531.91C901,-1523.65 901,-1514.86 901,-1506.3\"/>\n<polygon fill=\"black\" stroke=\"black\" points=\"904.5,-1506.02 901,-1496.02 897.5,-1506.02 904.5,-1506.02\"/>\n</g>\n<!-- 19 -->\n<g id=\"node20\" class=\"node\">\n<title>19</title>\n<polygon fill=\"#399de5\" stroke=\"black\" points=\"586.5,-1369.5 491.5,-1369.5 491.5,-1301.5 586.5,-1301.5 586.5,-1369.5\"/>\n<text text-anchor=\"middle\" x=\"539\" y=\"-1354.3\" font-family=\"Helvetica,sans-Serif\" font-size=\"14.00\">gini = 0.0</text>\n<text text-anchor=\"middle\" x=\"539\" y=\"-1339.3\" font-family=\"Helvetica,sans-Serif\" font-size=\"14.00\">samples = 3</text>\n<text text-anchor=\"middle\" x=\"539\" y=\"-1324.3\" font-family=\"Helvetica,sans-Serif\" font-size=\"14.00\">value = [0, 3]</text>\n<text text-anchor=\"middle\" x=\"539\" y=\"-1309.3\" font-family=\"Helvetica,sans-Serif\" font-size=\"14.00\">class = a</text>\n</g>\n<!-- 18&#45;&gt;19 -->\n<g id=\"edge19\" class=\"edge\">\n<title>18&#45;&gt;19</title>\n<path fill=\"none\" stroke=\"black\" d=\"M615.41,-1412.91C603.71,-1401.21 590.96,-1388.46 579.28,-1376.78\"/>\n<polygon fill=\"black\" stroke=\"black\" points=\"581.71,-1374.26 572.17,-1369.67 576.76,-1379.21 581.71,-1374.26\"/>\n</g>\n<!-- 20 -->\n<g id=\"node21\" class=\"node\">\n<title>20</title>\n<polygon fill=\"#e58139\" stroke=\"black\" points=\"707,-1369.5 605,-1369.5 605,-1301.5 707,-1301.5 707,-1369.5\"/>\n<text text-anchor=\"middle\" x=\"656\" y=\"-1354.3\" font-family=\"Helvetica,sans-Serif\" font-size=\"14.00\">gini = 0.0</text>\n<text text-anchor=\"middle\" x=\"656\" y=\"-1339.3\" font-family=\"Helvetica,sans-Serif\" font-size=\"14.00\">samples = 11</text>\n<text text-anchor=\"middle\" x=\"656\" y=\"-1324.3\" font-family=\"Helvetica,sans-Serif\" font-size=\"14.00\">value = [11, 0]</text>\n<text text-anchor=\"middle\" x=\"656\" y=\"-1309.3\" font-family=\"Helvetica,sans-Serif\" font-size=\"14.00\">class = t</text>\n</g>\n<!-- 18&#45;&gt;20 -->\n<g id=\"edge20\" class=\"edge\">\n<title>18&#45;&gt;20</title>\n<path fill=\"none\" stroke=\"black\" d=\"M656,-1412.91C656,-1402.2 656,-1390.62 656,-1379.78\"/>\n<polygon fill=\"black\" stroke=\"black\" points=\"659.5,-1379.67 656,-1369.67 652.5,-1379.67 659.5,-1379.67\"/>\n</g>\n<!-- 22 -->\n<g id=\"node23\" class=\"node\">\n<title>22</title>\n<polygon fill=\"#e89253\" stroke=\"black\" points=\"901,-1377 725,-1377 725,-1294 901,-1294 901,-1377\"/>\n<text text-anchor=\"middle\" x=\"813\" y=\"-1361.8\" font-family=\"Helvetica,sans-Serif\" font-size=\"14.00\">total sulfur dioxide &lt;= 64.5</text>\n<text text-anchor=\"middle\" x=\"813\" y=\"-1346.8\" font-family=\"Helvetica,sans-Serif\" font-size=\"14.00\">gini = 0.208</text>\n<text text-anchor=\"middle\" x=\"813\" y=\"-1331.8\" font-family=\"Helvetica,sans-Serif\" font-size=\"14.00\">samples = 17</text>\n<text text-anchor=\"middle\" x=\"813\" y=\"-1316.8\" font-family=\"Helvetica,sans-Serif\" font-size=\"14.00\">value = [15, 2]</text>\n<text text-anchor=\"middle\" x=\"813\" y=\"-1301.8\" font-family=\"Helvetica,sans-Serif\" font-size=\"14.00\">class = t</text>\n</g>\n<!-- 21&#45;&gt;22 -->\n<g id=\"edge22\" class=\"edge\">\n<title>21&#45;&gt;22</title>\n<path fill=\"none\" stroke=\"black\" d=\"M870.47,-1412.91C863.71,-1403.92 856.48,-1394.32 849.52,-1385.05\"/>\n<polygon fill=\"black\" stroke=\"black\" points=\"852.29,-1382.91 843.48,-1377.02 846.69,-1387.12 852.29,-1382.91\"/>\n</g>\n<!-- 29 -->\n<g id=\"node30\" class=\"node\">\n<title>29</title>\n<polygon fill=\"#e58139\" stroke=\"black\" points=\"1051,-1377 919,-1377 919,-1294 1051,-1294 1051,-1377\"/>\n<text text-anchor=\"middle\" x=\"985\" y=\"-1361.8\" font-family=\"Helvetica,sans-Serif\" font-size=\"14.00\">sulphates &lt;= 0.455</text>\n<text text-anchor=\"middle\" x=\"985\" y=\"-1346.8\" font-family=\"Helvetica,sans-Serif\" font-size=\"14.00\">gini = 0.002</text>\n<text text-anchor=\"middle\" x=\"985\" y=\"-1331.8\" font-family=\"Helvetica,sans-Serif\" font-size=\"14.00\">samples = 940</text>\n<text text-anchor=\"middle\" x=\"985\" y=\"-1316.8\" font-family=\"Helvetica,sans-Serif\" font-size=\"14.00\">value = [939, 1]</text>\n<text text-anchor=\"middle\" x=\"985\" y=\"-1301.8\" font-family=\"Helvetica,sans-Serif\" font-size=\"14.00\">class = t</text>\n</g>\n<!-- 21&#45;&gt;29 -->\n<g id=\"edge29\" class=\"edge\">\n<title>21&#45;&gt;29</title>\n<path fill=\"none\" stroke=\"black\" d=\"M930.14,-1412.91C936.53,-1404.01 943.35,-1394.51 949.94,-1385.33\"/>\n<polygon fill=\"black\" stroke=\"black\" points=\"952.92,-1387.19 955.91,-1377.02 947.23,-1383.1 952.92,-1387.19\"/>\n</g>\n<!-- 23 -->\n<g id=\"node24\" class=\"node\">\n<title>23</title>\n<polygon fill=\"#e78946\" stroke=\"black\" points=\"747,-1258 595,-1258 595,-1175 747,-1175 747,-1258\"/>\n<text text-anchor=\"middle\" x=\"671\" y=\"-1242.8\" font-family=\"Helvetica,sans-Serif\" font-size=\"14.00\">residual sugar &lt;= 2.75</text>\n<text text-anchor=\"middle\" x=\"671\" y=\"-1227.8\" font-family=\"Helvetica,sans-Serif\" font-size=\"14.00\">gini = 0.117</text>\n<text text-anchor=\"middle\" x=\"671\" y=\"-1212.8\" font-family=\"Helvetica,sans-Serif\" font-size=\"14.00\">samples = 16</text>\n<text text-anchor=\"middle\" x=\"671\" y=\"-1197.8\" font-family=\"Helvetica,sans-Serif\" font-size=\"14.00\">value = [15, 1]</text>\n<text text-anchor=\"middle\" x=\"671\" y=\"-1182.8\" font-family=\"Helvetica,sans-Serif\" font-size=\"14.00\">class = t</text>\n</g>\n<!-- 22&#45;&gt;23 -->\n<g id=\"edge23\" class=\"edge\">\n<title>22&#45;&gt;23</title>\n<path fill=\"none\" stroke=\"black\" d=\"M763.73,-1293.91C752.28,-1284.47 739.99,-1274.34 728.22,-1264.65\"/>\n<polygon fill=\"black\" stroke=\"black\" points=\"730.12,-1261.68 720.18,-1258.02 725.67,-1267.08 730.12,-1261.68\"/>\n</g>\n<!-- 28 -->\n<g id=\"node29\" class=\"node\">\n<title>28</title>\n<polygon fill=\"#399de5\" stroke=\"black\" points=\"860.5,-1250.5 765.5,-1250.5 765.5,-1182.5 860.5,-1182.5 860.5,-1250.5\"/>\n<text text-anchor=\"middle\" x=\"813\" y=\"-1235.3\" font-family=\"Helvetica,sans-Serif\" font-size=\"14.00\">gini = 0.0</text>\n<text text-anchor=\"middle\" x=\"813\" y=\"-1220.3\" font-family=\"Helvetica,sans-Serif\" font-size=\"14.00\">samples = 1</text>\n<text text-anchor=\"middle\" x=\"813\" y=\"-1205.3\" font-family=\"Helvetica,sans-Serif\" font-size=\"14.00\">value = [0, 1]</text>\n<text text-anchor=\"middle\" x=\"813\" y=\"-1190.3\" font-family=\"Helvetica,sans-Serif\" font-size=\"14.00\">class = a</text>\n</g>\n<!-- 22&#45;&gt;28 -->\n<g id=\"edge28\" class=\"edge\">\n<title>22&#45;&gt;28</title>\n<path fill=\"none\" stroke=\"black\" d=\"M813,-1293.91C813,-1283.2 813,-1271.62 813,-1260.78\"/>\n<polygon fill=\"black\" stroke=\"black\" points=\"816.5,-1260.67 813,-1250.67 809.5,-1260.67 816.5,-1260.67\"/>\n</g>\n<!-- 24 -->\n<g id=\"node25\" class=\"node\">\n<title>24</title>\n<polygon fill=\"#e58139\" stroke=\"black\" points=\"590,-1131.5 488,-1131.5 488,-1063.5 590,-1063.5 590,-1131.5\"/>\n<text text-anchor=\"middle\" x=\"539\" y=\"-1116.3\" font-family=\"Helvetica,sans-Serif\" font-size=\"14.00\">gini = 0.0</text>\n<text text-anchor=\"middle\" x=\"539\" y=\"-1101.3\" font-family=\"Helvetica,sans-Serif\" font-size=\"14.00\">samples = 14</text>\n<text text-anchor=\"middle\" x=\"539\" y=\"-1086.3\" font-family=\"Helvetica,sans-Serif\" font-size=\"14.00\">value = [14, 0]</text>\n<text text-anchor=\"middle\" x=\"539\" y=\"-1071.3\" font-family=\"Helvetica,sans-Serif\" font-size=\"14.00\">class = t</text>\n</g>\n<!-- 23&#45;&gt;24 -->\n<g id=\"edge24\" class=\"edge\">\n<title>23&#45;&gt;24</title>\n<path fill=\"none\" stroke=\"black\" d=\"M625.2,-1174.91C611.88,-1163.1 597.35,-1150.22 584.07,-1138.45\"/>\n<polygon fill=\"black\" stroke=\"black\" points=\"586.22,-1135.68 576.42,-1131.67 581.58,-1140.92 586.22,-1135.68\"/>\n</g>\n<!-- 25 -->\n<g id=\"node26\" class=\"node\">\n<title>25</title>\n<polygon fill=\"#ffffff\" stroke=\"black\" points=\"766,-1139 608,-1139 608,-1056 766,-1056 766,-1139\"/>\n<text text-anchor=\"middle\" x=\"687\" y=\"-1123.8\" font-family=\"Helvetica,sans-Serif\" font-size=\"14.00\">volatile acidity &lt;= 0.552</text>\n<text text-anchor=\"middle\" x=\"687\" y=\"-1108.8\" font-family=\"Helvetica,sans-Serif\" font-size=\"14.00\">gini = 0.5</text>\n<text text-anchor=\"middle\" x=\"687\" y=\"-1093.8\" font-family=\"Helvetica,sans-Serif\" font-size=\"14.00\">samples = 2</text>\n<text text-anchor=\"middle\" x=\"687\" y=\"-1078.8\" font-family=\"Helvetica,sans-Serif\" font-size=\"14.00\">value = [1, 1]</text>\n<text text-anchor=\"middle\" x=\"687\" y=\"-1063.8\" font-family=\"Helvetica,sans-Serif\" font-size=\"14.00\">class = t</text>\n</g>\n<!-- 23&#45;&gt;25 -->\n<g id=\"edge25\" class=\"edge\">\n<title>23&#45;&gt;25</title>\n<path fill=\"none\" stroke=\"black\" d=\"M676.55,-1174.91C677.69,-1166.56 678.91,-1157.67 680.09,-1149.02\"/>\n<polygon fill=\"black\" stroke=\"black\" points=\"683.57,-1149.4 681.46,-1139.02 676.64,-1148.45 683.57,-1149.4\"/>\n</g>\n<!-- 26 -->\n<g id=\"node27\" class=\"node\">\n<title>26</title>\n<polygon fill=\"#e58139\" stroke=\"black\" points=\"678.5,-1012.5 583.5,-1012.5 583.5,-944.5 678.5,-944.5 678.5,-1012.5\"/>\n<text text-anchor=\"middle\" x=\"631\" y=\"-997.3\" font-family=\"Helvetica,sans-Serif\" font-size=\"14.00\">gini = 0.0</text>\n<text text-anchor=\"middle\" x=\"631\" y=\"-982.3\" font-family=\"Helvetica,sans-Serif\" font-size=\"14.00\">samples = 1</text>\n<text text-anchor=\"middle\" x=\"631\" y=\"-967.3\" font-family=\"Helvetica,sans-Serif\" font-size=\"14.00\">value = [1, 0]</text>\n<text text-anchor=\"middle\" x=\"631\" y=\"-952.3\" font-family=\"Helvetica,sans-Serif\" font-size=\"14.00\">class = t</text>\n</g>\n<!-- 25&#45;&gt;26 -->\n<g id=\"edge26\" class=\"edge\">\n<title>25&#45;&gt;26</title>\n<path fill=\"none\" stroke=\"black\" d=\"M667.57,-1055.91C662.29,-1044.87 656.56,-1032.9 651.23,-1021.77\"/>\n<polygon fill=\"black\" stroke=\"black\" points=\"654.35,-1020.18 646.87,-1012.67 648.04,-1023.2 654.35,-1020.18\"/>\n</g>\n<!-- 27 -->\n<g id=\"node28\" class=\"node\">\n<title>27</title>\n<polygon fill=\"#399de5\" stroke=\"black\" points=\"791.5,-1012.5 696.5,-1012.5 696.5,-944.5 791.5,-944.5 791.5,-1012.5\"/>\n<text text-anchor=\"middle\" x=\"744\" y=\"-997.3\" font-family=\"Helvetica,sans-Serif\" font-size=\"14.00\">gini = 0.0</text>\n<text text-anchor=\"middle\" x=\"744\" y=\"-982.3\" font-family=\"Helvetica,sans-Serif\" font-size=\"14.00\">samples = 1</text>\n<text text-anchor=\"middle\" x=\"744\" y=\"-967.3\" font-family=\"Helvetica,sans-Serif\" font-size=\"14.00\">value = [0, 1]</text>\n<text text-anchor=\"middle\" x=\"744\" y=\"-952.3\" font-family=\"Helvetica,sans-Serif\" font-size=\"14.00\">class = a</text>\n</g>\n<!-- 25&#45;&gt;27 -->\n<g id=\"edge27\" class=\"edge\">\n<title>25&#45;&gt;27</title>\n<path fill=\"none\" stroke=\"black\" d=\"M706.78,-1055.91C712.15,-1044.87 717.99,-1032.9 723.41,-1021.77\"/>\n<polygon fill=\"black\" stroke=\"black\" points=\"726.61,-1023.19 727.84,-1012.67 720.32,-1020.12 726.61,-1023.19\"/>\n</g>\n<!-- 30 -->\n<g id=\"node31\" class=\"node\">\n<title>30</title>\n<polygon fill=\"#e68540\" stroke=\"black\" points=\"1055,-1258 879,-1258 879,-1175 1055,-1175 1055,-1258\"/>\n<text text-anchor=\"middle\" x=\"967\" y=\"-1242.8\" font-family=\"Helvetica,sans-Serif\" font-size=\"14.00\">total sulfur dioxide &lt;= 51.0</text>\n<text text-anchor=\"middle\" x=\"967\" y=\"-1227.8\" font-family=\"Helvetica,sans-Serif\" font-size=\"14.00\">gini = 0.064</text>\n<text text-anchor=\"middle\" x=\"967\" y=\"-1212.8\" font-family=\"Helvetica,sans-Serif\" font-size=\"14.00\">samples = 30</text>\n<text text-anchor=\"middle\" x=\"967\" y=\"-1197.8\" font-family=\"Helvetica,sans-Serif\" font-size=\"14.00\">value = [29, 1]</text>\n<text text-anchor=\"middle\" x=\"967\" y=\"-1182.8\" font-family=\"Helvetica,sans-Serif\" font-size=\"14.00\">class = t</text>\n</g>\n<!-- 29&#45;&gt;30 -->\n<g id=\"edge30\" class=\"edge\">\n<title>29&#45;&gt;30</title>\n<path fill=\"none\" stroke=\"black\" d=\"M978.75,-1293.91C977.47,-1285.56 976.1,-1276.67 974.77,-1268.02\"/>\n<polygon fill=\"black\" stroke=\"black\" points=\"978.21,-1267.37 973.23,-1258.02 971.3,-1268.44 978.21,-1267.37\"/>\n</g>\n<!-- 33 -->\n<g id=\"node34\" class=\"node\">\n<title>33</title>\n<polygon fill=\"#e58139\" stroke=\"black\" points=\"1183,-1250.5 1073,-1250.5 1073,-1182.5 1183,-1182.5 1183,-1250.5\"/>\n<text text-anchor=\"middle\" x=\"1128\" y=\"-1235.3\" font-family=\"Helvetica,sans-Serif\" font-size=\"14.00\">gini = 0.0</text>\n<text text-anchor=\"middle\" x=\"1128\" y=\"-1220.3\" font-family=\"Helvetica,sans-Serif\" font-size=\"14.00\">samples = 910</text>\n<text text-anchor=\"middle\" x=\"1128\" y=\"-1205.3\" font-family=\"Helvetica,sans-Serif\" font-size=\"14.00\">value = [910, 0]</text>\n<text text-anchor=\"middle\" x=\"1128\" y=\"-1190.3\" font-family=\"Helvetica,sans-Serif\" font-size=\"14.00\">class = t</text>\n</g>\n<!-- 29&#45;&gt;33 -->\n<g id=\"edge33\" class=\"edge\">\n<title>29&#45;&gt;33</title>\n<path fill=\"none\" stroke=\"black\" d=\"M1034.61,-1293.91C1049.18,-1281.99 1065.09,-1268.98 1079.58,-1257.12\"/>\n<polygon fill=\"black\" stroke=\"black\" points=\"1081.94,-1259.71 1087.46,-1250.67 1077.51,-1254.29 1081.94,-1259.71\"/>\n</g>\n<!-- 31 -->\n<g id=\"node32\" class=\"node\">\n<title>31</title>\n<polygon fill=\"#e58139\" stroke=\"black\" points=\"901,-1131.5 799,-1131.5 799,-1063.5 901,-1063.5 901,-1131.5\"/>\n<text text-anchor=\"middle\" x=\"850\" y=\"-1116.3\" font-family=\"Helvetica,sans-Serif\" font-size=\"14.00\">gini = 0.0</text>\n<text text-anchor=\"middle\" x=\"850\" y=\"-1101.3\" font-family=\"Helvetica,sans-Serif\" font-size=\"14.00\">samples = 29</text>\n<text text-anchor=\"middle\" x=\"850\" y=\"-1086.3\" font-family=\"Helvetica,sans-Serif\" font-size=\"14.00\">value = [29, 0]</text>\n<text text-anchor=\"middle\" x=\"850\" y=\"-1071.3\" font-family=\"Helvetica,sans-Serif\" font-size=\"14.00\">class = t</text>\n</g>\n<!-- 30&#45;&gt;31 -->\n<g id=\"edge31\" class=\"edge\">\n<title>30&#45;&gt;31</title>\n<path fill=\"none\" stroke=\"black\" d=\"M926.41,-1174.91C914.71,-1163.21 901.96,-1150.46 890.28,-1138.78\"/>\n<polygon fill=\"black\" stroke=\"black\" points=\"892.71,-1136.26 883.17,-1131.67 887.76,-1141.21 892.71,-1136.26\"/>\n</g>\n<!-- 32 -->\n<g id=\"node33\" class=\"node\">\n<title>32</title>\n<polygon fill=\"#399de5\" stroke=\"black\" points=\"1014.5,-1131.5 919.5,-1131.5 919.5,-1063.5 1014.5,-1063.5 1014.5,-1131.5\"/>\n<text text-anchor=\"middle\" x=\"967\" y=\"-1116.3\" font-family=\"Helvetica,sans-Serif\" font-size=\"14.00\">gini = 0.0</text>\n<text text-anchor=\"middle\" x=\"967\" y=\"-1101.3\" font-family=\"Helvetica,sans-Serif\" font-size=\"14.00\">samples = 1</text>\n<text text-anchor=\"middle\" x=\"967\" y=\"-1086.3\" font-family=\"Helvetica,sans-Serif\" font-size=\"14.00\">value = [0, 1]</text>\n<text text-anchor=\"middle\" x=\"967\" y=\"-1071.3\" font-family=\"Helvetica,sans-Serif\" font-size=\"14.00\">class = a</text>\n</g>\n<!-- 30&#45;&gt;32 -->\n<g id=\"edge32\" class=\"edge\">\n<title>30&#45;&gt;32</title>\n<path fill=\"none\" stroke=\"black\" d=\"M967,-1174.91C967,-1164.2 967,-1152.62 967,-1141.78\"/>\n<polygon fill=\"black\" stroke=\"black\" points=\"970.5,-1141.67 967,-1131.67 963.5,-1141.67 970.5,-1141.67\"/>\n</g>\n<!-- 35 -->\n<g id=\"node36\" class=\"node\">\n<title>35</title>\n<polygon fill=\"#3b9ee5\" stroke=\"black\" points=\"1786,-1853 1628,-1853 1628,-1770 1786,-1770 1786,-1853\"/>\n<text text-anchor=\"middle\" x=\"1707\" y=\"-1837.8\" font-family=\"Helvetica,sans-Serif\" font-size=\"14.00\">volatile acidity &lt;= 0.825</text>\n<text text-anchor=\"middle\" x=\"1707\" y=\"-1822.8\" font-family=\"Helvetica,sans-Serif\" font-size=\"14.00\">gini = 0.018</text>\n<text text-anchor=\"middle\" x=\"1707\" y=\"-1807.8\" font-family=\"Helvetica,sans-Serif\" font-size=\"14.00\">samples = 3702</text>\n<text text-anchor=\"middle\" x=\"1707\" y=\"-1792.8\" font-family=\"Helvetica,sans-Serif\" font-size=\"14.00\">value = [33, 3669]</text>\n<text text-anchor=\"middle\" x=\"1707\" y=\"-1777.8\" font-family=\"Helvetica,sans-Serif\" font-size=\"14.00\">class = a</text>\n</g>\n<!-- 34&#45;&gt;35 -->\n<g id=\"edge35\" class=\"edge\">\n<title>34&#45;&gt;35</title>\n<path fill=\"none\" stroke=\"black\" d=\"M1707,-1888.91C1707,-1880.65 1707,-1871.86 1707,-1863.3\"/>\n<polygon fill=\"black\" stroke=\"black\" points=\"1710.5,-1863.02 1707,-1853.02 1703.5,-1863.02 1710.5,-1863.02\"/>\n</g>\n<!-- 112 -->\n<g id=\"node113\" class=\"node\">\n<title>112</title>\n<polygon fill=\"#f9e4d4\" stroke=\"black\" points=\"2233,-1853 2075,-1853 2075,-1770 2233,-1770 2233,-1853\"/>\n<text text-anchor=\"middle\" x=\"2154\" y=\"-1837.8\" font-family=\"Helvetica,sans-Serif\" font-size=\"14.00\">volatile acidity &lt;= 0.405</text>\n<text text-anchor=\"middle\" x=\"2154\" y=\"-1822.8\" font-family=\"Helvetica,sans-Serif\" font-size=\"14.00\">gini = 0.493</text>\n<text text-anchor=\"middle\" x=\"2154\" y=\"-1807.8\" font-family=\"Helvetica,sans-Serif\" font-size=\"14.00\">samples = 421</text>\n<text text-anchor=\"middle\" x=\"2154\" y=\"-1792.8\" font-family=\"Helvetica,sans-Serif\" font-size=\"14.00\">value = [236, 185]</text>\n<text text-anchor=\"middle\" x=\"2154\" y=\"-1777.8\" font-family=\"Helvetica,sans-Serif\" font-size=\"14.00\">class = t</text>\n</g>\n<!-- 34&#45;&gt;112 -->\n<g id=\"edge112\" class=\"edge\">\n<title>34&#45;&gt;112</title>\n<path fill=\"none\" stroke=\"black\" d=\"M1773.44,-1912.11C1850.83,-1891.85 1979.04,-1858.29 2064.99,-1835.8\"/>\n<polygon fill=\"black\" stroke=\"black\" points=\"2065.95,-1839.16 2074.74,-1833.25 2064.18,-1832.39 2065.95,-1839.16\"/>\n</g>\n<!-- 36 -->\n<g id=\"node37\" class=\"node\">\n<title>36</title>\n<polygon fill=\"#3b9ee5\" stroke=\"black\" points=\"1695,-1734 1563,-1734 1563,-1651 1695,-1651 1695,-1734\"/>\n<text text-anchor=\"middle\" x=\"1629\" y=\"-1718.8\" font-family=\"Helvetica,sans-Serif\" font-size=\"14.00\">sulphates &lt;= 0.865</text>\n<text text-anchor=\"middle\" x=\"1629\" y=\"-1703.8\" font-family=\"Helvetica,sans-Serif\" font-size=\"14.00\">gini = 0.016</text>\n<text text-anchor=\"middle\" x=\"1629\" y=\"-1688.8\" font-family=\"Helvetica,sans-Serif\" font-size=\"14.00\">samples = 3693</text>\n<text text-anchor=\"middle\" x=\"1629\" y=\"-1673.8\" font-family=\"Helvetica,sans-Serif\" font-size=\"14.00\">value = [29, 3664]</text>\n<text text-anchor=\"middle\" x=\"1629\" y=\"-1658.8\" font-family=\"Helvetica,sans-Serif\" font-size=\"14.00\">class = a</text>\n</g>\n<!-- 35&#45;&gt;36 -->\n<g id=\"edge36\" class=\"edge\">\n<title>35&#45;&gt;36</title>\n<path fill=\"none\" stroke=\"black\" d=\"M1679.94,-1769.91C1674.07,-1761.1 1667.8,-1751.7 1661.74,-1742.61\"/>\n<polygon fill=\"black\" stroke=\"black\" points=\"1664.47,-1740.4 1656.01,-1734.02 1658.65,-1744.28 1664.47,-1740.4\"/>\n</g>\n<!-- 109 -->\n<g id=\"node110\" class=\"node\">\n<title>109</title>\n<polygon fill=\"#d7ebfa\" stroke=\"black\" points=\"1854.5,-1734 1717.5,-1734 1717.5,-1651 1854.5,-1651 1854.5,-1734\"/>\n<text text-anchor=\"middle\" x=\"1786\" y=\"-1718.8\" font-family=\"Helvetica,sans-Serif\" font-size=\"14.00\">fixed acidity &lt;= 5.95</text>\n<text text-anchor=\"middle\" x=\"1786\" y=\"-1703.8\" font-family=\"Helvetica,sans-Serif\" font-size=\"14.00\">gini = 0.494</text>\n<text text-anchor=\"middle\" x=\"1786\" y=\"-1688.8\" font-family=\"Helvetica,sans-Serif\" font-size=\"14.00\">samples = 9</text>\n<text text-anchor=\"middle\" x=\"1786\" y=\"-1673.8\" font-family=\"Helvetica,sans-Serif\" font-size=\"14.00\">value = [4, 5]</text>\n<text text-anchor=\"middle\" x=\"1786\" y=\"-1658.8\" font-family=\"Helvetica,sans-Serif\" font-size=\"14.00\">class = a</text>\n</g>\n<!-- 35&#45;&gt;109 -->\n<g id=\"edge109\" class=\"edge\">\n<title>35&#45;&gt;109</title>\n<path fill=\"none\" stroke=\"black\" d=\"M1734.41,-1769.91C1740.41,-1761.01 1746.83,-1751.51 1753.03,-1742.33\"/>\n<polygon fill=\"black\" stroke=\"black\" points=\"1755.94,-1744.27 1758.64,-1734.02 1750.14,-1740.35 1755.94,-1744.27\"/>\n</g>\n<!-- 37 -->\n<g id=\"node38\" class=\"node\">\n<title>37</title>\n<polygon fill=\"#3a9ee5\" stroke=\"black\" points=\"1477,-1615 1349,-1615 1349,-1532 1477,-1532 1477,-1615\"/>\n<text text-anchor=\"middle\" x=\"1413\" y=\"-1599.8\" font-family=\"Helvetica,sans-Serif\" font-size=\"14.00\">chlorides &lt;= 0.013</text>\n<text text-anchor=\"middle\" x=\"1413\" y=\"-1584.8\" font-family=\"Helvetica,sans-Serif\" font-size=\"14.00\">gini = 0.011</text>\n<text text-anchor=\"middle\" x=\"1413\" y=\"-1569.8\" font-family=\"Helvetica,sans-Serif\" font-size=\"14.00\">samples = 3652</text>\n<text text-anchor=\"middle\" x=\"1413\" y=\"-1554.8\" font-family=\"Helvetica,sans-Serif\" font-size=\"14.00\">value = [21, 3631]</text>\n<text text-anchor=\"middle\" x=\"1413\" y=\"-1539.8\" font-family=\"Helvetica,sans-Serif\" font-size=\"14.00\">class = a</text>\n</g>\n<!-- 36&#45;&gt;37 -->\n<g id=\"edge37\" class=\"edge\">\n<title>36&#45;&gt;37</title>\n<path fill=\"none\" stroke=\"black\" d=\"M1562.72,-1655.6C1538.54,-1642.5 1511.05,-1627.61 1486.29,-1614.2\"/>\n<polygon fill=\"black\" stroke=\"black\" points=\"1487.76,-1611.01 1477.3,-1609.33 1484.42,-1617.17 1487.76,-1611.01\"/>\n</g>\n<!-- 100 -->\n<g id=\"node101\" class=\"node\">\n<title>100</title>\n<polygon fill=\"#69b5eb\" stroke=\"black\" points=\"1720.5,-1615 1537.5,-1615 1537.5,-1532 1720.5,-1532 1720.5,-1615\"/>\n<text text-anchor=\"middle\" x=\"1629\" y=\"-1599.8\" font-family=\"Helvetica,sans-Serif\" font-size=\"14.00\">total sulfur dioxide &lt;= 101.5</text>\n<text text-anchor=\"middle\" x=\"1629\" y=\"-1584.8\" font-family=\"Helvetica,sans-Serif\" font-size=\"14.00\">gini = 0.314</text>\n<text text-anchor=\"middle\" x=\"1629\" y=\"-1569.8\" font-family=\"Helvetica,sans-Serif\" font-size=\"14.00\">samples = 41</text>\n<text text-anchor=\"middle\" x=\"1629\" y=\"-1554.8\" font-family=\"Helvetica,sans-Serif\" font-size=\"14.00\">value = [8, 33]</text>\n<text text-anchor=\"middle\" x=\"1629\" y=\"-1539.8\" font-family=\"Helvetica,sans-Serif\" font-size=\"14.00\">class = a</text>\n</g>\n<!-- 36&#45;&gt;100 -->\n<g id=\"edge100\" class=\"edge\">\n<title>36&#45;&gt;100</title>\n<path fill=\"none\" stroke=\"black\" d=\"M1629,-1650.91C1629,-1642.65 1629,-1633.86 1629,-1625.3\"/>\n<polygon fill=\"black\" stroke=\"black\" points=\"1632.5,-1625.02 1629,-1615.02 1625.5,-1625.02 1632.5,-1625.02\"/>\n</g>\n<!-- 38 -->\n<g id=\"node39\" class=\"node\">\n<title>38</title>\n<polygon fill=\"#f2c09c\" stroke=\"black\" points=\"1332.5,-1488.5 1237.5,-1488.5 1237.5,-1420.5 1332.5,-1420.5 1332.5,-1488.5\"/>\n<text text-anchor=\"middle\" x=\"1285\" y=\"-1473.3\" font-family=\"Helvetica,sans-Serif\" font-size=\"14.00\">gini = 0.444</text>\n<text text-anchor=\"middle\" x=\"1285\" y=\"-1458.3\" font-family=\"Helvetica,sans-Serif\" font-size=\"14.00\">samples = 3</text>\n<text text-anchor=\"middle\" x=\"1285\" y=\"-1443.3\" font-family=\"Helvetica,sans-Serif\" font-size=\"14.00\">value = [2, 1]</text>\n<text text-anchor=\"middle\" x=\"1285\" y=\"-1428.3\" font-family=\"Helvetica,sans-Serif\" font-size=\"14.00\">class = t</text>\n</g>\n<!-- 37&#45;&gt;38 -->\n<g id=\"edge38\" class=\"edge\">\n<title>37&#45;&gt;38</title>\n<path fill=\"none\" stroke=\"black\" d=\"M1368.59,-1531.91C1355.67,-1520.1 1341.58,-1507.22 1328.71,-1495.45\"/>\n<polygon fill=\"black\" stroke=\"black\" points=\"1331.03,-1492.83 1321.29,-1488.67 1326.3,-1498 1331.03,-1492.83\"/>\n</g>\n<!-- 39 -->\n<g id=\"node40\" class=\"node\">\n<title>39</title>\n<polygon fill=\"#3a9ee5\" stroke=\"black\" points=\"1475.5,-1496 1350.5,-1496 1350.5,-1413 1475.5,-1413 1475.5,-1496\"/>\n<text text-anchor=\"middle\" x=\"1413\" y=\"-1480.8\" font-family=\"Helvetica,sans-Serif\" font-size=\"14.00\">pH &lt;= 3.835</text>\n<text text-anchor=\"middle\" x=\"1413\" y=\"-1465.8\" font-family=\"Helvetica,sans-Serif\" font-size=\"14.00\">gini = 0.01</text>\n<text text-anchor=\"middle\" x=\"1413\" y=\"-1450.8\" font-family=\"Helvetica,sans-Serif\" font-size=\"14.00\">samples = 3649</text>\n<text text-anchor=\"middle\" x=\"1413\" y=\"-1435.8\" font-family=\"Helvetica,sans-Serif\" font-size=\"14.00\">value = [19, 3630]</text>\n<text text-anchor=\"middle\" x=\"1413\" y=\"-1420.8\" font-family=\"Helvetica,sans-Serif\" font-size=\"14.00\">class = a</text>\n</g>\n<!-- 37&#45;&gt;39 -->\n<g id=\"edge39\" class=\"edge\">\n<title>37&#45;&gt;39</title>\n<path fill=\"none\" stroke=\"black\" d=\"M1413,-1531.91C1413,-1523.65 1413,-1514.86 1413,-1506.3\"/>\n<polygon fill=\"black\" stroke=\"black\" points=\"1416.5,-1506.02 1413,-1496.02 1409.5,-1506.02 1416.5,-1506.02\"/>\n</g>\n<!-- 40 -->\n<g id=\"node41\" class=\"node\">\n<title>40</title>\n<polygon fill=\"#3a9de5\" stroke=\"black\" points=\"1347.5,-1377 1216.5,-1377 1216.5,-1294 1347.5,-1294 1347.5,-1377\"/>\n<text text-anchor=\"middle\" x=\"1282\" y=\"-1361.8\" font-family=\"Helvetica,sans-Serif\" font-size=\"14.00\">citric acid &lt;= 0.095</text>\n<text text-anchor=\"middle\" x=\"1282\" y=\"-1346.8\" font-family=\"Helvetica,sans-Serif\" font-size=\"14.00\">gini = 0.01</text>\n<text text-anchor=\"middle\" x=\"1282\" y=\"-1331.8\" font-family=\"Helvetica,sans-Serif\" font-size=\"14.00\">samples = 3648</text>\n<text text-anchor=\"middle\" x=\"1282\" y=\"-1316.8\" font-family=\"Helvetica,sans-Serif\" font-size=\"14.00\">value = [18, 3630]</text>\n<text text-anchor=\"middle\" x=\"1282\" y=\"-1301.8\" font-family=\"Helvetica,sans-Serif\" font-size=\"14.00\">class = a</text>\n</g>\n<!-- 39&#45;&gt;40 -->\n<g id=\"edge40\" class=\"edge\">\n<title>39&#45;&gt;40</title>\n<path fill=\"none\" stroke=\"black\" d=\"M1367.55,-1412.91C1357.08,-1403.56 1345.86,-1393.54 1335.1,-1383.93\"/>\n<polygon fill=\"black\" stroke=\"black\" points=\"1337.16,-1381.07 1327.37,-1377.02 1332.5,-1386.29 1337.16,-1381.07\"/>\n</g>\n<!-- 99 -->\n<g id=\"node100\" class=\"node\">\n<title>99</title>\n<polygon fill=\"#e58139\" stroke=\"black\" points=\"1460.5,-1369.5 1365.5,-1369.5 1365.5,-1301.5 1460.5,-1301.5 1460.5,-1369.5\"/>\n<text text-anchor=\"middle\" x=\"1413\" y=\"-1354.3\" font-family=\"Helvetica,sans-Serif\" font-size=\"14.00\">gini = 0.0</text>\n<text text-anchor=\"middle\" x=\"1413\" y=\"-1339.3\" font-family=\"Helvetica,sans-Serif\" font-size=\"14.00\">samples = 1</text>\n<text text-anchor=\"middle\" x=\"1413\" y=\"-1324.3\" font-family=\"Helvetica,sans-Serif\" font-size=\"14.00\">value = [1, 0]</text>\n<text text-anchor=\"middle\" x=\"1413\" y=\"-1309.3\" font-family=\"Helvetica,sans-Serif\" font-size=\"14.00\">class = t</text>\n</g>\n<!-- 39&#45;&gt;99 -->\n<g id=\"edge99\" class=\"edge\">\n<title>39&#45;&gt;99</title>\n<path fill=\"none\" stroke=\"black\" d=\"M1413,-1412.91C1413,-1402.2 1413,-1390.62 1413,-1379.78\"/>\n<polygon fill=\"black\" stroke=\"black\" points=\"1416.5,-1379.67 1413,-1369.67 1409.5,-1379.67 1416.5,-1379.67\"/>\n</g>\n<!-- 41 -->\n<g id=\"node42\" class=\"node\">\n<title>41</title>\n<polygon fill=\"#49a5e7\" stroke=\"black\" points=\"1325,-1258 1215,-1258 1215,-1175 1325,-1175 1325,-1258\"/>\n<text text-anchor=\"middle\" x=\"1270\" y=\"-1242.8\" font-family=\"Helvetica,sans-Serif\" font-size=\"14.00\">alcohol &lt;= 12.7</text>\n<text text-anchor=\"middle\" x=\"1270\" y=\"-1227.8\" font-family=\"Helvetica,sans-Serif\" font-size=\"14.00\">gini = 0.138</text>\n<text text-anchor=\"middle\" x=\"1270\" y=\"-1212.8\" font-family=\"Helvetica,sans-Serif\" font-size=\"14.00\">samples = 67</text>\n<text text-anchor=\"middle\" x=\"1270\" y=\"-1197.8\" font-family=\"Helvetica,sans-Serif\" font-size=\"14.00\">value = [5, 62]</text>\n<text text-anchor=\"middle\" x=\"1270\" y=\"-1182.8\" font-family=\"Helvetica,sans-Serif\" font-size=\"14.00\">class = a</text>\n</g>\n<!-- 40&#45;&gt;41 -->\n<g id=\"edge41\" class=\"edge\">\n<title>40&#45;&gt;41</title>\n<path fill=\"none\" stroke=\"black\" d=\"M1277.84,-1293.91C1276.98,-1285.56 1276.07,-1276.67 1275.18,-1268.02\"/>\n<polygon fill=\"black\" stroke=\"black\" points=\"1278.66,-1267.61 1274.16,-1258.02 1271.69,-1268.33 1278.66,-1267.61\"/>\n</g>\n<!-- 50 -->\n<g id=\"node51\" class=\"node\">\n<title>50</title>\n<polygon fill=\"#3a9de5\" stroke=\"black\" points=\"1492,-1258 1364,-1258 1364,-1175 1492,-1175 1492,-1258\"/>\n<text text-anchor=\"middle\" x=\"1428\" y=\"-1242.8\" font-family=\"Helvetica,sans-Serif\" font-size=\"14.00\">chlorides &lt;= 0.059</text>\n<text text-anchor=\"middle\" x=\"1428\" y=\"-1227.8\" font-family=\"Helvetica,sans-Serif\" font-size=\"14.00\">gini = 0.007</text>\n<text text-anchor=\"middle\" x=\"1428\" y=\"-1212.8\" font-family=\"Helvetica,sans-Serif\" font-size=\"14.00\">samples = 3581</text>\n<text text-anchor=\"middle\" x=\"1428\" y=\"-1197.8\" font-family=\"Helvetica,sans-Serif\" font-size=\"14.00\">value = [13, 3568]</text>\n<text text-anchor=\"middle\" x=\"1428\" y=\"-1182.8\" font-family=\"Helvetica,sans-Serif\" font-size=\"14.00\">class = a</text>\n</g>\n<!-- 40&#45;&gt;50 -->\n<g id=\"edge50\" class=\"edge\">\n<title>40&#45;&gt;50</title>\n<path fill=\"none\" stroke=\"black\" d=\"M1332.65,-1293.91C1344.54,-1284.38 1357.31,-1274.15 1369.51,-1264.37\"/>\n<polygon fill=\"black\" stroke=\"black\" points=\"1371.82,-1267.01 1377.44,-1258.02 1367.44,-1261.54 1371.82,-1267.01\"/>\n</g>\n<!-- 42 -->\n<g id=\"node43\" class=\"node\">\n<title>42</title>\n<polygon fill=\"#3c9fe5\" stroke=\"black\" points=\"1135,-1139 1033,-1139 1033,-1056 1135,-1056 1135,-1139\"/>\n<text text-anchor=\"middle\" x=\"1084\" y=\"-1123.8\" font-family=\"Helvetica,sans-Serif\" font-size=\"14.00\">pH &lt;= 3.52</text>\n<text text-anchor=\"middle\" x=\"1084\" y=\"-1108.8\" font-family=\"Helvetica,sans-Serif\" font-size=\"14.00\">gini = 0.032</text>\n<text text-anchor=\"middle\" x=\"1084\" y=\"-1093.8\" font-family=\"Helvetica,sans-Serif\" font-size=\"14.00\">samples = 62</text>\n<text text-anchor=\"middle\" x=\"1084\" y=\"-1078.8\" font-family=\"Helvetica,sans-Serif\" font-size=\"14.00\">value = [1, 61]</text>\n<text text-anchor=\"middle\" x=\"1084\" y=\"-1063.8\" font-family=\"Helvetica,sans-Serif\" font-size=\"14.00\">class = a</text>\n</g>\n<!-- 41&#45;&gt;42 -->\n<g id=\"edge42\" class=\"edge\">\n<title>41&#45;&gt;42</title>\n<path fill=\"none\" stroke=\"black\" d=\"M1214.95,-1180.87C1192.53,-1166.77 1166.56,-1150.44 1143.69,-1136.05\"/>\n<polygon fill=\"black\" stroke=\"black\" points=\"1145.42,-1133 1135.09,-1130.64 1141.69,-1138.93 1145.42,-1133\"/>\n</g>\n<!-- 47 -->\n<g id=\"node48\" class=\"node\">\n<title>47</title>\n<polygon fill=\"#eca06a\" stroke=\"black\" points=\"1356.5,-1139 1183.5,-1139 1183.5,-1056 1356.5,-1056 1356.5,-1139\"/>\n<text text-anchor=\"middle\" x=\"1270\" y=\"-1123.8\" font-family=\"Helvetica,sans-Serif\" font-size=\"14.00\">free sulfur dioxide &lt;= 29.5</text>\n<text text-anchor=\"middle\" x=\"1270\" y=\"-1108.8\" font-family=\"Helvetica,sans-Serif\" font-size=\"14.00\">gini = 0.32</text>\n<text text-anchor=\"middle\" x=\"1270\" y=\"-1093.8\" font-family=\"Helvetica,sans-Serif\" font-size=\"14.00\">samples = 5</text>\n<text text-anchor=\"middle\" x=\"1270\" y=\"-1078.8\" font-family=\"Helvetica,sans-Serif\" font-size=\"14.00\">value = [4, 1]</text>\n<text text-anchor=\"middle\" x=\"1270\" y=\"-1063.8\" font-family=\"Helvetica,sans-Serif\" font-size=\"14.00\">class = t</text>\n</g>\n<!-- 41&#45;&gt;47 -->\n<g id=\"edge47\" class=\"edge\">\n<title>41&#45;&gt;47</title>\n<path fill=\"none\" stroke=\"black\" d=\"M1270,-1174.91C1270,-1166.65 1270,-1157.86 1270,-1149.3\"/>\n<polygon fill=\"black\" stroke=\"black\" points=\"1273.5,-1149.02 1270,-1139.02 1266.5,-1149.02 1273.5,-1149.02\"/>\n</g>\n<!-- 43 -->\n<g id=\"node44\" class=\"node\">\n<title>43</title>\n<polygon fill=\"#399de5\" stroke=\"black\" points=\"988,-1012.5 886,-1012.5 886,-944.5 988,-944.5 988,-1012.5\"/>\n<text text-anchor=\"middle\" x=\"937\" y=\"-997.3\" font-family=\"Helvetica,sans-Serif\" font-size=\"14.00\">gini = 0.0</text>\n<text text-anchor=\"middle\" x=\"937\" y=\"-982.3\" font-family=\"Helvetica,sans-Serif\" font-size=\"14.00\">samples = 58</text>\n<text text-anchor=\"middle\" x=\"937\" y=\"-967.3\" font-family=\"Helvetica,sans-Serif\" font-size=\"14.00\">value = [0, 58]</text>\n<text text-anchor=\"middle\" x=\"937\" y=\"-952.3\" font-family=\"Helvetica,sans-Serif\" font-size=\"14.00\">class = a</text>\n</g>\n<!-- 42&#45;&gt;43 -->\n<g id=\"edge43\" class=\"edge\">\n<title>42&#45;&gt;43</title>\n<path fill=\"none\" stroke=\"black\" d=\"M1033,-1055.91C1018.03,-1043.99 1001.67,-1030.98 986.78,-1019.12\"/>\n<polygon fill=\"black\" stroke=\"black\" points=\"988.68,-1016.16 978.67,-1012.67 984.32,-1021.63 988.68,-1016.16\"/>\n</g>\n<!-- 44 -->\n<g id=\"node45\" class=\"node\">\n<title>44</title>\n<polygon fill=\"#7bbeee\" stroke=\"black\" points=\"1134,-1020 1006,-1020 1006,-937 1134,-937 1134,-1020\"/>\n<text text-anchor=\"middle\" x=\"1070\" y=\"-1004.8\" font-family=\"Helvetica,sans-Serif\" font-size=\"14.00\">chlorides &lt;= 0.054</text>\n<text text-anchor=\"middle\" x=\"1070\" y=\"-989.8\" font-family=\"Helvetica,sans-Serif\" font-size=\"14.00\">gini = 0.375</text>\n<text text-anchor=\"middle\" x=\"1070\" y=\"-974.8\" font-family=\"Helvetica,sans-Serif\" font-size=\"14.00\">samples = 4</text>\n<text text-anchor=\"middle\" x=\"1070\" y=\"-959.8\" font-family=\"Helvetica,sans-Serif\" font-size=\"14.00\">value = [1, 3]</text>\n<text text-anchor=\"middle\" x=\"1070\" y=\"-944.8\" font-family=\"Helvetica,sans-Serif\" font-size=\"14.00\">class = a</text>\n</g>\n<!-- 42&#45;&gt;44 -->\n<g id=\"edge44\" class=\"edge\">\n<title>42&#45;&gt;44</title>\n<path fill=\"none\" stroke=\"black\" d=\"M1079.14,-1055.91C1078.14,-1047.56 1077.08,-1038.67 1076.05,-1030.02\"/>\n<polygon fill=\"black\" stroke=\"black\" points=\"1079.51,-1029.53 1074.85,-1020.02 1072.56,-1030.37 1079.51,-1029.53\"/>\n</g>\n<!-- 45 -->\n<g id=\"node46\" class=\"node\">\n<title>45</title>\n<polygon fill=\"#399de5\" stroke=\"black\" points=\"1004.5,-893.5 909.5,-893.5 909.5,-825.5 1004.5,-825.5 1004.5,-893.5\"/>\n<text text-anchor=\"middle\" x=\"957\" y=\"-878.3\" font-family=\"Helvetica,sans-Serif\" font-size=\"14.00\">gini = 0.0</text>\n<text text-anchor=\"middle\" x=\"957\" y=\"-863.3\" font-family=\"Helvetica,sans-Serif\" font-size=\"14.00\">samples = 3</text>\n<text text-anchor=\"middle\" x=\"957\" y=\"-848.3\" font-family=\"Helvetica,sans-Serif\" font-size=\"14.00\">value = [0, 3]</text>\n<text text-anchor=\"middle\" x=\"957\" y=\"-833.3\" font-family=\"Helvetica,sans-Serif\" font-size=\"14.00\">class = a</text>\n</g>\n<!-- 44&#45;&gt;45 -->\n<g id=\"edge45\" class=\"edge\">\n<title>44&#45;&gt;45</title>\n<path fill=\"none\" stroke=\"black\" d=\"M1030.8,-936.91C1019.61,-925.32 1007.41,-912.7 996.22,-901.11\"/>\n<polygon fill=\"black\" stroke=\"black\" points=\"998.5,-898.43 989.03,-893.67 993.46,-903.29 998.5,-898.43\"/>\n</g>\n<!-- 46 -->\n<g id=\"node47\" class=\"node\">\n<title>46</title>\n<polygon fill=\"#e58139\" stroke=\"black\" points=\"1117.5,-893.5 1022.5,-893.5 1022.5,-825.5 1117.5,-825.5 1117.5,-893.5\"/>\n<text text-anchor=\"middle\" x=\"1070\" y=\"-878.3\" font-family=\"Helvetica,sans-Serif\" font-size=\"14.00\">gini = 0.0</text>\n<text text-anchor=\"middle\" x=\"1070\" y=\"-863.3\" font-family=\"Helvetica,sans-Serif\" font-size=\"14.00\">samples = 1</text>\n<text text-anchor=\"middle\" x=\"1070\" y=\"-848.3\" font-family=\"Helvetica,sans-Serif\" font-size=\"14.00\">value = [1, 0]</text>\n<text text-anchor=\"middle\" x=\"1070\" y=\"-833.3\" font-family=\"Helvetica,sans-Serif\" font-size=\"14.00\">class = t</text>\n</g>\n<!-- 44&#45;&gt;46 -->\n<g id=\"edge46\" class=\"edge\">\n<title>44&#45;&gt;46</title>\n<path fill=\"none\" stroke=\"black\" d=\"M1070,-936.91C1070,-926.2 1070,-914.62 1070,-903.78\"/>\n<polygon fill=\"black\" stroke=\"black\" points=\"1073.5,-903.67 1070,-893.67 1066.5,-903.67 1073.5,-903.67\"/>\n</g>\n<!-- 48 -->\n<g id=\"node49\" class=\"node\">\n<title>48</title>\n<polygon fill=\"#e58139\" stroke=\"black\" points=\"1247.5,-1012.5 1152.5,-1012.5 1152.5,-944.5 1247.5,-944.5 1247.5,-1012.5\"/>\n<text text-anchor=\"middle\" x=\"1200\" y=\"-997.3\" font-family=\"Helvetica,sans-Serif\" font-size=\"14.00\">gini = 0.0</text>\n<text text-anchor=\"middle\" x=\"1200\" y=\"-982.3\" font-family=\"Helvetica,sans-Serif\" font-size=\"14.00\">samples = 4</text>\n<text text-anchor=\"middle\" x=\"1200\" y=\"-967.3\" font-family=\"Helvetica,sans-Serif\" font-size=\"14.00\">value = [4, 0]</text>\n<text text-anchor=\"middle\" x=\"1200\" y=\"-952.3\" font-family=\"Helvetica,sans-Serif\" font-size=\"14.00\">class = t</text>\n</g>\n<!-- 47&#45;&gt;48 -->\n<g id=\"edge48\" class=\"edge\">\n<title>47&#45;&gt;48</title>\n<path fill=\"none\" stroke=\"black\" d=\"M1245.71,-1055.91C1239.05,-1044.76 1231.8,-1032.66 1225.09,-1021.44\"/>\n<polygon fill=\"black\" stroke=\"black\" points=\"1227.98,-1019.45 1219.84,-1012.67 1221.97,-1023.05 1227.98,-1019.45\"/>\n</g>\n<!-- 49 -->\n<g id=\"node50\" class=\"node\">\n<title>49</title>\n<polygon fill=\"#399de5\" stroke=\"black\" points=\"1360.5,-1012.5 1265.5,-1012.5 1265.5,-944.5 1360.5,-944.5 1360.5,-1012.5\"/>\n<text text-anchor=\"middle\" x=\"1313\" y=\"-997.3\" font-family=\"Helvetica,sans-Serif\" font-size=\"14.00\">gini = 0.0</text>\n<text text-anchor=\"middle\" x=\"1313\" y=\"-982.3\" font-family=\"Helvetica,sans-Serif\" font-size=\"14.00\">samples = 1</text>\n<text text-anchor=\"middle\" x=\"1313\" y=\"-967.3\" font-family=\"Helvetica,sans-Serif\" font-size=\"14.00\">value = [0, 1]</text>\n<text text-anchor=\"middle\" x=\"1313\" y=\"-952.3\" font-family=\"Helvetica,sans-Serif\" font-size=\"14.00\">class = a</text>\n</g>\n<!-- 47&#45;&gt;49 -->\n<g id=\"edge49\" class=\"edge\">\n<title>47&#45;&gt;49</title>\n<path fill=\"none\" stroke=\"black\" d=\"M1284.92,-1055.91C1288.93,-1044.98 1293.29,-1033.14 1297.34,-1022.11\"/>\n<polygon fill=\"black\" stroke=\"black\" points=\"1300.65,-1023.26 1300.81,-1012.67 1294.08,-1020.85 1300.65,-1023.26\"/>\n</g>\n<!-- 51 -->\n<g id=\"node52\" class=\"node\">\n<title>51</title>\n<polygon fill=\"#399de5\" stroke=\"black\" points=\"1528,-1139 1396,-1139 1396,-1056 1528,-1056 1528,-1139\"/>\n<text text-anchor=\"middle\" x=\"1462\" y=\"-1123.8\" font-family=\"Helvetica,sans-Serif\" font-size=\"14.00\">sulphates &lt;= 0.785</text>\n<text text-anchor=\"middle\" x=\"1462\" y=\"-1108.8\" font-family=\"Helvetica,sans-Serif\" font-size=\"14.00\">gini = 0.003</text>\n<text text-anchor=\"middle\" x=\"1462\" y=\"-1093.8\" font-family=\"Helvetica,sans-Serif\" font-size=\"14.00\">samples = 3450</text>\n<text text-anchor=\"middle\" x=\"1462\" y=\"-1078.8\" font-family=\"Helvetica,sans-Serif\" font-size=\"14.00\">value = [6, 3444]</text>\n<text text-anchor=\"middle\" x=\"1462\" y=\"-1063.8\" font-family=\"Helvetica,sans-Serif\" font-size=\"14.00\">class = a</text>\n</g>\n<!-- 50&#45;&gt;51 -->\n<g id=\"edge51\" class=\"edge\">\n<title>50&#45;&gt;51</title>\n<path fill=\"none\" stroke=\"black\" d=\"M1439.8,-1174.91C1442.25,-1166.47 1444.86,-1157.48 1447.4,-1148.74\"/>\n<polygon fill=\"black\" stroke=\"black\" points=\"1450.8,-1149.6 1450.22,-1139.02 1444.07,-1147.65 1450.8,-1149.6\"/>\n</g>\n<!-- 84 -->\n<g id=\"node85\" class=\"node\">\n<title>84</title>\n<polygon fill=\"#44a3e6\" stroke=\"black\" points=\"1893,-1139 1717,-1139 1717,-1056 1893,-1056 1893,-1139\"/>\n<text text-anchor=\"middle\" x=\"1805\" y=\"-1123.8\" font-family=\"Helvetica,sans-Serif\" font-size=\"14.00\">total sulfur dioxide &lt;= 77.0</text>\n<text text-anchor=\"middle\" x=\"1805\" y=\"-1108.8\" font-family=\"Helvetica,sans-Serif\" font-size=\"14.00\">gini = 0.101</text>\n<text text-anchor=\"middle\" x=\"1805\" y=\"-1093.8\" font-family=\"Helvetica,sans-Serif\" font-size=\"14.00\">samples = 131</text>\n<text text-anchor=\"middle\" x=\"1805\" y=\"-1078.8\" font-family=\"Helvetica,sans-Serif\" font-size=\"14.00\">value = [7, 124]</text>\n<text text-anchor=\"middle\" x=\"1805\" y=\"-1063.8\" font-family=\"Helvetica,sans-Serif\" font-size=\"14.00\">class = a</text>\n</g>\n<!-- 50&#45;&gt;84 -->\n<g id=\"edge84\" class=\"edge\">\n<title>50&#45;&gt;84</title>\n<path fill=\"none\" stroke=\"black\" d=\"M1492.04,-1178.78C1495.04,-1177.44 1498.03,-1176.17 1501,-1175 1567.76,-1148.6 1646.43,-1129.1 1707.02,-1116.39\"/>\n<polygon fill=\"black\" stroke=\"black\" points=\"1707.88,-1119.79 1716.96,-1114.33 1706.46,-1112.93 1707.88,-1119.79\"/>\n</g>\n<!-- 52 -->\n<g id=\"node53\" class=\"node\">\n<title>52</title>\n<polygon fill=\"#399de5\" stroke=\"black\" points=\"1545,-1020 1379,-1020 1379,-937 1545,-937 1545,-1020\"/>\n<text text-anchor=\"middle\" x=\"1462\" y=\"-1004.8\" font-family=\"Helvetica,sans-Serif\" font-size=\"14.00\">free sulfur dioxide &lt;= 6.5</text>\n<text text-anchor=\"middle\" x=\"1462\" y=\"-989.8\" font-family=\"Helvetica,sans-Serif\" font-size=\"14.00\">gini = 0.002</text>\n<text text-anchor=\"middle\" x=\"1462\" y=\"-974.8\" font-family=\"Helvetica,sans-Serif\" font-size=\"14.00\">samples = 3411</text>\n<text text-anchor=\"middle\" x=\"1462\" y=\"-959.8\" font-family=\"Helvetica,sans-Serif\" font-size=\"14.00\">value = [4, 3407]</text>\n<text text-anchor=\"middle\" x=\"1462\" y=\"-944.8\" font-family=\"Helvetica,sans-Serif\" font-size=\"14.00\">class = a</text>\n</g>\n<!-- 51&#45;&gt;52 -->\n<g id=\"edge52\" class=\"edge\">\n<title>51&#45;&gt;52</title>\n<path fill=\"none\" stroke=\"black\" d=\"M1462,-1055.91C1462,-1047.65 1462,-1038.86 1462,-1030.3\"/>\n<polygon fill=\"black\" stroke=\"black\" points=\"1465.5,-1030.02 1462,-1020.02 1458.5,-1030.02 1465.5,-1030.02\"/>\n</g>\n<!-- 79 -->\n<g id=\"node80\" class=\"node\">\n<title>79</title>\n<polygon fill=\"#44a2e6\" stroke=\"black\" points=\"1739,-1020 1563,-1020 1563,-937 1739,-937 1739,-1020\"/>\n<text text-anchor=\"middle\" x=\"1651\" y=\"-1004.8\" font-family=\"Helvetica,sans-Serif\" font-size=\"14.00\">total sulfur dioxide &lt;= 82.5</text>\n<text text-anchor=\"middle\" x=\"1651\" y=\"-989.8\" font-family=\"Helvetica,sans-Serif\" font-size=\"14.00\">gini = 0.097</text>\n<text text-anchor=\"middle\" x=\"1651\" y=\"-974.8\" font-family=\"Helvetica,sans-Serif\" font-size=\"14.00\">samples = 39</text>\n<text text-anchor=\"middle\" x=\"1651\" y=\"-959.8\" font-family=\"Helvetica,sans-Serif\" font-size=\"14.00\">value = [2, 37]</text>\n<text text-anchor=\"middle\" x=\"1651\" y=\"-944.8\" font-family=\"Helvetica,sans-Serif\" font-size=\"14.00\">class = a</text>\n</g>\n<!-- 51&#45;&gt;79 -->\n<g id=\"edge79\" class=\"edge\">\n<title>51&#45;&gt;79</title>\n<path fill=\"none\" stroke=\"black\" d=\"M1527.57,-1055.91C1543.41,-1046.11 1560.44,-1035.56 1576.64,-1025.53\"/>\n<polygon fill=\"black\" stroke=\"black\" points=\"1578.88,-1028.26 1585.54,-1020.02 1575.2,-1022.31 1578.88,-1028.26\"/>\n</g>\n<!-- 53 -->\n<g id=\"node54\" class=\"node\">\n<title>53</title>\n<polygon fill=\"#3fa0e6\" stroke=\"black\" points=\"1288,-901 1136,-901 1136,-818 1288,-818 1288,-901\"/>\n<text text-anchor=\"middle\" x=\"1212\" y=\"-885.8\" font-family=\"Helvetica,sans-Serif\" font-size=\"14.00\">residual sugar &lt;= 11.7</text>\n<text text-anchor=\"middle\" x=\"1212\" y=\"-870.8\" font-family=\"Helvetica,sans-Serif\" font-size=\"14.00\">gini = 0.061</text>\n<text text-anchor=\"middle\" x=\"1212\" y=\"-855.8\" font-family=\"Helvetica,sans-Serif\" font-size=\"14.00\">samples = 32</text>\n<text text-anchor=\"middle\" x=\"1212\" y=\"-840.8\" font-family=\"Helvetica,sans-Serif\" font-size=\"14.00\">value = [1, 31]</text>\n<text text-anchor=\"middle\" x=\"1212\" y=\"-825.8\" font-family=\"Helvetica,sans-Serif\" font-size=\"14.00\">class = a</text>\n</g>\n<!-- 52&#45;&gt;53 -->\n<g id=\"edge53\" class=\"edge\">\n<title>52&#45;&gt;53</title>\n<path fill=\"none\" stroke=\"black\" d=\"M1378.75,-938.54C1352.58,-926.29 1323.65,-912.75 1297.33,-900.43\"/>\n<polygon fill=\"black\" stroke=\"black\" points=\"1298.68,-897.2 1288.14,-896.13 1295.71,-903.54 1298.68,-897.2\"/>\n</g>\n<!-- 58 -->\n<g id=\"node59\" class=\"node\">\n<title>58</title>\n<polygon fill=\"#399de5\" stroke=\"black\" points=\"1520.5,-901 1403.5,-901 1403.5,-818 1520.5,-818 1520.5,-901\"/>\n<text text-anchor=\"middle\" x=\"1462\" y=\"-885.8\" font-family=\"Helvetica,sans-Serif\" font-size=\"14.00\">pH &lt;= 2.895</text>\n<text text-anchor=\"middle\" x=\"1462\" y=\"-870.8\" font-family=\"Helvetica,sans-Serif\" font-size=\"14.00\">gini = 0.002</text>\n<text text-anchor=\"middle\" x=\"1462\" y=\"-855.8\" font-family=\"Helvetica,sans-Serif\" font-size=\"14.00\">samples = 3379</text>\n<text text-anchor=\"middle\" x=\"1462\" y=\"-840.8\" font-family=\"Helvetica,sans-Serif\" font-size=\"14.00\">value = [3, 3376]</text>\n<text text-anchor=\"middle\" x=\"1462\" y=\"-825.8\" font-family=\"Helvetica,sans-Serif\" font-size=\"14.00\">class = a</text>\n</g>\n<!-- 52&#45;&gt;58 -->\n<g id=\"edge58\" class=\"edge\">\n<title>52&#45;&gt;58</title>\n<path fill=\"none\" stroke=\"black\" d=\"M1462,-936.91C1462,-928.65 1462,-919.86 1462,-911.3\"/>\n<polygon fill=\"black\" stroke=\"black\" points=\"1465.5,-911.02 1462,-901.02 1458.5,-911.02 1465.5,-911.02\"/>\n</g>\n<!-- 54 -->\n<g id=\"node55\" class=\"node\">\n<title>54</title>\n<polygon fill=\"#399de5\" stroke=\"black\" points=\"1054,-774.5 952,-774.5 952,-706.5 1054,-706.5 1054,-774.5\"/>\n<text text-anchor=\"middle\" x=\"1003\" y=\"-759.3\" font-family=\"Helvetica,sans-Serif\" font-size=\"14.00\">gini = 0.0</text>\n<text text-anchor=\"middle\" x=\"1003\" y=\"-744.3\" font-family=\"Helvetica,sans-Serif\" font-size=\"14.00\">samples = 30</text>\n<text text-anchor=\"middle\" x=\"1003\" y=\"-729.3\" font-family=\"Helvetica,sans-Serif\" font-size=\"14.00\">value = [0, 30]</text>\n<text text-anchor=\"middle\" x=\"1003\" y=\"-714.3\" font-family=\"Helvetica,sans-Serif\" font-size=\"14.00\">class = a</text>\n</g>\n<!-- 53&#45;&gt;54 -->\n<g id=\"edge54\" class=\"edge\">\n<title>53&#45;&gt;54</title>\n<path fill=\"none\" stroke=\"black\" d=\"M1135.63,-821.5C1112.03,-809.48 1086.15,-795.69 1063,-782 1061.87,-781.33 1060.74,-780.66 1059.6,-779.97\"/>\n<polygon fill=\"black\" stroke=\"black\" points=\"1061.16,-776.81 1050.81,-774.51 1057.46,-782.76 1061.16,-776.81\"/>\n</g>\n<!-- 55 -->\n<g id=\"node56\" class=\"node\">\n<title>55</title>\n<polygon fill=\"#ffffff\" stroke=\"black\" points=\"1248,-782 1072,-782 1072,-699 1248,-699 1248,-782\"/>\n<text text-anchor=\"middle\" x=\"1160\" y=\"-766.8\" font-family=\"Helvetica,sans-Serif\" font-size=\"14.00\">total sulfur dioxide &lt;= 96.0</text>\n<text text-anchor=\"middle\" x=\"1160\" y=\"-751.8\" font-family=\"Helvetica,sans-Serif\" font-size=\"14.00\">gini = 0.5</text>\n<text text-anchor=\"middle\" x=\"1160\" y=\"-736.8\" font-family=\"Helvetica,sans-Serif\" font-size=\"14.00\">samples = 2</text>\n<text text-anchor=\"middle\" x=\"1160\" y=\"-721.8\" font-family=\"Helvetica,sans-Serif\" font-size=\"14.00\">value = [1, 1]</text>\n<text text-anchor=\"middle\" x=\"1160\" y=\"-706.8\" font-family=\"Helvetica,sans-Serif\" font-size=\"14.00\">class = t</text>\n</g>\n<!-- 53&#45;&gt;55 -->\n<g id=\"edge55\" class=\"edge\">\n<title>53&#45;&gt;55</title>\n<path fill=\"none\" stroke=\"black\" d=\"M1193.96,-817.91C1190.13,-809.29 1186.04,-800.09 1182.08,-791.17\"/>\n<polygon fill=\"black\" stroke=\"black\" points=\"1185.27,-789.74 1178.01,-782.02 1178.87,-792.58 1185.27,-789.74\"/>\n</g>\n<!-- 56 -->\n<g id=\"node57\" class=\"node\">\n<title>56</title>\n<polygon fill=\"#399de5\" stroke=\"black\" points=\"1040.5,-655.5 945.5,-655.5 945.5,-587.5 1040.5,-587.5 1040.5,-655.5\"/>\n<text text-anchor=\"middle\" x=\"993\" y=\"-640.3\" font-family=\"Helvetica,sans-Serif\" font-size=\"14.00\">gini = 0.0</text>\n<text text-anchor=\"middle\" x=\"993\" y=\"-625.3\" font-family=\"Helvetica,sans-Serif\" font-size=\"14.00\">samples = 1</text>\n<text text-anchor=\"middle\" x=\"993\" y=\"-610.3\" font-family=\"Helvetica,sans-Serif\" font-size=\"14.00\">value = [0, 1]</text>\n<text text-anchor=\"middle\" x=\"993\" y=\"-595.3\" font-family=\"Helvetica,sans-Serif\" font-size=\"14.00\">class = a</text>\n</g>\n<!-- 55&#45;&gt;56 -->\n<g id=\"edge56\" class=\"edge\">\n<title>55&#45;&gt;56</title>\n<path fill=\"none\" stroke=\"black\" d=\"M1100.49,-698.86C1083.78,-687.34 1065.63,-674.74 1049,-663 1048.25,-662.47 1047.49,-661.94 1046.73,-661.4\"/>\n<polygon fill=\"black\" stroke=\"black\" points=\"1048.65,-658.47 1038.48,-655.52 1044.59,-664.17 1048.65,-658.47\"/>\n</g>\n<!-- 57 -->\n<g id=\"node58\" class=\"node\">\n<title>57</title>\n<polygon fill=\"#e58139\" stroke=\"black\" points=\"1153.5,-655.5 1058.5,-655.5 1058.5,-587.5 1153.5,-587.5 1153.5,-655.5\"/>\n<text text-anchor=\"middle\" x=\"1106\" y=\"-640.3\" font-family=\"Helvetica,sans-Serif\" font-size=\"14.00\">gini = 0.0</text>\n<text text-anchor=\"middle\" x=\"1106\" y=\"-625.3\" font-family=\"Helvetica,sans-Serif\" font-size=\"14.00\">samples = 1</text>\n<text text-anchor=\"middle\" x=\"1106\" y=\"-610.3\" font-family=\"Helvetica,sans-Serif\" font-size=\"14.00\">value = [1, 0]</text>\n<text text-anchor=\"middle\" x=\"1106\" y=\"-595.3\" font-family=\"Helvetica,sans-Serif\" font-size=\"14.00\">class = t</text>\n</g>\n<!-- 55&#45;&gt;57 -->\n<g id=\"edge57\" class=\"edge\">\n<title>55&#45;&gt;57</title>\n<path fill=\"none\" stroke=\"black\" d=\"M1141.26,-698.91C1136.17,-687.87 1130.65,-675.9 1125.51,-664.77\"/>\n<polygon fill=\"black\" stroke=\"black\" points=\"1128.68,-663.28 1121.31,-655.67 1122.32,-666.21 1128.68,-663.28\"/>\n</g>\n<!-- 59 -->\n<g id=\"node60\" class=\"node\">\n<title>59</title>\n<polygon fill=\"#3fa0e6\" stroke=\"black\" points=\"1436.5,-782 1319.5,-782 1319.5,-699 1436.5,-699 1436.5,-782\"/>\n<text text-anchor=\"middle\" x=\"1378\" y=\"-766.8\" font-family=\"Helvetica,sans-Serif\" font-size=\"14.00\">alcohol &lt;= 12.35</text>\n<text text-anchor=\"middle\" x=\"1378\" y=\"-751.8\" font-family=\"Helvetica,sans-Serif\" font-size=\"14.00\">gini = 0.057</text>\n<text text-anchor=\"middle\" x=\"1378\" y=\"-736.8\" font-family=\"Helvetica,sans-Serif\" font-size=\"14.00\">samples = 34</text>\n<text text-anchor=\"middle\" x=\"1378\" y=\"-721.8\" font-family=\"Helvetica,sans-Serif\" font-size=\"14.00\">value = [1, 33]</text>\n<text text-anchor=\"middle\" x=\"1378\" y=\"-706.8\" font-family=\"Helvetica,sans-Serif\" font-size=\"14.00\">class = a</text>\n</g>\n<!-- 58&#45;&gt;59 -->\n<g id=\"edge59\" class=\"edge\">\n<title>58&#45;&gt;59</title>\n<path fill=\"none\" stroke=\"black\" d=\"M1432.86,-817.91C1426.47,-809.01 1419.65,-799.51 1413.06,-790.33\"/>\n<polygon fill=\"black\" stroke=\"black\" points=\"1415.77,-788.1 1407.09,-782.02 1410.08,-792.19 1415.77,-788.1\"/>\n</g>\n<!-- 64 -->\n<g id=\"node65\" class=\"node\">\n<title>64</title>\n<polygon fill=\"#399de5\" stroke=\"black\" points=\"1585.5,-782 1454.5,-782 1454.5,-699 1585.5,-699 1585.5,-782\"/>\n<text text-anchor=\"middle\" x=\"1520\" y=\"-766.8\" font-family=\"Helvetica,sans-Serif\" font-size=\"14.00\">citric acid &lt;= 0.235</text>\n<text text-anchor=\"middle\" x=\"1520\" y=\"-751.8\" font-family=\"Helvetica,sans-Serif\" font-size=\"14.00\">gini = 0.001</text>\n<text text-anchor=\"middle\" x=\"1520\" y=\"-736.8\" font-family=\"Helvetica,sans-Serif\" font-size=\"14.00\">samples = 3345</text>\n<text text-anchor=\"middle\" x=\"1520\" y=\"-721.8\" font-family=\"Helvetica,sans-Serif\" font-size=\"14.00\">value = [2, 3343]</text>\n<text text-anchor=\"middle\" x=\"1520\" y=\"-706.8\" font-family=\"Helvetica,sans-Serif\" font-size=\"14.00\">class = a</text>\n</g>\n<!-- 58&#45;&gt;64 -->\n<g id=\"edge64\" class=\"edge\">\n<title>58&#45;&gt;64</title>\n<path fill=\"none\" stroke=\"black\" d=\"M1482.12,-817.91C1486.4,-809.29 1490.96,-800.09 1495.37,-791.17\"/>\n<polygon fill=\"black\" stroke=\"black\" points=\"1498.61,-792.53 1499.91,-782.02 1492.34,-789.43 1498.61,-792.53\"/>\n</g>\n<!-- 60 -->\n<g id=\"node61\" class=\"node\">\n<title>60</title>\n<polygon fill=\"#399de5\" stroke=\"black\" points=\"1274,-655.5 1172,-655.5 1172,-587.5 1274,-587.5 1274,-655.5\"/>\n<text text-anchor=\"middle\" x=\"1223\" y=\"-640.3\" font-family=\"Helvetica,sans-Serif\" font-size=\"14.00\">gini = 0.0</text>\n<text text-anchor=\"middle\" x=\"1223\" y=\"-625.3\" font-family=\"Helvetica,sans-Serif\" font-size=\"14.00\">samples = 32</text>\n<text text-anchor=\"middle\" x=\"1223\" y=\"-610.3\" font-family=\"Helvetica,sans-Serif\" font-size=\"14.00\">value = [0, 32]</text>\n<text text-anchor=\"middle\" x=\"1223\" y=\"-595.3\" font-family=\"Helvetica,sans-Serif\" font-size=\"14.00\">class = a</text>\n</g>\n<!-- 59&#45;&gt;60 -->\n<g id=\"edge60\" class=\"edge\">\n<title>59&#45;&gt;60</title>\n<path fill=\"none\" stroke=\"black\" d=\"M1324.22,-698.91C1308.29,-686.88 1290.87,-673.73 1275.05,-661.79\"/>\n<polygon fill=\"black\" stroke=\"black\" points=\"1277.03,-658.9 1266.94,-655.67 1272.81,-664.49 1277.03,-658.9\"/>\n</g>\n<!-- 61 -->\n<g id=\"node62\" class=\"node\">\n<title>61</title>\n<polygon fill=\"#ffffff\" stroke=\"black\" points=\"1465.5,-663 1292.5,-663 1292.5,-580 1465.5,-580 1465.5,-663\"/>\n<text text-anchor=\"middle\" x=\"1379\" y=\"-647.8\" font-family=\"Helvetica,sans-Serif\" font-size=\"14.00\">free sulfur dioxide &lt;= 31.0</text>\n<text text-anchor=\"middle\" x=\"1379\" y=\"-632.8\" font-family=\"Helvetica,sans-Serif\" font-size=\"14.00\">gini = 0.5</text>\n<text text-anchor=\"middle\" x=\"1379\" y=\"-617.8\" font-family=\"Helvetica,sans-Serif\" font-size=\"14.00\">samples = 2</text>\n<text text-anchor=\"middle\" x=\"1379\" y=\"-602.8\" font-family=\"Helvetica,sans-Serif\" font-size=\"14.00\">value = [1, 1]</text>\n<text text-anchor=\"middle\" x=\"1379\" y=\"-587.8\" font-family=\"Helvetica,sans-Serif\" font-size=\"14.00\">class = t</text>\n</g>\n<!-- 59&#45;&gt;61 -->\n<g id=\"edge61\" class=\"edge\">\n<title>59&#45;&gt;61</title>\n<path fill=\"none\" stroke=\"black\" d=\"M1378.35,-698.91C1378.42,-690.65 1378.49,-681.86 1378.57,-673.3\"/>\n<polygon fill=\"black\" stroke=\"black\" points=\"1382.07,-673.05 1378.65,-663.02 1375.07,-672.99 1382.07,-673.05\"/>\n</g>\n<!-- 62 -->\n<g id=\"node63\" class=\"node\">\n<title>62</title>\n<polygon fill=\"#399de5\" stroke=\"black\" points=\"1323.5,-536.5 1228.5,-536.5 1228.5,-468.5 1323.5,-468.5 1323.5,-536.5\"/>\n<text text-anchor=\"middle\" x=\"1276\" y=\"-521.3\" font-family=\"Helvetica,sans-Serif\" font-size=\"14.00\">gini = 0.0</text>\n<text text-anchor=\"middle\" x=\"1276\" y=\"-506.3\" font-family=\"Helvetica,sans-Serif\" font-size=\"14.00\">samples = 1</text>\n<text text-anchor=\"middle\" x=\"1276\" y=\"-491.3\" font-family=\"Helvetica,sans-Serif\" font-size=\"14.00\">value = [0, 1]</text>\n<text text-anchor=\"middle\" x=\"1276\" y=\"-476.3\" font-family=\"Helvetica,sans-Serif\" font-size=\"14.00\">class = a</text>\n</g>\n<!-- 61&#45;&gt;62 -->\n<g id=\"edge62\" class=\"edge\">\n<title>61&#45;&gt;62</title>\n<path fill=\"none\" stroke=\"black\" d=\"M1343.26,-579.91C1333.16,-568.43 1322.16,-555.94 1312.04,-544.44\"/>\n<polygon fill=\"black\" stroke=\"black\" points=\"1314.43,-541.86 1305.2,-536.67 1309.18,-546.49 1314.43,-541.86\"/>\n</g>\n<!-- 63 -->\n<g id=\"node64\" class=\"node\">\n<title>63</title>\n<polygon fill=\"#e58139\" stroke=\"black\" points=\"1436.5,-536.5 1341.5,-536.5 1341.5,-468.5 1436.5,-468.5 1436.5,-536.5\"/>\n<text text-anchor=\"middle\" x=\"1389\" y=\"-521.3\" font-family=\"Helvetica,sans-Serif\" font-size=\"14.00\">gini = 0.0</text>\n<text text-anchor=\"middle\" x=\"1389\" y=\"-506.3\" font-family=\"Helvetica,sans-Serif\" font-size=\"14.00\">samples = 1</text>\n<text text-anchor=\"middle\" x=\"1389\" y=\"-491.3\" font-family=\"Helvetica,sans-Serif\" font-size=\"14.00\">value = [1, 0]</text>\n<text text-anchor=\"middle\" x=\"1389\" y=\"-476.3\" font-family=\"Helvetica,sans-Serif\" font-size=\"14.00\">class = t</text>\n</g>\n<!-- 61&#45;&gt;63 -->\n<g id=\"edge63\" class=\"edge\">\n<title>61&#45;&gt;63</title>\n<path fill=\"none\" stroke=\"black\" d=\"M1382.47,-579.91C1383.38,-569.2 1384.37,-557.62 1385.3,-546.78\"/>\n<polygon fill=\"black\" stroke=\"black\" points=\"1388.8,-546.93 1386.17,-536.67 1381.83,-546.33 1388.8,-546.93\"/>\n</g>\n<!-- 65 -->\n<g id=\"node66\" class=\"node\">\n<title>65</title>\n<polygon fill=\"#3a9ee5\" stroke=\"black\" points=\"1594,-663 1484,-663 1484,-580 1594,-580 1594,-663\"/>\n<text text-anchor=\"middle\" x=\"1539\" y=\"-647.8\" font-family=\"Helvetica,sans-Serif\" font-size=\"14.00\">pH &lt;= 3.315</text>\n<text text-anchor=\"middle\" x=\"1539\" y=\"-632.8\" font-family=\"Helvetica,sans-Serif\" font-size=\"14.00\">gini = 0.01</text>\n<text text-anchor=\"middle\" x=\"1539\" y=\"-617.8\" font-family=\"Helvetica,sans-Serif\" font-size=\"14.00\">samples = 391</text>\n<text text-anchor=\"middle\" x=\"1539\" y=\"-602.8\" font-family=\"Helvetica,sans-Serif\" font-size=\"14.00\">value = [2, 389]</text>\n<text text-anchor=\"middle\" x=\"1539\" y=\"-587.8\" font-family=\"Helvetica,sans-Serif\" font-size=\"14.00\">class = a</text>\n</g>\n<!-- 64&#45;&gt;65 -->\n<g id=\"edge65\" class=\"edge\">\n<title>64&#45;&gt;65</title>\n<path fill=\"none\" stroke=\"black\" d=\"M1526.59,-698.91C1527.95,-690.56 1529.39,-681.67 1530.8,-673.02\"/>\n<polygon fill=\"black\" stroke=\"black\" points=\"1534.27,-673.45 1532.42,-663.02 1527.36,-672.33 1534.27,-673.45\"/>\n</g>\n<!-- 78 -->\n<g id=\"node79\" class=\"node\">\n<title>78</title>\n<polygon fill=\"#399de5\" stroke=\"black\" points=\"1729.5,-655.5 1612.5,-655.5 1612.5,-587.5 1729.5,-587.5 1729.5,-655.5\"/>\n<text text-anchor=\"middle\" x=\"1671\" y=\"-640.3\" font-family=\"Helvetica,sans-Serif\" font-size=\"14.00\">gini = 0.0</text>\n<text text-anchor=\"middle\" x=\"1671\" y=\"-625.3\" font-family=\"Helvetica,sans-Serif\" font-size=\"14.00\">samples = 2954</text>\n<text text-anchor=\"middle\" x=\"1671\" y=\"-610.3\" font-family=\"Helvetica,sans-Serif\" font-size=\"14.00\">value = [0, 2954]</text>\n<text text-anchor=\"middle\" x=\"1671\" y=\"-595.3\" font-family=\"Helvetica,sans-Serif\" font-size=\"14.00\">class = a</text>\n</g>\n<!-- 64&#45;&gt;78 -->\n<g id=\"edge78\" class=\"edge\">\n<title>64&#45;&gt;78</title>\n<path fill=\"none\" stroke=\"black\" d=\"M1572.39,-698.91C1587.77,-686.99 1604.57,-673.98 1619.87,-662.12\"/>\n<polygon fill=\"black\" stroke=\"black\" points=\"1622.43,-664.56 1628.19,-655.67 1618.15,-659.03 1622.43,-664.56\"/>\n</g>\n<!-- 66 -->\n<g id=\"node67\" class=\"node\">\n<title>66</title>\n<polygon fill=\"#399de5\" stroke=\"black\" points=\"1584,-536.5 1474,-536.5 1474,-468.5 1584,-468.5 1584,-536.5\"/>\n<text text-anchor=\"middle\" x=\"1529\" y=\"-521.3\" font-family=\"Helvetica,sans-Serif\" font-size=\"14.00\">gini = 0.0</text>\n<text text-anchor=\"middle\" x=\"1529\" y=\"-506.3\" font-family=\"Helvetica,sans-Serif\" font-size=\"14.00\">samples = 300</text>\n<text text-anchor=\"middle\" x=\"1529\" y=\"-491.3\" font-family=\"Helvetica,sans-Serif\" font-size=\"14.00\">value = [0, 300]</text>\n<text text-anchor=\"middle\" x=\"1529\" y=\"-476.3\" font-family=\"Helvetica,sans-Serif\" font-size=\"14.00\">class = a</text>\n</g>\n<!-- 65&#45;&gt;66 -->\n<g id=\"edge66\" class=\"edge\">\n<title>65&#45;&gt;66</title>\n<path fill=\"none\" stroke=\"black\" d=\"M1535.53,-579.91C1534.62,-569.2 1533.63,-557.62 1532.7,-546.78\"/>\n<polygon fill=\"black\" stroke=\"black\" points=\"1536.17,-546.33 1531.83,-536.67 1529.2,-546.93 1536.17,-546.33\"/>\n</g>\n<!-- 67 -->\n<g id=\"node68\" class=\"node\">\n<title>67</title>\n<polygon fill=\"#3d9fe6\" stroke=\"black\" points=\"1730,-544 1602,-544 1602,-461 1730,-461 1730,-544\"/>\n<text text-anchor=\"middle\" x=\"1666\" y=\"-528.8\" font-family=\"Helvetica,sans-Serif\" font-size=\"14.00\">chlorides &lt;= 0.045</text>\n<text text-anchor=\"middle\" x=\"1666\" y=\"-513.8\" font-family=\"Helvetica,sans-Serif\" font-size=\"14.00\">gini = 0.043</text>\n<text text-anchor=\"middle\" x=\"1666\" y=\"-498.8\" font-family=\"Helvetica,sans-Serif\" font-size=\"14.00\">samples = 91</text>\n<text text-anchor=\"middle\" x=\"1666\" y=\"-483.8\" font-family=\"Helvetica,sans-Serif\" font-size=\"14.00\">value = [2, 89]</text>\n<text text-anchor=\"middle\" x=\"1666\" y=\"-468.8\" font-family=\"Helvetica,sans-Serif\" font-size=\"14.00\">class = a</text>\n</g>\n<!-- 65&#45;&gt;67 -->\n<g id=\"edge67\" class=\"edge\">\n<title>65&#45;&gt;67</title>\n<path fill=\"none\" stroke=\"black\" d=\"M1583.06,-579.91C1593.21,-570.56 1604.09,-560.54 1614.52,-550.93\"/>\n<polygon fill=\"black\" stroke=\"black\" points=\"1617.03,-553.37 1622.02,-544.02 1612.29,-548.22 1617.03,-553.37\"/>\n</g>\n<!-- 68 -->\n<g id=\"node69\" class=\"node\">\n<title>68</title>\n<polygon fill=\"#399de5\" stroke=\"black\" points=\"1655,-417.5 1553,-417.5 1553,-349.5 1655,-349.5 1655,-417.5\"/>\n<text text-anchor=\"middle\" x=\"1604\" y=\"-402.3\" font-family=\"Helvetica,sans-Serif\" font-size=\"14.00\">gini = 0.0</text>\n<text text-anchor=\"middle\" x=\"1604\" y=\"-387.3\" font-family=\"Helvetica,sans-Serif\" font-size=\"14.00\">samples = 62</text>\n<text text-anchor=\"middle\" x=\"1604\" y=\"-372.3\" font-family=\"Helvetica,sans-Serif\" font-size=\"14.00\">value = [0, 62]</text>\n<text text-anchor=\"middle\" x=\"1604\" y=\"-357.3\" font-family=\"Helvetica,sans-Serif\" font-size=\"14.00\">class = a</text>\n</g>\n<!-- 67&#45;&gt;68 -->\n<g id=\"edge68\" class=\"edge\">\n<title>67&#45;&gt;68</title>\n<path fill=\"none\" stroke=\"black\" d=\"M1644.49,-460.91C1638.64,-449.87 1632.3,-437.9 1626.4,-426.77\"/>\n<polygon fill=\"black\" stroke=\"black\" points=\"1629.35,-424.86 1621.58,-417.67 1623.17,-428.14 1629.35,-424.86\"/>\n</g>\n<!-- 69 -->\n<g id=\"node70\" class=\"node\">\n<title>69</title>\n<polygon fill=\"#48a4e7\" stroke=\"black\" points=\"1783,-425 1673,-425 1673,-342 1783,-342 1783,-425\"/>\n<text text-anchor=\"middle\" x=\"1728\" y=\"-409.8\" font-family=\"Helvetica,sans-Serif\" font-size=\"14.00\">alcohol &lt;= 11.9</text>\n<text text-anchor=\"middle\" x=\"1728\" y=\"-394.8\" font-family=\"Helvetica,sans-Serif\" font-size=\"14.00\">gini = 0.128</text>\n<text text-anchor=\"middle\" x=\"1728\" y=\"-379.8\" font-family=\"Helvetica,sans-Serif\" font-size=\"14.00\">samples = 29</text>\n<text text-anchor=\"middle\" x=\"1728\" y=\"-364.8\" font-family=\"Helvetica,sans-Serif\" font-size=\"14.00\">value = [2, 27]</text>\n<text text-anchor=\"middle\" x=\"1728\" y=\"-349.8\" font-family=\"Helvetica,sans-Serif\" font-size=\"14.00\">class = a</text>\n</g>\n<!-- 67&#45;&gt;69 -->\n<g id=\"edge69\" class=\"edge\">\n<title>67&#45;&gt;69</title>\n<path fill=\"none\" stroke=\"black\" d=\"M1687.51,-460.91C1692.13,-452.2 1697.05,-442.9 1701.83,-433.89\"/>\n<polygon fill=\"black\" stroke=\"black\" points=\"1704.94,-435.5 1706.53,-425.02 1698.75,-432.22 1704.94,-435.5\"/>\n</g>\n<!-- 70 -->\n<g id=\"node71\" class=\"node\">\n<title>70</title>\n<polygon fill=\"#41a1e6\" stroke=\"black\" points=\"1716.5,-306 1543.5,-306 1543.5,-223 1716.5,-223 1716.5,-306\"/>\n<text text-anchor=\"middle\" x=\"1630\" y=\"-290.8\" font-family=\"Helvetica,sans-Serif\" font-size=\"14.00\">free sulfur dioxide &lt;= 53.5</text>\n<text text-anchor=\"middle\" x=\"1630\" y=\"-275.8\" font-family=\"Helvetica,sans-Serif\" font-size=\"14.00\">gini = 0.071</text>\n<text text-anchor=\"middle\" x=\"1630\" y=\"-260.8\" font-family=\"Helvetica,sans-Serif\" font-size=\"14.00\">samples = 27</text>\n<text text-anchor=\"middle\" x=\"1630\" y=\"-245.8\" font-family=\"Helvetica,sans-Serif\" font-size=\"14.00\">value = [1, 26]</text>\n<text text-anchor=\"middle\" x=\"1630\" y=\"-230.8\" font-family=\"Helvetica,sans-Serif\" font-size=\"14.00\">class = a</text>\n</g>\n<!-- 69&#45;&gt;70 -->\n<g id=\"edge70\" class=\"edge\">\n<title>69&#45;&gt;70</title>\n<path fill=\"none\" stroke=\"black\" d=\"M1694,-341.91C1686.4,-332.83 1678.26,-323.12 1670.43,-313.77\"/>\n<polygon fill=\"black\" stroke=\"black\" points=\"1673.04,-311.44 1663.94,-306.02 1667.68,-315.93 1673.04,-311.44\"/>\n</g>\n<!-- 75 -->\n<g id=\"node76\" class=\"node\">\n<title>75</title>\n<polygon fill=\"#ffffff\" stroke=\"black\" points=\"1917.5,-306 1734.5,-306 1734.5,-223 1917.5,-223 1917.5,-306\"/>\n<text text-anchor=\"middle\" x=\"1826\" y=\"-290.8\" font-family=\"Helvetica,sans-Serif\" font-size=\"14.00\">total sulfur dioxide &lt;= 148.5</text>\n<text text-anchor=\"middle\" x=\"1826\" y=\"-275.8\" font-family=\"Helvetica,sans-Serif\" font-size=\"14.00\">gini = 0.5</text>\n<text text-anchor=\"middle\" x=\"1826\" y=\"-260.8\" font-family=\"Helvetica,sans-Serif\" font-size=\"14.00\">samples = 2</text>\n<text text-anchor=\"middle\" x=\"1826\" y=\"-245.8\" font-family=\"Helvetica,sans-Serif\" font-size=\"14.00\">value = [1, 1]</text>\n<text text-anchor=\"middle\" x=\"1826\" y=\"-230.8\" font-family=\"Helvetica,sans-Serif\" font-size=\"14.00\">class = t</text>\n</g>\n<!-- 69&#45;&gt;75 -->\n<g id=\"edge75\" class=\"edge\">\n<title>69&#45;&gt;75</title>\n<path fill=\"none\" stroke=\"black\" d=\"M1762,-341.91C1769.6,-332.83 1777.74,-323.12 1785.57,-313.77\"/>\n<polygon fill=\"black\" stroke=\"black\" points=\"1788.32,-315.93 1792.06,-306.02 1782.96,-311.44 1788.32,-315.93\"/>\n</g>\n<!-- 71 -->\n<g id=\"node72\" class=\"node\">\n<title>71</title>\n<polygon fill=\"#399de5\" stroke=\"black\" points=\"1530,-179.5 1428,-179.5 1428,-111.5 1530,-111.5 1530,-179.5\"/>\n<text text-anchor=\"middle\" x=\"1479\" y=\"-164.3\" font-family=\"Helvetica,sans-Serif\" font-size=\"14.00\">gini = 0.0</text>\n<text text-anchor=\"middle\" x=\"1479\" y=\"-149.3\" font-family=\"Helvetica,sans-Serif\" font-size=\"14.00\">samples = 24</text>\n<text text-anchor=\"middle\" x=\"1479\" y=\"-134.3\" font-family=\"Helvetica,sans-Serif\" font-size=\"14.00\">value = [0, 24]</text>\n<text text-anchor=\"middle\" x=\"1479\" y=\"-119.3\" font-family=\"Helvetica,sans-Serif\" font-size=\"14.00\">class = a</text>\n</g>\n<!-- 70&#45;&gt;71 -->\n<g id=\"edge71\" class=\"edge\">\n<title>70&#45;&gt;71</title>\n<path fill=\"none\" stroke=\"black\" d=\"M1577.61,-222.91C1562.23,-210.99 1545.43,-197.98 1530.13,-186.12\"/>\n<polygon fill=\"black\" stroke=\"black\" points=\"1531.85,-183.03 1521.81,-179.67 1527.57,-188.56 1531.85,-183.03\"/>\n</g>\n<!-- 72 -->\n<g id=\"node73\" class=\"node\">\n<title>72</title>\n<polygon fill=\"#9ccef2\" stroke=\"black\" points=\"1731.5,-187 1548.5,-187 1548.5,-104 1731.5,-104 1731.5,-187\"/>\n<text text-anchor=\"middle\" x=\"1640\" y=\"-171.8\" font-family=\"Helvetica,sans-Serif\" font-size=\"14.00\">total sulfur dioxide &lt;= 148.0</text>\n<text text-anchor=\"middle\" x=\"1640\" y=\"-156.8\" font-family=\"Helvetica,sans-Serif\" font-size=\"14.00\">gini = 0.444</text>\n<text text-anchor=\"middle\" x=\"1640\" y=\"-141.8\" font-family=\"Helvetica,sans-Serif\" font-size=\"14.00\">samples = 3</text>\n<text text-anchor=\"middle\" x=\"1640\" y=\"-126.8\" font-family=\"Helvetica,sans-Serif\" font-size=\"14.00\">value = [1, 2]</text>\n<text text-anchor=\"middle\" x=\"1640\" y=\"-111.8\" font-family=\"Helvetica,sans-Serif\" font-size=\"14.00\">class = a</text>\n</g>\n<!-- 70&#45;&gt;72 -->\n<g id=\"edge72\" class=\"edge\">\n<title>70&#45;&gt;72</title>\n<path fill=\"none\" stroke=\"black\" d=\"M1633.47,-222.91C1634.18,-214.56 1634.94,-205.67 1635.68,-197.02\"/>\n<polygon fill=\"black\" stroke=\"black\" points=\"1639.17,-197.28 1636.54,-187.02 1632.2,-196.69 1639.17,-197.28\"/>\n</g>\n<!-- 73 -->\n<g id=\"node74\" class=\"node\">\n<title>73</title>\n<polygon fill=\"#ffffff\" stroke=\"black\" points=\"1631.5,-68 1536.5,-68 1536.5,0 1631.5,0 1631.5,-68\"/>\n<text text-anchor=\"middle\" x=\"1584\" y=\"-52.8\" font-family=\"Helvetica,sans-Serif\" font-size=\"14.00\">gini = 0.5</text>\n<text text-anchor=\"middle\" x=\"1584\" y=\"-37.8\" font-family=\"Helvetica,sans-Serif\" font-size=\"14.00\">samples = 2</text>\n<text text-anchor=\"middle\" x=\"1584\" y=\"-22.8\" font-family=\"Helvetica,sans-Serif\" font-size=\"14.00\">value = [1, 1]</text>\n<text text-anchor=\"middle\" x=\"1584\" y=\"-7.8\" font-family=\"Helvetica,sans-Serif\" font-size=\"14.00\">class = t</text>\n</g>\n<!-- 72&#45;&gt;73 -->\n<g id=\"edge73\" class=\"edge\">\n<title>72&#45;&gt;73</title>\n<path fill=\"none\" stroke=\"black\" d=\"M1619.15,-103.73C1614.76,-95.15 1610.13,-86.09 1605.71,-77.46\"/>\n<polygon fill=\"black\" stroke=\"black\" points=\"1608.7,-75.61 1601.03,-68.3 1602.47,-78.8 1608.7,-75.61\"/>\n</g>\n<!-- 74 -->\n<g id=\"node75\" class=\"node\">\n<title>74</title>\n<polygon fill=\"#399de5\" stroke=\"black\" points=\"1744.5,-68 1649.5,-68 1649.5,0 1744.5,0 1744.5,-68\"/>\n<text text-anchor=\"middle\" x=\"1697\" y=\"-52.8\" font-family=\"Helvetica,sans-Serif\" font-size=\"14.00\">gini = 0.0</text>\n<text text-anchor=\"middle\" x=\"1697\" y=\"-37.8\" font-family=\"Helvetica,sans-Serif\" font-size=\"14.00\">samples = 1</text>\n<text text-anchor=\"middle\" x=\"1697\" y=\"-22.8\" font-family=\"Helvetica,sans-Serif\" font-size=\"14.00\">value = [0, 1]</text>\n<text text-anchor=\"middle\" x=\"1697\" y=\"-7.8\" font-family=\"Helvetica,sans-Serif\" font-size=\"14.00\">class = a</text>\n</g>\n<!-- 72&#45;&gt;74 -->\n<g id=\"edge74\" class=\"edge\">\n<title>72&#45;&gt;74</title>\n<path fill=\"none\" stroke=\"black\" d=\"M1661.22,-103.73C1665.74,-95.06 1670.51,-85.9 1675.04,-77.18\"/>\n<polygon fill=\"black\" stroke=\"black\" points=\"1678.15,-78.79 1679.67,-68.3 1671.94,-75.55 1678.15,-78.79\"/>\n</g>\n<!-- 76 -->\n<g id=\"node77\" class=\"node\">\n<title>76</title>\n<polygon fill=\"#e58139\" stroke=\"black\" points=\"1863.5,-179.5 1768.5,-179.5 1768.5,-111.5 1863.5,-111.5 1863.5,-179.5\"/>\n<text text-anchor=\"middle\" x=\"1816\" y=\"-164.3\" font-family=\"Helvetica,sans-Serif\" font-size=\"14.00\">gini = 0.0</text>\n<text text-anchor=\"middle\" x=\"1816\" y=\"-149.3\" font-family=\"Helvetica,sans-Serif\" font-size=\"14.00\">samples = 1</text>\n<text text-anchor=\"middle\" x=\"1816\" y=\"-134.3\" font-family=\"Helvetica,sans-Serif\" font-size=\"14.00\">value = [1, 0]</text>\n<text text-anchor=\"middle\" x=\"1816\" y=\"-119.3\" font-family=\"Helvetica,sans-Serif\" font-size=\"14.00\">class = t</text>\n</g>\n<!-- 75&#45;&gt;76 -->\n<g id=\"edge76\" class=\"edge\">\n<title>75&#45;&gt;76</title>\n<path fill=\"none\" stroke=\"black\" d=\"M1822.53,-222.91C1821.62,-212.2 1820.63,-200.62 1819.7,-189.78\"/>\n<polygon fill=\"black\" stroke=\"black\" points=\"1823.17,-189.33 1818.83,-179.67 1816.2,-189.93 1823.17,-189.33\"/>\n</g>\n<!-- 77 -->\n<g id=\"node78\" class=\"node\">\n<title>77</title>\n<polygon fill=\"#399de5\" stroke=\"black\" points=\"1976.5,-179.5 1881.5,-179.5 1881.5,-111.5 1976.5,-111.5 1976.5,-179.5\"/>\n<text text-anchor=\"middle\" x=\"1929\" y=\"-164.3\" font-family=\"Helvetica,sans-Serif\" font-size=\"14.00\">gini = 0.0</text>\n<text text-anchor=\"middle\" x=\"1929\" y=\"-149.3\" font-family=\"Helvetica,sans-Serif\" font-size=\"14.00\">samples = 1</text>\n<text text-anchor=\"middle\" x=\"1929\" y=\"-134.3\" font-family=\"Helvetica,sans-Serif\" font-size=\"14.00\">value = [0, 1]</text>\n<text text-anchor=\"middle\" x=\"1929\" y=\"-119.3\" font-family=\"Helvetica,sans-Serif\" font-size=\"14.00\">class = a</text>\n</g>\n<!-- 75&#45;&gt;77 -->\n<g id=\"edge77\" class=\"edge\">\n<title>75&#45;&gt;77</title>\n<path fill=\"none\" stroke=\"black\" d=\"M1861.74,-222.91C1871.84,-211.43 1882.84,-198.94 1892.96,-187.44\"/>\n<polygon fill=\"black\" stroke=\"black\" points=\"1895.82,-189.49 1899.8,-179.67 1890.57,-184.86 1895.82,-189.49\"/>\n</g>\n<!-- 80 -->\n<g id=\"node81\" class=\"node\">\n<title>80</title>\n<polygon fill=\"#f2c09c\" stroke=\"black\" points=\"1730,-901 1572,-901 1572,-818 1730,-818 1730,-901\"/>\n<text text-anchor=\"middle\" x=\"1651\" y=\"-885.8\" font-family=\"Helvetica,sans-Serif\" font-size=\"14.00\">volatile acidity &lt;= 0.245</text>\n<text text-anchor=\"middle\" x=\"1651\" y=\"-870.8\" font-family=\"Helvetica,sans-Serif\" font-size=\"14.00\">gini = 0.444</text>\n<text text-anchor=\"middle\" x=\"1651\" y=\"-855.8\" font-family=\"Helvetica,sans-Serif\" font-size=\"14.00\">samples = 3</text>\n<text text-anchor=\"middle\" x=\"1651\" y=\"-840.8\" font-family=\"Helvetica,sans-Serif\" font-size=\"14.00\">value = [2, 1]</text>\n<text text-anchor=\"middle\" x=\"1651\" y=\"-825.8\" font-family=\"Helvetica,sans-Serif\" font-size=\"14.00\">class = t</text>\n</g>\n<!-- 79&#45;&gt;80 -->\n<g id=\"edge80\" class=\"edge\">\n<title>79&#45;&gt;80</title>\n<path fill=\"none\" stroke=\"black\" d=\"M1651,-936.91C1651,-928.65 1651,-919.86 1651,-911.3\"/>\n<polygon fill=\"black\" stroke=\"black\" points=\"1654.5,-911.02 1651,-901.02 1647.5,-911.02 1654.5,-911.02\"/>\n</g>\n<!-- 83 -->\n<g id=\"node84\" class=\"node\">\n<title>83</title>\n<polygon fill=\"#399de5\" stroke=\"black\" points=\"1850,-893.5 1748,-893.5 1748,-825.5 1850,-825.5 1850,-893.5\"/>\n<text text-anchor=\"middle\" x=\"1799\" y=\"-878.3\" font-family=\"Helvetica,sans-Serif\" font-size=\"14.00\">gini = 0.0</text>\n<text text-anchor=\"middle\" x=\"1799\" y=\"-863.3\" font-family=\"Helvetica,sans-Serif\" font-size=\"14.00\">samples = 36</text>\n<text text-anchor=\"middle\" x=\"1799\" y=\"-848.3\" font-family=\"Helvetica,sans-Serif\" font-size=\"14.00\">value = [0, 36]</text>\n<text text-anchor=\"middle\" x=\"1799\" y=\"-833.3\" font-family=\"Helvetica,sans-Serif\" font-size=\"14.00\">class = a</text>\n</g>\n<!-- 79&#45;&gt;83 -->\n<g id=\"edge83\" class=\"edge\">\n<title>79&#45;&gt;83</title>\n<path fill=\"none\" stroke=\"black\" d=\"M1702.35,-936.91C1717.42,-924.99 1733.89,-911.98 1748.88,-900.12\"/>\n<polygon fill=\"black\" stroke=\"black\" points=\"1751.37,-902.61 1757.05,-893.67 1747.03,-897.12 1751.37,-902.61\"/>\n</g>\n<!-- 81 -->\n<g id=\"node82\" class=\"node\">\n<title>81</title>\n<polygon fill=\"#399de5\" stroke=\"black\" points=\"1698.5,-774.5 1603.5,-774.5 1603.5,-706.5 1698.5,-706.5 1698.5,-774.5\"/>\n<text text-anchor=\"middle\" x=\"1651\" y=\"-759.3\" font-family=\"Helvetica,sans-Serif\" font-size=\"14.00\">gini = 0.0</text>\n<text text-anchor=\"middle\" x=\"1651\" y=\"-744.3\" font-family=\"Helvetica,sans-Serif\" font-size=\"14.00\">samples = 1</text>\n<text text-anchor=\"middle\" x=\"1651\" y=\"-729.3\" font-family=\"Helvetica,sans-Serif\" font-size=\"14.00\">value = [0, 1]</text>\n<text text-anchor=\"middle\" x=\"1651\" y=\"-714.3\" font-family=\"Helvetica,sans-Serif\" font-size=\"14.00\">class = a</text>\n</g>\n<!-- 80&#45;&gt;81 -->\n<g id=\"edge81\" class=\"edge\">\n<title>80&#45;&gt;81</title>\n<path fill=\"none\" stroke=\"black\" d=\"M1651,-817.91C1651,-807.2 1651,-795.62 1651,-784.78\"/>\n<polygon fill=\"black\" stroke=\"black\" points=\"1654.5,-784.67 1651,-774.67 1647.5,-784.67 1654.5,-784.67\"/>\n</g>\n<!-- 82 -->\n<g id=\"node83\" class=\"node\">\n<title>82</title>\n<polygon fill=\"#e58139\" stroke=\"black\" points=\"1811.5,-774.5 1716.5,-774.5 1716.5,-706.5 1811.5,-706.5 1811.5,-774.5\"/>\n<text text-anchor=\"middle\" x=\"1764\" y=\"-759.3\" font-family=\"Helvetica,sans-Serif\" font-size=\"14.00\">gini = 0.0</text>\n<text text-anchor=\"middle\" x=\"1764\" y=\"-744.3\" font-family=\"Helvetica,sans-Serif\" font-size=\"14.00\">samples = 2</text>\n<text text-anchor=\"middle\" x=\"1764\" y=\"-729.3\" font-family=\"Helvetica,sans-Serif\" font-size=\"14.00\">value = [2, 0]</text>\n<text text-anchor=\"middle\" x=\"1764\" y=\"-714.3\" font-family=\"Helvetica,sans-Serif\" font-size=\"14.00\">class = t</text>\n</g>\n<!-- 80&#45;&gt;82 -->\n<g id=\"edge82\" class=\"edge\">\n<title>80&#45;&gt;82</title>\n<path fill=\"none\" stroke=\"black\" d=\"M1690.2,-817.91C1701.39,-806.32 1713.59,-793.7 1724.78,-782.11\"/>\n<polygon fill=\"black\" stroke=\"black\" points=\"1727.54,-784.29 1731.97,-774.67 1722.5,-779.43 1727.54,-784.29\"/>\n</g>\n<!-- 85 -->\n<g id=\"node86\" class=\"node\">\n<title>85</title>\n<polygon fill=\"#e58139\" stroke=\"black\" points=\"1852.5,-1012.5 1757.5,-1012.5 1757.5,-944.5 1852.5,-944.5 1852.5,-1012.5\"/>\n<text text-anchor=\"middle\" x=\"1805\" y=\"-997.3\" font-family=\"Helvetica,sans-Serif\" font-size=\"14.00\">gini = 0.0</text>\n<text text-anchor=\"middle\" x=\"1805\" y=\"-982.3\" font-family=\"Helvetica,sans-Serif\" font-size=\"14.00\">samples = 4</text>\n<text text-anchor=\"middle\" x=\"1805\" y=\"-967.3\" font-family=\"Helvetica,sans-Serif\" font-size=\"14.00\">value = [4, 0]</text>\n<text text-anchor=\"middle\" x=\"1805\" y=\"-952.3\" font-family=\"Helvetica,sans-Serif\" font-size=\"14.00\">class = t</text>\n</g>\n<!-- 84&#45;&gt;85 -->\n<g id=\"edge85\" class=\"edge\">\n<title>84&#45;&gt;85</title>\n<path fill=\"none\" stroke=\"black\" d=\"M1805,-1055.91C1805,-1045.2 1805,-1033.62 1805,-1022.78\"/>\n<polygon fill=\"black\" stroke=\"black\" points=\"1808.5,-1022.67 1805,-1012.67 1801.5,-1022.67 1808.5,-1022.67\"/>\n</g>\n<!-- 86 -->\n<g id=\"node87\" class=\"node\">\n<title>86</title>\n<polygon fill=\"#3e9fe6\" stroke=\"black\" points=\"2046.5,-1020 1921.5,-1020 1921.5,-937 2046.5,-937 2046.5,-1020\"/>\n<text text-anchor=\"middle\" x=\"1984\" y=\"-1004.8\" font-family=\"Helvetica,sans-Serif\" font-size=\"14.00\">sulphates &lt;= 0.74</text>\n<text text-anchor=\"middle\" x=\"1984\" y=\"-989.8\" font-family=\"Helvetica,sans-Serif\" font-size=\"14.00\">gini = 0.046</text>\n<text text-anchor=\"middle\" x=\"1984\" y=\"-974.8\" font-family=\"Helvetica,sans-Serif\" font-size=\"14.00\">samples = 127</text>\n<text text-anchor=\"middle\" x=\"1984\" y=\"-959.8\" font-family=\"Helvetica,sans-Serif\" font-size=\"14.00\">value = [3, 124]</text>\n<text text-anchor=\"middle\" x=\"1984\" y=\"-944.8\" font-family=\"Helvetica,sans-Serif\" font-size=\"14.00\">class = a</text>\n</g>\n<!-- 84&#45;&gt;86 -->\n<g id=\"edge86\" class=\"edge\">\n<title>84&#45;&gt;86</title>\n<path fill=\"none\" stroke=\"black\" d=\"M1867.1,-1055.91C1882.1,-1046.11 1898.23,-1035.56 1913.57,-1025.53\"/>\n<polygon fill=\"black\" stroke=\"black\" points=\"1915.55,-1028.42 1922.01,-1020.02 1911.72,-1022.56 1915.55,-1028.42\"/>\n</g>\n<!-- 87 -->\n<g id=\"node88\" class=\"node\">\n<title>87</title>\n<polygon fill=\"#3c9fe5\" stroke=\"black\" points=\"2042.5,-901 1925.5,-901 1925.5,-818 2042.5,-818 2042.5,-901\"/>\n<text text-anchor=\"middle\" x=\"1984\" y=\"-885.8\" font-family=\"Helvetica,sans-Serif\" font-size=\"14.00\">density &lt;= 0.991</text>\n<text text-anchor=\"middle\" x=\"1984\" y=\"-870.8\" font-family=\"Helvetica,sans-Serif\" font-size=\"14.00\">gini = 0.031</text>\n<text text-anchor=\"middle\" x=\"1984\" y=\"-855.8\" font-family=\"Helvetica,sans-Serif\" font-size=\"14.00\">samples = 125</text>\n<text text-anchor=\"middle\" x=\"1984\" y=\"-840.8\" font-family=\"Helvetica,sans-Serif\" font-size=\"14.00\">value = [2, 123]</text>\n<text text-anchor=\"middle\" x=\"1984\" y=\"-825.8\" font-family=\"Helvetica,sans-Serif\" font-size=\"14.00\">class = a</text>\n</g>\n<!-- 86&#45;&gt;87 -->\n<g id=\"edge87\" class=\"edge\">\n<title>86&#45;&gt;87</title>\n<path fill=\"none\" stroke=\"black\" d=\"M1984,-936.91C1984,-928.65 1984,-919.86 1984,-911.3\"/>\n<polygon fill=\"black\" stroke=\"black\" points=\"1987.5,-911.02 1984,-901.02 1980.5,-911.02 1987.5,-911.02\"/>\n</g>\n<!-- 96 -->\n<g id=\"node97\" class=\"node\">\n<title>96</title>\n<polygon fill=\"#ffffff\" stroke=\"black\" points=\"2233.5,-901 2116.5,-901 2116.5,-818 2233.5,-818 2233.5,-901\"/>\n<text text-anchor=\"middle\" x=\"2175\" y=\"-885.8\" font-family=\"Helvetica,sans-Serif\" font-size=\"14.00\">density &lt;= 0.996</text>\n<text text-anchor=\"middle\" x=\"2175\" y=\"-870.8\" font-family=\"Helvetica,sans-Serif\" font-size=\"14.00\">gini = 0.5</text>\n<text text-anchor=\"middle\" x=\"2175\" y=\"-855.8\" font-family=\"Helvetica,sans-Serif\" font-size=\"14.00\">samples = 2</text>\n<text text-anchor=\"middle\" x=\"2175\" y=\"-840.8\" font-family=\"Helvetica,sans-Serif\" font-size=\"14.00\">value = [1, 1]</text>\n<text text-anchor=\"middle\" x=\"2175\" y=\"-825.8\" font-family=\"Helvetica,sans-Serif\" font-size=\"14.00\">class = t</text>\n</g>\n<!-- 86&#45;&gt;96 -->\n<g id=\"edge96\" class=\"edge\">\n<title>86&#45;&gt;96</title>\n<path fill=\"none\" stroke=\"black\" d=\"M2046.54,-939.19C2066.06,-927.23 2087.68,-913.99 2107.53,-901.83\"/>\n<polygon fill=\"black\" stroke=\"black\" points=\"2109.51,-904.72 2116.21,-896.51 2105.85,-898.75 2109.51,-904.72\"/>\n</g>\n<!-- 88 -->\n<g id=\"node89\" class=\"node\">\n<title>88</title>\n<polygon fill=\"#7bbeee\" stroke=\"black\" points=\"1940,-782 1830,-782 1830,-699 1940,-699 1940,-782\"/>\n<text text-anchor=\"middle\" x=\"1885\" y=\"-766.8\" font-family=\"Helvetica,sans-Serif\" font-size=\"14.00\">alcohol &lt;= 12.3</text>\n<text text-anchor=\"middle\" x=\"1885\" y=\"-751.8\" font-family=\"Helvetica,sans-Serif\" font-size=\"14.00\">gini = 0.375</text>\n<text text-anchor=\"middle\" x=\"1885\" y=\"-736.8\" font-family=\"Helvetica,sans-Serif\" font-size=\"14.00\">samples = 4</text>\n<text text-anchor=\"middle\" x=\"1885\" y=\"-721.8\" font-family=\"Helvetica,sans-Serif\" font-size=\"14.00\">value = [1, 3]</text>\n<text text-anchor=\"middle\" x=\"1885\" y=\"-706.8\" font-family=\"Helvetica,sans-Serif\" font-size=\"14.00\">class = a</text>\n</g>\n<!-- 87&#45;&gt;88 -->\n<g id=\"edge88\" class=\"edge\">\n<title>87&#45;&gt;88</title>\n<path fill=\"none\" stroke=\"black\" d=\"M1949.65,-817.91C1941.97,-808.83 1933.76,-799.12 1925.84,-789.77\"/>\n<polygon fill=\"black\" stroke=\"black\" points=\"1928.42,-787.39 1919.29,-782.02 1923.07,-791.92 1928.42,-787.39\"/>\n</g>\n<!-- 91 -->\n<g id=\"node92\" class=\"node\">\n<title>91</title>\n<polygon fill=\"#3b9ee5\" stroke=\"black\" points=\"2109.5,-782 1958.5,-782 1958.5,-699 2109.5,-699 2109.5,-782\"/>\n<text text-anchor=\"middle\" x=\"2034\" y=\"-766.8\" font-family=\"Helvetica,sans-Serif\" font-size=\"14.00\">volatile acidity &lt;= 0.57</text>\n<text text-anchor=\"middle\" x=\"2034\" y=\"-751.8\" font-family=\"Helvetica,sans-Serif\" font-size=\"14.00\">gini = 0.016</text>\n<text text-anchor=\"middle\" x=\"2034\" y=\"-736.8\" font-family=\"Helvetica,sans-Serif\" font-size=\"14.00\">samples = 121</text>\n<text text-anchor=\"middle\" x=\"2034\" y=\"-721.8\" font-family=\"Helvetica,sans-Serif\" font-size=\"14.00\">value = [1, 120]</text>\n<text text-anchor=\"middle\" x=\"2034\" y=\"-706.8\" font-family=\"Helvetica,sans-Serif\" font-size=\"14.00\">class = a</text>\n</g>\n<!-- 87&#45;&gt;91 -->\n<g id=\"edge91\" class=\"edge\">\n<title>87&#45;&gt;91</title>\n<path fill=\"none\" stroke=\"black\" d=\"M2001.35,-817.91C2004.99,-809.38 2008.88,-800.28 2012.65,-791.46\"/>\n<polygon fill=\"black\" stroke=\"black\" points=\"2015.97,-792.59 2016.68,-782.02 2009.54,-789.84 2015.97,-792.59\"/>\n</g>\n<!-- 89 -->\n<g id=\"node90\" class=\"node\">\n<title>89</title>\n<polygon fill=\"#e58139\" stroke=\"black\" points=\"1845.5,-655.5 1750.5,-655.5 1750.5,-587.5 1845.5,-587.5 1845.5,-655.5\"/>\n<text text-anchor=\"middle\" x=\"1798\" y=\"-640.3\" font-family=\"Helvetica,sans-Serif\" font-size=\"14.00\">gini = 0.0</text>\n<text text-anchor=\"middle\" x=\"1798\" y=\"-625.3\" font-family=\"Helvetica,sans-Serif\" font-size=\"14.00\">samples = 1</text>\n<text text-anchor=\"middle\" x=\"1798\" y=\"-610.3\" font-family=\"Helvetica,sans-Serif\" font-size=\"14.00\">value = [1, 0]</text>\n<text text-anchor=\"middle\" x=\"1798\" y=\"-595.3\" font-family=\"Helvetica,sans-Serif\" font-size=\"14.00\">class = t</text>\n</g>\n<!-- 88&#45;&gt;89 -->\n<g id=\"edge89\" class=\"edge\">\n<title>88&#45;&gt;89</title>\n<path fill=\"none\" stroke=\"black\" d=\"M1854.82,-698.91C1846.36,-687.54 1837.17,-675.18 1828.69,-663.77\"/>\n<polygon fill=\"black\" stroke=\"black\" points=\"1831.44,-661.6 1822.66,-655.67 1825.82,-665.78 1831.44,-661.6\"/>\n</g>\n<!-- 90 -->\n<g id=\"node91\" class=\"node\">\n<title>90</title>\n<polygon fill=\"#399de5\" stroke=\"black\" points=\"1958.5,-655.5 1863.5,-655.5 1863.5,-587.5 1958.5,-587.5 1958.5,-655.5\"/>\n<text text-anchor=\"middle\" x=\"1911\" y=\"-640.3\" font-family=\"Helvetica,sans-Serif\" font-size=\"14.00\">gini = 0.0</text>\n<text text-anchor=\"middle\" x=\"1911\" y=\"-625.3\" font-family=\"Helvetica,sans-Serif\" font-size=\"14.00\">samples = 3</text>\n<text text-anchor=\"middle\" x=\"1911\" y=\"-610.3\" font-family=\"Helvetica,sans-Serif\" font-size=\"14.00\">value = [0, 3]</text>\n<text text-anchor=\"middle\" x=\"1911\" y=\"-595.3\" font-family=\"Helvetica,sans-Serif\" font-size=\"14.00\">class = a</text>\n</g>\n<!-- 88&#45;&gt;90 -->\n<g id=\"edge90\" class=\"edge\">\n<title>88&#45;&gt;90</title>\n<path fill=\"none\" stroke=\"black\" d=\"M1894.02,-698.91C1896.42,-688.09 1899.03,-676.38 1901.46,-665.44\"/>\n<polygon fill=\"black\" stroke=\"black\" points=\"1904.88,-666.19 1903.63,-655.67 1898.04,-664.67 1904.88,-666.19\"/>\n</g>\n<!-- 92 -->\n<g id=\"node93\" class=\"node\">\n<title>92</title>\n<polygon fill=\"#399de5\" stroke=\"black\" points=\"2088,-655.5 1978,-655.5 1978,-587.5 2088,-587.5 2088,-655.5\"/>\n<text text-anchor=\"middle\" x=\"2033\" y=\"-640.3\" font-family=\"Helvetica,sans-Serif\" font-size=\"14.00\">gini = 0.0</text>\n<text text-anchor=\"middle\" x=\"2033\" y=\"-625.3\" font-family=\"Helvetica,sans-Serif\" font-size=\"14.00\">samples = 116</text>\n<text text-anchor=\"middle\" x=\"2033\" y=\"-610.3\" font-family=\"Helvetica,sans-Serif\" font-size=\"14.00\">value = [0, 116]</text>\n<text text-anchor=\"middle\" x=\"2033\" y=\"-595.3\" font-family=\"Helvetica,sans-Serif\" font-size=\"14.00\">class = a</text>\n</g>\n<!-- 91&#45;&gt;92 -->\n<g id=\"edge92\" class=\"edge\">\n<title>91&#45;&gt;92</title>\n<path fill=\"none\" stroke=\"black\" d=\"M2033.65,-698.91C2033.56,-688.2 2033.46,-676.62 2033.37,-665.78\"/>\n<polygon fill=\"black\" stroke=\"black\" points=\"2036.87,-665.64 2033.28,-655.67 2029.87,-665.7 2036.87,-665.64\"/>\n</g>\n<!-- 93 -->\n<g id=\"node94\" class=\"node\">\n<title>93</title>\n<polygon fill=\"#6ab6ec\" stroke=\"black\" points=\"2216,-663 2106,-663 2106,-580 2216,-580 2216,-663\"/>\n<text text-anchor=\"middle\" x=\"2161\" y=\"-647.8\" font-family=\"Helvetica,sans-Serif\" font-size=\"14.00\">alcohol &lt;= 9.35</text>\n<text text-anchor=\"middle\" x=\"2161\" y=\"-632.8\" font-family=\"Helvetica,sans-Serif\" font-size=\"14.00\">gini = 0.32</text>\n<text text-anchor=\"middle\" x=\"2161\" y=\"-617.8\" font-family=\"Helvetica,sans-Serif\" font-size=\"14.00\">samples = 5</text>\n<text text-anchor=\"middle\" x=\"2161\" y=\"-602.8\" font-family=\"Helvetica,sans-Serif\" font-size=\"14.00\">value = [1, 4]</text>\n<text text-anchor=\"middle\" x=\"2161\" y=\"-587.8\" font-family=\"Helvetica,sans-Serif\" font-size=\"14.00\">class = a</text>\n</g>\n<!-- 91&#45;&gt;93 -->\n<g id=\"edge93\" class=\"edge\">\n<title>91&#45;&gt;93</title>\n<path fill=\"none\" stroke=\"black\" d=\"M2078.06,-698.91C2088.21,-689.56 2099.09,-679.54 2109.52,-669.93\"/>\n<polygon fill=\"black\" stroke=\"black\" points=\"2112.03,-672.37 2117.02,-663.02 2107.29,-667.22 2112.03,-672.37\"/>\n</g>\n<!-- 94 -->\n<g id=\"node95\" class=\"node\">\n<title>94</title>\n<polygon fill=\"#399de5\" stroke=\"black\" points=\"2151.5,-536.5 2056.5,-536.5 2056.5,-468.5 2151.5,-468.5 2151.5,-536.5\"/>\n<text text-anchor=\"middle\" x=\"2104\" y=\"-521.3\" font-family=\"Helvetica,sans-Serif\" font-size=\"14.00\">gini = 0.0</text>\n<text text-anchor=\"middle\" x=\"2104\" y=\"-506.3\" font-family=\"Helvetica,sans-Serif\" font-size=\"14.00\">samples = 4</text>\n<text text-anchor=\"middle\" x=\"2104\" y=\"-491.3\" font-family=\"Helvetica,sans-Serif\" font-size=\"14.00\">value = [0, 4]</text>\n<text text-anchor=\"middle\" x=\"2104\" y=\"-476.3\" font-family=\"Helvetica,sans-Serif\" font-size=\"14.00\">class = a</text>\n</g>\n<!-- 93&#45;&gt;94 -->\n<g id=\"edge94\" class=\"edge\">\n<title>93&#45;&gt;94</title>\n<path fill=\"none\" stroke=\"black\" d=\"M2141.22,-579.91C2135.85,-568.87 2130.01,-556.9 2124.59,-545.77\"/>\n<polygon fill=\"black\" stroke=\"black\" points=\"2127.68,-544.12 2120.16,-536.67 2121.39,-547.19 2127.68,-544.12\"/>\n</g>\n<!-- 95 -->\n<g id=\"node96\" class=\"node\">\n<title>95</title>\n<polygon fill=\"#e58139\" stroke=\"black\" points=\"2264.5,-536.5 2169.5,-536.5 2169.5,-468.5 2264.5,-468.5 2264.5,-536.5\"/>\n<text text-anchor=\"middle\" x=\"2217\" y=\"-521.3\" font-family=\"Helvetica,sans-Serif\" font-size=\"14.00\">gini = 0.0</text>\n<text text-anchor=\"middle\" x=\"2217\" y=\"-506.3\" font-family=\"Helvetica,sans-Serif\" font-size=\"14.00\">samples = 1</text>\n<text text-anchor=\"middle\" x=\"2217\" y=\"-491.3\" font-family=\"Helvetica,sans-Serif\" font-size=\"14.00\">value = [1, 0]</text>\n<text text-anchor=\"middle\" x=\"2217\" y=\"-476.3\" font-family=\"Helvetica,sans-Serif\" font-size=\"14.00\">class = t</text>\n</g>\n<!-- 93&#45;&gt;95 -->\n<g id=\"edge95\" class=\"edge\">\n<title>93&#45;&gt;95</title>\n<path fill=\"none\" stroke=\"black\" d=\"M2180.43,-579.91C2185.71,-568.87 2191.44,-556.9 2196.77,-545.77\"/>\n<polygon fill=\"black\" stroke=\"black\" points=\"2199.96,-547.2 2201.13,-536.67 2193.65,-544.18 2199.96,-547.2\"/>\n</g>\n<!-- 97 -->\n<g id=\"node98\" class=\"node\">\n<title>97</title>\n<polygon fill=\"#399de5\" stroke=\"black\" points=\"2222.5,-774.5 2127.5,-774.5 2127.5,-706.5 2222.5,-706.5 2222.5,-774.5\"/>\n<text text-anchor=\"middle\" x=\"2175\" y=\"-759.3\" font-family=\"Helvetica,sans-Serif\" font-size=\"14.00\">gini = 0.0</text>\n<text text-anchor=\"middle\" x=\"2175\" y=\"-744.3\" font-family=\"Helvetica,sans-Serif\" font-size=\"14.00\">samples = 1</text>\n<text text-anchor=\"middle\" x=\"2175\" y=\"-729.3\" font-family=\"Helvetica,sans-Serif\" font-size=\"14.00\">value = [0, 1]</text>\n<text text-anchor=\"middle\" x=\"2175\" y=\"-714.3\" font-family=\"Helvetica,sans-Serif\" font-size=\"14.00\">class = a</text>\n</g>\n<!-- 96&#45;&gt;97 -->\n<g id=\"edge97\" class=\"edge\">\n<title>96&#45;&gt;97</title>\n<path fill=\"none\" stroke=\"black\" d=\"M2175,-817.91C2175,-807.2 2175,-795.62 2175,-784.78\"/>\n<polygon fill=\"black\" stroke=\"black\" points=\"2178.5,-784.67 2175,-774.67 2171.5,-784.67 2178.5,-784.67\"/>\n</g>\n<!-- 98 -->\n<g id=\"node99\" class=\"node\">\n<title>98</title>\n<polygon fill=\"#e58139\" stroke=\"black\" points=\"2335.5,-774.5 2240.5,-774.5 2240.5,-706.5 2335.5,-706.5 2335.5,-774.5\"/>\n<text text-anchor=\"middle\" x=\"2288\" y=\"-759.3\" font-family=\"Helvetica,sans-Serif\" font-size=\"14.00\">gini = 0.0</text>\n<text text-anchor=\"middle\" x=\"2288\" y=\"-744.3\" font-family=\"Helvetica,sans-Serif\" font-size=\"14.00\">samples = 1</text>\n<text text-anchor=\"middle\" x=\"2288\" y=\"-729.3\" font-family=\"Helvetica,sans-Serif\" font-size=\"14.00\">value = [1, 0]</text>\n<text text-anchor=\"middle\" x=\"2288\" y=\"-714.3\" font-family=\"Helvetica,sans-Serif\" font-size=\"14.00\">class = t</text>\n</g>\n<!-- 96&#45;&gt;98 -->\n<g id=\"edge98\" class=\"edge\">\n<title>96&#45;&gt;98</title>\n<path fill=\"none\" stroke=\"black\" d=\"M2214.2,-817.91C2225.39,-806.32 2237.59,-793.7 2248.78,-782.11\"/>\n<polygon fill=\"black\" stroke=\"black\" points=\"2251.54,-784.29 2255.97,-774.67 2246.5,-779.43 2251.54,-784.29\"/>\n</g>\n<!-- 101 -->\n<g id=\"node102\" class=\"node\">\n<title>101</title>\n<polygon fill=\"#f4c9aa\" stroke=\"black\" points=\"1705,-1496 1553,-1496 1553,-1413 1705,-1413 1705,-1496\"/>\n<text text-anchor=\"middle\" x=\"1629\" y=\"-1480.8\" font-family=\"Helvetica,sans-Serif\" font-size=\"14.00\">residual sugar &lt;= 1.85</text>\n<text text-anchor=\"middle\" x=\"1629\" y=\"-1465.8\" font-family=\"Helvetica,sans-Serif\" font-size=\"14.00\">gini = 0.463</text>\n<text text-anchor=\"middle\" x=\"1629\" y=\"-1450.8\" font-family=\"Helvetica,sans-Serif\" font-size=\"14.00\">samples = 11</text>\n<text text-anchor=\"middle\" x=\"1629\" y=\"-1435.8\" font-family=\"Helvetica,sans-Serif\" font-size=\"14.00\">value = [7, 4]</text>\n<text text-anchor=\"middle\" x=\"1629\" y=\"-1420.8\" font-family=\"Helvetica,sans-Serif\" font-size=\"14.00\">class = t</text>\n</g>\n<!-- 100&#45;&gt;101 -->\n<g id=\"edge101\" class=\"edge\">\n<title>100&#45;&gt;101</title>\n<path fill=\"none\" stroke=\"black\" d=\"M1629,-1531.91C1629,-1523.65 1629,-1514.86 1629,-1506.3\"/>\n<polygon fill=\"black\" stroke=\"black\" points=\"1632.5,-1506.02 1629,-1496.02 1625.5,-1506.02 1632.5,-1506.02\"/>\n</g>\n<!-- 106 -->\n<g id=\"node107\" class=\"node\">\n<title>106</title>\n<polygon fill=\"#40a0e6\" stroke=\"black\" points=\"1867,-1496 1765,-1496 1765,-1413 1867,-1413 1867,-1496\"/>\n<text text-anchor=\"middle\" x=\"1816\" y=\"-1480.8\" font-family=\"Helvetica,sans-Serif\" font-size=\"14.00\">pH &lt;= 2.95</text>\n<text text-anchor=\"middle\" x=\"1816\" y=\"-1465.8\" font-family=\"Helvetica,sans-Serif\" font-size=\"14.00\">gini = 0.064</text>\n<text text-anchor=\"middle\" x=\"1816\" y=\"-1450.8\" font-family=\"Helvetica,sans-Serif\" font-size=\"14.00\">samples = 30</text>\n<text text-anchor=\"middle\" x=\"1816\" y=\"-1435.8\" font-family=\"Helvetica,sans-Serif\" font-size=\"14.00\">value = [1, 29]</text>\n<text text-anchor=\"middle\" x=\"1816\" y=\"-1420.8\" font-family=\"Helvetica,sans-Serif\" font-size=\"14.00\">class = a</text>\n</g>\n<!-- 100&#45;&gt;106 -->\n<g id=\"edge106\" class=\"edge\">\n<title>100&#45;&gt;106</title>\n<path fill=\"none\" stroke=\"black\" d=\"M1693.88,-1531.91C1714.09,-1519.26 1736.29,-1505.37 1756.14,-1492.95\"/>\n<polygon fill=\"black\" stroke=\"black\" points=\"1758.17,-1495.81 1764.79,-1487.54 1754.46,-1489.88 1758.17,-1495.81\"/>\n</g>\n<!-- 102 -->\n<g id=\"node103\" class=\"node\">\n<title>102</title>\n<polygon fill=\"#6ab6ec\" stroke=\"black\" points=\"1637,-1377 1479,-1377 1479,-1294 1637,-1294 1637,-1377\"/>\n<text text-anchor=\"middle\" x=\"1558\" y=\"-1361.8\" font-family=\"Helvetica,sans-Serif\" font-size=\"14.00\">volatile acidity &lt;= 0.432</text>\n<text text-anchor=\"middle\" x=\"1558\" y=\"-1346.8\" font-family=\"Helvetica,sans-Serif\" font-size=\"14.00\">gini = 0.32</text>\n<text text-anchor=\"middle\" x=\"1558\" y=\"-1331.8\" font-family=\"Helvetica,sans-Serif\" font-size=\"14.00\">samples = 5</text>\n<text text-anchor=\"middle\" x=\"1558\" y=\"-1316.8\" font-family=\"Helvetica,sans-Serif\" font-size=\"14.00\">value = [1, 4]</text>\n<text text-anchor=\"middle\" x=\"1558\" y=\"-1301.8\" font-family=\"Helvetica,sans-Serif\" font-size=\"14.00\">class = a</text>\n</g>\n<!-- 101&#45;&gt;102 -->\n<g id=\"edge102\" class=\"edge\">\n<title>101&#45;&gt;102</title>\n<path fill=\"none\" stroke=\"black\" d=\"M1604.37,-1412.91C1599.03,-1404.1 1593.32,-1394.7 1587.8,-1385.61\"/>\n<polygon fill=\"black\" stroke=\"black\" points=\"1590.77,-1383.75 1582.59,-1377.02 1584.79,-1387.39 1590.77,-1383.75\"/>\n</g>\n<!-- 105 -->\n<g id=\"node106\" class=\"node\">\n<title>105</title>\n<polygon fill=\"#e58139\" stroke=\"black\" points=\"1750.5,-1369.5 1655.5,-1369.5 1655.5,-1301.5 1750.5,-1301.5 1750.5,-1369.5\"/>\n<text text-anchor=\"middle\" x=\"1703\" y=\"-1354.3\" font-family=\"Helvetica,sans-Serif\" font-size=\"14.00\">gini = 0.0</text>\n<text text-anchor=\"middle\" x=\"1703\" y=\"-1339.3\" font-family=\"Helvetica,sans-Serif\" font-size=\"14.00\">samples = 6</text>\n<text text-anchor=\"middle\" x=\"1703\" y=\"-1324.3\" font-family=\"Helvetica,sans-Serif\" font-size=\"14.00\">value = [6, 0]</text>\n<text text-anchor=\"middle\" x=\"1703\" y=\"-1309.3\" font-family=\"Helvetica,sans-Serif\" font-size=\"14.00\">class = t</text>\n</g>\n<!-- 101&#45;&gt;105 -->\n<g id=\"edge105\" class=\"edge\">\n<title>101&#45;&gt;105</title>\n<path fill=\"none\" stroke=\"black\" d=\"M1654.67,-1412.91C1661.72,-1401.76 1669.38,-1389.66 1676.47,-1378.44\"/>\n<polygon fill=\"black\" stroke=\"black\" points=\"1679.64,-1379.99 1682.02,-1369.67 1673.72,-1376.25 1679.64,-1379.99\"/>\n</g>\n<!-- 103 -->\n<g id=\"node104\" class=\"node\">\n<title>103</title>\n<polygon fill=\"#399de5\" stroke=\"black\" points=\"1605.5,-1250.5 1510.5,-1250.5 1510.5,-1182.5 1605.5,-1182.5 1605.5,-1250.5\"/>\n<text text-anchor=\"middle\" x=\"1558\" y=\"-1235.3\" font-family=\"Helvetica,sans-Serif\" font-size=\"14.00\">gini = 0.0</text>\n<text text-anchor=\"middle\" x=\"1558\" y=\"-1220.3\" font-family=\"Helvetica,sans-Serif\" font-size=\"14.00\">samples = 4</text>\n<text text-anchor=\"middle\" x=\"1558\" y=\"-1205.3\" font-family=\"Helvetica,sans-Serif\" font-size=\"14.00\">value = [0, 4]</text>\n<text text-anchor=\"middle\" x=\"1558\" y=\"-1190.3\" font-family=\"Helvetica,sans-Serif\" font-size=\"14.00\">class = a</text>\n</g>\n<!-- 102&#45;&gt;103 -->\n<g id=\"edge103\" class=\"edge\">\n<title>102&#45;&gt;103</title>\n<path fill=\"none\" stroke=\"black\" d=\"M1558,-1293.91C1558,-1283.2 1558,-1271.62 1558,-1260.78\"/>\n<polygon fill=\"black\" stroke=\"black\" points=\"1561.5,-1260.67 1558,-1250.67 1554.5,-1260.67 1561.5,-1260.67\"/>\n</g>\n<!-- 104 -->\n<g id=\"node105\" class=\"node\">\n<title>104</title>\n<polygon fill=\"#e58139\" stroke=\"black\" points=\"1718.5,-1250.5 1623.5,-1250.5 1623.5,-1182.5 1718.5,-1182.5 1718.5,-1250.5\"/>\n<text text-anchor=\"middle\" x=\"1671\" y=\"-1235.3\" font-family=\"Helvetica,sans-Serif\" font-size=\"14.00\">gini = 0.0</text>\n<text text-anchor=\"middle\" x=\"1671\" y=\"-1220.3\" font-family=\"Helvetica,sans-Serif\" font-size=\"14.00\">samples = 1</text>\n<text text-anchor=\"middle\" x=\"1671\" y=\"-1205.3\" font-family=\"Helvetica,sans-Serif\" font-size=\"14.00\">value = [1, 0]</text>\n<text text-anchor=\"middle\" x=\"1671\" y=\"-1190.3\" font-family=\"Helvetica,sans-Serif\" font-size=\"14.00\">class = t</text>\n</g>\n<!-- 102&#45;&gt;104 -->\n<g id=\"edge104\" class=\"edge\">\n<title>102&#45;&gt;104</title>\n<path fill=\"none\" stroke=\"black\" d=\"M1597.2,-1293.91C1608.39,-1282.32 1620.59,-1269.7 1631.78,-1258.11\"/>\n<polygon fill=\"black\" stroke=\"black\" points=\"1634.54,-1260.29 1638.97,-1250.67 1629.5,-1255.43 1634.54,-1260.29\"/>\n</g>\n<!-- 107 -->\n<g id=\"node108\" class=\"node\">\n<title>107</title>\n<polygon fill=\"#e58139\" stroke=\"black\" points=\"1863.5,-1369.5 1768.5,-1369.5 1768.5,-1301.5 1863.5,-1301.5 1863.5,-1369.5\"/>\n<text text-anchor=\"middle\" x=\"1816\" y=\"-1354.3\" font-family=\"Helvetica,sans-Serif\" font-size=\"14.00\">gini = 0.0</text>\n<text text-anchor=\"middle\" x=\"1816\" y=\"-1339.3\" font-family=\"Helvetica,sans-Serif\" font-size=\"14.00\">samples = 1</text>\n<text text-anchor=\"middle\" x=\"1816\" y=\"-1324.3\" font-family=\"Helvetica,sans-Serif\" font-size=\"14.00\">value = [1, 0]</text>\n<text text-anchor=\"middle\" x=\"1816\" y=\"-1309.3\" font-family=\"Helvetica,sans-Serif\" font-size=\"14.00\">class = t</text>\n</g>\n<!-- 106&#45;&gt;107 -->\n<g id=\"edge107\" class=\"edge\">\n<title>106&#45;&gt;107</title>\n<path fill=\"none\" stroke=\"black\" d=\"M1816,-1412.91C1816,-1402.2 1816,-1390.62 1816,-1379.78\"/>\n<polygon fill=\"black\" stroke=\"black\" points=\"1819.5,-1379.67 1816,-1369.67 1812.5,-1379.67 1819.5,-1379.67\"/>\n</g>\n<!-- 108 -->\n<g id=\"node109\" class=\"node\">\n<title>108</title>\n<polygon fill=\"#399de5\" stroke=\"black\" points=\"1984,-1369.5 1882,-1369.5 1882,-1301.5 1984,-1301.5 1984,-1369.5\"/>\n<text text-anchor=\"middle\" x=\"1933\" y=\"-1354.3\" font-family=\"Helvetica,sans-Serif\" font-size=\"14.00\">gini = 0.0</text>\n<text text-anchor=\"middle\" x=\"1933\" y=\"-1339.3\" font-family=\"Helvetica,sans-Serif\" font-size=\"14.00\">samples = 29</text>\n<text text-anchor=\"middle\" x=\"1933\" y=\"-1324.3\" font-family=\"Helvetica,sans-Serif\" font-size=\"14.00\">value = [0, 29]</text>\n<text text-anchor=\"middle\" x=\"1933\" y=\"-1309.3\" font-family=\"Helvetica,sans-Serif\" font-size=\"14.00\">class = a</text>\n</g>\n<!-- 106&#45;&gt;108 -->\n<g id=\"edge108\" class=\"edge\">\n<title>106&#45;&gt;108</title>\n<path fill=\"none\" stroke=\"black\" d=\"M1856.59,-1412.91C1868.29,-1401.21 1881.04,-1388.46 1892.72,-1376.78\"/>\n<polygon fill=\"black\" stroke=\"black\" points=\"1895.24,-1379.21 1899.83,-1369.67 1890.29,-1374.26 1895.24,-1379.21\"/>\n</g>\n<!-- 110 -->\n<g id=\"node111\" class=\"node\">\n<title>110</title>\n<polygon fill=\"#e58139\" stroke=\"black\" points=\"1833.5,-1607.5 1738.5,-1607.5 1738.5,-1539.5 1833.5,-1539.5 1833.5,-1607.5\"/>\n<text text-anchor=\"middle\" x=\"1786\" y=\"-1592.3\" font-family=\"Helvetica,sans-Serif\" font-size=\"14.00\">gini = 0.0</text>\n<text text-anchor=\"middle\" x=\"1786\" y=\"-1577.3\" font-family=\"Helvetica,sans-Serif\" font-size=\"14.00\">samples = 4</text>\n<text text-anchor=\"middle\" x=\"1786\" y=\"-1562.3\" font-family=\"Helvetica,sans-Serif\" font-size=\"14.00\">value = [4, 0]</text>\n<text text-anchor=\"middle\" x=\"1786\" y=\"-1547.3\" font-family=\"Helvetica,sans-Serif\" font-size=\"14.00\">class = t</text>\n</g>\n<!-- 109&#45;&gt;110 -->\n<g id=\"edge110\" class=\"edge\">\n<title>109&#45;&gt;110</title>\n<path fill=\"none\" stroke=\"black\" d=\"M1786,-1650.91C1786,-1640.2 1786,-1628.62 1786,-1617.78\"/>\n<polygon fill=\"black\" stroke=\"black\" points=\"1789.5,-1617.67 1786,-1607.67 1782.5,-1617.67 1789.5,-1617.67\"/>\n</g>\n<!-- 111 -->\n<g id=\"node112\" class=\"node\">\n<title>111</title>\n<polygon fill=\"#399de5\" stroke=\"black\" points=\"1946.5,-1607.5 1851.5,-1607.5 1851.5,-1539.5 1946.5,-1539.5 1946.5,-1607.5\"/>\n<text text-anchor=\"middle\" x=\"1899\" y=\"-1592.3\" font-family=\"Helvetica,sans-Serif\" font-size=\"14.00\">gini = 0.0</text>\n<text text-anchor=\"middle\" x=\"1899\" y=\"-1577.3\" font-family=\"Helvetica,sans-Serif\" font-size=\"14.00\">samples = 5</text>\n<text text-anchor=\"middle\" x=\"1899\" y=\"-1562.3\" font-family=\"Helvetica,sans-Serif\" font-size=\"14.00\">value = [0, 5]</text>\n<text text-anchor=\"middle\" x=\"1899\" y=\"-1547.3\" font-family=\"Helvetica,sans-Serif\" font-size=\"14.00\">class = a</text>\n</g>\n<!-- 109&#45;&gt;111 -->\n<g id=\"edge111\" class=\"edge\">\n<title>109&#45;&gt;111</title>\n<path fill=\"none\" stroke=\"black\" d=\"M1825.2,-1650.91C1836.39,-1639.32 1848.59,-1626.7 1859.78,-1615.11\"/>\n<polygon fill=\"black\" stroke=\"black\" points=\"1862.54,-1617.29 1866.97,-1607.67 1857.5,-1612.43 1862.54,-1617.29\"/>\n</g>\n<!-- 113 -->\n<g id=\"node114\" class=\"node\">\n<title>113</title>\n<polygon fill=\"#6bb6ec\" stroke=\"black\" points=\"2242,-1734 2066,-1734 2066,-1651 2242,-1651 2242,-1734\"/>\n<text text-anchor=\"middle\" x=\"2154\" y=\"-1718.8\" font-family=\"Helvetica,sans-Serif\" font-size=\"14.00\">total sulfur dioxide &lt;= 90.5</text>\n<text text-anchor=\"middle\" x=\"2154\" y=\"-1703.8\" font-family=\"Helvetica,sans-Serif\" font-size=\"14.00\">gini = 0.324</text>\n<text text-anchor=\"middle\" x=\"2154\" y=\"-1688.8\" font-family=\"Helvetica,sans-Serif\" font-size=\"14.00\">samples = 192</text>\n<text text-anchor=\"middle\" x=\"2154\" y=\"-1673.8\" font-family=\"Helvetica,sans-Serif\" font-size=\"14.00\">value = [39, 153]</text>\n<text text-anchor=\"middle\" x=\"2154\" y=\"-1658.8\" font-family=\"Helvetica,sans-Serif\" font-size=\"14.00\">class = a</text>\n</g>\n<!-- 112&#45;&gt;113 -->\n<g id=\"edge113\" class=\"edge\">\n<title>112&#45;&gt;113</title>\n<path fill=\"none\" stroke=\"black\" d=\"M2154,-1769.91C2154,-1761.65 2154,-1752.86 2154,-1744.3\"/>\n<polygon fill=\"black\" stroke=\"black\" points=\"2157.5,-1744.02 2154,-1734.02 2150.5,-1744.02 2157.5,-1744.02\"/>\n</g>\n<!-- 132 -->\n<g id=\"node133\" class=\"node\">\n<title>132</title>\n<polygon fill=\"#e99559\" stroke=\"black\" points=\"2757.5,-1734 2574.5,-1734 2574.5,-1651 2757.5,-1651 2757.5,-1734\"/>\n<text text-anchor=\"middle\" x=\"2666\" y=\"-1718.8\" font-family=\"Helvetica,sans-Serif\" font-size=\"14.00\">total sulfur dioxide &lt;= 156.0</text>\n<text text-anchor=\"middle\" x=\"2666\" y=\"-1703.8\" font-family=\"Helvetica,sans-Serif\" font-size=\"14.00\">gini = 0.24</text>\n<text text-anchor=\"middle\" x=\"2666\" y=\"-1688.8\" font-family=\"Helvetica,sans-Serif\" font-size=\"14.00\">samples = 229</text>\n<text text-anchor=\"middle\" x=\"2666\" y=\"-1673.8\" font-family=\"Helvetica,sans-Serif\" font-size=\"14.00\">value = [197, 32]</text>\n<text text-anchor=\"middle\" x=\"2666\" y=\"-1658.8\" font-family=\"Helvetica,sans-Serif\" font-size=\"14.00\">class = t</text>\n</g>\n<!-- 112&#45;&gt;132 -->\n<g id=\"edge132\" class=\"edge\">\n<title>112&#45;&gt;132</title>\n<path fill=\"none\" stroke=\"black\" d=\"M2233.16,-1792.41C2322.17,-1772.07 2466.96,-1738.98 2564.29,-1716.74\"/>\n<polygon fill=\"black\" stroke=\"black\" points=\"2565.18,-1720.13 2574.15,-1714.49 2563.62,-1713.31 2565.18,-1720.13\"/>\n</g>\n<!-- 114 -->\n<g id=\"node115\" class=\"node\">\n<title>114</title>\n<polygon fill=\"#eca470\" stroke=\"black\" points=\"2143.5,-1615 2026.5,-1615 2026.5,-1532 2143.5,-1532 2143.5,-1615\"/>\n<text text-anchor=\"middle\" x=\"2085\" y=\"-1599.8\" font-family=\"Helvetica,sans-Serif\" font-size=\"14.00\">density &lt;= 0.994</text>\n<text text-anchor=\"middle\" x=\"2085\" y=\"-1584.8\" font-family=\"Helvetica,sans-Serif\" font-size=\"14.00\">gini = 0.339</text>\n<text text-anchor=\"middle\" x=\"2085\" y=\"-1569.8\" font-family=\"Helvetica,sans-Serif\" font-size=\"14.00\">samples = 37</text>\n<text text-anchor=\"middle\" x=\"2085\" y=\"-1554.8\" font-family=\"Helvetica,sans-Serif\" font-size=\"14.00\">value = [29, 8]</text>\n<text text-anchor=\"middle\" x=\"2085\" y=\"-1539.8\" font-family=\"Helvetica,sans-Serif\" font-size=\"14.00\">class = t</text>\n</g>\n<!-- 113&#45;&gt;114 -->\n<g id=\"edge114\" class=\"edge\">\n<title>113&#45;&gt;114</title>\n<path fill=\"none\" stroke=\"black\" d=\"M2130.06,-1650.91C2124.92,-1642.2 2119.44,-1632.9 2114.13,-1623.89\"/>\n<polygon fill=\"black\" stroke=\"black\" points=\"2116.99,-1621.86 2108.9,-1615.02 2110.96,-1625.41 2116.99,-1621.86\"/>\n</g>\n<!-- 117 -->\n<g id=\"node118\" class=\"node\">\n<title>117</title>\n<polygon fill=\"#47a4e7\" stroke=\"black\" points=\"2286.5,-1615 2161.5,-1615 2161.5,-1532 2286.5,-1532 2286.5,-1615\"/>\n<text text-anchor=\"middle\" x=\"2224\" y=\"-1599.8\" font-family=\"Helvetica,sans-Serif\" font-size=\"14.00\">sulphates &lt;= 0.73</text>\n<text text-anchor=\"middle\" x=\"2224\" y=\"-1584.8\" font-family=\"Helvetica,sans-Serif\" font-size=\"14.00\">gini = 0.121</text>\n<text text-anchor=\"middle\" x=\"2224\" y=\"-1569.8\" font-family=\"Helvetica,sans-Serif\" font-size=\"14.00\">samples = 155</text>\n<text text-anchor=\"middle\" x=\"2224\" y=\"-1554.8\" font-family=\"Helvetica,sans-Serif\" font-size=\"14.00\">value = [10, 145]</text>\n<text text-anchor=\"middle\" x=\"2224\" y=\"-1539.8\" font-family=\"Helvetica,sans-Serif\" font-size=\"14.00\">class = a</text>\n</g>\n<!-- 113&#45;&gt;117 -->\n<g id=\"edge117\" class=\"edge\">\n<title>113&#45;&gt;117</title>\n<path fill=\"none\" stroke=\"black\" d=\"M2178.29,-1650.91C2183.55,-1642.1 2189.18,-1632.7 2194.62,-1623.61\"/>\n<polygon fill=\"black\" stroke=\"black\" points=\"2197.63,-1625.4 2199.76,-1615.02 2191.62,-1621.81 2197.63,-1625.4\"/>\n</g>\n<!-- 115 -->\n<g id=\"node116\" class=\"node\">\n<title>115</title>\n<polygon fill=\"#399de5\" stroke=\"black\" points=\"2017.5,-1488.5 1922.5,-1488.5 1922.5,-1420.5 2017.5,-1420.5 2017.5,-1488.5\"/>\n<text text-anchor=\"middle\" x=\"1970\" y=\"-1473.3\" font-family=\"Helvetica,sans-Serif\" font-size=\"14.00\">gini = 0.0</text>\n<text text-anchor=\"middle\" x=\"1970\" y=\"-1458.3\" font-family=\"Helvetica,sans-Serif\" font-size=\"14.00\">samples = 8</text>\n<text text-anchor=\"middle\" x=\"1970\" y=\"-1443.3\" font-family=\"Helvetica,sans-Serif\" font-size=\"14.00\">value = [0, 8]</text>\n<text text-anchor=\"middle\" x=\"1970\" y=\"-1428.3\" font-family=\"Helvetica,sans-Serif\" font-size=\"14.00\">class = a</text>\n</g>\n<!-- 114&#45;&gt;115 -->\n<g id=\"edge115\" class=\"edge\">\n<title>114&#45;&gt;115</title>\n<path fill=\"none\" stroke=\"black\" d=\"M2045.1,-1531.91C2033.71,-1520.32 2021.31,-1507.7 2009.92,-1496.11\"/>\n<polygon fill=\"black\" stroke=\"black\" points=\"2012.11,-1493.35 2002.6,-1488.67 2007.11,-1498.25 2012.11,-1493.35\"/>\n</g>\n<!-- 116 -->\n<g id=\"node117\" class=\"node\">\n<title>116</title>\n<polygon fill=\"#e58139\" stroke=\"black\" points=\"2138,-1488.5 2036,-1488.5 2036,-1420.5 2138,-1420.5 2138,-1488.5\"/>\n<text text-anchor=\"middle\" x=\"2087\" y=\"-1473.3\" font-family=\"Helvetica,sans-Serif\" font-size=\"14.00\">gini = 0.0</text>\n<text text-anchor=\"middle\" x=\"2087\" y=\"-1458.3\" font-family=\"Helvetica,sans-Serif\" font-size=\"14.00\">samples = 29</text>\n<text text-anchor=\"middle\" x=\"2087\" y=\"-1443.3\" font-family=\"Helvetica,sans-Serif\" font-size=\"14.00\">value = [29, 0]</text>\n<text text-anchor=\"middle\" x=\"2087\" y=\"-1428.3\" font-family=\"Helvetica,sans-Serif\" font-size=\"14.00\">class = t</text>\n</g>\n<!-- 114&#45;&gt;116 -->\n<g id=\"edge116\" class=\"edge\">\n<title>114&#45;&gt;116</title>\n<path fill=\"none\" stroke=\"black\" d=\"M2085.69,-1531.91C2085.88,-1521.2 2086.07,-1509.62 2086.26,-1498.78\"/>\n<polygon fill=\"black\" stroke=\"black\" points=\"2089.76,-1498.73 2086.43,-1488.67 2082.76,-1498.61 2089.76,-1498.73\"/>\n</g>\n<!-- 118 -->\n<g id=\"node119\" class=\"node\">\n<title>118</title>\n<polygon fill=\"#41a1e6\" stroke=\"black\" points=\"2288,-1496 2158,-1496 2158,-1413 2288,-1413 2288,-1496\"/>\n<text text-anchor=\"middle\" x=\"2223\" y=\"-1480.8\" font-family=\"Helvetica,sans-Serif\" font-size=\"14.00\">fixed acidity &lt;= 8.9</text>\n<text text-anchor=\"middle\" x=\"2223\" y=\"-1465.8\" font-family=\"Helvetica,sans-Serif\" font-size=\"14.00\">gini = 0.077</text>\n<text text-anchor=\"middle\" x=\"2223\" y=\"-1450.8\" font-family=\"Helvetica,sans-Serif\" font-size=\"14.00\">samples = 150</text>\n<text text-anchor=\"middle\" x=\"2223\" y=\"-1435.8\" font-family=\"Helvetica,sans-Serif\" font-size=\"14.00\">value = [6, 144]</text>\n<text text-anchor=\"middle\" x=\"2223\" y=\"-1420.8\" font-family=\"Helvetica,sans-Serif\" font-size=\"14.00\">class = a</text>\n</g>\n<!-- 117&#45;&gt;118 -->\n<g id=\"edge118\" class=\"edge\">\n<title>117&#45;&gt;118</title>\n<path fill=\"none\" stroke=\"black\" d=\"M2223.65,-1531.91C2223.58,-1523.65 2223.51,-1514.86 2223.43,-1506.3\"/>\n<polygon fill=\"black\" stroke=\"black\" points=\"2226.93,-1505.99 2223.35,-1496.02 2219.93,-1506.05 2226.93,-1505.99\"/>\n</g>\n<!-- 129 -->\n<g id=\"node130\" class=\"node\">\n<title>129</title>\n<polygon fill=\"#eca06a\" stroke=\"black\" points=\"2479.5,-1496 2306.5,-1496 2306.5,-1413 2479.5,-1413 2479.5,-1496\"/>\n<text text-anchor=\"middle\" x=\"2393\" y=\"-1480.8\" font-family=\"Helvetica,sans-Serif\" font-size=\"14.00\">free sulfur dioxide &lt;= 43.5</text>\n<text text-anchor=\"middle\" x=\"2393\" y=\"-1465.8\" font-family=\"Helvetica,sans-Serif\" font-size=\"14.00\">gini = 0.32</text>\n<text text-anchor=\"middle\" x=\"2393\" y=\"-1450.8\" font-family=\"Helvetica,sans-Serif\" font-size=\"14.00\">samples = 5</text>\n<text text-anchor=\"middle\" x=\"2393\" y=\"-1435.8\" font-family=\"Helvetica,sans-Serif\" font-size=\"14.00\">value = [4, 1]</text>\n<text text-anchor=\"middle\" x=\"2393\" y=\"-1420.8\" font-family=\"Helvetica,sans-Serif\" font-size=\"14.00\">class = t</text>\n</g>\n<!-- 117&#45;&gt;129 -->\n<g id=\"edge129\" class=\"edge\">\n<title>117&#45;&gt;129</title>\n<path fill=\"none\" stroke=\"black\" d=\"M2282.63,-1531.91C2296.66,-1522.2 2311.74,-1511.76 2326.11,-1501.81\"/>\n<polygon fill=\"black\" stroke=\"black\" points=\"2328.24,-1504.59 2334.47,-1496.02 2324.26,-1498.84 2328.24,-1504.59\"/>\n</g>\n<!-- 119 -->\n<g id=\"node120\" class=\"node\">\n<title>119</title>\n<polygon fill=\"#3ea0e6\" stroke=\"black\" points=\"2185.5,-1377 2002.5,-1377 2002.5,-1294 2185.5,-1294 2185.5,-1377\"/>\n<text text-anchor=\"middle\" x=\"2094\" y=\"-1361.8\" font-family=\"Helvetica,sans-Serif\" font-size=\"14.00\">total sulfur dioxide &lt;= 103.0</text>\n<text text-anchor=\"middle\" x=\"2094\" y=\"-1346.8\" font-family=\"Helvetica,sans-Serif\" font-size=\"14.00\">gini = 0.053</text>\n<text text-anchor=\"middle\" x=\"2094\" y=\"-1331.8\" font-family=\"Helvetica,sans-Serif\" font-size=\"14.00\">samples = 148</text>\n<text text-anchor=\"middle\" x=\"2094\" y=\"-1316.8\" font-family=\"Helvetica,sans-Serif\" font-size=\"14.00\">value = [4, 144]</text>\n<text text-anchor=\"middle\" x=\"2094\" y=\"-1301.8\" font-family=\"Helvetica,sans-Serif\" font-size=\"14.00\">class = a</text>\n</g>\n<!-- 118&#45;&gt;119 -->\n<g id=\"edge119\" class=\"edge\">\n<title>118&#45;&gt;119</title>\n<path fill=\"none\" stroke=\"black\" d=\"M2178.24,-1412.91C2167.94,-1403.56 2156.89,-1393.54 2146.29,-1383.93\"/>\n<polygon fill=\"black\" stroke=\"black\" points=\"2148.44,-1381.15 2138.68,-1377.02 2143.73,-1386.33 2148.44,-1381.15\"/>\n</g>\n<!-- 128 -->\n<g id=\"node129\" class=\"node\">\n<title>128</title>\n<polygon fill=\"#e58139\" stroke=\"black\" points=\"2298.5,-1369.5 2203.5,-1369.5 2203.5,-1301.5 2298.5,-1301.5 2298.5,-1369.5\"/>\n<text text-anchor=\"middle\" x=\"2251\" y=\"-1354.3\" font-family=\"Helvetica,sans-Serif\" font-size=\"14.00\">gini = 0.0</text>\n<text text-anchor=\"middle\" x=\"2251\" y=\"-1339.3\" font-family=\"Helvetica,sans-Serif\" font-size=\"14.00\">samples = 2</text>\n<text text-anchor=\"middle\" x=\"2251\" y=\"-1324.3\" font-family=\"Helvetica,sans-Serif\" font-size=\"14.00\">value = [2, 0]</text>\n<text text-anchor=\"middle\" x=\"2251\" y=\"-1309.3\" font-family=\"Helvetica,sans-Serif\" font-size=\"14.00\">class = t</text>\n</g>\n<!-- 118&#45;&gt;128 -->\n<g id=\"edge128\" class=\"edge\">\n<title>118&#45;&gt;128</title>\n<path fill=\"none\" stroke=\"black\" d=\"M2232.71,-1412.91C2235.3,-1402.09 2238.11,-1390.38 2240.72,-1379.44\"/>\n<polygon fill=\"black\" stroke=\"black\" points=\"2244.14,-1380.21 2243.06,-1369.67 2237.33,-1378.58 2244.14,-1380.21\"/>\n</g>\n<!-- 120 -->\n<g id=\"node121\" class=\"node\">\n<title>120</title>\n<polygon fill=\"#6fb8ec\" stroke=\"black\" points=\"2136,-1258 2034,-1258 2034,-1175 2136,-1175 2136,-1258\"/>\n<text text-anchor=\"middle\" x=\"2085\" y=\"-1242.8\" font-family=\"Helvetica,sans-Serif\" font-size=\"14.00\">pH &lt;= 3.225</text>\n<text text-anchor=\"middle\" x=\"2085\" y=\"-1227.8\" font-family=\"Helvetica,sans-Serif\" font-size=\"14.00\">gini = 0.337</text>\n<text text-anchor=\"middle\" x=\"2085\" y=\"-1212.8\" font-family=\"Helvetica,sans-Serif\" font-size=\"14.00\">samples = 14</text>\n<text text-anchor=\"middle\" x=\"2085\" y=\"-1197.8\" font-family=\"Helvetica,sans-Serif\" font-size=\"14.00\">value = [3, 11]</text>\n<text text-anchor=\"middle\" x=\"2085\" y=\"-1182.8\" font-family=\"Helvetica,sans-Serif\" font-size=\"14.00\">class = a</text>\n</g>\n<!-- 119&#45;&gt;120 -->\n<g id=\"edge120\" class=\"edge\">\n<title>119&#45;&gt;120</title>\n<path fill=\"none\" stroke=\"black\" d=\"M2090.88,-1293.91C2090.24,-1285.56 2089.55,-1276.67 2088.89,-1268.02\"/>\n<polygon fill=\"black\" stroke=\"black\" points=\"2092.37,-1267.72 2088.12,-1258.02 2085.39,-1268.26 2092.37,-1267.72\"/>\n</g>\n<!-- 123 -->\n<g id=\"node124\" class=\"node\">\n<title>123</title>\n<polygon fill=\"#3a9ee5\" stroke=\"black\" points=\"2271.5,-1258 2154.5,-1258 2154.5,-1175 2271.5,-1175 2271.5,-1258\"/>\n<text text-anchor=\"middle\" x=\"2213\" y=\"-1242.8\" font-family=\"Helvetica,sans-Serif\" font-size=\"14.00\">alcohol &lt;= 11.25</text>\n<text text-anchor=\"middle\" x=\"2213\" y=\"-1227.8\" font-family=\"Helvetica,sans-Serif\" font-size=\"14.00\">gini = 0.015</text>\n<text text-anchor=\"middle\" x=\"2213\" y=\"-1212.8\" font-family=\"Helvetica,sans-Serif\" font-size=\"14.00\">samples = 134</text>\n<text text-anchor=\"middle\" x=\"2213\" y=\"-1197.8\" font-family=\"Helvetica,sans-Serif\" font-size=\"14.00\">value = [1, 133]</text>\n<text text-anchor=\"middle\" x=\"2213\" y=\"-1182.8\" font-family=\"Helvetica,sans-Serif\" font-size=\"14.00\">class = a</text>\n</g>\n<!-- 119&#45;&gt;123 -->\n<g id=\"edge123\" class=\"edge\">\n<title>119&#45;&gt;123</title>\n<path fill=\"none\" stroke=\"black\" d=\"M2135.29,-1293.91C2144.7,-1284.65 2154.79,-1274.73 2164.48,-1265.21\"/>\n<polygon fill=\"black\" stroke=\"black\" points=\"2167.11,-1267.53 2171.79,-1258.02 2162.2,-1262.54 2167.11,-1267.53\"/>\n</g>\n<!-- 121 -->\n<g id=\"node122\" class=\"node\">\n<title>121</title>\n<polygon fill=\"#399de5\" stroke=\"black\" points=\"2021,-1131.5 1919,-1131.5 1919,-1063.5 2021,-1063.5 2021,-1131.5\"/>\n<text text-anchor=\"middle\" x=\"1970\" y=\"-1116.3\" font-family=\"Helvetica,sans-Serif\" font-size=\"14.00\">gini = 0.0</text>\n<text text-anchor=\"middle\" x=\"1970\" y=\"-1101.3\" font-family=\"Helvetica,sans-Serif\" font-size=\"14.00\">samples = 11</text>\n<text text-anchor=\"middle\" x=\"1970\" y=\"-1086.3\" font-family=\"Helvetica,sans-Serif\" font-size=\"14.00\">value = [0, 11]</text>\n<text text-anchor=\"middle\" x=\"1970\" y=\"-1071.3\" font-family=\"Helvetica,sans-Serif\" font-size=\"14.00\">class = a</text>\n</g>\n<!-- 120&#45;&gt;121 -->\n<g id=\"edge121\" class=\"edge\">\n<title>120&#45;&gt;121</title>\n<path fill=\"none\" stroke=\"black\" d=\"M2045.1,-1174.91C2033.71,-1163.32 2021.31,-1150.7 2009.92,-1139.11\"/>\n<polygon fill=\"black\" stroke=\"black\" points=\"2012.11,-1136.35 2002.6,-1131.67 2007.11,-1141.25 2012.11,-1136.35\"/>\n</g>\n<!-- 122 -->\n<g id=\"node123\" class=\"node\">\n<title>122</title>\n<polygon fill=\"#e58139\" stroke=\"black\" points=\"2134.5,-1131.5 2039.5,-1131.5 2039.5,-1063.5 2134.5,-1063.5 2134.5,-1131.5\"/>\n<text text-anchor=\"middle\" x=\"2087\" y=\"-1116.3\" font-family=\"Helvetica,sans-Serif\" font-size=\"14.00\">gini = 0.0</text>\n<text text-anchor=\"middle\" x=\"2087\" y=\"-1101.3\" font-family=\"Helvetica,sans-Serif\" font-size=\"14.00\">samples = 3</text>\n<text text-anchor=\"middle\" x=\"2087\" y=\"-1086.3\" font-family=\"Helvetica,sans-Serif\" font-size=\"14.00\">value = [3, 0]</text>\n<text text-anchor=\"middle\" x=\"2087\" y=\"-1071.3\" font-family=\"Helvetica,sans-Serif\" font-size=\"14.00\">class = t</text>\n</g>\n<!-- 120&#45;&gt;122 -->\n<g id=\"edge122\" class=\"edge\">\n<title>120&#45;&gt;122</title>\n<path fill=\"none\" stroke=\"black\" d=\"M2085.69,-1174.91C2085.88,-1164.2 2086.07,-1152.62 2086.26,-1141.78\"/>\n<polygon fill=\"black\" stroke=\"black\" points=\"2089.76,-1141.73 2086.43,-1131.67 2082.76,-1141.61 2089.76,-1141.73\"/>\n</g>\n<!-- 124 -->\n<g id=\"node125\" class=\"node\">\n<title>124</title>\n<polygon fill=\"#399de5\" stroke=\"black\" points=\"2266,-1131.5 2156,-1131.5 2156,-1063.5 2266,-1063.5 2266,-1131.5\"/>\n<text text-anchor=\"middle\" x=\"2211\" y=\"-1116.3\" font-family=\"Helvetica,sans-Serif\" font-size=\"14.00\">gini = 0.0</text>\n<text text-anchor=\"middle\" x=\"2211\" y=\"-1101.3\" font-family=\"Helvetica,sans-Serif\" font-size=\"14.00\">samples = 130</text>\n<text text-anchor=\"middle\" x=\"2211\" y=\"-1086.3\" font-family=\"Helvetica,sans-Serif\" font-size=\"14.00\">value = [0, 130]</text>\n<text text-anchor=\"middle\" x=\"2211\" y=\"-1071.3\" font-family=\"Helvetica,sans-Serif\" font-size=\"14.00\">class = a</text>\n</g>\n<!-- 123&#45;&gt;124 -->\n<g id=\"edge124\" class=\"edge\">\n<title>123&#45;&gt;124</title>\n<path fill=\"none\" stroke=\"black\" d=\"M2212.31,-1174.91C2212.12,-1164.2 2211.93,-1152.62 2211.74,-1141.78\"/>\n<polygon fill=\"black\" stroke=\"black\" points=\"2215.24,-1141.61 2211.57,-1131.67 2208.24,-1141.73 2215.24,-1141.61\"/>\n</g>\n<!-- 125 -->\n<g id=\"node126\" class=\"node\">\n<title>125</title>\n<polygon fill=\"#7bbeee\" stroke=\"black\" points=\"2436,-1139 2284,-1139 2284,-1056 2436,-1056 2436,-1139\"/>\n<text text-anchor=\"middle\" x=\"2360\" y=\"-1123.8\" font-family=\"Helvetica,sans-Serif\" font-size=\"14.00\">residual sugar &lt;= 1.95</text>\n<text text-anchor=\"middle\" x=\"2360\" y=\"-1108.8\" font-family=\"Helvetica,sans-Serif\" font-size=\"14.00\">gini = 0.375</text>\n<text text-anchor=\"middle\" x=\"2360\" y=\"-1093.8\" font-family=\"Helvetica,sans-Serif\" font-size=\"14.00\">samples = 4</text>\n<text text-anchor=\"middle\" x=\"2360\" y=\"-1078.8\" font-family=\"Helvetica,sans-Serif\" font-size=\"14.00\">value = [1, 3]</text>\n<text text-anchor=\"middle\" x=\"2360\" y=\"-1063.8\" font-family=\"Helvetica,sans-Serif\" font-size=\"14.00\">class = a</text>\n</g>\n<!-- 123&#45;&gt;125 -->\n<g id=\"edge125\" class=\"edge\">\n<title>123&#45;&gt;125</title>\n<path fill=\"none\" stroke=\"black\" d=\"M2264,-1174.91C2275.97,-1165.38 2288.83,-1155.15 2301.11,-1145.37\"/>\n<polygon fill=\"black\" stroke=\"black\" points=\"2303.44,-1147.99 2309.09,-1139.02 2299.09,-1142.51 2303.44,-1147.99\"/>\n</g>\n<!-- 126 -->\n<g id=\"node127\" class=\"node\">\n<title>126</title>\n<polygon fill=\"#e58139\" stroke=\"black\" points=\"2350.5,-1012.5 2255.5,-1012.5 2255.5,-944.5 2350.5,-944.5 2350.5,-1012.5\"/>\n<text text-anchor=\"middle\" x=\"2303\" y=\"-997.3\" font-family=\"Helvetica,sans-Serif\" font-size=\"14.00\">gini = 0.0</text>\n<text text-anchor=\"middle\" x=\"2303\" y=\"-982.3\" font-family=\"Helvetica,sans-Serif\" font-size=\"14.00\">samples = 1</text>\n<text text-anchor=\"middle\" x=\"2303\" y=\"-967.3\" font-family=\"Helvetica,sans-Serif\" font-size=\"14.00\">value = [1, 0]</text>\n<text text-anchor=\"middle\" x=\"2303\" y=\"-952.3\" font-family=\"Helvetica,sans-Serif\" font-size=\"14.00\">class = t</text>\n</g>\n<!-- 125&#45;&gt;126 -->\n<g id=\"edge126\" class=\"edge\">\n<title>125&#45;&gt;126</title>\n<path fill=\"none\" stroke=\"black\" d=\"M2340.22,-1055.91C2334.85,-1044.87 2329.01,-1032.9 2323.59,-1021.77\"/>\n<polygon fill=\"black\" stroke=\"black\" points=\"2326.68,-1020.12 2319.16,-1012.67 2320.39,-1023.19 2326.68,-1020.12\"/>\n</g>\n<!-- 127 -->\n<g id=\"node128\" class=\"node\">\n<title>127</title>\n<polygon fill=\"#399de5\" stroke=\"black\" points=\"2463.5,-1012.5 2368.5,-1012.5 2368.5,-944.5 2463.5,-944.5 2463.5,-1012.5\"/>\n<text text-anchor=\"middle\" x=\"2416\" y=\"-997.3\" font-family=\"Helvetica,sans-Serif\" font-size=\"14.00\">gini = 0.0</text>\n<text text-anchor=\"middle\" x=\"2416\" y=\"-982.3\" font-family=\"Helvetica,sans-Serif\" font-size=\"14.00\">samples = 3</text>\n<text text-anchor=\"middle\" x=\"2416\" y=\"-967.3\" font-family=\"Helvetica,sans-Serif\" font-size=\"14.00\">value = [0, 3]</text>\n<text text-anchor=\"middle\" x=\"2416\" y=\"-952.3\" font-family=\"Helvetica,sans-Serif\" font-size=\"14.00\">class = a</text>\n</g>\n<!-- 125&#45;&gt;127 -->\n<g id=\"edge127\" class=\"edge\">\n<title>125&#45;&gt;127</title>\n<path fill=\"none\" stroke=\"black\" d=\"M2379.43,-1055.91C2384.71,-1044.87 2390.44,-1032.9 2395.77,-1021.77\"/>\n<polygon fill=\"black\" stroke=\"black\" points=\"2398.96,-1023.2 2400.13,-1012.67 2392.65,-1020.18 2398.96,-1023.2\"/>\n</g>\n<!-- 130 -->\n<g id=\"node131\" class=\"node\">\n<title>130</title>\n<polygon fill=\"#e58139\" stroke=\"black\" points=\"2411.5,-1369.5 2316.5,-1369.5 2316.5,-1301.5 2411.5,-1301.5 2411.5,-1369.5\"/>\n<text text-anchor=\"middle\" x=\"2364\" y=\"-1354.3\" font-family=\"Helvetica,sans-Serif\" font-size=\"14.00\">gini = 0.0</text>\n<text text-anchor=\"middle\" x=\"2364\" y=\"-1339.3\" font-family=\"Helvetica,sans-Serif\" font-size=\"14.00\">samples = 4</text>\n<text text-anchor=\"middle\" x=\"2364\" y=\"-1324.3\" font-family=\"Helvetica,sans-Serif\" font-size=\"14.00\">value = [4, 0]</text>\n<text text-anchor=\"middle\" x=\"2364\" y=\"-1309.3\" font-family=\"Helvetica,sans-Serif\" font-size=\"14.00\">class = t</text>\n</g>\n<!-- 129&#45;&gt;130 -->\n<g id=\"edge130\" class=\"edge\">\n<title>129&#45;&gt;130</title>\n<path fill=\"none\" stroke=\"black\" d=\"M2382.94,-1412.91C2380.26,-1402.09 2377.35,-1390.38 2374.64,-1379.44\"/>\n<polygon fill=\"black\" stroke=\"black\" points=\"2378.02,-1378.53 2372.22,-1369.67 2371.23,-1380.22 2378.02,-1378.53\"/>\n</g>\n<!-- 131 -->\n<g id=\"node132\" class=\"node\">\n<title>131</title>\n<polygon fill=\"#399de5\" stroke=\"black\" points=\"2524.5,-1369.5 2429.5,-1369.5 2429.5,-1301.5 2524.5,-1301.5 2524.5,-1369.5\"/>\n<text text-anchor=\"middle\" x=\"2477\" y=\"-1354.3\" font-family=\"Helvetica,sans-Serif\" font-size=\"14.00\">gini = 0.0</text>\n<text text-anchor=\"middle\" x=\"2477\" y=\"-1339.3\" font-family=\"Helvetica,sans-Serif\" font-size=\"14.00\">samples = 1</text>\n<text text-anchor=\"middle\" x=\"2477\" y=\"-1324.3\" font-family=\"Helvetica,sans-Serif\" font-size=\"14.00\">value = [0, 1]</text>\n<text text-anchor=\"middle\" x=\"2477\" y=\"-1309.3\" font-family=\"Helvetica,sans-Serif\" font-size=\"14.00\">class = a</text>\n</g>\n<!-- 129&#45;&gt;131 -->\n<g id=\"edge131\" class=\"edge\">\n<title>129&#45;&gt;131</title>\n<path fill=\"none\" stroke=\"black\" d=\"M2422.14,-1412.91C2430.22,-1401.65 2439.01,-1389.42 2447.13,-1378.11\"/>\n<polygon fill=\"black\" stroke=\"black\" points=\"2450.2,-1379.83 2453.19,-1369.67 2444.51,-1375.75 2450.2,-1379.83\"/>\n</g>\n<!-- 133 -->\n<g id=\"node134\" class=\"node\">\n<title>133</title>\n<polygon fill=\"#e68844\" stroke=\"black\" points=\"2724.5,-1615 2607.5,-1615 2607.5,-1532 2724.5,-1532 2724.5,-1615\"/>\n<text text-anchor=\"middle\" x=\"2666\" y=\"-1599.8\" font-family=\"Helvetica,sans-Serif\" font-size=\"14.00\">density &lt;= 0.995</text>\n<text text-anchor=\"middle\" x=\"2666\" y=\"-1584.8\" font-family=\"Helvetica,sans-Serif\" font-size=\"14.00\">gini = 0.1</text>\n<text text-anchor=\"middle\" x=\"2666\" y=\"-1569.8\" font-family=\"Helvetica,sans-Serif\" font-size=\"14.00\">samples = 208</text>\n<text text-anchor=\"middle\" x=\"2666\" y=\"-1554.8\" font-family=\"Helvetica,sans-Serif\" font-size=\"14.00\">value = [197, 11]</text>\n<text text-anchor=\"middle\" x=\"2666\" y=\"-1539.8\" font-family=\"Helvetica,sans-Serif\" font-size=\"14.00\">class = t</text>\n</g>\n<!-- 132&#45;&gt;133 -->\n<g id=\"edge133\" class=\"edge\">\n<title>132&#45;&gt;133</title>\n<path fill=\"none\" stroke=\"black\" d=\"M2666,-1650.91C2666,-1642.65 2666,-1633.86 2666,-1625.3\"/>\n<polygon fill=\"black\" stroke=\"black\" points=\"2669.5,-1625.02 2666,-1615.02 2662.5,-1625.02 2669.5,-1625.02\"/>\n</g>\n<!-- 146 -->\n<g id=\"node147\" class=\"node\">\n<title>146</title>\n<polygon fill=\"#399de5\" stroke=\"black\" points=\"2845,-1607.5 2743,-1607.5 2743,-1539.5 2845,-1539.5 2845,-1607.5\"/>\n<text text-anchor=\"middle\" x=\"2794\" y=\"-1592.3\" font-family=\"Helvetica,sans-Serif\" font-size=\"14.00\">gini = 0.0</text>\n<text text-anchor=\"middle\" x=\"2794\" y=\"-1577.3\" font-family=\"Helvetica,sans-Serif\" font-size=\"14.00\">samples = 21</text>\n<text text-anchor=\"middle\" x=\"2794\" y=\"-1562.3\" font-family=\"Helvetica,sans-Serif\" font-size=\"14.00\">value = [0, 21]</text>\n<text text-anchor=\"middle\" x=\"2794\" y=\"-1547.3\" font-family=\"Helvetica,sans-Serif\" font-size=\"14.00\">class = a</text>\n</g>\n<!-- 132&#45;&gt;146 -->\n<g id=\"edge146\" class=\"edge\">\n<title>132&#45;&gt;146</title>\n<path fill=\"none\" stroke=\"black\" d=\"M2710.41,-1650.91C2723.33,-1639.1 2737.42,-1626.22 2750.29,-1614.45\"/>\n<polygon fill=\"black\" stroke=\"black\" points=\"2752.7,-1617 2757.71,-1607.67 2747.97,-1611.83 2752.7,-1617\"/>\n</g>\n<!-- 134 -->\n<g id=\"node135\" class=\"node\">\n<title>134</title>\n<polygon fill=\"#6ab6ec\" stroke=\"black\" points=\"2717,-1496 2615,-1496 2615,-1413 2717,-1413 2717,-1496\"/>\n<text text-anchor=\"middle\" x=\"2666\" y=\"-1480.8\" font-family=\"Helvetica,sans-Serif\" font-size=\"14.00\">alcohol &lt;= 9.9</text>\n<text text-anchor=\"middle\" x=\"2666\" y=\"-1465.8\" font-family=\"Helvetica,sans-Serif\" font-size=\"14.00\">gini = 0.32</text>\n<text text-anchor=\"middle\" x=\"2666\" y=\"-1450.8\" font-family=\"Helvetica,sans-Serif\" font-size=\"14.00\">samples = 10</text>\n<text text-anchor=\"middle\" x=\"2666\" y=\"-1435.8\" font-family=\"Helvetica,sans-Serif\" font-size=\"14.00\">value = [2, 8]</text>\n<text text-anchor=\"middle\" x=\"2666\" y=\"-1420.8\" font-family=\"Helvetica,sans-Serif\" font-size=\"14.00\">class = a</text>\n</g>\n<!-- 133&#45;&gt;134 -->\n<g id=\"edge134\" class=\"edge\">\n<title>133&#45;&gt;134</title>\n<path fill=\"none\" stroke=\"black\" d=\"M2666,-1531.91C2666,-1523.65 2666,-1514.86 2666,-1506.3\"/>\n<polygon fill=\"black\" stroke=\"black\" points=\"2669.5,-1506.02 2666,-1496.02 2662.5,-1506.02 2669.5,-1506.02\"/>\n</g>\n<!-- 139 -->\n<g id=\"node140\" class=\"node\">\n<title>139</title>\n<polygon fill=\"#e5833c\" stroke=\"black\" points=\"2960,-1496 2828,-1496 2828,-1413 2960,-1413 2960,-1496\"/>\n<text text-anchor=\"middle\" x=\"2894\" y=\"-1480.8\" font-family=\"Helvetica,sans-Serif\" font-size=\"14.00\">sulphates &lt;= 0.415</text>\n<text text-anchor=\"middle\" x=\"2894\" y=\"-1465.8\" font-family=\"Helvetica,sans-Serif\" font-size=\"14.00\">gini = 0.03</text>\n<text text-anchor=\"middle\" x=\"2894\" y=\"-1450.8\" font-family=\"Helvetica,sans-Serif\" font-size=\"14.00\">samples = 198</text>\n<text text-anchor=\"middle\" x=\"2894\" y=\"-1435.8\" font-family=\"Helvetica,sans-Serif\" font-size=\"14.00\">value = [195, 3]</text>\n<text text-anchor=\"middle\" x=\"2894\" y=\"-1420.8\" font-family=\"Helvetica,sans-Serif\" font-size=\"14.00\">class = t</text>\n</g>\n<!-- 133&#45;&gt;139 -->\n<g id=\"edge139\" class=\"edge\">\n<title>133&#45;&gt;139</title>\n<path fill=\"none\" stroke=\"black\" d=\"M2724.78,-1537.04C2727.89,-1535.31 2730.97,-1533.62 2734,-1532 2761.19,-1517.44 2791.61,-1502.56 2818.56,-1489.84\"/>\n<polygon fill=\"black\" stroke=\"black\" points=\"2820.37,-1492.85 2827.94,-1485.43 2817.4,-1486.52 2820.37,-1492.85\"/>\n</g>\n<!-- 135 -->\n<g id=\"node136\" class=\"node\">\n<title>135</title>\n<polygon fill=\"#399de5\" stroke=\"black\" points=\"2637.5,-1369.5 2542.5,-1369.5 2542.5,-1301.5 2637.5,-1301.5 2637.5,-1369.5\"/>\n<text text-anchor=\"middle\" x=\"2590\" y=\"-1354.3\" font-family=\"Helvetica,sans-Serif\" font-size=\"14.00\">gini = 0.0</text>\n<text text-anchor=\"middle\" x=\"2590\" y=\"-1339.3\" font-family=\"Helvetica,sans-Serif\" font-size=\"14.00\">samples = 7</text>\n<text text-anchor=\"middle\" x=\"2590\" y=\"-1324.3\" font-family=\"Helvetica,sans-Serif\" font-size=\"14.00\">value = [0, 7]</text>\n<text text-anchor=\"middle\" x=\"2590\" y=\"-1309.3\" font-family=\"Helvetica,sans-Serif\" font-size=\"14.00\">class = a</text>\n</g>\n<!-- 134&#45;&gt;135 -->\n<g id=\"edge135\" class=\"edge\">\n<title>134&#45;&gt;135</title>\n<path fill=\"none\" stroke=\"black\" d=\"M2639.63,-1412.91C2632.32,-1401.65 2624.37,-1389.42 2617.03,-1378.11\"/>\n<polygon fill=\"black\" stroke=\"black\" points=\"2619.93,-1376.15 2611.54,-1369.67 2614.06,-1379.96 2619.93,-1376.15\"/>\n</g>\n<!-- 136 -->\n<g id=\"node137\" class=\"node\">\n<title>136</title>\n<polygon fill=\"#f2c09c\" stroke=\"black\" points=\"2828.5,-1377 2655.5,-1377 2655.5,-1294 2828.5,-1294 2828.5,-1377\"/>\n<text text-anchor=\"middle\" x=\"2742\" y=\"-1361.8\" font-family=\"Helvetica,sans-Serif\" font-size=\"14.00\">free sulfur dioxide &lt;= 20.5</text>\n<text text-anchor=\"middle\" x=\"2742\" y=\"-1346.8\" font-family=\"Helvetica,sans-Serif\" font-size=\"14.00\">gini = 0.444</text>\n<text text-anchor=\"middle\" x=\"2742\" y=\"-1331.8\" font-family=\"Helvetica,sans-Serif\" font-size=\"14.00\">samples = 3</text>\n<text text-anchor=\"middle\" x=\"2742\" y=\"-1316.8\" font-family=\"Helvetica,sans-Serif\" font-size=\"14.00\">value = [2, 1]</text>\n<text text-anchor=\"middle\" x=\"2742\" y=\"-1301.8\" font-family=\"Helvetica,sans-Serif\" font-size=\"14.00\">class = t</text>\n</g>\n<!-- 134&#45;&gt;136 -->\n<g id=\"edge136\" class=\"edge\">\n<title>134&#45;&gt;136</title>\n<path fill=\"none\" stroke=\"black\" d=\"M2692.37,-1412.91C2698.09,-1404.1 2704.19,-1394.7 2710.1,-1385.61\"/>\n<polygon fill=\"black\" stroke=\"black\" points=\"2713.17,-1387.31 2715.68,-1377.02 2707.3,-1383.5 2713.17,-1387.31\"/>\n</g>\n<!-- 137 -->\n<g id=\"node138\" class=\"node\">\n<title>137</title>\n<polygon fill=\"#399de5\" stroke=\"black\" points=\"2690.5,-1250.5 2595.5,-1250.5 2595.5,-1182.5 2690.5,-1182.5 2690.5,-1250.5\"/>\n<text text-anchor=\"middle\" x=\"2643\" y=\"-1235.3\" font-family=\"Helvetica,sans-Serif\" font-size=\"14.00\">gini = 0.0</text>\n<text text-anchor=\"middle\" x=\"2643\" y=\"-1220.3\" font-family=\"Helvetica,sans-Serif\" font-size=\"14.00\">samples = 1</text>\n<text text-anchor=\"middle\" x=\"2643\" y=\"-1205.3\" font-family=\"Helvetica,sans-Serif\" font-size=\"14.00\">value = [0, 1]</text>\n<text text-anchor=\"middle\" x=\"2643\" y=\"-1190.3\" font-family=\"Helvetica,sans-Serif\" font-size=\"14.00\">class = a</text>\n</g>\n<!-- 136&#45;&gt;137 -->\n<g id=\"edge137\" class=\"edge\">\n<title>136&#45;&gt;137</title>\n<path fill=\"none\" stroke=\"black\" d=\"M2707.65,-1293.91C2697.94,-1282.43 2687.37,-1269.94 2677.64,-1258.44\"/>\n<polygon fill=\"black\" stroke=\"black\" points=\"2680.2,-1256.04 2671.06,-1250.67 2674.85,-1260.56 2680.2,-1256.04\"/>\n</g>\n<!-- 138 -->\n<g id=\"node139\" class=\"node\">\n<title>138</title>\n<polygon fill=\"#e58139\" stroke=\"black\" points=\"2803.5,-1250.5 2708.5,-1250.5 2708.5,-1182.5 2803.5,-1182.5 2803.5,-1250.5\"/>\n<text text-anchor=\"middle\" x=\"2756\" y=\"-1235.3\" font-family=\"Helvetica,sans-Serif\" font-size=\"14.00\">gini = 0.0</text>\n<text text-anchor=\"middle\" x=\"2756\" y=\"-1220.3\" font-family=\"Helvetica,sans-Serif\" font-size=\"14.00\">samples = 2</text>\n<text text-anchor=\"middle\" x=\"2756\" y=\"-1205.3\" font-family=\"Helvetica,sans-Serif\" font-size=\"14.00\">value = [2, 0]</text>\n<text text-anchor=\"middle\" x=\"2756\" y=\"-1190.3\" font-family=\"Helvetica,sans-Serif\" font-size=\"14.00\">class = t</text>\n</g>\n<!-- 136&#45;&gt;138 -->\n<g id=\"edge138\" class=\"edge\">\n<title>136&#45;&gt;138</title>\n<path fill=\"none\" stroke=\"black\" d=\"M2746.86,-1293.91C2748.14,-1283.2 2749.52,-1271.62 2750.82,-1260.78\"/>\n<polygon fill=\"black\" stroke=\"black\" points=\"2754.32,-1261.01 2752.03,-1250.67 2747.37,-1260.18 2754.32,-1261.01\"/>\n</g>\n<!-- 140 -->\n<g id=\"node141\" class=\"node\">\n<title>140</title>\n<polygon fill=\"#399de5\" stroke=\"black\" points=\"2941.5,-1369.5 2846.5,-1369.5 2846.5,-1301.5 2941.5,-1301.5 2941.5,-1369.5\"/>\n<text text-anchor=\"middle\" x=\"2894\" y=\"-1354.3\" font-family=\"Helvetica,sans-Serif\" font-size=\"14.00\">gini = 0.0</text>\n<text text-anchor=\"middle\" x=\"2894\" y=\"-1339.3\" font-family=\"Helvetica,sans-Serif\" font-size=\"14.00\">samples = 2</text>\n<text text-anchor=\"middle\" x=\"2894\" y=\"-1324.3\" font-family=\"Helvetica,sans-Serif\" font-size=\"14.00\">value = [0, 2]</text>\n<text text-anchor=\"middle\" x=\"2894\" y=\"-1309.3\" font-family=\"Helvetica,sans-Serif\" font-size=\"14.00\">class = a</text>\n</g>\n<!-- 139&#45;&gt;140 -->\n<g id=\"edge140\" class=\"edge\">\n<title>139&#45;&gt;140</title>\n<path fill=\"none\" stroke=\"black\" d=\"M2894,-1412.91C2894,-1402.2 2894,-1390.62 2894,-1379.78\"/>\n<polygon fill=\"black\" stroke=\"black\" points=\"2897.5,-1379.67 2894,-1369.67 2890.5,-1379.67 2897.5,-1379.67\"/>\n</g>\n<!-- 141 -->\n<g id=\"node142\" class=\"node\">\n<title>141</title>\n<polygon fill=\"#e5823a\" stroke=\"black\" points=\"3092,-1377 2960,-1377 2960,-1294 3092,-1294 3092,-1377\"/>\n<text text-anchor=\"middle\" x=\"3026\" y=\"-1361.8\" font-family=\"Helvetica,sans-Serif\" font-size=\"14.00\">sulphates &lt;= 0.445</text>\n<text text-anchor=\"middle\" x=\"3026\" y=\"-1346.8\" font-family=\"Helvetica,sans-Serif\" font-size=\"14.00\">gini = 0.01</text>\n<text text-anchor=\"middle\" x=\"3026\" y=\"-1331.8\" font-family=\"Helvetica,sans-Serif\" font-size=\"14.00\">samples = 196</text>\n<text text-anchor=\"middle\" x=\"3026\" y=\"-1316.8\" font-family=\"Helvetica,sans-Serif\" font-size=\"14.00\">value = [195, 1]</text>\n<text text-anchor=\"middle\" x=\"3026\" y=\"-1301.8\" font-family=\"Helvetica,sans-Serif\" font-size=\"14.00\">class = t</text>\n</g>\n<!-- 139&#45;&gt;141 -->\n<g id=\"edge141\" class=\"edge\">\n<title>139&#45;&gt;141</title>\n<path fill=\"none\" stroke=\"black\" d=\"M2939.8,-1412.91C2950.34,-1403.56 2961.65,-1393.54 2972.49,-1383.93\"/>\n<polygon fill=\"black\" stroke=\"black\" points=\"2975.12,-1386.27 2980.28,-1377.02 2970.48,-1381.03 2975.12,-1386.27\"/>\n</g>\n<!-- 142 -->\n<g id=\"node143\" class=\"node\">\n<title>142</title>\n<polygon fill=\"#f2c09c\" stroke=\"black\" points=\"3018.5,-1258 2901.5,-1258 2901.5,-1175 3018.5,-1175 3018.5,-1258\"/>\n<text text-anchor=\"middle\" x=\"2960\" y=\"-1242.8\" font-family=\"Helvetica,sans-Serif\" font-size=\"14.00\">density &lt;= 0.997</text>\n<text text-anchor=\"middle\" x=\"2960\" y=\"-1227.8\" font-family=\"Helvetica,sans-Serif\" font-size=\"14.00\">gini = 0.444</text>\n<text text-anchor=\"middle\" x=\"2960\" y=\"-1212.8\" font-family=\"Helvetica,sans-Serif\" font-size=\"14.00\">samples = 3</text>\n<text text-anchor=\"middle\" x=\"2960\" y=\"-1197.8\" font-family=\"Helvetica,sans-Serif\" font-size=\"14.00\">value = [2, 1]</text>\n<text text-anchor=\"middle\" x=\"2960\" y=\"-1182.8\" font-family=\"Helvetica,sans-Serif\" font-size=\"14.00\">class = t</text>\n</g>\n<!-- 141&#45;&gt;142 -->\n<g id=\"edge142\" class=\"edge\">\n<title>141&#45;&gt;142</title>\n<path fill=\"none\" stroke=\"black\" d=\"M3003.1,-1293.91C2998.19,-1285.2 2992.94,-1275.9 2987.86,-1266.89\"/>\n<polygon fill=\"black\" stroke=\"black\" points=\"2990.82,-1265.01 2982.86,-1258.02 2984.72,-1268.45 2990.82,-1265.01\"/>\n</g>\n<!-- 145 -->\n<g id=\"node146\" class=\"node\">\n<title>145</title>\n<polygon fill=\"#e58139\" stroke=\"black\" points=\"3147,-1250.5 3037,-1250.5 3037,-1182.5 3147,-1182.5 3147,-1250.5\"/>\n<text text-anchor=\"middle\" x=\"3092\" y=\"-1235.3\" font-family=\"Helvetica,sans-Serif\" font-size=\"14.00\">gini = 0.0</text>\n<text text-anchor=\"middle\" x=\"3092\" y=\"-1220.3\" font-family=\"Helvetica,sans-Serif\" font-size=\"14.00\">samples = 193</text>\n<text text-anchor=\"middle\" x=\"3092\" y=\"-1205.3\" font-family=\"Helvetica,sans-Serif\" font-size=\"14.00\">value = [193, 0]</text>\n<text text-anchor=\"middle\" x=\"3092\" y=\"-1190.3\" font-family=\"Helvetica,sans-Serif\" font-size=\"14.00\">class = t</text>\n</g>\n<!-- 141&#45;&gt;145 -->\n<g id=\"edge145\" class=\"edge\">\n<title>141&#45;&gt;145</title>\n<path fill=\"none\" stroke=\"black\" d=\"M3048.9,-1293.91C3055.19,-1282.76 3062.01,-1270.66 3068.34,-1259.44\"/>\n<polygon fill=\"black\" stroke=\"black\" points=\"3071.43,-1261.1 3073.29,-1250.67 3065.33,-1257.66 3071.43,-1261.1\"/>\n</g>\n<!-- 143 -->\n<g id=\"node144\" class=\"node\">\n<title>143</title>\n<polygon fill=\"#e58139\" stroke=\"black\" points=\"2951.5,-1131.5 2856.5,-1131.5 2856.5,-1063.5 2951.5,-1063.5 2951.5,-1131.5\"/>\n<text text-anchor=\"middle\" x=\"2904\" y=\"-1116.3\" font-family=\"Helvetica,sans-Serif\" font-size=\"14.00\">gini = 0.0</text>\n<text text-anchor=\"middle\" x=\"2904\" y=\"-1101.3\" font-family=\"Helvetica,sans-Serif\" font-size=\"14.00\">samples = 2</text>\n<text text-anchor=\"middle\" x=\"2904\" y=\"-1086.3\" font-family=\"Helvetica,sans-Serif\" font-size=\"14.00\">value = [2, 0]</text>\n<text text-anchor=\"middle\" x=\"2904\" y=\"-1071.3\" font-family=\"Helvetica,sans-Serif\" font-size=\"14.00\">class = t</text>\n</g>\n<!-- 142&#45;&gt;143 -->\n<g id=\"edge143\" class=\"edge\">\n<title>142&#45;&gt;143</title>\n<path fill=\"none\" stroke=\"black\" d=\"M2940.57,-1174.91C2935.29,-1163.87 2929.56,-1151.9 2924.23,-1140.77\"/>\n<polygon fill=\"black\" stroke=\"black\" points=\"2927.35,-1139.18 2919.87,-1131.67 2921.04,-1142.2 2927.35,-1139.18\"/>\n</g>\n<!-- 144 -->\n<g id=\"node145\" class=\"node\">\n<title>144</title>\n<polygon fill=\"#399de5\" stroke=\"black\" points=\"3064.5,-1131.5 2969.5,-1131.5 2969.5,-1063.5 3064.5,-1063.5 3064.5,-1131.5\"/>\n<text text-anchor=\"middle\" x=\"3017\" y=\"-1116.3\" font-family=\"Helvetica,sans-Serif\" font-size=\"14.00\">gini = 0.0</text>\n<text text-anchor=\"middle\" x=\"3017\" y=\"-1101.3\" font-family=\"Helvetica,sans-Serif\" font-size=\"14.00\">samples = 1</text>\n<text text-anchor=\"middle\" x=\"3017\" y=\"-1086.3\" font-family=\"Helvetica,sans-Serif\" font-size=\"14.00\">value = [0, 1]</text>\n<text text-anchor=\"middle\" x=\"3017\" y=\"-1071.3\" font-family=\"Helvetica,sans-Serif\" font-size=\"14.00\">class = a</text>\n</g>\n<!-- 142&#45;&gt;144 -->\n<g id=\"edge144\" class=\"edge\">\n<title>142&#45;&gt;144</title>\n<path fill=\"none\" stroke=\"black\" d=\"M2979.78,-1174.91C2985.15,-1163.87 2990.99,-1151.9 2996.41,-1140.77\"/>\n<polygon fill=\"black\" stroke=\"black\" points=\"2999.61,-1142.19 3000.84,-1131.67 2993.32,-1139.12 2999.61,-1142.19\"/>\n</g>\n</g>\n</svg>\n",
            "text/plain": [
              "<graphviz.sources.Source at 0x7f31032c8670>"
            ]
          },
          "metadata": {},
          "execution_count": 36
        }
      ]
    },
    {
      "cell_type": "code",
      "source": [
        "# 정확도\n",
        "from sklearn.metrics import accuracy_score\n",
        "pred = dt_clf.predict(X_test)\n",
        "accuracy = accuracy_score(y_test , pred)\n",
        "print('결정 트리 예측 정확도: {0:.4f}'.format(accuracy))"
      ],
      "metadata": {
        "colab": {
          "base_uri": "https://localhost:8080/"
        },
        "id": "JRkj2exEovyf",
        "outputId": "b51508b9-41ce-4764-b946-ee143f1ad995"
      },
      "execution_count": 38,
      "outputs": [
        {
          "output_type": "stream",
          "name": "stdout",
          "text": [
            "결정 트리 예측 정확도: 0.9808\n"
          ]
        }
      ]
    },
    {
      "cell_type": "code",
      "source": [
        "# 정확도 개선\n",
        "from sklearn.model_selection import GridSearchCV\n",
        "\n",
        "params = {'max_depth' : [ 6, 8 ,10, 12, 16 ,20, 24], \n",
        "          'min_samples_split': [16]}\n",
        "\n",
        "grid_cv = GridSearchCV(dt_clf, param_grid=params, scoring='accuracy', cv=5, verbose=1)\n",
        "grid_cv.fit(X_train , y_train)\n",
        "print('GridSearchCV 최적 하이퍼 파라미터:', grid_cv.best_params_)\n",
        "print('GridSearchCV 최고 평균 정확도 수치:{0:.4f}'.format(grid_cv.best_score_))"
      ],
      "metadata": {
        "colab": {
          "base_uri": "https://localhost:8080/"
        },
        "id": "AWicr-Deqeey",
        "outputId": "b54d113f-06d5-48ad-b8c5-9cfe8507477d"
      },
      "execution_count": 40,
      "outputs": [
        {
          "output_type": "stream",
          "name": "stdout",
          "text": [
            "Fitting 5 folds for each of 7 candidates, totalling 35 fits\n",
            "GridSearchCV 최적 하이퍼 파라미터: {'max_depth': 6, 'min_samples_split': 16}\n",
            "GridSearchCV 최고 평균 정확도 수치:0.9836\n"
          ]
        }
      ]
    },
    {
      "cell_type": "code",
      "source": [
        "cv_results_df = pd.DataFrame(grid_cv.cv_results_)\n",
        "cv_results_df[['param_max_depth', 'mean_test_score']]"
      ],
      "metadata": {
        "colab": {
          "base_uri": "https://localhost:8080/",
          "height": 269
        },
        "id": "6NQl1dNWqt_-",
        "outputId": "693e8feb-b0f0-473f-8940-050f18d69f59"
      },
      "execution_count": 41,
      "outputs": [
        {
          "output_type": "execute_result",
          "data": {
            "text/plain": [
              "  param_max_depth  mean_test_score\n",
              "0               6         0.983645\n",
              "1               8         0.982682\n",
              "2              10         0.983645\n",
              "3              12         0.983260\n",
              "4              16         0.983067\n",
              "5              20         0.983452\n",
              "6              24         0.983452"
            ],
            "text/html": [
              "\n",
              "  <div id=\"df-91e6c069-fb00-4f91-a578-037620349c81\">\n",
              "    <div class=\"colab-df-container\">\n",
              "      <div>\n",
              "<style scoped>\n",
              "    .dataframe tbody tr th:only-of-type {\n",
              "        vertical-align: middle;\n",
              "    }\n",
              "\n",
              "    .dataframe tbody tr th {\n",
              "        vertical-align: top;\n",
              "    }\n",
              "\n",
              "    .dataframe thead th {\n",
              "        text-align: right;\n",
              "    }\n",
              "</style>\n",
              "<table border=\"1\" class=\"dataframe\">\n",
              "  <thead>\n",
              "    <tr style=\"text-align: right;\">\n",
              "      <th></th>\n",
              "      <th>param_max_depth</th>\n",
              "      <th>mean_test_score</th>\n",
              "    </tr>\n",
              "  </thead>\n",
              "  <tbody>\n",
              "    <tr>\n",
              "      <th>0</th>\n",
              "      <td>6</td>\n",
              "      <td>0.983645</td>\n",
              "    </tr>\n",
              "    <tr>\n",
              "      <th>1</th>\n",
              "      <td>8</td>\n",
              "      <td>0.982682</td>\n",
              "    </tr>\n",
              "    <tr>\n",
              "      <th>2</th>\n",
              "      <td>10</td>\n",
              "      <td>0.983645</td>\n",
              "    </tr>\n",
              "    <tr>\n",
              "      <th>3</th>\n",
              "      <td>12</td>\n",
              "      <td>0.983260</td>\n",
              "    </tr>\n",
              "    <tr>\n",
              "      <th>4</th>\n",
              "      <td>16</td>\n",
              "      <td>0.983067</td>\n",
              "    </tr>\n",
              "    <tr>\n",
              "      <th>5</th>\n",
              "      <td>20</td>\n",
              "      <td>0.983452</td>\n",
              "    </tr>\n",
              "    <tr>\n",
              "      <th>6</th>\n",
              "      <td>24</td>\n",
              "      <td>0.983452</td>\n",
              "    </tr>\n",
              "  </tbody>\n",
              "</table>\n",
              "</div>\n",
              "      <button class=\"colab-df-convert\" onclick=\"convertToInteractive('df-91e6c069-fb00-4f91-a578-037620349c81')\"\n",
              "              title=\"Convert this dataframe to an interactive table.\"\n",
              "              style=\"display:none;\">\n",
              "        \n",
              "  <svg xmlns=\"http://www.w3.org/2000/svg\" height=\"24px\"viewBox=\"0 0 24 24\"\n",
              "       width=\"24px\">\n",
              "    <path d=\"M0 0h24v24H0V0z\" fill=\"none\"/>\n",
              "    <path d=\"M18.56 5.44l.94 2.06.94-2.06 2.06-.94-2.06-.94-.94-2.06-.94 2.06-2.06.94zm-11 1L8.5 8.5l.94-2.06 2.06-.94-2.06-.94L8.5 2.5l-.94 2.06-2.06.94zm10 10l.94 2.06.94-2.06 2.06-.94-2.06-.94-.94-2.06-.94 2.06-2.06.94z\"/><path d=\"M17.41 7.96l-1.37-1.37c-.4-.4-.92-.59-1.43-.59-.52 0-1.04.2-1.43.59L10.3 9.45l-7.72 7.72c-.78.78-.78 2.05 0 2.83L4 21.41c.39.39.9.59 1.41.59.51 0 1.02-.2 1.41-.59l7.78-7.78 2.81-2.81c.8-.78.8-2.07 0-2.86zM5.41 20L4 18.59l7.72-7.72 1.47 1.35L5.41 20z\"/>\n",
              "  </svg>\n",
              "      </button>\n",
              "      \n",
              "  <style>\n",
              "    .colab-df-container {\n",
              "      display:flex;\n",
              "      flex-wrap:wrap;\n",
              "      gap: 12px;\n",
              "    }\n",
              "\n",
              "    .colab-df-convert {\n",
              "      background-color: #E8F0FE;\n",
              "      border: none;\n",
              "      border-radius: 50%;\n",
              "      cursor: pointer;\n",
              "      display: none;\n",
              "      fill: #1967D2;\n",
              "      height: 32px;\n",
              "      padding: 0 0 0 0;\n",
              "      width: 32px;\n",
              "    }\n",
              "\n",
              "    .colab-df-convert:hover {\n",
              "      background-color: #E2EBFA;\n",
              "      box-shadow: 0px 1px 2px rgba(60, 64, 67, 0.3), 0px 1px 3px 1px rgba(60, 64, 67, 0.15);\n",
              "      fill: #174EA6;\n",
              "    }\n",
              "\n",
              "    [theme=dark] .colab-df-convert {\n",
              "      background-color: #3B4455;\n",
              "      fill: #D2E3FC;\n",
              "    }\n",
              "\n",
              "    [theme=dark] .colab-df-convert:hover {\n",
              "      background-color: #434B5C;\n",
              "      box-shadow: 0px 1px 3px 1px rgba(0, 0, 0, 0.15);\n",
              "      filter: drop-shadow(0px 1px 2px rgba(0, 0, 0, 0.3));\n",
              "      fill: #FFFFFF;\n",
              "    }\n",
              "  </style>\n",
              "\n",
              "      <script>\n",
              "        const buttonEl =\n",
              "          document.querySelector('#df-91e6c069-fb00-4f91-a578-037620349c81 button.colab-df-convert');\n",
              "        buttonEl.style.display =\n",
              "          google.colab.kernel.accessAllowed ? 'block' : 'none';\n",
              "\n",
              "        async function convertToInteractive(key) {\n",
              "          const element = document.querySelector('#df-91e6c069-fb00-4f91-a578-037620349c81');\n",
              "          const dataTable =\n",
              "            await google.colab.kernel.invokeFunction('convertToInteractive',\n",
              "                                                     [key], {});\n",
              "          if (!dataTable) return;\n",
              "\n",
              "          const docLinkHtml = 'Like what you see? Visit the ' +\n",
              "            '<a target=\"_blank\" href=https://colab.research.google.com/notebooks/data_table.ipynb>data table notebook</a>'\n",
              "            + ' to learn more about interactive tables.';\n",
              "          element.innerHTML = '';\n",
              "          dataTable['output_type'] = 'display_data';\n",
              "          await google.colab.output.renderOutput(dataTable, element);\n",
              "          const docLink = document.createElement('div');\n",
              "          docLink.innerHTML = docLinkHtml;\n",
              "          element.appendChild(docLink);\n",
              "        }\n",
              "      </script>\n",
              "    </div>\n",
              "  </div>\n",
              "  "
            ]
          },
          "metadata": {},
          "execution_count": 41
        }
      ]
    },
    {
      "cell_type": "code",
      "source": [
        "best_df_clf = grid_cv.best_estimator_\n",
        "pred1 = best_df_clf.predict(X_test)\n",
        "accuracy = accuracy_score(y_test, pred1)\n",
        "print('결정 트리 예측 정확도:{0:.4f}'.format(accuracy))"
      ],
      "metadata": {
        "colab": {
          "base_uri": "https://localhost:8080/"
        },
        "id": "4bqrxyQdq8e9",
        "outputId": "bec32d2f-7c47-4bb6-85a5-4818e99965cb"
      },
      "execution_count": 42,
      "outputs": [
        {
          "output_type": "stream",
          "name": "stdout",
          "text": [
            "결정 트리 예측 정확도:0.9823\n"
          ]
        }
      ]
    },
    {
      "cell_type": "code",
      "source": [
        "# 변수 중요도 시각화\n",
        "import seaborn as sns\n",
        "ftr_importances_values = best_df_clf.feature_importances_\n",
        "ftr_importances = pd.Series(ftr_importances_values, index=X_train.columns)\n",
        "ftr_top20 = ftr_importances.sort_values(ascending=False)[:20]\n",
        "plt.figure(figsize=(8,6))\n",
        "plt.title('Feature importances Top 20')\n",
        "sns.barplot(x=ftr_top20 , y = ftr_top20.index)\n",
        "plt.show()"
      ],
      "metadata": {
        "colab": {
          "base_uri": "https://localhost:8080/",
          "height": 545
        },
        "id": "oyhdbU5urDaz",
        "outputId": "7eb15d3a-1aef-42a1-c47d-e05fccd2717f"
      },
      "execution_count": 43,
      "outputs": [
        {
          "output_type": "display_data",
          "data": {
            "text/plain": [
              "<Figure size 800x600 with 1 Axes>"
            ],
            "image/png": "[encoded data removed]"
          },
          "metadata": {}
        }
      ]
    },
    {
      "cell_type": "markdown",
      "source": [
        "**sulfur dioxide = 이산화황**\n",
        "- 적절한 발효를 위해서 사용\n",
        "- 와인에 주입되어 산화방지제, 살균제, 방부제 등의 역할을 해 와인의 맛과 향이 변하는 것을 방지\n",
        "- 병입 과정에서 생기는 박테리아나 와인에 불필요한 효모의 번식을 막는 역할\n",
        "\n",
        "Red or White?\n",
        "- 와인의 색상이 더 많을수록 이산화황이 덜 필요, 따라서 레드 와인에는 더 적은 양의 이산화항이 필요함"
      ],
      "metadata": {
        "id": "9bDUbQ4mrZL4"
      }
    }
  ],
  "metadata": {
    "kernelspec": {
      "display_name": "Python 3 (ipykernel)",
      "language": "python",
      "name": "python3"
    },
    "language_info": {
      "codemirror_mode": {
        "name": "ipython",
        "version": 3
      },
      "file_extension": ".py",
      "mimetype": "text/x-python",
      "name": "python",
      "nbconvert_exporter": "python",
      "pygments_lexer": "ipython3",
      "version": "3.9.7"
    },
    "colab": {
      "provenance": [],
      "include_colab_link": true
    }
  },
  "nbformat": 4,
  "nbformat_minor": 0
}
